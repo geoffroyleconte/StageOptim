{
 "cells": [
  {
   "cell_type": "markdown",
   "metadata": {},
   "source": [
    "# Problèmes\n",
    "\n",
    "### 1)\n",
    "Primal: $\\underset{x \\in \\mathbb{R}^3}{\\min} \\frac{1}{2} x' Q x + c' x ~~~~~~~~ s.t. ~ A x = b ~, ~~ x \\ge 0$\n",
    "\n",
    "with  $Q = \\begin{bmatrix} 6 & 2 & 1\\\\ 2 & 5 & 2\\\\ 1 & 2 & 4 \\end{bmatrix} $, $c = \\begin{bmatrix} -8 \\\\ -3 \\\\ -3 \\end{bmatrix}$, $A = \\begin{bmatrix} 1 & 0 &1 \\\\ 0 & 1 & 1 \\end{bmatrix}$ , and $b = \\begin{bmatrix} 3 \\\\ 0 \\end{bmatrix} $.\n",
    "\n",
    "\n",
    "### 2) \n",
    "AFIRO        28 rows    32 cols        88 nonzeros       794 bytes      -4.6475314286E+02 optimalvalue\n"
   ]
  },
  {
   "cell_type": "code",
   "execution_count": 1,
   "metadata": {},
   "outputs": [],
   "source": [
    "using LinearAlgebra\n",
    "using LaTeXStrings\n",
    "using DataFrames\n",
    "using DataStructures\n",
    "using QuadraticModels\n",
    "using Printf\n",
    "using SparseArrays\n",
    "using BenchmarkTools\n",
    "using NLPModels\n",
    "using LinearOperators\n",
    "using QPSReader"
   ]
  },
  {
   "cell_type": "code",
   "execution_count": 2,
   "metadata": {},
   "outputs": [
    {
     "data": {
      "text/plain": [
       "display_results (generic function with 1 method)"
      ]
     },
     "execution_count": 2,
     "metadata": {},
     "output_type": "execute_result"
    }
   ],
   "source": [
    "function display_results(result)\n",
    "    # fonction pour l'affichage\n",
    "    println(\"\\n-----------------------------------------------------------------------\")\n",
    "    println(\"------------------------------- RESULTS -------------------------------\")\n",
    "    result\n",
    "end"
   ]
  },
  {
   "cell_type": "code",
   "execution_count": 3,
   "metadata": {},
   "outputs": [
    {
     "data": {
      "text/plain": [
       "Compute_AlphaMax (generic function with 1 method)"
      ]
     },
     "execution_count": 3,
     "metadata": {},
     "output_type": "execute_result"
    }
   ],
   "source": [
    "function Compute_AlphaAff(alpha_step, v_k, dir_v_k)\n",
    "    alpha = 0\n",
    "    n = length(v_k)\n",
    "    while alpha+alpha_step <= 1 && all(v_k + (alpha+alpha_step) * dir_v_k .>= 0) \n",
    "        alpha += alpha_step\n",
    "    end\n",
    "    return alpha\n",
    "end\n",
    "\n",
    "function Compute_AlphaMax(alpha_step, v_k, dir_v_k)\n",
    "    alpha = 0\n",
    "    n = length(v_k)\n",
    "    while alpha+alpha_step <= 100/99 && all(v_k + (alpha+alpha_step) * dir_v_k .>= 0) \n",
    "        alpha += alpha_step\n",
    "    end\n",
    "    return alpha\n",
    "end\n"
   ]
  },
  {
   "cell_type": "code",
   "execution_count": 4,
   "metadata": {},
   "outputs": [
    {
     "data": {
      "text/plain": [
       "MehrotraPCQuad (generic function with 6 methods)"
      ]
     },
     "execution_count": 4,
     "metadata": {},
     "output_type": "execute_result"
    }
   ],
   "source": [
    "\n",
    "function MehrotraPCQuad(QM, max_iter, eps=1e-10, tol_step_x=1e-8, eps_mu=1e-8, alpha_step=1e-2, display=true)\n",
    "    \n",
    "    # get variables from QuadraticModel\n",
    "    x_0 = QM.meta.x0\n",
    "    @assert all(x_0 .> 0)\n",
    "    A = jac(QM, x_0)\n",
    "    n_rows, n_cols = size(A) \n",
    "    Q = hess(QM, x_0)\n",
    "    c = QM.data.c\n",
    "    c0 = QM.data.c0\n",
    "    @assert QM.meta.lcon == QM.meta.ucon # equality constraint (Ax=b)\n",
    "    b = QM.meta.lcon\n",
    "    s_0 = ones(n_cols)\n",
    "    lambda_0 = Matrix(A)'\\(c-s_0) # least square initialisation\n",
    "    x_k, lambda_k, s_k = copy(x_0), copy(lambda_0), copy(s_0)\n",
    "    \n",
    "    rb_0 = A * x_0 - b\n",
    "    rc_0 = -Q * x_0 + A' * lambda_0 + s_0 - c\n",
    "    mu_0 = s_0' * x_0 / n_cols\n",
    "    Xk, Sk = Diagonal(x_k), Diagonal(s_k)\n",
    "    mu_k, rb_k, rc_k = copy(mu_0), copy(rb_0), copy(rc_0)\n",
    "    k = 0\n",
    "    e = ones(n_cols)\n",
    "    n_c = norm(c)\n",
    "    n_b = norm(b)\n",
    "    \n",
    "    # stopping criterion\n",
    "    quad_part = x_k' * Q * x_k \n",
    "    pdd = abs(quad_part + c' * x_k - b' * lambda_k ) / (1 + abs(c' * x_k + quad_part/2))\n",
    "    cond_rb, cond_rc = norm(rb_k) / (1 + n_b), norm(rc_k) / (1 + n_c)\n",
    "    opti_pdd, opti_rb, opti_rc = pdd < eps, cond_rb < eps, cond_rc < eps\n",
    "    small_step_x, small_mu = false, mu_k < eps_mu\n",
    "\n",
    "    # display\n",
    "    if display == true\n",
    "        println(\"Iter | primal_objective | primal-dual difference | rb condition | rc condition |   step x   |     mu\")\n",
    "        println(\"--------------------------------------------------------------------------------------------------------\")\n",
    "        @printf(\"% 4d |     % 7.2e    |        % 7.2e       |   % 7.2e  |   % 7.2e  | % 7.2e  | % 7.2e\\n\", \n",
    "                k, c0+c'*x_k +quad_part/2, pdd, cond_rb, cond_rc,0., mu_k)\n",
    "    end\n",
    "    \n",
    "    \n",
    "    while k<max_iter && opti_pdd==false && opti_rb==false && opti_rc==false && small_step_x==false && small_mu==false\n",
    "        \n",
    "        # Affine scaling direction\n",
    "        Jacob_Fk = [-Q A' I\n",
    "                    A zeros(n_rows, n_rows) zeros(n_rows, n_cols)\n",
    "                    Sk zeros(n_cols, n_rows) Xk]\n",
    "        Fk_aff = [-rc_k\n",
    "                  -rb_k\n",
    "                  -x_k.*s_k]\n",
    "        dir_aff_k = Jacob_Fk\\Fk_aff\n",
    "\n",
    "        alpha_aff_pri = Compute_AlphaAff(alpha_step, x_k, dir_aff_k[1:n_cols])\n",
    "        alpha_aff_dual = Compute_AlphaAff(alpha_step, s_k, dir_aff_k[n_rows+n_cols+1: end])\n",
    "        mu_aff = (x_k + alpha_aff_pri * dir_aff_k[1:n_cols])' * \n",
    "                    (s_k + alpha_aff_dual * dir_aff_k[n_rows+n_cols+1: end]) / n_cols\n",
    "        sigma = (mu_aff / mu_k)^3\n",
    "\n",
    "        # corrector and centering step\n",
    "        Fk_cc = [zeros(n_rows+n_cols, 1)\n",
    "                 sigma*mu_k*e - dir_aff_k[1:n_cols].*dir_aff_k[n_rows+n_cols+1: end]] \n",
    "        dir_cc_k = Jacob_Fk\\Fk_cc\n",
    "        \n",
    "        dir_k = dir_aff_k .+ dir_cc_k # final direction\n",
    "         \n",
    "        alpha_max_pri = Compute_AlphaMax(alpha_step, x_k, dir_k[1:n_cols])\n",
    "        alpha_max_dual = Compute_AlphaMax(alpha_step, s_k, dir_k[n_rows+n_cols+1: end])\n",
    "        \n",
    "        # new parameters\n",
    "        alpha_k_pri, alpha_k_dual = min(0.99*alpha_max_pri, 1), min(0.99*alpha_max_dual, 1)\n",
    "        x_k += alpha_k_pri * dir_k[1:n_cols]\n",
    "        lambda_k += alpha_k_dual * dir_k[n_cols+1: n_rows+n_cols]\n",
    "        s_k += alpha_k_dual * dir_k[n_rows+n_cols+1: end]\n",
    "        \n",
    "        Xk = Diagonal(x_k)\n",
    "        Sk = Diagonal(s_k)\n",
    "        step_x = norm(alpha_k_pri * dir_k[1:n_cols])\n",
    "        mu_k = s_k' * x_k / n_cols\n",
    "        rb_k = A * x_k - b\n",
    "        rc_k = -Q * x_k + A' * lambda_k + s_k - c\n",
    "        \n",
    "        # update stopping criterion values:\n",
    "        quad_part = x_k' * Q * x_k \n",
    "        pdd = abs(quad_part + c' * x_k - b' * lambda_k ) / (1 + abs(c' * x_k + quad_part/2)) # test correct? ecart primal dual\n",
    "        cond_rb = norm(rb_k) / (1 + n_b)\n",
    "        cond_rc = norm(rc_k) / (1 + n_c)\n",
    "        opti_pdd, opti_rb, opti_rc = pdd < eps, cond_rb < eps, cond_rc < eps\n",
    "        small_step_x, small_mu = step_x < tol_step_x, mu_k < eps_mu\n",
    "        \n",
    "        k += 1\n",
    "        \n",
    "        if display == true\n",
    "            @printf(\"% 4d |     % 7.2e    |        % 7.2e       |   % 7.2e  |   % 7.2e  | % 7.2e  | % 7.2e\\n\", \n",
    "                k, c0+c'*x_k +quad_part/2, pdd, cond_rb, cond_rc,step_x, mu_k)\n",
    "        end\n",
    "    end\n",
    "    \n",
    "    if display == true\n",
    "        criteria = [k >= max_iter,  opti_pdd, opti_rb, opti_rc, small_step_x, small_mu]\n",
    "        criteria_names = [\"reached max_iter\",  \"pdd <= eps\", \"cond_rb <= eps\", \"cond_rc <= eps\", \n",
    "            \"step_x <= small_step_x\", \"mu_k <= eps_mu\"]\n",
    "        println(\"\\n stopping criterion = \",criteria_names[findall(criteria)])\n",
    "    end\n",
    "    \n",
    "    return OrderedDict(\"x_opt\" => x_k, \"lambda_opt\" => lambda_k, \"s_opt\" => s_k, \n",
    "        \"n_iter\" => k, \"pdd\" => pdd, \"cond_rb\" => cond_rb, \"cond_rc\" => cond_rc)\n",
    "end"
   ]
  },
  {
   "cell_type": "code",
   "execution_count": 5,
   "metadata": {},
   "outputs": [],
   "source": [
    "# probleme1\n",
    "Q = [6 2 1\n",
    "    2 5 2\n",
    "    1 2 4]\n",
    "c = [-8; -3; -3]\n",
    "c0 = 0.\n",
    "A = [1 0 1\n",
    "    0 1 1]\n",
    "b = [0; 3];\n",
    "lvar = [0;0;0]\n",
    "uvar = [Inf; Inf; Inf]\n",
    "lcon = b\n",
    "ucon = b\n",
    "\n",
    "x01 = [1.; 2.; 3.];"
   ]
  },
  {
   "cell_type": "markdown",
   "metadata": {},
   "source": [
    "### bibliothèque QuadraticModels\n",
    "\n",
    "optimize $c_0 + c'x + \\frac{1}{2} x'Hx ~~~~$ s.t. $~~L \\le Ax \\le U$ and $l \\le x \\le u$ \n",
    "\n",
    "Ici L = lcon, U = ucon, l = lvar, u = uvar"
   ]
  },
  {
   "cell_type": "code",
   "execution_count": 6,
   "metadata": {},
   "outputs": [
    {
     "data": {
      "text/plain": [
       "QuadraticModel"
      ]
     },
     "execution_count": 6,
     "metadata": {},
     "output_type": "execute_result"
    }
   ],
   "source": [
    "QM = QuadraticModel(c, Q, A=A, lcon=lcon, ucon=ucon, lvar=lvar, uvar=uvar, x0=x01, c0=c0, name=\"QM1\")\n",
    "SM = SlackModel(QM)\n",
    "typeof(SM)"
   ]
  },
  {
   "cell_type": "code",
   "execution_count": 7,
   "metadata": {},
   "outputs": [
    {
     "name": "stdout",
     "output_type": "stream",
     "text": [
      "Iter | primal_objective | primal-dual difference | rb condition | rc condition |   step x   |     mu\n",
      "--------------------------------------------------------------------------------------------------------\n",
      "   0 |      1.75e+01    |         3.30e+00       |    1.12e+00  |    2.20e+00  |  0.00e+00  |  2.00e+00\n",
      "   1 |      1.23e+01    |         3.22e-02       |    6.65e-02  |    7.64e-02  |  3.08e+00  |  2.51e-01\n",
      "   2 |      1.35e+01    |         2.25e-03       |    1.98e-03  |    2.29e-03  |  2.40e-01  |  6.43e-03\n",
      "   3 |      1.35e+01    |         2.45e-05       |    3.94e-05  |    4.66e-05  |  4.94e-03  |  9.70e-05\n",
      "   4 |      1.35e+01    |         2.76e-07       |    7.85e-07  |    9.86e-07  |  9.82e-05  |  1.62e-06\n",
      "   5 |      1.35e+01    |         3.38e-09       |    1.56e-08  |    2.04e-08  |  1.95e-06  |  2.92e-08\n",
      "   6 |      1.35e+01    |         4.61e-11       |    3.11e-10  |    4.15e-10  |  3.89e-08  |  5.50e-10\n",
      "\n",
      " stopping criterion = [\"pdd <= eps\", \"mu_k <= eps_mu\"]\n",
      "\n",
      "-----------------------------------------------------------------------\n",
      "------------------------------- RESULTS -------------------------------\n"
     ]
    },
    {
     "data": {
      "text/plain": [
       "OrderedDict{String,Any} with 7 entries:\n",
       "  \"x_opt\"      => [5.1454e-10, 3.0, 5.97718e-10]\n",
       "  \"lambda_opt\" => [-9.93575, 12.0]\n",
       "  \"s_opt\"      => [1.93575, 3.12465e-11, 0.935748]\n",
       "  \"n_iter\"     => 6\n",
       "  \"pdd\"        => 4.61333e-11\n",
       "  \"cond_rb\"    => 3.10886e-10\n",
       "  \"cond_rc\"    => 4.14559e-10"
      ]
     },
     "execution_count": 7,
     "metadata": {},
     "output_type": "execute_result"
    }
   ],
   "source": [
    "res_mpc1 =  MehrotraPCQuad(SM, 20);\n",
    "display_results(res_mpc1)"
   ]
  },
  {
   "cell_type": "code",
   "execution_count": 9,
   "metadata": {},
   "outputs": [
    {
     "name": "stdout",
     "output_type": "stream",
     "text": [
      "Iter | primal_objective | primal-dual difference | rb condition | rc condition |   step x   |     mu\n",
      "--------------------------------------------------------------------------------------------------------\n",
      "   0 |      1.00e+00    |         8.33e-01       |    2.50e+00  |    4.08e-01  |  0.00e+00  |  2.00e+00\n",
      "   1 |      4.85e-01    |         8.03e-01       |    2.50e-04  |    4.08e-05  |  3.28e+00  |  3.97e-01\n",
      "   2 |      1.13e-01    |         1.15e-01       |    2.50e-08  |    5.66e-06  |  4.56e-01  |  4.28e-02\n",
      "   3 |      2.06e-03    |         2.26e-03       |    4.98e-10  |    5.66e-10  |  1.37e-01  |  7.54e-04\n",
      "   4 |      4.10e-05    |         4.30e-05       |    9.90e-12  |    5.66e-12  |  2.48e-03  |  1.43e-05\n",
      "\n",
      " stopping criterion = [\"cond_rb <= eps\", \"cond_rc <= eps\"]\n",
      "\n",
      "-----------------------------------------------------------------------\n",
      "------------------------------- RESULTS -------------------------------\n"
     ]
    },
    {
     "data": {
      "text/plain": [
       "OrderedDict{String,Any} with 7 entries:\n",
       "  \"x_opt\"      => [4.09655e-5, 0.432622, 0.567337]\n",
       "  \"lambda_opt\" => [-2.04677e-6]\n",
       "  \"s_opt\"      => [1.0, 2.04678e-6, 2.04678e-6]\n",
       "  \"n_iter\"     => 4\n",
       "  \"pdd\"        => 4.30105e-5\n",
       "  \"cond_rb\"    => 9.90019e-12\n",
       "  \"cond_rc\"    => 5.66238e-12"
      ]
     },
     "execution_count": 9,
     "metadata": {},
     "output_type": "execute_result"
    }
   ],
   "source": [
    "### lp 2\n",
    "c2 = [1; 0; 0]\n",
    "A2 = Matrix([1, 1, 1]')\n",
    "b2 = [1];\n",
    "QM_verif2 = QuadraticModel(c2, zeros(3,3), A=A2, lcon=b2, ucon=b2, lvar=[0.;0;0], \n",
    "                uvar=[Inf; Inf; Inf], x0=x01, c0=c0, name=\"QMverfi2\")\n",
    "SM_verif2 = SlackModel(QM_verif2)\n",
    "res_mpc_verif2 =  MehrotraPCQuad(SM_verif2, 5);\n",
    "display_results(res_mpc_verif2)"
   ]
  },
  {
   "cell_type": "markdown",
   "metadata": {},
   "source": [
    "# Lecture des donnees .SIF"
   ]
  },
  {
   "cell_type": "code",
   "execution_count": 148,
   "metadata": {},
   "outputs": [
    {
     "data": {
      "text/plain": [
       "displayQuadraticModel (generic function with 1 method)"
      ]
     },
     "execution_count": 148,
     "metadata": {},
     "output_type": "execute_result"
    }
   ],
   "source": [
    "function createQuadraticModel(qpdata, name_pb)\n",
    "    # probleme du point initial\n",
    "    x0 = zeros(length(qpdata.lvar))\n",
    "    for i=1:length(x0)\n",
    "        if qpdata.lvar[i] == -Inf && qpdata.uvar[i] == Inf\n",
    "            x0[i] = 1.\n",
    "        elseif qpdata.lvar[i] == -Inf && qpdata.uvar[i] != Inf\n",
    "            x0[i] = qpdata.uvar[i] - 1.\n",
    "        elseif qpdata.lvar[i] != -Inf && qpdata.uvar[i] == Inf\n",
    "            x0[i] = qpdata.lvar[i] + 1.\n",
    "        else\n",
    "            x0[i] = (qpdata.lvar[i] + qpdata.uvar[i]) / 2 \n",
    "        end\n",
    "    end   \n",
    "    return QuadraticModel(qpdata.c, qpdata.qrows, qpdata.qcols, qpdata.qvals,\n",
    "            Arows=qpdata.arows, Acols=qpdata.acols, Avals=qpdata.avals, \n",
    "            lcon=qpdata.lcon, ucon=qpdata.ucon, lvar=qpdata.lvar, uvar=qpdata.uvar,\n",
    "            c0=qpdata.c0, x0=x0, name=name_pb)\n",
    "end\n",
    "\n",
    "function displayQuadraticModel(QM)\n",
    "    #println(\"A = \", Matrix(jac(QM, QM.meta.x0)))\n",
    "    #println(\"Q = \", Matrix(hess(QM, QM.meta.x0)))\n",
    "    println(\"lvar = \", QM.meta.lvar)\n",
    "    println(\"uvar = \", QM.meta.uvar)\n",
    "    println(\"x0 = \", QM.meta.x0)\n",
    "    #println(\"lcon = \", QM.meta.lcon)\n",
    "    #println(\"ucon = \", QM.meta.ucon)\n",
    "end\n"
   ]
  },
  {
   "cell_type": "code",
   "execution_count": 116,
   "metadata": {},
   "outputs": [
    {
     "data": {
      "text/plain": [
       "\"C:\\\\Users\\\\Geoffroy Leconte\\\\Documents\\\\cours\\\\TFE\\\\code\\\\problemes\\\\AFIRO.SIF\""
      ]
     },
     "execution_count": 116,
     "metadata": {},
     "output_type": "execute_result"
    }
   ],
   "source": [
    "path = \"C:\\\\Users\\\\Geoffroy Leconte\\\\Documents\\\\cours\\\\TFE\\\\code\\\\problemes\"\n",
    "afiro = string(path, \"\\\\AFIRO.SIF\")"
   ]
  },
  {
   "cell_type": "code",
   "execution_count": 149,
   "metadata": {},
   "outputs": [
    {
     "name": "stdout",
     "output_type": "stream",
     "text": [
      "lvar = [0.0, 0.0, 0.0, 0.0, 0.0,"
     ]
    },
    {
     "name": "stderr",
     "output_type": "stream",
     "text": [
      "┌ Info: Using 'AFIRO' as NAME (l. 5)\n",
      "└ @ QPSReader C:\\Users\\Geoffroy Leconte\\.julia\\packages\\QPSReader\\usDQr\\src\\readqps.jl:751\n",
      "┌ Info: Using 'COST' as objective (l. 47)\n",
      "└ @ QPSReader C:\\Users\\Geoffroy Leconte\\.julia\\packages\\QPSReader\\usDQr\\src\\readqps.jl:350\n",
      "┌ Info: Using 'B' as RHS (l. 96)\n",
      "└ @ QPSReader C:\\Users\\Geoffroy Leconte\\.julia\\packages\\QPSReader\\usDQr\\src\\readqps.jl:470\n"
     ]
    },
    {
     "name": "stdout",
     "output_type": "stream",
     "text": [
      " 0.0, 0.0, 0.0, 0.0, 0.0, 0.0, 0.0, 0.0, 0.0, 0.0, 0.0, 0.0, 0.0, 0.0, 0.0, 0.0, 0.0, 0.0, 0.0, 0.0, 0.0, 0.0, 0.0, 0.0, 0.0, 0.0, 0.0, -Inf, -Inf, -Inf, -Inf, -Inf, -Inf, -Inf, -Inf, -Inf, -Inf, -Inf, -Inf, -Inf, -Inf, -Inf, -Inf, -Inf, -Inf, -Inf]\n",
      "uvar = [Inf, Inf, Inf, Inf, Inf, Inf, Inf, Inf, Inf, Inf, Inf, Inf, Inf, Inf, Inf, Inf, Inf, Inf, Inf, Inf, Inf, Inf, Inf, Inf, Inf, Inf, Inf, Inf, Inf, Inf, Inf, Inf, 80.0, 0.0, 80.0, 0.0, 0.0, 0.0, 500.0, 0.0, 500.0, 0.0, 0.0, 0.0, 0.0, 0.0, 0.0, 0.0, 0.0, 310.0, 300.0]\n",
      "x0 = [1.0, 1.0, 1.0, 1.0, 1.0, 1.0, 1.0, 1.0, 1.0, 1.0, 1.0, 1.0, 1.0, 1.0, 1.0, 1.0, 1.0, 1.0, 1.0, 1.0, 1.0, 1.0, 1.0, 1.0, 1.0, 1.0, 1.0, 1.0, 1.0, 1.0, 1.0, 1.0, 0.0, 0.0, 0.0, 0.0, 0.0, 0.0, 0.0, 0.0, 0.0, 0.0, 0.0, 0.0, 0.0, 0.0, 0.0, 0.0, 0.0, 0.0, 0.0]\n"
     ]
    }
   ],
   "source": [
    "qpdata2 = readqps(afiro)\n",
    "qpdata2.contypes\n",
    "QM2 = createQuadraticModel(qpdata2, \"QM2\")\n",
    "SM2 = SlackModel(QM2)\n",
    "displayQuadraticModel(SM2)"
   ]
  },
  {
   "cell_type": "code",
   "execution_count": 45,
   "metadata": {},
   "outputs": [
    {
     "name": "stdout",
     "output_type": "stream",
     "text": [
      "type of the fieldname nvar is Int64\n",
      "type of the fieldname ncon is Int64\n",
      "type of the fieldname objsense is Symbol\n",
      "type of the fieldname c0 is Float64\n",
      "type of the fieldname c is Array{Float64,1}\n",
      "type of the fieldname qrows is Array{Int64,1}\n",
      "type of the fieldname qcols is Array{Int64,1}\n",
      "type of the fieldname qvals is Array{Float64,1}\n",
      "type of the fieldname arows is Array{Int64,1}\n",
      "type of the fieldname acols is Array{Int64,1}\n",
      "type of the fieldname avals is Array{Float64,1}\n",
      "type of the fieldname lcon is Array{Float64,1}\n",
      "type of the fieldname ucon is Array{Float64,1}\n",
      "type of the fieldname lvar is Array{Float64,1}\n",
      "type of the fieldname uvar is Array{Float64,1}\n",
      "type of the fieldname name is Union{Nothing, String}\n",
      "type of the fieldname objname is Union{Nothing, String}\n",
      "type of the fieldname rhsname is Union{Nothing, String}\n",
      "type of the fieldname bndname is Union{Nothing, String}\n",
      "type of the fieldname rngname is Union{Nothing, String}\n",
      "type of the fieldname varnames is Array{String,1}\n",
      "type of the fieldname connames is Array{String,1}\n",
      "type of the fieldname varindices is Dict{String,Int64}\n",
      "type of the fieldname conindices is Dict{String,Int64}\n",
      "type of the fieldname contypes is Array{Int64,1}\n"
     ]
    }
   ],
   "source": [
    "T = typeof(qpdata2)\n",
    "for (name, typ) in zip(fieldnames(T), T.types)\n",
    "    println(\"type of the fieldname $name is $typ\")\n",
    "end"
   ]
  },
  {
   "cell_type": "markdown",
   "metadata": {},
   "source": [
    "# Mehrotra formulation plus générale:\n",
    "\n",
    "min $c_0 + c'x + \\frac{1}{2} x'Hx ~~~~$ s.t. $ Ax = b $ and $l \\le x \\le u$ "
   ]
  },
  {
   "cell_type": "code",
   "execution_count": 354,
   "metadata": {},
   "outputs": [
    {
     "data": {
      "text/plain": [
       "Compute_mu (generic function with 2 methods)"
      ]
     },
     "execution_count": 354,
     "metadata": {},
     "output_type": "execute_result"
    }
   ],
   "source": [
    "function Compute_AlphaAff2(alpha_step, v_k, dir_v_k, lvar, uvar)\n",
    "    alpha = 0\n",
    "    n = length(v_k)\n",
    "    while alpha+alpha_step <= 1 && lvar <= (v_k + (alpha+alpha_step) * dir_v_k) <= uvar\n",
    "        alpha += alpha_step\n",
    "    end\n",
    "    return alpha\n",
    "end\n",
    "\n",
    "function Compute_AlphaMax2(alpha_step, v_k, dir_v_k, lvar, uvar)\n",
    "    alpha = 0\n",
    "    n = length(v_k)\n",
    "    while alpha+alpha_step <= 100/99 && lvar <= (v_k + (alpha+alpha_step) * dir_v_k) <= uvar\n",
    "        alpha += alpha_step\n",
    "    end\n",
    "    return alpha\n",
    "end\n",
    "\n",
    "function Compute_mu(x_l, x_u, s, stilde, lvar, uvar)\n",
    "    #x_l coordinates of x corresponding to finite lower bounds ( resp. finite upper bounds for x_u)\n",
    "    # arguments must have finite bounds \n",
    "    return (s' * x_l + stilde' * x_u) / (length(x_l) + length(x_u))\n",
    "end\n",
    "\n"
   ]
  },
  {
   "cell_type": "code",
   "execution_count": 407,
   "metadata": {},
   "outputs": [
    {
     "data": {
      "text/plain": [
       "MehrotraPCQuad2 (generic function with 7 methods)"
      ]
     },
     "execution_count": 407,
     "metadata": {},
     "output_type": "execute_result"
    }
   ],
   "source": [
    "\n",
    "function MehrotraPCQuad2(QM, max_iter, eps=1e-10, tol_step_x=1e-8, eps_mu=1e-8, alpha_step=1e-2, display=true)\n",
    "    \n",
    "    # get variables from QuadraticModel\n",
    "    x_0 = QM.meta.x0\n",
    "    lvar, uvar = QM.meta.lvar, QM.meta.uvar\n",
    "    id_non_inf_lvar, id_non_inf_uvar = findall((x -> x!=-Inf), lvar), findall((x -> x!=Inf), uvar) # finite bounds index\n",
    "    @assert all(x_0 .> lvar) && all(x_0 .< uvar)\n",
    "    A = jac(QM, x_0)\n",
    "    n_rows, n_cols = size(A) \n",
    "    Q = hess(QM, x_0)\n",
    "    c = QM.data.c\n",
    "    c0 = QM.data.c0\n",
    "    @assert QM.meta.lcon == QM.meta.ucon # equality constraint (Ax=b)\n",
    "    b = QM.meta.lcon\n",
    "    s_0, stilde_0 = zeros(n_cols), zeros(n_cols)\n",
    "    s_0[id_non_inf_lvar] = ones(length(id_non_inf_lvar))\n",
    "    stilde_0[id_non_inf_uvar] = ones(length(id_non_inf_uvar))\n",
    "    lambda_0 = Matrix(A)'\\(c -s_0+stilde_0) # least square initialisation, s_0 = stilde_0\n",
    "    x_k, lambda_k, s_k, stilde_k = copy(x_0), copy(lambda_0), copy(s_0), copy(stilde_0)\n",
    "    \n",
    "    rb_0 = A * x_0 - b\n",
    "    rc_0 = -Q * x_0 + A' * lambda_0 + s_0 - stilde_0 - c\n",
    "    mu_0 = Compute_mu(x_0[id_non_inf_lvar], x_0[id_non_inf_uvar], \n",
    "                        s_0[id_non_inf_lvar], stilde_0[id_non_inf_uvar], \n",
    "                        lvar[id_non_inf_lvar], uvar[id_non_inf_uvar])\n",
    "    \n",
    "    # matrices without infinity constraints\n",
    "    nb_non_inf_l, nb_non_inf_u = length(id_non_inf_lvar), length(id_non_inf_uvar) # number of finite constraints\n",
    "    nb_inf_l, nb_inf_u = n_cols-nb_non_inf_l, n_cols-nb_non_inf_u # number of infinite constraints\n",
    "    Xk_non_inf_l = Diagonal(x_k[id_non_inf_lvar])\n",
    "    Sk_non_inf = [Diagonal(s_k[id_non_inf_lvar])  zeros(nb_non_inf_l, nb_inf_l)] # add zeros to match number of cols\n",
    "    Xk_non_inf_u = Diagonal(x_k[id_non_inf_uvar])\n",
    "    Stildek_non_inf = [Diagonal(stilde_k[id_non_inf_uvar])  zeros(nb_non_inf_u, nb_inf_u)] \n",
    "    Lvar_non_inf = Diagonal(lvar[id_non_inf_lvar]) \n",
    "    Uvar_non_inf = Diagonal(uvar[id_non_inf_uvar]) \n",
    "    \n",
    "    mu_k, rb_k, rc_k = copy(mu_0), copy(rb_0), copy(rc_0)\n",
    "    k = 0\n",
    "    e = ones(n_cols)\n",
    "    n_c = norm(c)\n",
    "    n_b = norm(b)\n",
    "    \n",
    "    # stopping criterion\n",
    "    quad_part = x_k' * Q * x_k \n",
    "    pdd = abs(quad_part + c' * x_k - b' * lambda_k ) / (1 + abs(c' * x_k + quad_part/2))\n",
    "    cond_rb, cond_rc = norm(rb_k) / (1 + n_b), norm(rc_k) / (1 + n_c)\n",
    "    opti_pdd, opti_rb, opti_rc = pdd < eps, cond_rb < eps, cond_rc < eps\n",
    "    small_step_x, small_mu = false, mu_k < eps_mu\n",
    "\n",
    "    # display\n",
    "    if display == true\n",
    "        println(\"Iter | primal_objective | primal-dual difference | rb condition | rc condition |   step x   |     mu\")\n",
    "        println(\"--------------------------------------------------------------------------------------------------------\")\n",
    "        @printf(\"% 4d |     % 7.2e    |        % 7.2e       |   % 7.2e  |   % 7.2e  | % 7.2e  | % 7.2e\\n\", \n",
    "                k, c0+c'*x_k +quad_part/2, pdd, cond_rb, cond_rc,0., mu_k)\n",
    "    end\n",
    "    \n",
    "\n",
    "    while k<max_iter && opti_pdd==false && opti_rb==false && opti_rc==false && small_step_x==false && small_mu==false\n",
    "        \n",
    "        # Affine scaling direction\n",
    "        Jacob_Fk = [-Q                      A'                     I(n_cols)[:, 1:nb_non_inf_l]       -I(n_cols)[:, 1:nb_non_inf_u]\n",
    "                    A                zeros(n_rows, n_rows)         zeros(n_rows, nb_non_inf_l)        zeros(n_rows, nb_non_inf_u)\n",
    "                    Sk_non_inf      zeros(nb_non_inf_l, n_rows)    Xk_non_inf_l-Lvar_non_inf         zeros(nb_non_inf_l, nb_non_inf_u)\n",
    "                    Stildek_non_inf  zeros(nb_non_inf_u, n_rows)   zeros(nb_non_inf_u,nb_non_inf_l)   Xk_non_inf_u-Uvar_non_inf]\n",
    "        Fk_aff = [-rc_k\n",
    "                  -rb_k\n",
    "                  -(x_k[id_non_inf_lvar]-lvar[id_non_inf_lvar]).*s_k[id_non_inf_lvar]\n",
    "                  -(x_k[id_non_inf_uvar]-uvar[id_non_inf_uvar]).*stilde_k[id_non_inf_uvar]]\n",
    "        \n",
    "        dir_aff_k = Jacob_Fk\\Fk_aff\n",
    "        \n",
    "        println(dir_aff_k)\n",
    "        alpha_aff_pri = Compute_AlphaAff2(alpha_step, x_k, dir_aff_k[1:n_cols], lvar, uvar)\n",
    "        alpha_aff_dual = Compute_AlphaAff(alpha_step, s_k[id_non_inf_lvar], \n",
    "                                            dir_aff_k[n_rows+n_cols+1: n_rows+n_cols+nb_non_inf_l])\n",
    "        println(alpha_aff_dual)\n",
    "        alphatilde_aff_dual = Compute_AlphaAff(alpha_step, stilde_k[id_non_inf_uvar], \n",
    "                                                dir_aff_k[n_rows+n_cols+nb_non_inf_l+1:end])\n",
    "        \n",
    "        mu_aff = Compute_mu(x_k[id_non_inf_lvar] + alpha_aff_pri * dir_aff_k[1:n_cols][id_non_inf_lvar],\n",
    "                    x_k[id_non_inf_uvar] + alpha_aff_pri * dir_aff_k[1:n_cols][id_non_inf_uvar],\n",
    "                    s_k[id_non_inf_lvar] + alpha_aff_dual * dir_aff_k[n_rows+n_cols+1: n_rows+n_cols+nb_non_inf_l],\n",
    "                    stilde_k[id_non_inf_uvar] + alphatilde_aff_dual * dir_aff_k[n_rows+n_cols+nb_non_inf_l+1: end],\n",
    "                    lvar[id_non_inf_lvar], uvar[id_non_inf_uvar])\n",
    "        \n",
    "        sigma = (mu_aff / mu_k)^3\n",
    "        \n",
    "\n",
    "        \n",
    "        # corrector and centering step\n",
    "        Fk_cc = [zeros(n_rows+n_cols, 1)\n",
    "                 sigma*mu_k*e[1:nb_non_inf_l] - dir_aff_k[1:n_cols][id_non_inf_lvar].*dir_aff_k[n_rows+n_cols+1: n_rows+n_cols+nb_non_inf_l]\n",
    "                 sigma*mu_k*e[1:nb_non_inf_u] - dir_aff_k[1:n_cols][id_non_inf_uvar].*dir_aff_k[n_rows+n_cols+nb_non_inf_l+1: end]] \n",
    "        \n",
    "        dir_cc_k = Jacob_Fk\\Fk_cc\n",
    "        dir_k = dir_aff_k .+ dir_cc_k # final direction\n",
    "        \n",
    "        alpha_max_pri = Compute_AlphaMax2(alpha_step, x_k, dir_k[1:n_cols], lvar, uvar)\n",
    "        alpha_max_dual = Compute_AlphaMax(alpha_step, s_k[id_non_inf_lvar], \n",
    "                                        dir_k[n_rows+n_cols+1: n_rows+n_cols+nb_non_inf_l])\n",
    "        \n",
    "        alphatilde_max_dual = Compute_AlphaMax(alpha_step, stilde_k[id_non_inf_uvar], \n",
    "                                            dir_k[n_rows+n_cols+nb_non_inf_l+1: end])\n",
    "        \n",
    "        # new parameters\n",
    "        alpha_k_pri = min(0.99*alpha_max_pri, 1)\n",
    "        alpha_k_dual = min(0.99*alpha_max_dual, 1)\n",
    "        alphatilde_k_dual = min(0.99*alphatilde_max_dual, 1)\n",
    "        x_k += alpha_k_pri * dir_k[1:n_cols]\n",
    "        lambda_k += alpha_k_dual * dir_k[n_cols+1: n_rows+n_cols]\n",
    "        s_k[id_non_inf_lvar] += alpha_k_dual * dir_k[n_rows+n_cols+1: n_rows+n_cols+nb_non_inf_l]\n",
    "        stilde_k[id_non_inf_uvar] += alphatilde_k_dual * dir_k[n_rows+n_cols+nb_non_inf_l+1: end]\n",
    "        \n",
    "        Xk_non_inf_l = Diagonal(x_k[id_non_inf_lvar])\n",
    "        Sk_non_inf = [Diagonal(s_k[id_non_inf_lvar])  zeros(nb_non_inf_l, nb_inf_l)] \n",
    "        Xk_non_inf_u = Diagonal(x_k[id_non_inf_uvar])\n",
    "        Stildek_non_inf = [Diagonal(stilde_k[id_non_inf_uvar])  zeros(nb_non_inf_u, nb_inf_u)] \n",
    "        \n",
    "        step_x = norm(alpha_k_pri * dir_k[1:n_cols])\n",
    "        mu_k = Compute_mu(x_k[id_non_inf_lvar], x_k[id_non_inf_uvar], \n",
    "                        s_k[id_non_inf_lvar], stilde_k[id_non_inf_uvar], \n",
    "                        lvar[id_non_inf_lvar], uvar[id_non_inf_uvar])\n",
    "        \n",
    "        rb_k = A * x_k - b\n",
    "        rc_k = -Q * x_k + A' * lambda_k + s_k - stilde_k - c\n",
    "        \n",
    "        # update stopping criterion values:\n",
    "        quad_part = x_k' * Q * x_k \n",
    "        pdd = abs(quad_part + c' * x_k - b' * lambda_k ) / (1 + abs(c' * x_k + quad_part/2)) # test correct? ecart primal dual\n",
    "        cond_rb = norm(rb_k) / (1 + n_b)\n",
    "        cond_rc = norm(rc_k) / (1 + n_c)\n",
    "        opti_pdd, opti_rb, opti_rc = pdd < eps, cond_rb < eps, cond_rc < eps\n",
    "        small_step_x, small_mu = step_x < tol_step_x, mu_k < eps_mu\n",
    "        \n",
    "        k += 1\n",
    "        \n",
    "        if display == true\n",
    "            @printf(\"% 4d |     % 7.2e    |        % 7.2e       |   % 7.2e  |   % 7.2e  | % 7.2e  | % 7.2e\\n\", \n",
    "                k, c0+c'*x_k +quad_part/2, pdd, cond_rb, cond_rc,step_x, mu_k)\n",
    "        end\n",
    "    end\n",
    "    \n",
    "    if display == true\n",
    "        criteria = [k >= max_iter,  opti_pdd, opti_rb, opti_rc, small_step_x, small_mu]\n",
    "        criteria_names = [\"reached max_iter\",  \"pdd <= eps\", \"cond_rb <= eps\", \"cond_rc <= eps\", \n",
    "            \"step_x <= small_step_x\", \"mu_k <= eps_mu\"]\n",
    "        println(\"\\n stopping criterion = \",criteria_names[findall(criteria)])\n",
    "    end\n",
    "    \n",
    "    return OrderedDict(\"x_opt\" => x_k, \"lambda_opt\" => lambda_k, \"s_opt\" => s_k, \"stilde_opt\" => stilde_k, \n",
    "        \"n_iter\" => k, \"pdd\" => pdd, \"cond_rb\" => cond_rb, \"cond_rc\" => cond_rc)\n",
    "end"
   ]
  },
  {
   "cell_type": "code",
   "execution_count": 410,
   "metadata": {},
   "outputs": [
    {
     "name": "stdout",
     "output_type": "stream",
     "text": [
      "Iter | primal_objective | primal-dual difference | rb condition | rc condition |   step x   |     mu\n",
      "--------------------------------------------------------------------------------------------------------\n",
      "   0 |      1.75e+01    |         3.30e+00       |    1.12e+00  |    2.20e+00  |  0.00e+00  |  2.00e+00\n",
      "[-1.0947368421052635, 0.9052631578947365, -2.9052631578947365, -3.663157894736848, 12.789473684210527, 0.09473684210526345, -1.4526315789473683, -0.03157894736842115]\n",
      "0.6800000000000004\n",
      "   1 |      1.23e+01    |         3.22e-02       |    6.65e-02  |    7.64e-02  |  3.08e+00  |  2.51e-01\n",
      "[-0.027120022959867356, 0.09187997704013165, -0.21087997704013053, -0.42471443393835084, 0.4323555673640554, 0.6346213912061244, -0.18591411721833437, -0.0417756263036694]\n",
      "0.9600000000000006\n",
      "   2 |      1.35e+01    |         2.20e-03       |    6.65e-06  |    8.69e-04  |  2.47e-01  |  4.09e-03\n",
      "[-0.0027571984267363713, -0.002745298426736158, 0.0027333984267365373, 0.03187680961760974, -0.009532302801296497, -0.04274546257845871, -0.0031169473196963815, -0.020516149656170483]\n",
      "0.9900000000000007\n",
      "   3 |      1.35e+01    |         2.22e-05       |    6.65e-08  |    8.69e-06  |  4.81e-03  |  4.19e-05\n",
      "[-3.1766847154906237e-5, -3.1647847154983625e-5, 3.152884715490748e-5, 0.0004057670842191986, -0.00012459139377668385, -0.0005396227911523216, -3.126514764777694e-5, -0.00025869725595386526]\n",
      "0.9900000000000007\n",
      "   4 |      1.35e+01    |         2.22e-07       |    6.65e-10  |    8.69e-08  |  5.43e-05  |  4.19e-07\n",
      "[-3.1784972149339e-7, -3.1665972159185387e-7, 3.154697214933928e-7, 4.0613915239282215e-6, -1.2471651641960049e-6, -5.401036094239922e-6, -3.126689997210208e-7, -2.589260764013235e-6]\n",
      "0.9900000000000007\n",
      "   5 |      1.35e+01    |         2.23e-09       |    6.65e-12  |    8.69e-10  |  5.43e-07  |  4.19e-09\n",
      "\n",
      " stopping criterion = [\"cond_rb <= eps\", \"mu_k <= eps_mu\"]\n",
      "\n",
      "-----------------------------------------------------------------------\n",
      "------------------------------- RESULTS -------------------------------\n"
     ]
    },
    {
     "data": {
      "text/plain": [
       "OrderedDict{String,Any} with 8 entries:\n",
       "  \"x_opt\"      => [3.17935e-9, 3.0, -3.15555e-9]\n",
       "  \"lambda_opt\" => [-9.90771, 12.0]\n",
       "  \"s_opt\"      => [1.90771, 3.12683e-9, 0.907705]\n",
       "  \"stilde_opt\" => [0.0, 0.0, 0.0]\n",
       "  \"n_iter\"     => 5\n",
       "  \"pdd\"        => 2.22506e-9\n",
       "  \"cond_rb\"    => 6.65228e-12\n",
       "  \"cond_rc\"    => 8.69173e-10"
      ]
     },
     "execution_count": 410,
     "metadata": {},
     "output_type": "execute_result"
    }
   ],
   "source": [
    "res_mpc1 =  MehrotraPCQuad2(SM, 20);\n",
    "display_results(res_mpc1)"
   ]
  },
  {
   "cell_type": "code",
   "execution_count": 409,
   "metadata": {},
   "outputs": [
    {
     "name": "stdout",
     "output_type": "stream",
     "text": [
      "Iter | primal_objective | primal-dual difference | rb condition | rc condition |   step x   |     mu\n",
      "--------------------------------------------------------------------------------------------------------\n",
      "   0 |      1.75e+01    |         3.30e+00       |    1.12e+00  |    2.20e+00  |  0.00e+00  |  2.00e+00\n",
      "[-1.0947368421052635, 0.9052631578947365, -2.9052631578947365, -3.663157894736848, 12.789473684210527, 0.09473684210526345, -1.4526315789473683, -0.03157894736842115]\n",
      "0.6800000000000004\n",
      "   1 |      1.23e+01    |         3.22e-02       |    6.65e-02  |    7.64e-02  |  3.08e+00  |  2.51e-01\n",
      "\n",
      " stopping criterion = [\"reached max_iter\"]\n",
      "\n",
      "-----------------------------------------------------------------------\n",
      "------------------------------- RESULTS -------------------------------\n"
     ]
    },
    {
     "data": {
      "text/plain": [
       "OrderedDict{String,Any} with 7 entries:\n",
       "  \"x_opt\"      => [0.0174702, 2.89847, 0.22053]\n",
       "  \"lambda_opt\" => [-9.41673, 11.5058]\n",
       "  \"s_opt\"      => [1.14892, 0.180202, 0.954706]\n",
       "  \"n_iter\"     => 1\n",
       "  \"pdd\"        => 0.0322389\n",
       "  \"cond_rb\"    => 0.066523\n",
       "  \"cond_rc\"    => 0.0763961"
      ]
     },
     "execution_count": 409,
     "metadata": {},
     "output_type": "execute_result"
    }
   ],
   "source": [
    "res_mpc1 =  MehrotraPCQuad(SM, 1);\n",
    "display_results(res_mpc1)"
   ]
  },
  {
   "cell_type": "code",
   "execution_count": null,
   "metadata": {},
   "outputs": [],
   "source": []
  },
  {
   "cell_type": "code",
   "execution_count": null,
   "metadata": {},
   "outputs": [],
   "source": []
  },
  {
   "cell_type": "code",
   "execution_count": 560,
   "metadata": {},
   "outputs": [
    {
     "data": {
      "text/plain": [
       "BenchmarkTools.Trial: \n",
       "  memory estimate:  944.25 KiB\n",
       "  allocs estimate:  10650\n",
       "  --------------\n",
       "  minimum time:     632.101 μs (0.00% GC)\n",
       "  median time:      646.800 μs (0.00% GC)\n",
       "  mean time:        761.476 μs (13.72% GC)\n",
       "  maximum time:     6.606 ms (87.67% GC)\n",
       "  --------------\n",
       "  samples:          6534\n",
       "  evals/sample:     1"
      ]
     },
     "execution_count": 560,
     "metadata": {},
     "output_type": "execute_result"
    }
   ],
   "source": [
    "@benchmark MehrotraPCQuad(SM, 20, 1e-10, 1e-8, 1e-8, 1e-2, false)"
   ]
  },
  {
   "cell_type": "code",
   "execution_count": 173,
   "metadata": {},
   "outputs": [
    {
     "data": {
      "text/plain": [
       "4-element Array{Int64,1}:\n",
       " 3\n",
       " 4\n",
       " 5\n",
       " 6"
      ]
     },
     "execution_count": 173,
     "metadata": {},
     "output_type": "execute_result"
    }
   ],
   "source": [
    "a = [Inf; Inf;0;0;3;4; Inf]\n",
    "findall((x -> x!=Inf), a)"
   ]
  },
  {
   "cell_type": "code",
   "execution_count": 237,
   "metadata": {},
   "outputs": [
    {
     "data": {
      "text/plain": [
       "2-element Array{Int64,1}:\n",
       " 3\n",
       " 4"
      ]
     },
     "execution_count": 237,
     "metadata": {},
     "output_type": "execute_result"
    }
   ],
   "source": [
    "b = [1,2,3,4,5,6,7]\n",
    "b[3:6][1:2]"
   ]
  },
  {
   "cell_type": "code",
   "execution_count": 286,
   "metadata": {},
   "outputs": [
    {
     "data": {
      "text/plain": [
       "2×2 Diagonal{Bool,Array{Bool,1}}:\n",
       " 1  ⋅\n",
       " ⋅  1"
      ]
     },
     "execution_count": 286,
     "metadata": {},
     "output_type": "execute_result"
    }
   ],
   "source": [
    "[I(2)"
   ]
  },
  {
   "cell_type": "code",
   "execution_count": null,
   "metadata": {},
   "outputs": [],
   "source": []
  }
 ],
 "metadata": {
  "kernelspec": {
   "display_name": "Julia 1.4.0",
   "language": "julia",
   "name": "julia-1.4"
  },
  "language_info": {
   "file_extension": ".jl",
   "mimetype": "application/julia",
   "name": "julia",
   "version": "1.4.0"
  }
 },
 "nbformat": 4,
 "nbformat_minor": 4
}
