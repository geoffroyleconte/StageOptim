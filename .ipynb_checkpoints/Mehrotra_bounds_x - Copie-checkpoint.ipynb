{
 "cells": [
  {
   "cell_type": "markdown",
   "metadata": {},
   "source": [
    "# Problèmes\n",
    "\n",
    "### 1)\n",
    "Primal: $\\underset{x \\in \\mathbb{R}^3}{\\min} \\frac{1}{2} x' Q x + c' x ~~~~~~~~ s.t. ~ A x = b ~, ~~ x \\ge 0$\n",
    "\n",
    "with  $Q = \\begin{bmatrix} 6 & 2 & 1\\\\ 2 & 5 & 2\\\\ 1 & 2 & 4 \\end{bmatrix} $, $c = \\begin{bmatrix} -8 \\\\ -3 \\\\ -3 \\end{bmatrix}$, $A = \\begin{bmatrix} 1 & 0 &1 \\\\ 0 & 1 & 1 \\end{bmatrix}$ , and $b = \\begin{bmatrix} 3 \\\\ 0 \\end{bmatrix} $.\n",
    "\n",
    "\n",
    "### 2) \n",
    "AFIRO        28 rows    32 cols        88 nonzeros       794 bytes      -4.6475314286E+02 optimalvalue"
   ]
  },
  {
   "cell_type": "code",
   "execution_count": 22,
   "metadata": {},
   "outputs": [
    {
     "name": "stdout",
     "output_type": "stream",
     "text": [
      "\u001b[?25l"
     ]
    },
    {
     "name": "stderr",
     "output_type": "stream",
     "text": [
      "\u001b[32m\u001b[1m    Cloning\u001b[22m\u001b[39m git-repo `https://github.com/JuliaSmoothOptimizers/NLPModels.jl.git`\n"
     ]
    },
    {
     "name": "stdout",
     "output_type": "stream",
     "text": [
      "\u001b[2K\u001b[?25h\u001b[?25lching:\u001b[22m\u001b[39m [========================================>]  99.9 %[==>                                      ]  3.9 %\u001b[36m\u001b[1mFetching:\u001b[22m\u001b[39m [===>                                     ]  5.9 %.8 %=====>                                   ]  10.9 %4 %\u001b[36m\u001b[1mFetching:\u001b[22m\u001b[39m [============>                            ]  28.4 %>                           ]  31.0 %\u001b[36m\u001b[1mFetching:\u001b[22m\u001b[39m [==============>                          ]  32.8 % [===============>                         ]  35.5 % %4 %\u001b[36m\u001b[1mFetching:\u001b[22m\u001b[39m [==================>                      ]  43.2 %\u001b[36m\u001b[1mFetching:\u001b[22m\u001b[39m [===================>                     ]  45.8 %\u001b[36m\u001b[1mFetching:\u001b[22m\u001b[39m [====================>                    ]  48.4 %]  49.9 % [=====================>                   ]  52.1 %\u001b[36m\u001b[1mFetching:\u001b[22m\u001b[39m [========================>                ]  59.1 %\u001b[36m\u001b[1mFetching:\u001b[22m\u001b[39m [=========================>               ]  61.5 %>              ]  64.0 % [=============================>           ]  70.5 % [==============================>          ]  72.5 % [==============================>          ]  74.1 %>         ]  76.4 %>        ]  78.7 %\u001b[36m\u001b[1mFetching:\u001b[22m\u001b[39m [=================================>       ]  81.4 %\u001b[36m\u001b[1mFetching:\u001b[22m\u001b[39m [==================================>      ]  83.2 %86.4 %====================================>    ]  88.9 %2 %\u001b[36m\u001b[1mFetching:\u001b[22m\u001b[39m [=======================================> ]  95.9 %.3 % [========================================>]  99.0 %"
     ]
    },
    {
     "name": "stderr",
     "output_type": "stream",
     "text": [
      "\u001b[32m\u001b[1m   Updating\u001b[22m\u001b[39m git-repo `https://github.com/JuliaSmoothOptimizers/NLPModels.jl.git`\n"
     ]
    },
    {
     "name": "stdout",
     "output_type": "stream",
     "text": [
      "\u001b[2K\u001b[36m\u001b[1mFetching:\u001b[22m\u001b[39m [========================================>]  100.0 %===>                                     ]  5.8 %]  9.9 %\u001b[36m\u001b[1mFetching:\u001b[22m\u001b[39m [======>                                  ]  13.2 %                               ]  20.3 %]  28.7 %38.1 % [===================>                     ]  45.5 %]  48.3 %\u001b[36m\u001b[1mFetching:\u001b[22m\u001b[39m [=====================>                   ]  51.0 %55.4 % [========================>                ]  59.5 %               ]  62.4 % [============================>            ]  68.3 %71.2 %==============================>          ]  75.0 % [================================>        ]  78.6 %3 %86.1 %\u001b[36m\u001b[1mFetching:\u001b[22m\u001b[39m [====================================>    ]  89.3 %]  91.8 % ]  96.7 %]  99.4 %\u001b[?25h"
     ]
    },
    {
     "name": "stderr",
     "output_type": "stream",
     "text": [
      "\u001b[32m\u001b[1m   Updating\u001b[22m\u001b[39m registry at `C:\\Users\\Geoffroy Leconte\\.julia\\registries\\General`\n",
      "\u001b[32m\u001b[1m   Updating\u001b[22m\u001b[39m git-repo `https://github.com/JuliaRegistries/General.git`\n"
     ]
    },
    {
     "name": "stdout",
     "output_type": "stream",
     "text": [
      "\u001b[2K\u001b[?25h[1mFetching:\u001b[22m\u001b[39m [========================================>]  100.0 %.0 % [====>                                    ]  8.7 %\u001b[36m\u001b[1mFetching:\u001b[22m\u001b[39m [======>                                  ]  12.9 %=======>                                 ]  15.7 % [=========>                               ]  20.1 %30.3 %>                          ]  33.8 % %.9 %                   ]  51.1 %.6 %64.4 %============================>            ]  68.3 %]  72.7 %.5 %8 % [=======================================> ]  96.3 %"
     ]
    },
    {
     "name": "stderr",
     "output_type": "stream",
     "text": [
      "\u001b[32m\u001b[1m  Resolving\u001b[22m\u001b[39m package versions...\n",
      "\u001b[32m\u001b[1m  Installed\u001b[22m\u001b[39m ZeroMQ_jll ─ v4.3.2+3\n",
      "\u001b[32m\u001b[1m   Updating\u001b[22m\u001b[39m `C:\\Users\\Geoffroy Leconte\\.julia\\environments\\v1.4\\Project.toml`\n",
      " \u001b[90m [a4795742]\u001b[39m\u001b[93m ~ NLPModels v0.12.4 ⇒ v0.12.4 #master (https://github.com/JuliaSmoothOptimizers/NLPModels.jl.git)\u001b[39m\n",
      "\u001b[32m\u001b[1m   Updating\u001b[22m\u001b[39m `C:\\Users\\Geoffroy Leconte\\.julia\\environments\\v1.4\\Manifest.toml`\n",
      " \u001b[90m [a4795742]\u001b[39m\u001b[93m ~ NLPModels v0.12.4 ⇒ v0.12.4 #master (https://github.com/JuliaSmoothOptimizers/NLPModels.jl.git)\u001b[39m\n",
      " \u001b[90m [8f1865be]\u001b[39m\u001b[93m ↑ ZeroMQ_jll v4.3.2+2 ⇒ v4.3.2+3\u001b[39m\n"
     ]
    }
   ],
   "source": [
    "using Pkg\n",
    "pkg\"add NLPModels#master\""
   ]
  },
  {
   "cell_type": "code",
   "execution_count": 1,
   "metadata": {},
   "outputs": [],
   "source": [
    "\n",
    "using LinearAlgebra\n",
    "using LaTeXStrings\n",
    "using DataFrames\n",
    "using DataStructures\n",
    "using QuadraticModels\n",
    "using Printf\n",
    "using SparseArrays\n",
    "using BenchmarkTools\n",
    "using NLPModels\n",
    "using LinearOperators\n",
    "using QPSReader\n",
    "using SolverTools\n",
    "using SolverBenchmark"
   ]
  },
  {
   "cell_type": "markdown",
   "metadata": {},
   "source": [
    "# Mehrotra formulation plus générale:\n",
    "\n",
    "min $c_0 + c'x + \\frac{1}{2} x'Hx ~~~~$ s.t. $ Ax = b $ and $l \\le x \\le u$ "
   ]
  },
  {
   "cell_type": "code",
   "execution_count": 2,
   "metadata": {},
   "outputs": [
    {
     "data": {
      "text/plain": [
       "starting_points4 (generic function with 1 method)"
      ]
     },
     "execution_count": 2,
     "metadata": {},
     "output_type": "execute_result"
    }
   ],
   "source": [
    "function display_results(result)\n",
    "    # fonction pour l'affichage\n",
    "    println(\"\\n-----------------------------------------------------------------------\")\n",
    "    println(\"------------------------------- RESULTS -------------------------------\")\n",
    "    result\n",
    "end\n",
    "\n",
    "function init_x0(lvar, uvar)\n",
    "    # choice of an init point x0\n",
    "    x0 = zeros(length(lvar))\n",
    "    for i=1:length(x0)\n",
    "        if lvar[i] == -Inf && uvar[i] == Inf\n",
    "            x0[i] = 0.\n",
    "        elseif lvar[i] == -Inf && uvar[i] != Inf\n",
    "            x0[i] = uvar[i] - 1.\n",
    "        elseif lvar[i] != -Inf && uvar[i] == Inf\n",
    "            x0[i] = lvar[i] + 1.\n",
    "        else\n",
    "            x0[i] = (lvar[i] + uvar[i]) / 2 \n",
    "        end\n",
    "    end  \n",
    "    return x0\n",
    "end\n",
    "\n",
    "function init_x0_lsq(A, b, lvar, uvar)\n",
    "    x_tilde = A\\b\n",
    "    n = length(x_tilde)\n",
    "    for i=1:n\n",
    "        if x_tilde[i] <= lvar[i]\n",
    "            x_tilde[i] = lvar[i] + 1.\n",
    "        elseif uvar[i] <= x_tilde[i]\n",
    "            x_tilde[i] = uvar[i] - 1.\n",
    "        end\n",
    "        if !(lvar[i] < x_tilde[i] < uvar[i])\n",
    "            x_tilde[i] = (lvar[i] + uvar[i]) / 2.\n",
    "        end\n",
    "    end\n",
    "\n",
    "    return x_tilde\n",
    "end\n",
    "\n",
    "function starting_points(Q, A, b, c, lvar, uvar, ilow, iupp, irng, J_augm, ρ, n_rows, n_cols)\n",
    "\n",
    "    tmp_diag = vcat(-ρ*ones(n_cols),spzeros(n_rows))\n",
    "\n",
    "    J_fact = ldlt(Symmetric(J_augm-Diagonal(tmp_diag), :U))\n",
    "    init_xλ = J_fact \\ [c ; b ]\n",
    "    x0 = init_xλ[1:n_cols]\n",
    "    λ0 = init_xλ[n_cols+1:end]\n",
    "    s0_l, s0_u = zeros(n_cols), zeros(n_cols)\n",
    "    dual_val = Q*x0 - A'*λ0 + c\n",
    "    s0_l[ilow] = dual_val[ilow]\n",
    "    s0_u[iupp] = -dual_val[iupp]\n",
    "\n",
    "    x0_l1, x0_u1 = x0[ilow], x0[iupp]\n",
    "    if length(ilow) == 0\n",
    "        δx_l1, δs_l1 = 0., 0.\n",
    "    else\n",
    "        δx_l1 = max(-1.5*minimum(x0_l1 - lvar[ilow]), 0.)\n",
    "        δs_l1 = max(-1.5*minimum(s0_l[ilow]), 0.)\n",
    "    end\n",
    "\n",
    "    if length(iupp) == 0\n",
    "        δx_u1, δs_u1 = 0., 0.\n",
    "    else\n",
    "        δx_u1 = max(-1.5*minimum((uvar[iupp] - x0_u1)), 0.)\n",
    "        δs_u1 = max(-1.5*minimum(s0_u[iupp]), 0.)\n",
    "    end\n",
    "    \n",
    "    x0_l1 .+= δx_l1\n",
    "    x0_u1 .-= δx_u1\n",
    "    s0_l1 = s0_l[ilow] .+ δs_l1\n",
    "    s0_u1 = s0_u[iupp] .+ δs_u1\n",
    "    xs_l1, xs_u1 = s0_l1'*(x0_l1 - lvar[ilow]), s0_u1'*(uvar[iupp] - x0_u1)\n",
    "    if length(ilow) == 0\n",
    "        δx_l2, δs_l2 = 0., 0.\n",
    "    else\n",
    "        δx_l2 = δx_l1 + 0.5 *  xs_l1 / sum(s0_l1)\n",
    "        δs_l2 = δs_l1 + 0.5 * xs_l1 / sum(x0_l1-lvar[ilow])\n",
    "    end\n",
    "    if length(iupp) == 0\n",
    "        δx_u2, δs_u2 = 0., 0.\n",
    "    else\n",
    "        δx_u2 = δx_u1 + 0.5 *  xs_u1 / sum(s0_u1)\n",
    "        δs_u2 = δs_u1 + 0.5 * xs_u1 / sum(uvar[iupp]-x0_u1)\n",
    "    end\n",
    "    println(δx_l1)\n",
    "    x0[ilow] .+= δx_l2 \n",
    "    x0[iupp] .-= δx_u2\n",
    "    s0_l[ilow] = s0_l[ilow] .+ max(δs_l2, δs_u2)\n",
    "    s0_u[iupp] = s0_u[iupp] .+ max(δs_l2, δs_u2)\n",
    "\n",
    "    for i in irng\n",
    "        if (lvar[i] < x0[i] < uvar[i]) == false\n",
    "            x0[i] = (lvar[i] + uvar[i]) / 2.\n",
    "        end\n",
    "    end\n",
    "\n",
    "    @assert all(x0 .> lvar) && all(x0 .< uvar)\n",
    "    @assert all(s0_l[ilow] .> 0) && all(s0_u[iupp] .> 0)\n",
    "\n",
    "    return x0, λ0, s0_l, s0_u\n",
    "end\n",
    "\n",
    "\n",
    "\n",
    "function starting_points2(Q, A, b, c, lvar, uvar, ilow, iupp, irng, J_augm, ρ, n_rows, n_cols)\n",
    "\n",
    "    tmp_diag = vcat(-ones(n_cols),spzeros(n_rows))\n",
    "\n",
    "    J_fact = ldlt(Symmetric(J_augm-Diagonal(tmp_diag), :U))\n",
    "    init_xλ = J_fact \\ [zeros(n_cols) ; b ]\n",
    "    x0 = init_xλ[1:n_cols]\n",
    "    λ0 = init_xλ[n_cols+1:end]\n",
    "    s0_l, s0_u = zeros(n_cols), zeros(n_cols)\n",
    "    dual_val = Q*x0 - A'*λ0 + c\n",
    "    s0_l[ilow] = dual_val[ilow]\n",
    "    s0_u[iupp] = -dual_val[iupp]\n",
    "\n",
    "    x0_l1, x0_u1 = x0[ilow], x0[iupp]\n",
    "\n",
    "    for i in ilow\n",
    "        δx_l = max(-1.5*(x0[i] - lvar[i]), 1.)\n",
    "        δs_l = max(-1.5*s0_l[i], 1e-6)\n",
    "        x0[i] += δx_l \n",
    "        s0_l[i] += δs_l \n",
    "    end\n",
    "\n",
    "    for i in iupp\n",
    "        δx_u = max(-1.5*(uvar[i] - x0[i]), 1.)\n",
    "        δs_u = max(-1.5*s0_u[i], 1.e-6)\n",
    "        x0[i] -= δx_u \n",
    "        s0_u[i] += δs_u \n",
    "    end\n",
    "\n",
    "    for i in irng\n",
    "        if (lvar[i] < x0[i] < uvar[i]) == false\n",
    "            x0[i] = (lvar[i] + uvar[i]) / 2.\n",
    "        end\n",
    "    end\n",
    "\n",
    "    @assert all(x0 .> lvar) && all(x0 .< uvar)\n",
    "    @assert all(s0_l[ilow] .> 0) && all(s0_u[iupp] .> 0)\n",
    "\n",
    "    return x0, λ0, s0_l, s0_u\n",
    "end\n",
    "\n",
    "\n",
    "function starting_points3(Q, A, b, c, lvar, uvar, ilow, iupp, irng, J_augm, ρ, n_rows, n_cols)\n",
    "\n",
    "    tmp_diag = vcat(ρ*ones(n_cols),spzeros(n_rows))\n",
    "\n",
    "    #J_fact = ldlt(Symmetric(J_augm-Diagonal(tmp_diag), :U))\n",
    "    J_fact = ldl(Symmetric(J_augm-Diagonal(tmp_diag), :U))\n",
    "    J_P = J_fact.P\n",
    "    init_xλ = J_fact \\ [zeros(n_cols) ; b]\n",
    "    #init_xλ2 = J_fact \\ [c ; zeros(n_rows)]\n",
    "    x0 = init_xλ[1:n_cols]\n",
    "    λ0 = init_xλ[n_cols+1:end]\n",
    "    s0_l, s0_u = zeros(n_cols), zeros(n_cols)\n",
    "    dual_val = Q*x0 - A'*λ0 + c\n",
    "    s0_l[ilow] = @views dual_val[ilow]\n",
    "    s0_u[iupp] = @views -dual_val[iupp]\n",
    "\n",
    "    x0_l1, x0_u1 = x0[ilow], x0[iupp]\n",
    "    if length(ilow) == 0\n",
    "        δx_l1, δs_l1 = 0., 0.\n",
    "    else\n",
    "        δx_l1 = @views max(-1.5*minimum(x0_l1 - lvar[ilow]), 1.e0)\n",
    "        δs_l1 = @views max(-1.5*minimum(s0_l[ilow]), 1.e-4)\n",
    "    end\n",
    "    \n",
    "    if length(iupp) == 0\n",
    "        δx_u1, δs_u1 = 0., 0.\n",
    "    else\n",
    "        δx_u1 = @views max(-1.5*minimum((uvar[iupp] - x0_u1)), 1.e0)\n",
    "        δs_u1 = @views max(-1.5*minimum(s0_u[iupp]), 1.e-4)\n",
    "    end\n",
    "    \n",
    "    x0_l1 .+= δx_l1\n",
    "    x0_u1 .-= δx_u1\n",
    "    s0_l1 = @views s0_l[ilow] .+ δs_l1\n",
    "    s0_u1 = @views s0_u[iupp] .+ δs_u1\n",
    "    xs_l1, xs_u1 = @views s0_l1'*(x0_l1 - lvar[ilow]), s0_u1'*(uvar[iupp] - x0_u1)\n",
    "    if length(ilow) == 0\n",
    "        δx_l2, δs_l2 = 0., 0.\n",
    "    else\n",
    "        δx_l2 = δx_l1 + 0.5 *  xs_l1 / sum(s0_l1)\n",
    "        δs_l2 = @views δs_l1 + 0.5 * xs_l1 / sum(x0_l1-lvar[ilow])\n",
    "    end\n",
    "    if length(iupp) == 0\n",
    "        δx_u2, δs_u2 = 0., 0.\n",
    "    else\n",
    "        δx_u2 = δx_u1 + 0.5 *  xs_u1 / sum(s0_u1)\n",
    "        δs_u2 = @views δs_u1 + 0.5 * xs_u1 / sum(uvar[iupp]-x0_u1)\n",
    "    end\n",
    "    δx = max(δx_l2, δx_u2)\n",
    "    δs = max(δs_l2, δs_u2)\n",
    "    x0[ilow] .+= δx\n",
    "    x0[iupp] .-= δx\n",
    "    s0_l[ilow] = @views s0_l[ilow] .+ δs\n",
    "    s0_u[iupp] = @views s0_u[iupp] .+ δs\n",
    "\n",
    "    for i in irng\n",
    "        if (lvar[i] < x0[i] < uvar[i]) == false\n",
    "            x0[i] = (lvar[i] + uvar[i]) / 2.\n",
    "        end\n",
    "    end\n",
    "\n",
    "    @assert all(x0 .> lvar) && all(x0 .< uvar)\n",
    "    @assert @views all(s0_l[ilow] .> 0) && all(s0_u[iupp] .> 0)\n",
    "\n",
    "    return x0, λ0, s0_l, s0_u, J_P\n",
    "end\n",
    "\n",
    "function starting_points4(Q, A, b, c, lvar, uvar, ilow, iupp, irng, J_augm, ρ, n_rows, n_cols)\n",
    "\n",
    "    x0 = A\\b\n",
    "    \n",
    "    if length(ilow) == 0\n",
    "        δx_l1 = 0.\n",
    "    else\n",
    "        δx_l1 = max(-2.5*minimum(x0[ilow] - lvar[ilow]), 1.)\n",
    "    end\n",
    "\n",
    "    if length(iupp) == 0\n",
    "        δx_u1 = 0.\n",
    "    else\n",
    "        δx_u1 = max(-2.5*minimum((uvar[iupp] - x0[iupp])), 1.)\n",
    "    end\n",
    "    \n",
    "    x0[ilow] .+= δx_l1\n",
    "    x0[iupp] .-= δx_u1\n",
    "    \n",
    "    for i in irng\n",
    "        if (lvar[i] < x0[i] < uvar[i]) == false\n",
    "            x0[i] = (lvar[i] + uvar[i]) / 2.\n",
    "        end\n",
    "    end\n",
    "    \n",
    "    @assert all(x0 .> lvar) && all(x0 .< uvar)\n",
    "    λ0 = sparse(A') \\ (c+Q*x0)\n",
    "    dual_val = Q*x0 - A'*λ0 + c\n",
    "    s0_l, s0_u = zeros(n_cols), zeros(n_cols)\n",
    "    s0_l[ilow] = dual_val[ilow]\n",
    "    s0_u[iupp] = dual_val[iupp]\n",
    "    \n",
    "    s0_l[ilow] .= 1.\n",
    "    s0_u[iupp] .= 1.    \n",
    "    @assert all(s0_l[ilow] .> 0) && all(s0_u[iupp] .> 0)\n",
    "\n",
    "    return x0, λ0, s0_l, s0_u\n",
    "end"
   ]
  },
  {
   "cell_type": "code",
   "execution_count": 3,
   "metadata": {},
   "outputs": [
    {
     "data": {
      "text/plain": [
       "is_in_Neighborhood_inf (generic function with 1 method)"
      ]
     },
     "execution_count": 3,
     "metadata": {},
     "output_type": "execute_result"
    }
   ],
   "source": [
    "function compute_α_dual(v, dir_v)\n",
    "    n = length(v)\n",
    "    if n == 0\n",
    "        return 1.\n",
    "    end\n",
    "    α = 1.\n",
    "    for i=1:n\n",
    "        if dir_v[i] < 0.\n",
    "            α_new = -v[i] * 0.999 / dir_v[i]\n",
    "            if α_new < α\n",
    "                α = α_new\n",
    "            end\n",
    "        end\n",
    "    end\n",
    "    return α\n",
    "end\n",
    "\n",
    "\n",
    "    \n",
    "function compute_α_primal(v, dir_v, lvar, uvar)\n",
    "    n = length(v)\n",
    "    α_l, α_u = 1., 1.\n",
    "    for i=1:n\n",
    "        if dir_v[i] > 0.\n",
    "            α_u_new = (uvar[i] - v[i]) * 0.999 / dir_v[i]\n",
    "            if α_u_new < α_u\n",
    "                α_u = α_u_new\n",
    "            end\n",
    "        elseif dir_v[i] < 0.\n",
    "            α_l_new = (lvar[i] - v[i]) * 0.999 / dir_v[i]\n",
    "            if α_l_new < α_l\n",
    "                α_l = α_l_new\n",
    "            end\n",
    "        end\n",
    "    end\n",
    "    return min(α_l, α_u)\n",
    "end\n",
    "\n",
    "\n",
    "\n",
    "function compute_μ(x_minus_lvar, uvar_minus_x, s_l, s_u, nb_low, nb_upp)\n",
    "    return (s_l' * x_minus_lvar + s_u' * uvar_minus_x) / (nb_low + nb_upp)\n",
    "end\n",
    "\n",
    "\n",
    "function is_in_Neighborhood_inf(gamma, x_l, x_u, s_l, s_u, lvar, uvar)\n",
    "    # check if the current point is in N_inf(gamma)\n",
    "    # true : (xi_l - lvari) * si_l >= gamma mu   and   (uvari - xi_u) * si_u >= gamma mu \n",
    "    mu = Compute_mu(x_l, x_u, s_l, s_u, lvar, uvar)\n",
    "    for i=1:length(x_l)\n",
    "        if (x_l[i] - lvar[i]) * s_l[i] < gamma*mu\n",
    "            return false\n",
    "        end\n",
    "    end\n",
    "    for i=1:length(x_u)\n",
    "        if (uvar[i] - x_u[i]) * s_u[i] < gamma*mu\n",
    "            return false\n",
    "        end\n",
    "    end\n",
    "    return true\n",
    "end"
   ]
  },
  {
   "cell_type": "code",
   "execution_count": 4,
   "metadata": {},
   "outputs": [
    {
     "data": {
      "text/plain": [
       "solve_augmented_system_cc! (generic function with 1 method)"
      ]
     },
     "execution_count": 4,
     "metadata": {},
     "output_type": "execute_result"
    }
   ],
   "source": [
    "function solve_augmented_system_aff!(J_fact, Δ_aff, Δ_x_λ, rc, rb, x_minus_lvar, uvar_minus_x, \n",
    "                                     s_l, s_u, ilow, iupp,  n_cols, n_rows, n_low)\n",
    "    \n",
    "    F_x_λ_aff = [-rc \n",
    "                 -rb]\n",
    "    F_x_λ_aff[ilow] += @views s_l[ilow]\n",
    "    F_x_λ_aff[iupp] -= @views s_u[iupp]\n",
    "    \n",
    "    Δ_x_λ = ldiv!(Δ_x_λ , J_fact, F_x_λ_aff)\n",
    "#     Δ_aff = @views [Δ_x_λ\n",
    "#                     -s_l[ilow] - s_l[ilow].*Δ_x_λ[1:n_cols][ilow]./x_minus_lvar\n",
    "#                     -s_u[iupp] + s_u[iupp].*Δ_x_λ[1:n_cols][iupp]./uvar_minus_x]\n",
    "    Δ_aff[1:n_cols+n_rows] = Δ_x_λ\n",
    "    Δ_aff[n_cols+n_rows+1:n_cols+n_rows+n_low] = @views -s_l[ilow] - s_l[ilow].*Δ_x_λ[1:n_cols][ilow]./x_minus_lvar\n",
    "    Δ_aff[n_cols+n_rows+n_low+1:end] = @views -s_u[iupp] + s_u[iupp].*Δ_x_λ[1:n_cols][iupp]./uvar_minus_x\n",
    "    return Δ_aff\n",
    "end\n",
    "\n",
    "function solve_augmented_system_cc!(J_fact, Δ_cc, Δ_x_λ ,Δ_aff, σ, μ,x_minus_lvar, uvar_minus_x, \n",
    "                                    s_l, s_u, ilow, iupp, n_cols, n_rows, n_low)\n",
    "\n",
    "\n",
    "    rxs_l = @views -σ*μ .+ Δ_aff[1:n_cols][ilow].*Δ_aff[n_rows+n_cols+1: n_rows+n_cols+n_low]\n",
    "    rxs_u = @views σ*μ .+ Δ_aff[1:n_cols][iupp].*Δ_aff[n_rows+n_cols+n_low+1: end]\n",
    "\n",
    "    F_x_λ_cc = zeros(n_cols+n_rows)\n",
    "    F_x_λ_cc[ilow] += rxs_l./x_minus_lvar\n",
    "    F_x_λ_cc[iupp] += rxs_u./uvar_minus_x\n",
    "\n",
    "#     F_x_λ_cc = [ I_low*inv_X_L*rxs_l + I_op_upp*inv_X_U*rxs_u\n",
    "#                                    Or                 ]\n",
    "    \n",
    "    Δ_x_λ = ldiv!(Δ_x_λ , J_fact, F_x_λ_cc)\n",
    "\n",
    "#     Δ_cc = @views [Δ_x_λ\n",
    "#                    -(rxs_l+s_l[ilow].*Δ_x_λ[1:n_cols][ilow])./x_minus_lvar\n",
    "#                    (rxs_u+s_u[iupp].*Δ_x_λ[1:n_cols][iupp])./uvar_minus_x ]\n",
    "    Δ_cc[1:n_cols+n_rows] = Δ_x_λ\n",
    "    Δ_cc[n_cols+n_rows+1:n_cols+n_rows+n_low] = @views -(rxs_l+s_l[ilow].*Δ_x_λ[1:n_cols][ilow])./x_minus_lvar\n",
    "    Δ_cc[n_cols+n_rows+n_low+1:end] = @views (rxs_u+s_u[iupp].*Δ_x_λ[1:n_cols][iupp])./uvar_minus_x \n",
    "    return Δ_cc\n",
    "end"
   ]
  },
  {
   "cell_type": "code",
   "execution_count": 5,
   "metadata": {},
   "outputs": [
    {
     "data": {
      "text/plain": [
       "check_frontier2! (generic function with 1 method)"
      ]
     },
     "execution_count": 5,
     "metadata": {},
     "output_type": "execute_result"
    }
   ],
   "source": [
    "function check_frontier!(γf, x, x_minus_lvar, uvar_minus_x, s_l, s_u, Δ, α_pri, α_dual, \n",
    "                        lvar, uvar, ilow, iupp, n_low, n_upp, n_rows, n_cols)\n",
    "    \n",
    "    x_minus_lvar_sup = @views a_plus_αb(x_minus_lvar, α_pri, Δ[1:n_cols][ilow], n_low)\n",
    "    uvar_minus_x_sup = @views a_plus_αb(uvar_minus_x, -α_pri, Δ[1:n_cols][iupp], n_upp)\n",
    "    s_l_sup = @views a_plus_αb(s_l[ilow], α_dual, Δ[n_rows+n_cols+1: n_rows+n_cols+n_low], n_low)\n",
    "    s_u_sup = @views a_plus_αb(s_u[iupp], α_dual,  Δ[n_rows+n_cols+n_low+1: end], n_upp)\n",
    "    μ_sup = compute_μ(x_minus_lvar_sup, uvar_minus_x_sup, s_l_sup, s_u_sup, n_low, n_upp)\n",
    "    f_pri, f_pri_tmp = 0., 0.\n",
    "    f_dual, f_dual_tmp = 0., 0.\n",
    "    i_l, i_u = 0, 0\n",
    "    ilow_pad, iupp_pad = zeros(Int, n_cols), zeros(Int, n_cols)\n",
    "    ilow_pad[ilow] = 1:n_low\n",
    "    iupp_pad[iupp] = 1:n_upp\n",
    "    for i=1:n_cols \n",
    "        if ilow_pad[i] != 0 && iupp_pad[i] != 0\n",
    "            i_l, i_u = ilow_pad[i], iupp_pad[i]\n",
    "            if (x_minus_lvar_sup[i_l] == 0. || uvar_minus_x_sup[i_u] == 0.)\n",
    "                f_pri_tmp = (2.0*γf*μ_sup - \n",
    "                            x_minus_lvar[i_l]*(s_l_sup[i_l]+α_dual*Δ[n_rows+n_cols+i_l]) -\n",
    "                            uvar_minus_x[i_u]*(s_u_sup[i_u]+α_dual*Δ[n_rows+n_cols+n_low+i_u])) / \n",
    "                                (α_pri * Δ[i]*\n",
    "                                (s_l_sup[i_l]+α_dual*Δ[n_rows+n_cols+i_l]-s_u_sup[i_u]-α_dual*Δ[n_rows+n_cols+n_low+i_u]))      \n",
    "                if f_pri_tmp < f_pri\n",
    "                    f_pri = f_pri_tmp\n",
    "                end\n",
    "            end\n",
    "            if (s_l_sup[i_l] == 0. || uvar_minus_x_sup[i_u] == 0.)\n",
    "                f_dual_tmp = (2.0*γf*μ_sup - s_l[i_l]*x_minus_lvar_sup[i_l] - s_u[i_u]*uvar_minus_x_sup[i_u]) /\n",
    "                                (α_dual * (Δ[n_rows+n_cols+i_l]*x_minus_lvar_sup[i_l] +\n",
    "                                     Δ[n_rows+n_cols+n_low+i_u]*uvar_minus_x_sup[i_u]))\n",
    "                if f_dual_tmp < f_dual\n",
    "                    f_dual = f_dual_tmp\n",
    "                end  \n",
    "            end\n",
    "        elseif ilow_pad[i] != 0 && iupp_pad[i] == 0\n",
    "            i_l = ilow_pad[i]\n",
    "            if x_minus_lvar_sup[i_l] == 0. \n",
    "                f_pri_tmp = (γf*μ_sup - x_minus_lvar[i_l]*(s_l_sup[i_l]+α_dual*Δ[n_rows+n_cols+i_l])) / \n",
    "                                (α_pri * Δ[i]*(s_l_sup[i_l]+α_dual*Δ[n_rows+n_cols+i_l]))      \n",
    "                if f_pri_tmp < f_pri\n",
    "                    f_pri = f_pri_tmp\n",
    "                end\n",
    "            end\n",
    "            if s_l_sup[i_l] == 0.\n",
    "                f_dual_tmp = (γf*μ_sup - s_l[i_l]*x_minus_lvar_sup[i_l] ) /\n",
    "                                (α_dual * Δ[n_rows+n_cols+i_l]*x_minus_lvar_sup[i_l])\n",
    "                if f_dual_tmp < f_dual\n",
    "                    f_dual = f_dual_tmp\n",
    "                end\n",
    "            end \n",
    "        elseif ilow_pad[i] == 0 && iupp_pad[i] != 0\n",
    "            i_u = iupp_pad[i]\n",
    "            if uvar_minus_x_sup[i_u] == 0.\n",
    "                f_pri_tmp = (γf*μ_sup - uvar_minus_x[i_u]*(s_u_sup[i_u]+α_dual*Δ[n_rows+n_cols+n_low+i_u])) / \n",
    "                                (α_pri * Δ[i]*(-s_u_sup[i_u]-α_dual*Δ[n_rows+n_cols+n_low+i_u]))      \n",
    "                if f_pri_tmp < f_pri\n",
    "                    f_pri = f_pri_tmp\n",
    "                end\n",
    "            end\n",
    "            if s_u[i_u] == 0.\n",
    "                f_dual_tmp = (γf*μ_sup - s_u[i_u]*uvar_minus_x_sup[i_u]) /\n",
    "                            (α_dual * Δ[n_rows+n_cols+n_low+i_u]*uvar_minus_x_sup[i_u])\n",
    "                if f_dual_tmp < f_dual\n",
    "                    f_dual = f_dual_tmp\n",
    "                end  \n",
    "            end\n",
    "        end\n",
    "    end\n",
    "    \n",
    "    α_pri *= max(1.0-γf, f_pri)\n",
    "    α_dual *= max(1.0-γf, f_dual)\n",
    "    \n",
    "    return α_pri, α_dual\n",
    "end  \n",
    "\n",
    "function check_frontier2!(γf, x, x_minus_lvar, uvar_minus_x, s_l, s_u, Δ, α_pri, α_dual, \n",
    "                        lvar, uvar, ilow, iupp, n_low, n_upp, n_rows, n_cols)\n",
    "    \n",
    "    x_minus_lvar_sup = a_plus_αb(x_minus_lvar, α_pri, Δ[1:n_cols][ilow], n_low)\n",
    "    uvar_minus_x_sup = a_plus_αb(uvar_minus_x, -α_pri, Δ[1:n_cols][iupp], n_upp)\n",
    "    s_l_sup = a_plus_αb(s_l[ilow], α_dual, Δ[n_rows+n_cols+1: n_rows+n_cols+n_low], n_low)\n",
    "    s_u_sup = a_plus_αb(s_u[iupp], α_dual,  Δ[n_rows+n_cols+n_low+1: end], n_upp)\n",
    "    μ_sup = compute_μ(x_minus_lvar_sup, uvar_minus_x_sup, s_l_sup, s_u_sup, n_low, n_upp)\n",
    "    f_pri_l, f_pri_l_tmp = 0., 0.\n",
    "    f_pri_u, f_pri_u_tmp = 0., 0.\n",
    "    f_dual_l, f_dual_l_tmp = 0., 0.\n",
    "    f_dual_u, f_dual_u_tmp = 0., 0.\n",
    "    i_l, i_u = 0, 0\n",
    "    ilow_pad, iupp_pad = zeros(Int, n_cols), zeros(Int, n_cols)\n",
    "    ilow_pad[ilow] = 1:n_low\n",
    "    iupp_pad[iupp] = 1:n_upp\n",
    "    for i=1:n_cols \n",
    "        if ilow_pad[i] != 0 \n",
    "            i_l = ilow_pad[i]\n",
    "            if x_minus_lvar_sup[i_l] == 0. \n",
    "                f_pri_l_tmp = (γf*μ_sup - x_minus_lvar[i_l]*(s_l_sup[i_l]+α_dual*Δ[n_rows+n_cols+i_l])) / \n",
    "                                (α_pri * Δ[i]*(s_l_sup[i_l]+α_dual*Δ[n_rows+n_cols+i_l]))      \n",
    "                if f_pri_l_tmp > f_pri_l\n",
    "                    f_pri_l = f_pri_l_tmp\n",
    "                end\n",
    "            end\n",
    "            if s_l_sup[i_l] == 0.\n",
    "                f_dual_l_tmp = (γf*μ_sup - s_l[i_l]*x_minus_lvar_sup[i_l] ) /\n",
    "                                (α_dual * Δ[n_rows+n_cols+i_l]*x_minus_lvar_sup[i_l])\n",
    "                if f_dual_l_tmp > f_dual_l\n",
    "                    f_dual_l = f_dual_l_tmp\n",
    "                end\n",
    "            end \n",
    "        end\n",
    "        if iupp_pad[i] != 0\n",
    "            i_u = iupp_pad[i]\n",
    "            if uvar_minus_x_sup[i_u] == 0.\n",
    "                f_pri_u_tmp = (γf*μ_sup - uvar_minus_x[i_u]*(s_u_sup[i_u]+α_dual*Δ[n_rows+n_cols+n_low+i_u])) / \n",
    "                                (α_pri * Δ[i]*(-s_u_sup[i_u]-α_dual*Δ[n_rows+n_cols+n_low+i_u]))      \n",
    "                if f_pri_u_tmp > f_pri_u\n",
    "                    f_pri_u = f_pri_u_tmp\n",
    "                end\n",
    "            end\n",
    "            if s_u[i_u] == 0.\n",
    "                f_dual_u_tmp = (γf*μ_sup - s_u[i_u]*uvar_minus_x_sup[i_u]) /\n",
    "                            (α_dual * Δ[n_rows+n_cols+n_low+i_u]*uvar_minus_x_sup[i_u])\n",
    "                if f_dual_u_tmp > f_dual_u\n",
    "                    f_dual_u = f_dual_u_tmp\n",
    "                end  \n",
    "            end\n",
    "        end\n",
    "    end\n",
    "    f_pri = min(f_pri_l, f_pri_u)\n",
    "    f_dual = min(f_dual_l, f_dual_u)\n",
    "    α_pri *= max(1.0-γf, f_pri)\n",
    "    α_dual *= max(1.0-γf, f_dual)\n",
    "    \n",
    "    return α_pri, α_dual\n",
    "end"
   ]
  },
  {
   "cell_type": "code",
   "execution_count": 6,
   "metadata": {},
   "outputs": [
    {
     "data": {
      "text/plain": [
       "scaling_Ruiz! (generic function with 1 method)"
      ]
     },
     "execution_count": 6,
     "metadata": {},
     "output_type": "execute_result"
    }
   ],
   "source": [
    "function a_plus_αb(a, α, b, n)\n",
    "    # a, b same length, α float\n",
    "    result = zeros(n)\n",
    "    for i=1:n\n",
    "        result[i] = a[i] + α * b[i]\n",
    "    end\n",
    "    return result\n",
    "end\n",
    "\n",
    "function a_plus_equal_αb(a, α, b, n)\n",
    "    # a, b same length, α float\n",
    "    for i=1:n\n",
    "        a[i] +=  α * b[i]\n",
    "    end\n",
    "    return a\n",
    "end\n",
    "   \n",
    "\n",
    "function equilibrationRT(A, n_rows, n_cols)\n",
    "    r = zeros(n_rows)\n",
    "    t = zeros(n_cols)\n",
    "    AT = sparse(A')\n",
    "    for j=1:n_rows\n",
    "        i = AT.colptr[j]\n",
    "        k = AT.colptr[j+1] - 1\n",
    "        r_j_inv = i <= k ? norm(AT.nzval[i:k], Inf) : 0.0\n",
    "        if r_j_inv > 0.0\n",
    "          r[j] = 1/r_j_inv\n",
    "        end\n",
    "\n",
    "    end\n",
    "    \n",
    "    for j=1:n_cols\n",
    "        i = A.colptr[j]\n",
    "        k = A.colptr[j+1] - 1\n",
    "        t_j_inv = i <= k ? norm(A.nzval[i:k], Inf) : 0.0\n",
    "        if t_j_inv > 0.0\n",
    "          t[j] = 1/t_j_inv\n",
    "        end\n",
    "    end\n",
    "    return Diagonal(r), Diagonal(t)\n",
    "end\n",
    "\n",
    "function get_norm_cols(A, n_cols)\n",
    "    c = ones(n_cols)\n",
    "    for j=1:n_cols\n",
    "        i = A.colptr[j]\n",
    "        k = A.colptr[j+1] - 1\n",
    "        c[j] = i <= k ? sqrt(norm(A.nzval[i:k], Inf)) : 1.0\n",
    "    end\n",
    "    return c\n",
    "end\n",
    "    \n",
    "\n",
    "function scaling_Ruiz!(A, n_rows, n_cols, ϵ; max_iter = 100)\n",
    "    AT = sparse(A')\n",
    "    D1, D2 = I(n_rows), I(n_cols)\n",
    "    r, c = get_norm_cols(AT, n_rows), get_norm_cols(A, n_cols)\n",
    "    convergence = maximum(abs.(1.0 .- r)) <= ϵ && maximum(abs.(1.0 .- c)) <= ϵ\n",
    "    inv_Dr, inv_Dc = inv(Diagonal(r)), inv(Diagonal(c))\n",
    "    A = rmul!(A, inv_Dc)\n",
    "    A = lmul!(inv_Dr, A)\n",
    "    AT = lmul!(inv_Dc, AT)\n",
    "    AT = rmul!(AT, inv_Dr)\n",
    "    D1 *= inv_Dr\n",
    "    D2 *= inv_Dc\n",
    "    k = 1\n",
    "    while !convergence && k < max_iter\n",
    "        r, c = get_norm_cols(AT, n_rows), get_norm_cols(A, n_cols)\n",
    "        convergence = maximum(abs.(1.0 .- r)) <= ϵ && maximum(abs.(1.0 .- c)) <= ϵ\n",
    "        inv_Dr, inv_Dc = inv(Diagonal(r)), inv(Diagonal(c))\n",
    "        A = rmul!(A, inv_Dc)\n",
    "        A = lmul!(inv_Dr, A)\n",
    "        AT = lmul!(inv_Dc, AT)\n",
    "        AT = rmul!(AT, inv_Dr)\n",
    "        D1 *= inv_Dr\n",
    "        D2 *= inv_Dc\n",
    "        k += 1\n",
    "    end\n",
    "    return A, D1, D2, inv(D1), inv(D2)\n",
    "end"
   ]
  },
  {
   "cell_type": "code",
   "execution_count": 7,
   "metadata": {},
   "outputs": [
    {
     "data": {
      "text/plain": [
       "mehrotraPCQuadBounds (generic function with 1 method)"
      ]
     },
     "execution_count": 7,
     "metadata": {},
     "output_type": "execute_result"
    }
   ],
   "source": [
    "function mehrotraPCQuadBounds(QM; max_iter=100, ϵ_pdd=1e-8, ϵ_rb=1e-6, ϵ_rc=1e-6,\n",
    "                              tol_Δx=1e-16, ϵ_μ=0., max_time=60., scaling=true,\n",
    "                              display=true)\n",
    "\n",
    "    start_time = time()\n",
    "    elapsed_time = 0.0\n",
    "\n",
    "    # get variables from QuadraticModel\n",
    "    lvar, uvar = QM.meta.lvar, QM.meta.uvar\n",
    "    n_cols = length(lvar)\n",
    "    Oc = zeros(n_cols)\n",
    "    ilow, iupp = [QM.meta.ilow; QM.meta.irng], [QM.meta.iupp; QM.meta.irng] # finite bounds index\n",
    "    n_low, n_upp = length(ilow), length(iupp) # number of finite constraints\n",
    "    c = grad(QM, Oc)\n",
    "    A = jac(QM, Oc)\n",
    "    n_rows, n_cols = size(A)\n",
    "    @assert QM.meta.lcon == QM.meta.ucon # equality constraint (Ax=b)\n",
    "    b = QM.meta.lcon\n",
    "    Q = hess(QM, Oc)  # lower triangular\n",
    "\n",
    "    if scaling\n",
    "#         R, T = equilibrationRT(A, n_rows, n_cols)\n",
    "#         inv_R_vec = zeros(n_rows)\n",
    "#         for i=1:n_rows\n",
    "#             if R[i,i] != 0.\n",
    "#                 inv_R_vec[i] = 1/R[i,i]\n",
    "#             end\n",
    "#         end\n",
    "#         inv_T_vec = zeros(n_cols)\n",
    "#         for i=1:n_cols\n",
    "#             if T[i,i] != 0.\n",
    "#                 inv_T_vec[i] = 1/T[i,i]\n",
    "#             end\n",
    "#         end\n",
    "#         inv_R = Diagonal(inv_R_vec)\n",
    "#         inv_T = Diagonal(inv_T_vec)\n",
    "#         A = R*A*T\n",
    "        A, D1, D2, inv_D1, inv_D2 = scaling_Ruiz!(A, n_rows, n_cols, 1e-3)\n",
    "        Q = Q*D2^2\n",
    "        c = D2*c\n",
    "        b = D1*b\n",
    "        lvar = inv_D2*lvar\n",
    "        uvar = inv_D2*uvar\n",
    "#         A = rmul!(A, T)\n",
    "#         A = lmul!(R, A)\n",
    "#         Q = rmul!(Q, T^2)\n",
    "#         c = mul!(c, T, c)\n",
    "#         b = mul!(b, R, b)\n",
    "#         lvar = mul!(lvar, inv_T, lvar)\n",
    "#         uvar = mul!(uvar, inv_T, uvar)\n",
    "    end\n",
    "\n",
    "    Arows, Acols, Avals = findnz(A)\n",
    "    c0 = obj(QM, Oc)\n",
    "    Qrows, Qcols, Qvals = findnz(Q)\n",
    "    Q_sym = Symmetric(Q, :L)\n",
    "\n",
    "    # init regularization values\n",
    "    ρ, δ = 1e5*sqrt(eps()), 1e6*sqrt(eps()) # 1e6, 1e-1 ok\n",
    "\n",
    "    J_augmrows = vcat(Qcols, Acols, n_cols+1:n_cols+n_rows, 1:n_cols)\n",
    "    J_augmcols = vcat(Qrows, Arows.+n_cols, n_cols+1:n_cols+n_rows, 1:n_cols)\n",
    "    tmp_diag = zeros(n_cols)\n",
    "    J_augmvals = vcat(-Qvals, Avals, δ*ones(n_rows), tmp_diag)\n",
    "    J_augm = sparse(J_augmrows, J_augmcols, J_augmvals)\n",
    "\n",
    "    x, λ, s_l, s_u, J_P = @views starting_points3(Q_sym, A, b, c, lvar, uvar, ilow, iupp,\n",
    "                                     QM.meta.irng, J_augm, 1.0e-7, n_rows, n_cols)\n",
    "\n",
    "#     x = init_x0_lsq(A, b, lvar, uvar)\n",
    "#     @assert all(x .> lvar) && all(x .< uvar)\n",
    "#     s_l, s_u = copy(Oc), copy(Oc)\n",
    "#     s_l[ilow] .= 1.\n",
    "#     s_u[iupp] .= 1.\n",
    "\n",
    "    Qx = Q_sym * x\n",
    "#     λ = sparse(A') \\ (c+Qx) # least square initialisation, s_0 = stilde_0\n",
    "    ATλ = A' * λ\n",
    "    Ax = A * x\n",
    "    rb = Ax - b\n",
    "    rc = -Qx + ATλ + s_l - s_u - c\n",
    "\n",
    "    x_minus_lvar = @views x[ilow] - lvar[ilow]\n",
    "    uvar_minus_x = @views uvar[iupp] - x[iupp]\n",
    "    μ = @views compute_μ(x_minus_lvar, uvar_minus_x,\n",
    "                         s_l[ilow], s_u[iupp],\n",
    "                         n_low, n_upp)\n",
    "\n",
    "    k = 0\n",
    "    Δ_aff = zeros(n_cols+n_rows+n_low+n_upp)\n",
    "    Δ_cc = zeros(n_cols+n_rows+n_low+n_upp)\n",
    "    Δ = zeros(n_cols+n_rows+n_low+n_upp)\n",
    "    Δ_x_λ = zeros(n_cols+n_rows)\n",
    "\n",
    "    # stopping criterion\n",
    "    xTQx_2 = x' * Qx / 2.\n",
    "    cTx = c' * x\n",
    "    pri_obj = xTQx_2 + cTx + c0\n",
    "    dual_obj = b' * λ - xTQx_2 + view(s_l,ilow)'*view(lvar,ilow) -\n",
    "                    view(s_u,iupp)'*view(uvar,iupp) +c0\n",
    "    pdd = abs(pri_obj - dual_obj ) / (1. + abs(pri_obj))\n",
    "    max_rc, max_rb = norm(rc, Inf), norm(rb, Inf)\n",
    "    optimal = pdd < ϵ_pdd && max_rb < ϵ_rb && max_rc < ϵ_rc\n",
    "\n",
    "    n_Δx = 0.\n",
    "    small_Δx, small_μ = false, μ < ϵ_μ\n",
    "    Δt = time() - start_time\n",
    "    tired = Δt > max_time\n",
    "\n",
    "    # display\n",
    "    if display == true\n",
    "        @info log_header([:k, :pri_obj, :pdd, :max_rb, :max_rc, :n_Δx, :μ],\n",
    "                         [Int, Float64, Float64, Float64, Float64, Float64, Float64, Float64],\n",
    "                        hdr_override=Dict(:k=>\"Iter\", :pri_obj=>\"primal\", :pdd=>\"pdd\",\n",
    "                                          :max_rb=>\"rb cond\", :max_rc=>\"rc cond\",\n",
    "                                          :n_Δx=>\"‖Δx‖\", :μ=>\"μ\"))\n",
    "        @info log_row([k, pri_obj, pdd, max_rb, max_rc, n_Δx, μ])\n",
    "    end\n",
    "\n",
    "    while k<max_iter && !optimal && !tired # && !small_μ && !small_μ\n",
    "\n",
    "            # Affine scaling direction\n",
    "        tmp_diag .= -ρ\n",
    "        tmp_diag[ilow] .-= @views s_l[ilow] ./ x_minus_lvar\n",
    "        tmp_diag[iupp] .-= @views s_u[iupp] ./ uvar_minus_x\n",
    "        J_augmvals[end-n_cols+1:end] = tmp_diag\n",
    "\n",
    "        J_augm = sparse(J_augmrows, J_augmcols, J_augmvals)\n",
    "\n",
    "        #J_fact = ldlt(Symmetric(J_augm, :U))\n",
    "        #J_fact = lu(Symmetric(J_augm), check=true)\n",
    "        J_fact = ldl(Symmetric(J_augm, :U), J_P)\n",
    "\n",
    "        Δ_aff = solve_augmented_system_aff!(J_fact, Δ_aff, Δ_x_λ, rc, rb, x_minus_lvar, uvar_minus_x,\n",
    "                                            s_l, s_u, ilow, iupp,  n_cols, n_rows, n_low)\n",
    "\n",
    "        α_aff_pri = @views compute_α_primal(x, Δ_aff[1:n_cols], lvar, uvar)\n",
    "        α_aff_dual_l = @views compute_α_dual(s_l[ilow], Δ_aff[n_rows+n_cols+1: n_rows+n_cols+n_low])\n",
    "        α_aff_dual_u = @views compute_α_dual(s_u[iupp], Δ_aff[n_rows+n_cols+n_low+1:end])\n",
    "\n",
    "        # alpha_aff_dual_final is the min of the 2 alpha_aff_dual\n",
    "        α_aff_dual_final = min(α_aff_dual_l, α_aff_dual_u)\n",
    "\n",
    "        μ_aff = @views compute_μ(a_plus_αb(x_minus_lvar, α_aff_pri, Δ_aff[1:n_cols][ilow], n_low),\n",
    "                                 a_plus_αb(uvar_minus_x, -α_aff_pri, Δ_aff[1:n_cols][iupp], n_upp),\n",
    "                                 a_plus_αb(s_l[ilow], α_aff_dual_final, Δ_aff[n_rows+n_cols+1: n_rows+n_cols+n_low], n_low),\n",
    "                                 a_plus_αb(s_u[iupp], α_aff_dual_final,  Δ_aff[n_rows+n_cols+n_low+1: end], n_upp),\n",
    "                                 n_low, n_upp)\n",
    "\n",
    "        σ = (μ_aff / μ)^3\n",
    "\n",
    "        # corrector and centering step\n",
    "\n",
    "        Δ_cc = solve_augmented_system_cc!(J_fact, Δ_cc, Δ_x_λ , Δ_aff, σ, μ,x_minus_lvar, uvar_minus_x,\n",
    "                                          s_l, s_u, ilow, iupp, n_cols, n_rows, n_low)\n",
    "\n",
    "\n",
    "        Δ = Δ_aff + Δ_cc # final direction\n",
    "\n",
    "        α_pri = @views compute_α_primal(x, Δ[1:n_cols], lvar, uvar)\n",
    "        α_dual_l = @views compute_α_dual(s_l[ilow], Δ[n_rows+n_cols+1: n_rows+n_cols+n_low])\n",
    "        α_dual_u = @views compute_α_dual(s_u[iupp], Δ[n_rows+n_cols+n_low+1: end])\n",
    "\n",
    "        α_dual_final = min(α_dual_l, α_dual_u)\n",
    "\n",
    "        α_pri, α_dual_final = check_frontier!(1.0e-3, x, x_minus_lvar, uvar_minus_x, s_l, s_u,\n",
    "                                              Δ, α_pri, α_dual_final, lvar, uvar, ilow, iupp,\n",
    "                                              n_low, n_upp, n_rows, n_cols)\n",
    "\n",
    "        # new parameters\n",
    "        x = @views a_plus_equal_αb(x, α_pri, Δ[1:n_cols], n_cols)\n",
    "        λ = @views a_plus_equal_αb(λ, α_dual_final,\n",
    "                                   Δ[n_cols+1: n_rows+n_cols], n_rows)\n",
    "        s_l[ilow] = @views a_plus_equal_αb(s_l[ilow], α_dual_final,\n",
    "                                           Δ[n_rows+n_cols+1: n_rows+n_cols+n_low], n_low)\n",
    "        s_u[iupp] = @views a_plus_equal_αb(s_u[iupp], α_dual_final,\n",
    "                                           Δ[n_rows+n_cols+n_low+1: end], n_upp)\n",
    "        n_Δx = @views α_pri * norm(Δ[1:n_cols])\n",
    "        x_minus_lvar = @views x[ilow] - lvar[ilow]\n",
    "        uvar_minus_x = @views uvar[iupp] - x[iupp]\n",
    "\n",
    "        μ = @views compute_μ(x_minus_lvar, uvar_minus_x,\n",
    "                             s_l[ilow], s_u[iupp],\n",
    "                             n_low, n_upp)\n",
    "\n",
    "        Qx = mul!(Qx, Q_sym, x)\n",
    "        xTQx_2 =  x' * Qx / 2.\n",
    "        ATλ = mul!(ATλ, A', λ)\n",
    "        Ax = mul!(Ax, A, x)\n",
    "        cTx = c' * x\n",
    "        pri_obj = xTQx_2 + cTx + c0\n",
    "        dual_obj = b' * λ - xTQx_2 + view(s_l,ilow)'*view(lvar,ilow) -\n",
    "                    view(s_u,iupp)'*view(uvar,iupp) +c0\n",
    "\n",
    "        rb = Ax - b\n",
    "        rc = -Qx + ATλ + s_l - s_u - c\n",
    "\n",
    "        # update stopping criterion values:\n",
    "\n",
    "        pdd = abs(pri_obj - dual_obj ) / (1. + abs(pri_obj))\n",
    "        max_rc, max_rb = norm(rc, Inf), norm(rb, Inf)\n",
    "        optimal = pdd < ϵ_pdd && max_rb < ϵ_rb && max_rc < ϵ_rc\n",
    "        small_Δx, small_μ = n_Δx < tol_Δx, μ < ϵ_μ\n",
    "        k += 1\n",
    "\n",
    "        if δ >= 100*sqrt(eps())\n",
    "            δ /= 10\n",
    "            J_augmvals[end-n_cols-n_rows+1:end-n_cols] .= δ\n",
    "        end\n",
    "        if ρ >= 1*sqrt(eps())\n",
    "            ρ /= 10\n",
    "        end\n",
    "\n",
    "        Δt = time() - start_time\n",
    "        tired = Δt > max_time\n",
    "\n",
    "        if display == true\n",
    "            @info log_row([k, pri_obj, pdd, max_rb, max_rc, n_Δx, μ])\n",
    "        end\n",
    "\n",
    "    end\n",
    "\n",
    "    if k>= max_iter\n",
    "        status = :max_iter\n",
    "    elseif tired\n",
    "        status = :max_time\n",
    "    elseif optimal\n",
    "        status = :acceptable\n",
    "    else\n",
    "        status = :unknown\n",
    "    end\n",
    "\n",
    "    if scaling\n",
    "        x = D2*x\n",
    "        Q_sym2 = Symmetric(Q*inv_D2^2)\n",
    "        Qx = mul!(Qx, Q_sym2, x)\n",
    "        xTQx_2 =  x' * Qx / 2.\n",
    "        A = rmul!(A, inv_D2)\n",
    "        A = lmul!(inv_D1, A)\n",
    "        b = mul!(b, inv_D1, b)\n",
    "        ATλ = mul!(ATλ, A', λ)\n",
    "        Ax = mul!(Ax, A, x)\n",
    "        cTx = c' *inv_D2* x\n",
    "        pri_obj = xTQx_2 + cTx + c0\n",
    "        lvar = D2 * lvar\n",
    "        uvar = D2 * uvar\n",
    "        dual_obj = b' * λ - xTQx_2 + view(s_l,ilow)'*view(lvar,ilow) -\n",
    "                    view(s_u,iupp)'*view(uvar,iupp) +c0\n",
    "    end\n",
    "    \n",
    "    elapsed_time = time() - start_time\n",
    "\n",
    "    stats = GenericExecutionStats(status, QM, solution = x,\n",
    "                                  objective = pri_obj ,\n",
    "                                  dual_feas = max_rc,\n",
    "                                  primal_feas = max_rb,\n",
    "                                  multipliers = λ,\n",
    "                                  multipliers_L = s_l,\n",
    "                                  multipliers_U = s_u,\n",
    "                                  iter = k, elapsed_time=elapsed_time)\n",
    "    return stats\n",
    "end"
   ]
  },
  {
   "cell_type": "markdown",
   "metadata": {},
   "source": [
    "### bibliothèque QuadraticModels\n",
    "\n",
    "optimize $c_0 + c'x + \\frac{1}{2} x'Hx ~~~~$ s.t. $~~L \\le Ax \\le U$ and $l \\le x \\le u$ \n",
    "\n",
    "Ici L = lcon, U = ucon, l = lvar, u = uvar"
   ]
  },
  {
   "cell_type": "code",
   "execution_count": 8,
   "metadata": {},
   "outputs": [],
   "source": [
    "# probleme1\n",
    "Q = [6 2 1\n",
    "    2 5 2\n",
    "    1 2 4]\n",
    "c = [-8; -3; -3]\n",
    "c0 = 0.\n",
    "A = [1 0 1\n",
    "    0 1 1]\n",
    "b = [0; 3]\n",
    "lvar = [0;0;0]\n",
    "uvar = [Inf; Inf; Inf]\n",
    "lcon = b\n",
    "ucon = b\n",
    "\n",
    "x01 = [1.; 2.; 3.];"
   ]
  },
  {
   "cell_type": "code",
   "execution_count": 9,
   "metadata": {},
   "outputs": [
    {
     "data": {
      "text/plain": [
       "QuadraticModel"
      ]
     },
     "execution_count": 9,
     "metadata": {},
     "output_type": "execute_result"
    }
   ],
   "source": [
    "QM = QuadraticModel(c, Q, A=A, lcon=lcon, ucon=ucon, lvar=lvar, uvar=uvar, x0=x01, c0=c0, name=\"QM1\")\n",
    "SM = SlackModel(QM)\n",
    "typeof(SM)"
   ]
  },
  {
   "cell_type": "code",
   "execution_count": 10,
   "metadata": {},
   "outputs": [
    {
     "ename": "MethodError",
     "evalue": "MethodError: no method matching mehrotraPCQuadBounds(::QuadraticModel, ::Int64)\nClosest candidates are:\n  mehrotraPCQuadBounds(::Any; max_iter, ϵ_pdd, ϵ_rb, ϵ_rc, tol_Δx, ϵ_μ, max_time, scaling, display) at In[7]:5",
     "output_type": "error",
     "traceback": [
      "MethodError: no method matching mehrotraPCQuadBounds(::QuadraticModel, ::Int64)\nClosest candidates are:\n  mehrotraPCQuadBounds(::Any; max_iter, ϵ_pdd, ϵ_rb, ϵ_rc, tol_Δx, ϵ_μ, max_time, scaling, display) at In[7]:5",
      "",
      "Stacktrace:",
      " [1] top-level scope at In[10]:1"
     ]
    }
   ],
   "source": [
    "stats_mpc1 =  mehrotraPCQuadBounds(SM, 20)\n",
    "println(stats_mpc1)"
   ]
  },
  {
   "cell_type": "code",
   "execution_count": 11,
   "metadata": {},
   "outputs": [
    {
     "ename": "MethodError",
     "evalue": "MethodError: no method matching mehrotraPCQuadBounds(::QuadraticModel, ::Int64)\nClosest candidates are:\n  mehrotraPCQuadBounds(::Any; max_iter, ϵ_pdd, ϵ_rb, ϵ_rc, tol_Δx, ϵ_μ, max_time, scaling, display) at In[7]:5",
     "output_type": "error",
     "traceback": [
      "MethodError: no method matching mehrotraPCQuadBounds(::QuadraticModel, ::Int64)\nClosest candidates are:\n  mehrotraPCQuadBounds(::Any; max_iter, ϵ_pdd, ϵ_rb, ϵ_rc, tol_Δx, ϵ_μ, max_time, scaling, display) at In[7]:5",
      "",
      "Stacktrace:",
      " [1] top-level scope at In[11]:5"
     ]
    }
   ],
   "source": [
    "#pb verif\n",
    "\n",
    "QM_verif = QuadraticModel(c*(-1), Q, A=A*(-1), lcon=lcon, ucon=ucon, lvar=-uvar, uvar=lvar, x0=x01, c0=c0, name=\"QM1\")\n",
    "SM_verif = SlackModel(QM_verif)\n",
    "stats_mpc_verif =  mehrotraPCQuadBounds(SM_verif, 20);\n",
    "println(stats_mpc_verif)"
   ]
  },
  {
   "cell_type": "code",
   "execution_count": 12,
   "metadata": {},
   "outputs": [
    {
     "ename": "MethodError",
     "evalue": "MethodError: no method matching mehrotraPCQuadBounds(::QuadraticModel, ::Int64)\nClosest candidates are:\n  mehrotraPCQuadBounds(::Any; max_iter, ϵ_pdd, ϵ_rb, ϵ_rc, tol_Δx, ϵ_μ, max_time, scaling, display) at In[7]:5",
     "output_type": "error",
     "traceback": [
      "MethodError: no method matching mehrotraPCQuadBounds(::QuadraticModel, ::Int64)\nClosest candidates are:\n  mehrotraPCQuadBounds(::Any; max_iter, ϵ_pdd, ϵ_rb, ϵ_rc, tol_Δx, ϵ_μ, max_time, scaling, display) at In[7]:5",
      "",
      "Stacktrace:",
      " [1] top-level scope at In[12]:8"
     ]
    }
   ],
   "source": [
    "### pb verif 2\n",
    "c2 = [1; 0; 0]\n",
    "A2 = Matrix([1, 1, 1]')\n",
    "b2 = [1];\n",
    "QM_verif2 = QuadraticModel(c2, zeros(3,3), A=A2, lcon=b2, ucon=b2, lvar=[0.;0;0], \n",
    "                uvar=[Inf; Inf; Inf], x0=x01, c0=c0, name=\"QMverfi2\")\n",
    "SM_verif2 = SlackModel(QM_verif2)\n",
    "stats_mpc_verif2 =  mehrotraPCQuadBounds(SM_verif2, 20);\n",
    "println(stats_mpc_verif2)"
   ]
  },
  {
   "cell_type": "markdown",
   "metadata": {},
   "source": [
    "# Lecture des donnees .SIF"
   ]
  },
  {
   "cell_type": "code",
   "execution_count": 13,
   "metadata": {},
   "outputs": [
    {
     "data": {
      "text/plain": [
       "displayQuadraticModel (generic function with 1 method)"
      ]
     },
     "execution_count": 13,
     "metadata": {},
     "output_type": "execute_result"
    }
   ],
   "source": [
    "\n",
    "function createQuadraticModel(qpdata)\n",
    "    # probleme du point initial\n",
    "    x0 = init_x0(qpdata.lvar, qpdata.uvar)\n",
    "    return QuadraticModel(qpdata.c, qpdata.qrows, qpdata.qcols, qpdata.qvals,\n",
    "            Arows=qpdata.arows, Acols=qpdata.acols, Avals=qpdata.avals, \n",
    "            lcon=qpdata.lcon, ucon=qpdata.ucon, lvar=qpdata.lvar, uvar=qpdata.uvar,\n",
    "            c0=qpdata.c0, x0=x0)\n",
    "end\n",
    "\n",
    "function displayQuadraticModel(QM)\n",
    "    #println(\"A = \", Matrix(jac(QM, QM.meta.x0)))\n",
    "    #println(\"Q = \", Matrix(hess(QM, QM.meta.x0)))\n",
    "    println(\"lvar = \", QM.meta.lvar)\n",
    "    println(\"uvar = \", QM.meta.uvar)\n",
    "    println(\"x0 = \", QM.meta.x0)\n",
    "    #println(\"lcon = \", QM.meta.lcon)\n",
    "    #println(\"ucon = \", QM.meta.ucon)\n",
    "end"
   ]
  },
  {
   "cell_type": "code",
   "execution_count": 14,
   "metadata": {},
   "outputs": [
    {
     "data": {
      "text/plain": [
       "\"C:\\\\Users\\\\Geoffroy Leconte\\\\Documents\\\\cours\\\\TFE\\\\code\\\\problemes_netlib\\\\AFIRO.SIF\""
      ]
     },
     "execution_count": 14,
     "metadata": {},
     "output_type": "execute_result"
    }
   ],
   "source": [
    "path_pb = \"C:\\\\Users\\\\Geoffroy Leconte\\\\Documents\\\\cours\\\\TFE\\\\code\\\\problemes_netlib\"\n",
    "afiro = string(path_pb, \"\\\\AFIRO.SIF\")"
   ]
  },
  {
   "cell_type": "code",
   "execution_count": 15,
   "metadata": {},
   "outputs": [
    {
     "name": "stderr",
     "output_type": "stream",
     "text": [
      "┌ Info: Using 'AFIRO' as NAME (l. 5)\n",
      "└ @ QPSReader C:\\Users\\Geoffroy Leconte\\.julia\\packages\\QPSReader\\usDQr\\src\\readqps.jl:751\n",
      "┌ Info: Using 'COST' as objective (l. 47)\n",
      "└ @ QPSReader C:\\Users\\Geoffroy Leconte\\.julia\\packages\\QPSReader\\usDQr\\src\\readqps.jl:350\n",
      "┌ Info: Using 'B' as RHS (l. 96)\n",
      "└ @ QPSReader C:\\Users\\Geoffroy Leconte\\.julia\\packages\\QPSReader\\usDQr\\src\\readqps.jl:470\n"
     ]
    },
    {
     "data": {
      "text/plain": [
       "  Problem name: Generic-slack\n",
       "   All variables: ████████████████████ 51     All constraints: ████████████████████ 27    \n",
       "            free: ⋅⋅⋅⋅⋅⋅⋅⋅⋅⋅⋅⋅⋅⋅⋅⋅⋅⋅⋅⋅ 0                 free: ⋅⋅⋅⋅⋅⋅⋅⋅⋅⋅⋅⋅⋅⋅⋅⋅⋅⋅⋅⋅ 0     \n",
       "           lower: █████████████⋅⋅⋅⋅⋅⋅⋅ 32               lower: ⋅⋅⋅⋅⋅⋅⋅⋅⋅⋅⋅⋅⋅⋅⋅⋅⋅⋅⋅⋅ 0     \n",
       "           upper: ████████⋅⋅⋅⋅⋅⋅⋅⋅⋅⋅⋅⋅ 19               upper: ⋅⋅⋅⋅⋅⋅⋅⋅⋅⋅⋅⋅⋅⋅⋅⋅⋅⋅⋅⋅ 0     \n",
       "         low/upp: ⋅⋅⋅⋅⋅⋅⋅⋅⋅⋅⋅⋅⋅⋅⋅⋅⋅⋅⋅⋅ 0              low/upp: ⋅⋅⋅⋅⋅⋅⋅⋅⋅⋅⋅⋅⋅⋅⋅⋅⋅⋅⋅⋅ 0     \n",
       "           fixed: ⋅⋅⋅⋅⋅⋅⋅⋅⋅⋅⋅⋅⋅⋅⋅⋅⋅⋅⋅⋅ 0                fixed: ████████████████████ 27    \n",
       "          infeas: ⋅⋅⋅⋅⋅⋅⋅⋅⋅⋅⋅⋅⋅⋅⋅⋅⋅⋅⋅⋅ 0               infeas: ⋅⋅⋅⋅⋅⋅⋅⋅⋅⋅⋅⋅⋅⋅⋅⋅⋅⋅⋅⋅ 0     \n",
       "            nnzh: (100.00% sparsity)   0               linear: ████████████████████ 27    \n",
       "                                                    nonlinear: ⋅⋅⋅⋅⋅⋅⋅⋅⋅⋅⋅⋅⋅⋅⋅⋅⋅⋅⋅⋅ 0     \n",
       "                                                         nnzj: ( 92.59% sparsity)   102   \n",
       "\n"
      ]
     },
     "execution_count": 15,
     "metadata": {},
     "output_type": "execute_result"
    }
   ],
   "source": [
    "qpdata2 = readqps(afiro)  # obj   -4.6475314286E+02\n",
    "qpdata2.contypes\n",
    "QM2 = createQuadraticModel(qpdata2)\n",
    "SM2 = SlackModel(QM2);\n",
    "SM2.meta"
   ]
  },
  {
   "cell_type": "code",
   "execution_count": 54,
   "metadata": {},
   "outputs": [
    {
     "name": "stdout",
     "output_type": "stream",
     "text": [
      "SM2 = SlackModel - Model with slack variables\n",
      "  Problem name: Generic-slack\n",
      "   All variables: ████████████████████ 51     All constraints: ████████████████████ 27    \n",
      "            free: ⋅⋅⋅⋅⋅⋅⋅⋅⋅⋅⋅⋅⋅⋅⋅⋅⋅⋅⋅⋅ 0                 free: ⋅⋅⋅⋅⋅⋅⋅⋅⋅⋅⋅⋅⋅⋅⋅⋅⋅⋅⋅⋅ 0     \n",
      "           lower: █████████████⋅⋅⋅⋅⋅⋅⋅ 32               lower: ⋅⋅⋅⋅⋅⋅⋅⋅⋅⋅⋅⋅⋅⋅⋅⋅⋅⋅⋅⋅ 0     \n",
      "           upper: ████████⋅⋅⋅⋅⋅⋅⋅⋅⋅⋅⋅⋅ 19               upper: ⋅⋅⋅⋅⋅⋅⋅⋅⋅⋅⋅⋅⋅⋅⋅⋅⋅⋅⋅⋅ 0     \n",
      "         low/upp: ⋅⋅⋅⋅⋅⋅⋅⋅⋅⋅⋅⋅⋅⋅⋅⋅⋅⋅⋅⋅ 0              low/upp: ⋅⋅⋅⋅⋅⋅⋅⋅⋅⋅⋅⋅⋅⋅⋅⋅⋅⋅⋅⋅ 0     \n",
      "           fixed: ⋅⋅⋅⋅⋅⋅⋅⋅⋅⋅⋅⋅⋅⋅⋅⋅⋅⋅⋅⋅ 0                fixed: ████████████████████ 27    \n",
      "          infeas: ⋅⋅⋅⋅⋅⋅⋅⋅⋅⋅⋅⋅⋅⋅⋅⋅⋅⋅⋅⋅ 0               infeas: ⋅⋅⋅⋅⋅⋅⋅⋅⋅⋅⋅⋅⋅⋅⋅⋅⋅⋅⋅⋅ 0     \n",
      "            nnzh: (100.00% sparsity)   0               linear: ████████████████████ 27    \n",
      "                                                    nonlinear: ⋅⋅⋅⋅⋅⋅⋅⋅⋅⋅⋅⋅⋅⋅⋅⋅⋅⋅⋅⋅ 0     \n",
      "                                                         nnzj: ( 92.59% sparsity)   102   \n",
      "\n",
      "  Counters:\n",
      "             obj: ⋅⋅⋅⋅⋅⋅⋅⋅⋅⋅⋅⋅⋅⋅⋅⋅⋅⋅⋅⋅ 0                 grad: ⋅⋅⋅⋅⋅⋅⋅⋅⋅⋅⋅⋅⋅⋅⋅⋅⋅⋅⋅⋅ 0                 cons: ⋅⋅⋅⋅⋅⋅⋅⋅⋅⋅⋅⋅⋅⋅⋅⋅⋅⋅⋅⋅ 0     \n",
      "            jcon: ⋅⋅⋅⋅⋅⋅⋅⋅⋅⋅⋅⋅⋅⋅⋅⋅⋅⋅⋅⋅ 0                jgrad: ⋅⋅⋅⋅⋅⋅⋅⋅⋅⋅⋅⋅⋅⋅⋅⋅⋅⋅⋅⋅ 0                  jac: ⋅⋅⋅⋅⋅⋅⋅⋅⋅⋅⋅⋅⋅⋅⋅⋅⋅⋅⋅⋅ 0     \n",
      "           jprod: ⋅⋅⋅⋅⋅⋅⋅⋅⋅⋅⋅⋅⋅⋅⋅⋅⋅⋅⋅⋅ 0               jtprod: ⋅⋅⋅⋅⋅⋅⋅⋅⋅⋅⋅⋅⋅⋅⋅⋅⋅⋅⋅⋅ 0                 hess: ⋅⋅⋅⋅⋅⋅⋅⋅⋅⋅⋅⋅⋅⋅⋅⋅⋅⋅⋅⋅ 0     \n",
      "           hprod: ⋅⋅⋅⋅⋅⋅⋅⋅⋅⋅⋅⋅⋅⋅⋅⋅⋅⋅⋅⋅ 0               jhprod: ⋅⋅⋅⋅⋅⋅⋅⋅⋅⋅⋅⋅⋅⋅⋅⋅⋅⋅⋅⋅ 0     \n",
      "\n"
     ]
    },
    {
     "data": {
      "text/plain": [
       "SlackModel - Model with slack variables\n",
       "  Problem name: Generic-slack\n",
       "   All variables: ████████████████████ 51     All constraints: ████████████████████ 27    \n",
       "            free: ⋅⋅⋅⋅⋅⋅⋅⋅⋅⋅⋅⋅⋅⋅⋅⋅⋅⋅⋅⋅ 0                 free: ⋅⋅⋅⋅⋅⋅⋅⋅⋅⋅⋅⋅⋅⋅⋅⋅⋅⋅⋅⋅ 0     \n",
       "           lower: █████████████⋅⋅⋅⋅⋅⋅⋅ 32               lower: ⋅⋅⋅⋅⋅⋅⋅⋅⋅⋅⋅⋅⋅⋅⋅⋅⋅⋅⋅⋅ 0     \n",
       "           upper: ████████⋅⋅⋅⋅⋅⋅⋅⋅⋅⋅⋅⋅ 19               upper: ⋅⋅⋅⋅⋅⋅⋅⋅⋅⋅⋅⋅⋅⋅⋅⋅⋅⋅⋅⋅ 0     \n",
       "         low/upp: ⋅⋅⋅⋅⋅⋅⋅⋅⋅⋅⋅⋅⋅⋅⋅⋅⋅⋅⋅⋅ 0              low/upp: ⋅⋅⋅⋅⋅⋅⋅⋅⋅⋅⋅⋅⋅⋅⋅⋅⋅⋅⋅⋅ 0     \n",
       "           fixed: ⋅⋅⋅⋅⋅⋅⋅⋅⋅⋅⋅⋅⋅⋅⋅⋅⋅⋅⋅⋅ 0                fixed: ████████████████████ 27    \n",
       "          infeas: ⋅⋅⋅⋅⋅⋅⋅⋅⋅⋅⋅⋅⋅⋅⋅⋅⋅⋅⋅⋅ 0               infeas: ⋅⋅⋅⋅⋅⋅⋅⋅⋅⋅⋅⋅⋅⋅⋅⋅⋅⋅⋅⋅ 0     \n",
       "            nnzh: (100.00% sparsity)   0               linear: ████████████████████ 27    \n",
       "                                                    nonlinear: ⋅⋅⋅⋅⋅⋅⋅⋅⋅⋅⋅⋅⋅⋅⋅⋅⋅⋅⋅⋅ 0     \n",
       "                                                         nnzj: ( 92.59% sparsity)   102   \n",
       "\n",
       "  Counters:\n",
       "             obj: ⋅⋅⋅⋅⋅⋅⋅⋅⋅⋅⋅⋅⋅⋅⋅⋅⋅⋅⋅⋅ 0                 grad: ⋅⋅⋅⋅⋅⋅⋅⋅⋅⋅⋅⋅⋅⋅⋅⋅⋅⋅⋅⋅ 0                 cons: ⋅⋅⋅⋅⋅⋅⋅⋅⋅⋅⋅⋅⋅⋅⋅⋅⋅⋅⋅⋅ 0     \n",
       "            jcon: ⋅⋅⋅⋅⋅⋅⋅⋅⋅⋅⋅⋅⋅⋅⋅⋅⋅⋅⋅⋅ 0                jgrad: ⋅⋅⋅⋅⋅⋅⋅⋅⋅⋅⋅⋅⋅⋅⋅⋅⋅⋅⋅⋅ 0                  jac: ⋅⋅⋅⋅⋅⋅⋅⋅⋅⋅⋅⋅⋅⋅⋅⋅⋅⋅⋅⋅ 0     \n",
       "           jprod: ⋅⋅⋅⋅⋅⋅⋅⋅⋅⋅⋅⋅⋅⋅⋅⋅⋅⋅⋅⋅ 0               jtprod: ⋅⋅⋅⋅⋅⋅⋅⋅⋅⋅⋅⋅⋅⋅⋅⋅⋅⋅⋅⋅ 0                 hess: ⋅⋅⋅⋅⋅⋅⋅⋅⋅⋅⋅⋅⋅⋅⋅⋅⋅⋅⋅⋅ 0     \n",
       "           hprod: ⋅⋅⋅⋅⋅⋅⋅⋅⋅⋅⋅⋅⋅⋅⋅⋅⋅⋅⋅⋅ 0               jhprod: ⋅⋅⋅⋅⋅⋅⋅⋅⋅⋅⋅⋅⋅⋅⋅⋅⋅⋅⋅⋅ 0     \n"
      ]
     },
     "execution_count": 54,
     "metadata": {},
     "output_type": "execute_result"
    }
   ],
   "source": [
    "@show SM2"
   ]
  },
  {
   "cell_type": "code",
   "execution_count": 16,
   "metadata": {},
   "outputs": [
    {
     "ename": "MethodError",
     "evalue": "MethodError: no method matching mehrotraPCQuadBounds(::SlackModel, ::Int64)\nClosest candidates are:\n  mehrotraPCQuadBounds(::Any; max_iter, ϵ_pdd, ϵ_rb, ϵ_rc, tol_Δx, ϵ_μ, max_time, scaling, display) at In[7]:5",
     "output_type": "error",
     "traceback": [
      "MethodError: no method matching mehrotraPCQuadBounds(::SlackModel, ::Int64)\nClosest candidates are:\n  mehrotraPCQuadBounds(::Any; max_iter, ϵ_pdd, ϵ_rb, ϵ_rc, tol_Δx, ϵ_μ, max_time, scaling, display) at In[7]:5",
      "",
      "Stacktrace:",
      " [1] top-level scope at In[16]:1"
     ]
    }
   ],
   "source": [
    "\n",
    "stats_mpc2 =  mehrotraPCQuadBounds(SM2, 100)\n",
    "println(stats_mpc2)"
   ]
  },
  {
   "cell_type": "code",
   "execution_count": 17,
   "metadata": {},
   "outputs": [
    {
     "ename": "MethodError",
     "evalue": "MethodError: no method matching mehrotraPCQuadBounds(::SlackModel, ::Int64; display=false)\nClosest candidates are:\n  mehrotraPCQuadBounds(::Any; max_iter, ϵ_pdd, ϵ_rb, ϵ_rc, tol_Δx, ϵ_μ, max_time, scaling, display) at In[7]:5",
     "output_type": "error",
     "traceback": [
      "MethodError: no method matching mehrotraPCQuadBounds(::SlackModel, ::Int64; display=false)\nClosest candidates are:\n  mehrotraPCQuadBounds(::Any; max_iter, ϵ_pdd, ϵ_rb, ϵ_rc, tol_Δx, ϵ_μ, max_time, scaling, display) at In[7]:5",
      "",
      "Stacktrace:",
      " [1] ##core#265() at C:\\Users\\Geoffroy Leconte\\.julia\\packages\\BenchmarkTools\\eCEpo\\src\\execution.jl:371",
      " [2] ##sample#266(::BenchmarkTools.Parameters) at C:\\Users\\Geoffroy Leconte\\.julia\\packages\\BenchmarkTools\\eCEpo\\src\\execution.jl:377",
      " [3] _run(::BenchmarkTools.Benchmark{Symbol(\"##benchmark#264\")}, ::BenchmarkTools.Parameters; verbose::Bool, pad::String, kwargs::Base.Iterators.Pairs{Symbol,Integer,NTuple{4,Symbol},NamedTuple{(:samples, :evals, :gctrial, :gcsample),Tuple{Int64,Int64,Bool,Bool}}}) at C:\\Users\\Geoffroy Leconte\\.julia\\packages\\BenchmarkTools\\eCEpo\\src\\execution.jl:405",
      " [4] (::Base.var\"#inner#2\"{Base.Iterators.Pairs{Symbol,Integer,NTuple{5,Symbol},NamedTuple{(:verbose, :samples, :evals, :gctrial, :gcsample),Tuple{Bool,Int64,Int64,Bool,Bool}}},typeof(BenchmarkTools._run),Tuple{BenchmarkTools.Benchmark{Symbol(\"##benchmark#264\")},BenchmarkTools.Parameters}})() at .\\essentials.jl:715",
      " [5] #invokelatest#1 at .\\essentials.jl:716 [inlined]",
      " [6] #run_result#37 at C:\\Users\\Geoffroy Leconte\\.julia\\packages\\BenchmarkTools\\eCEpo\\src\\execution.jl:32 [inlined]",
      " [7] run(::BenchmarkTools.Benchmark{Symbol(\"##benchmark#264\")}, ::BenchmarkTools.Parameters; progressid::Nothing, nleaves::Float64, ndone::Float64, kwargs::Base.Iterators.Pairs{Symbol,Integer,NTuple{5,Symbol},NamedTuple{(:verbose, :samples, :evals, :gctrial, :gcsample),Tuple{Bool,Int64,Int64,Bool,Bool}}}) at C:\\Users\\Geoffroy Leconte\\.julia\\packages\\BenchmarkTools\\eCEpo\\src\\execution.jl:94",
      " [8] #warmup#45 at C:\\Users\\Geoffroy Leconte\\.julia\\packages\\BenchmarkTools\\eCEpo\\src\\execution.jl:141 [inlined]",
      " [9] warmup(::BenchmarkTools.Benchmark{Symbol(\"##benchmark#264\")}) at C:\\Users\\Geoffroy Leconte\\.julia\\packages\\BenchmarkTools\\eCEpo\\src\\execution.jl:141",
      " [10] top-level scope at C:\\Users\\Geoffroy Leconte\\.julia\\packages\\BenchmarkTools\\eCEpo\\src\\execution.jl:287",
      " [11] top-level scope at In[17]:1"
     ]
    }
   ],
   "source": [
    "@benchmark mehrotraPCQuadBounds(SM2, 100, display=false)"
   ]
  },
  {
   "cell_type": "code",
   "execution_count": 57,
   "metadata": {},
   "outputs": [
    {
     "name": "stderr",
     "output_type": "stream",
     "text": [
      "┌ Info: Using 'KB2' as NAME (l. 5)\n",
      "└ @ QPSReader C:\\Users\\Geoffroy Leconte\\.julia\\packages\\QPSReader\\usDQr\\src\\readqps.jl:751\n",
      "┌ Info: Using 'FAT7..J.' as objective (l. 20)\n",
      "└ @ QPSReader C:\\Users\\Geoffroy Leconte\\.julia\\packages\\QPSReader\\usDQr\\src\\readqps.jl:350\n",
      "┌ Info: Using '77BOUND' as BOUNDS (l. 227)\n",
      "└ @ QPSReader C:\\Users\\Geoffroy Leconte\\.julia\\packages\\QPSReader\\usDQr\\src\\readqps.jl:622\n"
     ]
    },
    {
     "data": {
      "text/plain": [
       "  Problem name: Generic-slack\n",
       "   All variables: ████████████████████ 68     All constraints: ████████████████████ 43    \n",
       "            free: ⋅⋅⋅⋅⋅⋅⋅⋅⋅⋅⋅⋅⋅⋅⋅⋅⋅⋅⋅⋅ 0                 free: ⋅⋅⋅⋅⋅⋅⋅⋅⋅⋅⋅⋅⋅⋅⋅⋅⋅⋅⋅⋅ 0     \n",
       "           lower: ██████████████⋅⋅⋅⋅⋅⋅ 47               lower: ⋅⋅⋅⋅⋅⋅⋅⋅⋅⋅⋅⋅⋅⋅⋅⋅⋅⋅⋅⋅ 0     \n",
       "           upper: ████⋅⋅⋅⋅⋅⋅⋅⋅⋅⋅⋅⋅⋅⋅⋅⋅ 12               upper: ⋅⋅⋅⋅⋅⋅⋅⋅⋅⋅⋅⋅⋅⋅⋅⋅⋅⋅⋅⋅ 0     \n",
       "         low/upp: ███⋅⋅⋅⋅⋅⋅⋅⋅⋅⋅⋅⋅⋅⋅⋅⋅⋅ 9              low/upp: ⋅⋅⋅⋅⋅⋅⋅⋅⋅⋅⋅⋅⋅⋅⋅⋅⋅⋅⋅⋅ 0     \n",
       "           fixed: ⋅⋅⋅⋅⋅⋅⋅⋅⋅⋅⋅⋅⋅⋅⋅⋅⋅⋅⋅⋅ 0                fixed: ████████████████████ 43    \n",
       "          infeas: ⋅⋅⋅⋅⋅⋅⋅⋅⋅⋅⋅⋅⋅⋅⋅⋅⋅⋅⋅⋅ 0               infeas: ⋅⋅⋅⋅⋅⋅⋅⋅⋅⋅⋅⋅⋅⋅⋅⋅⋅⋅⋅⋅ 0     \n",
       "            nnzh: (100.00% sparsity)   0               linear: ████████████████████ 43    \n",
       "                                                    nonlinear: ⋅⋅⋅⋅⋅⋅⋅⋅⋅⋅⋅⋅⋅⋅⋅⋅⋅⋅⋅⋅ 0     \n",
       "                                                         nnzj: ( 89.30% sparsity)   313   \n",
       "\n"
      ]
     },
     "execution_count": 57,
     "metadata": {},
     "output_type": "execute_result"
    }
   ],
   "source": [
    "# problem 3   kb2    obj  -1.7499001299E+03\n",
    "kb2 = string(path_pb, \"\\\\KB2.SIF\")\n",
    "qpdata3 = readqps(kb2)\n",
    "QM3 = createQuadraticModel(qpdata3)\n",
    "SM3 = SlackModel(QM3)\n",
    "SM3.meta"
   ]
  },
  {
   "cell_type": "code",
   "execution_count": 58,
   "metadata": {},
   "outputs": [
    {
     "name": "stdout",
     "output_type": "stream",
     "text": [
      "Iter    primal      pdd      rb cond    rc cond    step x       μ\n",
      "   0   1.17e+01   3.4e+01    6.9e+02    6.1e+00    0.0e+00   6.2e+00\n",
      "   1  -2.54e+00   5.7e+00    2.6e+02    2.8e+00    4.6e+00   1.2e+00\n",
      "   2  -3.99e+00   1.5e-01    9.1e+01    4.2e-01    3.9e+00   3.4e-01\n",
      "   3  -7.45e+00   5.7e-01    3.7e+01    3.4e-01    2.4e+01   2.0e-01\n",
      "   4  -1.65e+01   8.2e-01    1.1e+01    2.6e-01    5.6e+01   2.0e-01\n",
      "   5  -1.02e+02   9.7e-01    7.7e-03    1.9e-01    4.3e+02   3.8e-01\n",
      "   6  -2.25e+02   9.7e-01    7.3e-03    1.9e-01    6.2e+02   7.7e-01\n",
      "   7  -3.99e+02   9.7e-01    7.1e-03    1.7e-01    8.7e+02   7.0e-01\n",
      "   8  -6.34e+02   9.6e-01    7.1e-03    1.7e-01    1.2e+03   1.0e+00\n",
      "   9  -1.26e+03   9.8e-01    6.9e-03    1.6e-01    3.2e+03   1.7e+00\n",
      "  10  -1.11e+03   9.2e-01    6.8e-03    1.6e-01    7.8e+02   2.2e+00\n",
      "  11  -1.05e+03   8.7e-01    6.8e-03    1.6e-01    3.0e+02   2.7e+00\n",
      "  12  -1.07e+03   8.5e-01    6.6e-03    1.6e-01    3.3e+02   3.1e+00\n",
      "  13  -1.15e+03   8.0e-01    6.5e-03    1.5e-01    5.5e+02   3.8e+00\n",
      "  14  -1.26e+03   7.6e-01    6.4e-03    1.5e-01    6.5e+02   4.6e+00\n",
      "  15  -1.06e+03   7.0e-01    6.0e-03    1.5e-01    1.4e+03   4.4e+00\n",
      "  16  -1.16e+03   4.3e-01    5.8e-03    1.3e-01    6.6e+02   6.6e+00\n",
      "  17  -1.24e+03   4.2e-01    5.5e-03    1.2e-01    5.6e+02   6.9e+00\n",
      "  18  -1.59e+03   3.8e-01    1.6e-03    1.0e-01    2.2e+03   6.8e+00\n",
      "  19  -1.64e+03   4.2e-02    8.5e-04    3.3e-02    5.9e+02   4.2e+00\n",
      "  20  -1.70e+03   3.4e-02    3.7e-04    2.2e-02    7.9e+02   2.8e+00\n",
      "  21  -1.74e+03   2.7e-03    1.8e-05    2.2e-03    2.8e+02   3.1e-01\n",
      "  22  -1.75e+03   6.1e-03    7.5e-06    1.1e-05    1.7e+02   1.4e-01\n",
      "  23  -1.75e+03   2.4e-03    4.7e-06    2.9e-06    1.6e+02   5.5e-02\n",
      "  24  -1.75e+03   6.6e-04    5.8e-07    8.9e-07    1.7e+02   1.5e-02\n",
      "  25  -1.75e+03   2.4e-04    6.1e-08    3.3e-07    4.1e+01   5.6e-03\n",
      "  26  -1.75e+03   1.2e-05    1.3e-09    1.9e-07    2.6e+01   2.7e-04\n",
      "  27  -1.75e+03   1.4e-08    1.3e-10    3.2e-08    4.1e+00   4.7e-07\n",
      "  28  -1.75e+03   6.6e-12    1.3e-12    6.4e-11    4.1e-03   4.7e-10\n",
      "\n",
      " stopping criterion = [\"optimal\"]\n",
      "Generic Execution stats\n",
      "  status: solved to within acceptable tolerances\n",
      "  objective value: -1749.9001299022536\n",
      "  primal feasibility: 1.3073986337985843e-12\n",
      "  dual feasibility: 6.409736195350421e-11\n",
      "  solution: [0.8118235504257654  5.074266838525555e-10  1.3347799902490107e-9  7.568309181228907e-10 ⋯ -783.4591282869691]\n",
      "  multipliers: [17.269208188675936  17.21410176495579  16.942045649527135  16.659838491716535 ⋯ -2.085693070485636e-11]\n",
      "  multipliers_L: [2.1637122656440836e-11  0.06381181709250733  0.04896169760541455  0.10208327077478009 ⋯ 0.0]\n",
      "  multipliers_U: [0.0  6.911280117080638e-11  0.0  0.0 ⋯ 6.460537735659788e-13]\n",
      "  iterations: 28\n",
      "  elapsed time: 0.3489999771118164\n"
     ]
    }
   ],
   "source": [
    "stats_mpc3 =  mehrotraPCQuadBounds(SM3, 100);\n",
    "println(stats_mpc3)"
   ]
  },
  {
   "cell_type": "code",
   "execution_count": 59,
   "metadata": {},
   "outputs": [
    {
     "data": {
      "text/plain": [
       "BenchmarkTools.Trial: \n",
       "  memory estimate:  7.11 MiB\n",
       "  allocs estimate:  21347\n",
       "  --------------\n",
       "  minimum time:     5.317 ms (0.00% GC)\n",
       "  median time:      5.538 ms (0.00% GC)\n",
       "  mean time:        5.990 ms (4.17% GC)\n",
       "  maximum time:     11.300 ms (16.68% GC)\n",
       "  --------------\n",
       "  samples:          834\n",
       "  evals/sample:     1"
      ]
     },
     "execution_count": 59,
     "metadata": {},
     "output_type": "execute_result"
    }
   ],
   "source": [
    "@benchmark mehrotraPCQuadBounds(SM3, 100, display = false)"
   ]
  },
  {
   "cell_type": "code",
   "execution_count": 181,
   "metadata": {},
   "outputs": [
    {
     "name": "stderr",
     "output_type": "stream",
     "text": [
      "┌ Info: Using 'SC50A' as NAME (l. 5)\n",
      "└ @ QPSReader C:\\Users\\Geoffroy Leconte\\.julia\\packages\\QPSReader\\usDQr\\src\\readqps.jl:751\n",
      "┌ Info: Using 'MAXIM' as objective (l. 20)\n",
      "└ @ QPSReader C:\\Users\\Geoffroy Leconte\\.julia\\packages\\QPSReader\\usDQr\\src\\readqps.jl:350\n",
      "┌ Info: Using 'CONST' as RHS (l. 153)\n",
      "└ @ QPSReader C:\\Users\\Geoffroy Leconte\\.julia\\packages\\QPSReader\\usDQr\\src\\readqps.jl:470\n"
     ]
    }
   ],
   "source": [
    "# problem 4 SC50A  obj  -6.4575077059E+01\n",
    "SC50A = string(path_pb, \"\\\\SC50A.SIF\")\n",
    "qpdata4 = readqps(SC50A)\n",
    "QM4 = createQuadraticModel(qpdata4)\n",
    "SM4 = SlackModel(QM4);"
   ]
  },
  {
   "cell_type": "code",
   "execution_count": 182,
   "metadata": {},
   "outputs": [
    {
     "name": "stdout",
     "output_type": "stream",
     "text": [
      "Iter | primal_objective | primal-dual difference | rb condition | rc condition |   step x   |     mu\n",
      "--------------------------------------------------------------------------------------------------------\n",
      "   0 |    -1.0000e+00   |         5.00e-01       |    1.30e+01  |    4.42e+00  |  0.00e+00  |  2.01e+01\n",
      "   1 |    -8.1774e-01   |         5.84e+02       |    1.30e-02  |    3.06e+00  |  3.55e+01  |  1.45e+01\n",
      "   2 |    -8.9022e-01   |         2.36e+01       |    1.30e-05  |    1.30e-01  |  7.66e-01  |  6.12e-01\n",
      "   3 |    -9.3339e+00   |         3.42e+00       |    1.04e-05  |    1.23e-01  |  1.11e+02  |  5.93e-01\n",
      "   4 |    -3.2552e+01   |         4.92e-01       |    7.80e-06  |    7.91e-02  |  3.01e+02  |  4.57e-01\n",
      "   5 |    -5.4487e+01   |         1.03e-02       |    2.91e-06  |    6.01e-02  |  2.99e+02  |  3.24e-01\n",
      "   6 |    -6.0759e+01   |         2.04e-02       |    8.31e-07  |    2.89e-02  |  1.03e+02  |  1.96e-01\n",
      "   7 |    -6.3542e+01   |         1.94e-02       |    1.64e-07  |    2.04e-03  |  5.39e+01  |  2.90e-02\n",
      "   8 |    -6.4402e+01   |         3.31e-03       |    3.14e-08  |    1.24e-16  |  2.33e+01  |  2.79e-03\n",
      "   9 |    -6.4563e+01   |         3.50e-04       |    3.14e-11  |    8.27e-17  |  3.51e+00  |  2.94e-04\n",
      "  10 |    -6.4575e+01   |         3.53e-07       |    9.42e-14  |    5.74e-17  |  3.91e-01  |  2.97e-07\n",
      "  11 |    -6.4575e+01   |         3.53e-10       |    9.75e-14  |    4.71e-17  |  3.92e-04  |  2.97e-10\n",
      "  12 |    -6.4575e+01   |         3.53e-13       |    9.54e-14  |    5.21e-17  |  3.92e-07  |  2.97e-13\n",
      "\n",
      " stopping criterion = [\"pdd <= eps\", \"cond_rb <= eps\", \"cond_rc <= eps\", \"mu_k <= eps_mu\"]\n",
      "Generic Execution stats\n",
      "  status: solved to within acceptable tolerances\n",
      "  objective value: -64.57507705855238\n",
      "  primal feasibility: 9.53974552272389e-14\n",
      "  dual feasibility: 1.0412569814775855e-16\n",
      "  solution: [1.7611911708160156e-11  16.56869220607053  64.5750770585597  64.57507705855238 ⋯ -9.085179908721499e-13]\n",
      "  multipliers: [-4.283880349018637e-15  -0.13870541611631199  -513940.97381114896  -0.20805812417444824 ⋯ -0.2972258916775818]\n",
      "  multipliers_L: [0.013946048694541668  1.497506694113996e-14  3.741596452071151e-15  3.748979262463386e-15 ⋯ 0.0]\n",
      "  multipliers_U: [0.0  0.0  0.0  0.0 ⋯ 0.2972258916775818]\n",
      "  iterations: 12\n",
      "  elapsed time: 0.2839999198913574\n",
      "\n",
      "-----------------------------------------------------------------------\n",
      "------------------------------- RESULTS -------------------------------\n"
     ]
    },
    {
     "data": {
      "text/plain": [
       "OrderedDict{String,Any} with 8 entries:\n",
       "  \"x_opt\"      => [1.76119e-11, 16.5687, 64.5751, 64.5751, 64.5751, 1.76119e-11…\n",
       "  \"lambda_opt\" => [-4.28388e-15, -0.138705, -513941.0, -0.208058, -0.124759, -0…\n",
       "  \"s_l_opt\"    => [0.013946, 1.49751e-14, 3.7416e-15, 3.74898e-15, 3.74898e-15,…\n",
       "  \"s_u_opt\"    => [0.0, 0.0, 0.0, 0.0, 0.0, 0.0, 0.0, 0.0, 0.0, 0.0  …  0.02311…\n",
       "  \"n_iter\"     => 12\n",
       "  \"pdd\"        => 3.53456e-13\n",
       "  \"cond_rb\"    => 9.53975e-14\n",
       "  \"cond_rc\"    => 5.20628e-17"
      ]
     },
     "execution_count": 182,
     "metadata": {},
     "output_type": "execute_result"
    }
   ],
   "source": [
    "res_mpc4 =  MehrotraPCQuadBounds(SM4, 20, tol_step_x = 1e-12);\n",
    "display_results(res_mpc4)"
   ]
  },
  {
   "cell_type": "markdown",
   "metadata": {},
   "source": [
    "# Tests sur tous les problèmes"
   ]
  },
  {
   "cell_type": "code",
   "execution_count": 198,
   "metadata": {},
   "outputs": [
    {
     "name": "stdout",
     "output_type": "stream",
     "text": [
      "ADLITTLE.SIF\n",
      "Iter | primal_objective | primal-dual difference | rb condition | rc condition |   step x   |     mu\n",
      "--------------------------------------------------------------------------------------------------------\n",
      "   0 |     6.8001e+06   |         9.04e-01       |    8.83e+03  |    4.28e-01  |  0.00e+00  |  7.09e+03\n",
      "   1 |     6.7988e+06   |         9.05e-01       |    8.83e+03  |    4.28e-01  |  1.75e+01  |  7.09e+03\n",
      "   2 |     6.8101e+06   |         9.05e-01       |    8.83e+03  |    4.28e-01  |  1.89e+01  |  7.09e+03\n",
      "   3 |     7.0361e+06   |         9.08e-01       |    8.83e+03  |    4.28e-01  |  1.09e+02  |  7.09e+03\n"
     ]
    },
    {
     "name": "stderr",
     "output_type": "stream",
     "text": [
      "┌ Info: Using 'ADLITTLE' as NAME (l. 5)\n",
      "└ @ QPSReader C:\\Users\\Geoffroy Leconte\\.julia\\packages\\QPSReader\\usDQr\\src\\readqps.jl:751\n",
      "┌ Info: Using '.Z....' as objective (l. 20)\n",
      "└ @ QPSReader C:\\Users\\Geoffroy Leconte\\.julia\\packages\\QPSReader\\usDQr\\src\\readqps.jl:350\n",
      "┌ Info: Using 'ZZZZ0001' as RHS (l. 333)\n",
      "└ @ QPSReader C:\\Users\\Geoffroy Leconte\\.julia\\packages\\QPSReader\\usDQr\\src\\readqps.jl:470\n"
     ]
    },
    {
     "name": "stdout",
     "output_type": "stream",
     "text": [
      "   4 |     1.5516e+07   |         9.58e-01       |    8.83e+03  |    4.28e-01  |  3.66e+03  |  7.13e+03\n",
      "   5 |     6.2212e+08   |         9.99e-01       |    8.83e+03  |    4.28e-01  |  2.59e+05  |  9.93e+03\n",
      "   6 |     7.9439e+09   |         1.00e+00       |    8.83e+03  |    4.28e-01  |  3.13e+06  |  4.41e+04\n",
      "   7 |     7.0007e+11   |         1.00e+00       |    8.83e+03  |    4.28e-01  |  2.96e+08  |  4.12e+06\n",
      "   8 |     1.9253e+14   |         1.00e+00       |    8.83e+03  |    4.28e-01  |  8.20e+10  |  1.26e+09\n",
      "   9 |     1.3514e+16   |         1.00e+00       |    8.83e+03  |    4.28e-01  |  5.69e+12  |  9.34e+10\n",
      "  10 |     4.7848e+17   |         1.00e+00       |    8.82e+03  |    4.28e-01  |  1.99e+14  |  3.42e+12\n",
      "  11 |     4.7848e+17   |         1.00e+00       |    8.82e+03  |    4.28e-01  |  5.88e+06  |  3.42e+12\n",
      "  12 |     4.7848e+17   |         1.00e+00       |    8.82e+03  |    4.28e-01  |  5.13e+08  |  3.42e+12\n",
      "  13 |     6.8985e+18   |         1.00e+00       |    8.82e+03  |    4.27e-01  |  2.74e+15  |  9.43e+13\n",
      "  14 |     6.8985e+18   |         1.00e+00       |    8.82e+03  |    4.27e-01  |  2.28e+08  |  9.43e+13\n",
      "  15 |     8.5529e+18   |         1.00e+00       |    8.82e+03  |    4.27e-01  |  7.07e+14  |  1.17e+14\n",
      "  16 |     9.1551e+18   |         1.00e+00       |    8.82e+03  |    4.27e-01  |  2.57e+14  |  1.25e+14\n",
      "  17 |     9.4434e+18   |         1.00e+00       |    8.82e+03  |    4.27e-01  |  1.23e+14  |  1.29e+14\n",
      "  18 |     9.5687e+18   |         1.00e+00       |    8.82e+03  |    4.27e-01  |  5.35e+13  |  1.31e+14\n",
      "  19 |     1.6117e+19   |         1.00e+00       |    8.82e+03  |    6.63e-07  |  2.80e+15  |  1.17e+17\n",
      "  20 |     1.5461e+19   |         1.00e+00       |    8.47e+03  |    2.03e-05  |  2.80e+14  |  1.12e+17\n",
      "\n",
      " stopping criterion = [\"reached max_iter\"]\n",
      "Generic Execution stats\n",
      "  status: solved to within acceptable tolerances\n",
      "  objective value: 1.5461203453565108e19\n",
      "  primal feasibility: 2.3032348979252413e7\n",
      "  dual feasibility: 0.21505616616856857\n",
      "  solution: [5.305429016611725  7.933868623103091  4.671058445185654e15  1.5872616917703448 ⋯ 39.84465665961506]\n",
      "  multipliers: [-3302.772189814137  -2.576028627660447e12  -4.371862034476856e9  -3.382266225432285e13 ⋯ -6.328919459292887e12]\n",
      "  multipliers_L: [8.152832888008788e13  5.508326375076634e13  7.227810185863037  2.7226704652452706e14 ⋯ 0.0]\n",
      "  multipliers_U: [0.0  0.0  0.0  0.0 ⋯ 6.328919459292887e12]\n",
      "  iterations: 20\n",
      "  elapsed time: 0.3900001049041748\n",
      "AFIRO.SIF\n",
      "Iter | primal_objective | primal-dual difference | rb condition | rc condition |   step x   |     mu\n",
      "--------------------------------------------------------------------------------------------------------\n",
      "   0 |     4.3820e+02   |         6.83e-01       |    4.44e-01  |    9.54e-01  |  0.00e+00  |  3.64e+01\n",
      "   1 |     3.4744e+02   |         5.55e+00       |    4.22e-01  |    9.22e-01  |  1.45e+01  |  3.61e+01\n",
      "   2 |    -5.4715e+00   |         2.38e+02       |    3.85e-01  |    8.58e-01  |  6.16e+01  |  3.54e+01"
     ]
    },
    {
     "name": "stderr",
     "output_type": "stream",
     "text": [
      "┌ Info: Using 'AFIRO' as NAME (l. 5)\n",
      "└ @ QPSReader C:\\Users\\Geoffroy Leconte\\.julia\\packages\\QPSReader\\usDQr\\src\\readqps.jl:751\n",
      "┌ Info: Using 'COST' as objective (l. 47)\n",
      "└ @ QPSReader C:\\Users\\Geoffroy Leconte\\.julia\\packages\\QPSReader\\usDQr\\src\\readqps.jl:350\n",
      "┌ Info: Using 'B' as RHS (l. 96)\n",
      "└ @ QPSReader C:\\Users\\Geoffroy Leconte\\.julia\\packages\\QPSReader\\usDQr\\src\\readqps.jl:470\n"
     ]
    },
    {
     "name": "stdout",
     "output_type": "stream",
     "text": [
      "\n",
      "   3 |     3.6743e+01   |         3.61e+01       |    3.84e-16  |    7.04e-01  |  2.20e+02  |  3.31e+01\n",
      "   4 |     6.7364e+01   |         1.07e+01       |    4.28e-16  |    3.31e-01  |  4.45e+01  |  1.76e+01\n",
      "   5 |    -1.5940e+02   |         1.70e+00       |    5.84e-16  |    1.83e-01  |  3.13e+02  |  9.31e+00\n",
      "   6 |    -4.0241e+02   |         3.17e-01       |    2.29e-15  |    4.03e-02  |  4.98e+02  |  3.99e+00\n",
      "   7 |    -4.5934e+02   |         4.20e-02       |    1.03e-15  |    8.04e-03  |  1.06e+02  |  6.96e-01\n",
      "   8 |    -4.6350e+02   |         5.62e-03       |    1.62e-15  |    2.43e-04  |  1.59e+01  |  6.09e-02\n",
      "   9 |    -4.6475e+02   |         6.39e-06       |    9.55e-16  |    2.56e-07  |  2.11e+00  |  6.86e-05\n",
      "  10 |    -4.6475e+02   |         6.39e-09       |    1.85e-15  |    2.56e-10  |  2.53e-03  |  6.86e-08\n",
      "  11 |    -4.6475e+02   |         6.39e-12       |    2.19e-15  |    2.56e-13  |  2.57e-06  |  6.86e-11\n",
      "\n",
      " stopping criterion = [\"pdd <= eps\", \"cond_rb <= eps\", \"cond_rc <= eps\", \"mu_k <= eps_mu\"]\n",
      "Generic Execution stats\n",
      "  status: solved to within acceptable tolerances\n",
      "  objective value: -464.75314285565656\n",
      "  primal feasibility: 9.855386176883585e-14\n",
      "  dual feasibility: 2.8312833387701943e-12\n",
      "  solution: [79.99999999998188  25.499999999876042  54.50000000010584  84.7999999999808 ⋯ 134.07173004270555]\n",
      "  multipliers: [-0.6285714285778807  2.181963934449564e-11  -0.34477142855587645  -0.2285714285729089 ⋯ -9.818329539744794e-13]\n",
      "  multipliers_L: [7.573241785741665e-13  5.261560847707473e-12  6.864172057380867e-13  7.145008092819523e-13 ⋯ 0.0]\n",
      "  multipliers_U: [0.0  0.0  0.0  0.0 ⋯ 8.652434974535407e-13]\n",
      "  iterations: 11\n",
      "  elapsed time: 0.22600007057189941\n",
      "AGG.SIF\n"
     ]
    },
    {
     "name": "stderr",
     "output_type": "stream",
     "text": [
      "┌ Info: Using 'AGG' as NAME (l. 5)\n",
      "└ @ QPSReader C:\\Users\\Geoffroy Leconte\\.julia\\packages\\QPSReader\\usDQr\\src\\readqps.jl:751\n",
      "┌ Info: Using 'OBJECTIV' as objective (l. 509)\n",
      "└ @ QPSReader C:\\Users\\Geoffroy Leconte\\.julia\\packages\\QPSReader\\usDQr\\src\\readqps.jl:350\n"
     ]
    },
    {
     "name": "stdout",
     "output_type": "stream",
     "text": [
      "Iter | primal_objective | primal-dual difference | rb condition | rc condition |   step x   |     mu\n",
      "--------------------------------------------------------------------------------------------------------\n",
      "   0 |     2.0263e+03   |         1.00e+00       |    3.22e+06  |    8.22e-01  |  0.00e+00  |  7.40e+04\n",
      "   1 |     2.0414e+03   |         1.94e+04       |    3.22e+06  |    8.22e-01  |  7.38e+00  |  7.40e+04"
     ]
    },
    {
     "name": "stderr",
     "output_type": "stream",
     "text": [
      "┌ Info: Using 'AGG' as RHS (l. 1852)\n",
      "└ @ QPSReader C:\\Users\\Geoffroy Leconte\\.julia\\packages\\QPSReader\\usDQr\\src\\readqps.jl:470\n"
     ]
    },
    {
     "name": "stdout",
     "output_type": "stream",
     "text": [
      "\n",
      "   2 |     1.7757e+03   |         2.09e+04       |    3.22e+06  |    8.22e-01  |  1.65e+02  |  7.40e+04\n",
      "   3 |     1.6614e+03   |         2.26e+04       |    3.22e+06  |    8.22e-01  |  1.54e+02  |  7.40e+04\n",
      "   4 |     1.3143e+03   |         2.69e+04       |    3.22e+06  |    8.22e-01  |  8.99e+01  |  7.40e+04\n",
      "   5 |     1.2633e+03   |         3.01e+04       |    3.22e+06  |    8.22e-01  |  6.50e+01  |  7.40e+04\n",
      "   6 |    -1.9401e+02   |         2.02e+05       |    3.22e+06  |    8.22e-01  |  1.91e+02  |  7.40e+04\n",
      "   7 |    -1.5200e+03   |         2.53e+04       |    3.22e+06  |    8.22e-01  |  1.77e+02  |  7.40e+04\n",
      "   8 |    -2.1502e+03   |         1.64e+04       |    3.22e+06  |    8.22e-01  |  1.54e+02  |  7.40e+04\n",
      "   9 |    -3.0126e+03   |         1.19e+04       |    3.22e+06  |    8.22e-01  |  1.19e+02  |  7.40e+04\n",
      "  10 |    -5.7926e+03   |         6.68e+03       |    3.22e+06  |    8.22e-01  |  3.00e+02  |  7.40e+04\n",
      "  11 |    -8.6746e+03   |         4.12e+03       |    3.22e+06  |    8.22e-01  |  7.02e+02  |  7.40e+04\n",
      "  12 |    -5.9003e+04   |         6.20e+02       |    3.22e+06  |    8.22e-01  |  5.59e+03  |  7.40e+04\n",
      "  13 |    -5.9456e+04   |         6.17e+02       |    3.22e+06  |    8.22e-01  |  1.20e+02  |  7.40e+04\n",
      "  14 |    -5.9476e+04   |         6.26e+02       |    3.22e+06  |    8.22e-01  |  5.94e+00  |  7.40e+04\n",
      "  15 |    -5.9496e+04   |         6.25e+02       |    3.22e+06  |    8.22e-01  |  2.99e+00  |  7.40e+04\n",
      "  16 |    -6.0421e+04   |         6.21e+02       |    3.22e+06  |    8.22e-01  |  2.95e+02  |  7.40e+04\n",
      "  17 |    -6.6889e+04   |         6.17e+02       |    3.22e+06  |    8.22e-01  |  2.00e+03  |  7.41e+04\n",
      "  18 |    -8.4404e+04   |         4.84e+02       |    3.22e+06  |    8.22e-01  |  2.17e+03  |  7.41e+04\n",
      "  19 |    -1.1422e+05   |         3.50e+02       |    3.22e+06  |    8.22e-01  |  4.16e+03  |  7.41e+04\n",
      "  20 |    -1.2576e+05   |         2.83e+02       |    3.22e+06  |    8.22e-01  |  2.35e+03  |  7.41e+04\n",
      "\n",
      " stopping criterion = [\"reached max_iter\"]\n",
      "Generic Execution stats\n",
      "  status: solved to within acceptable tolerances\n",
      "  objective value: -125759.28275090281\n",
      "  primal feasibility: 3.222658155248171e6\n",
      "  dual feasibility: 531.7627284707318\n",
      "  solution: [0.8139008312374366  1.2323615715530514  153.11507689473734  173.92692987762484 ⋯ 3228.6201088823623]\n",
      "  multipliers: [-0.494623942656333  -0.12604073587019435  -0.4055365799732623  -0.2745373231770789 ⋯ 8.820149683822534]\n",
      "  multipliers_L: [8.394465449859991  5.405736508272689  2.2317580944993787  1.2825532818255527 ⋯ 0.0]\n",
      "  multipliers_U: [0.0  0.0  0.0  0.0 ⋯ 1.0030894930943544]\n",
      "  iterations: 20\n",
      "  elapsed time: 0.9580001831054688\n"
     ]
    }
   ],
   "source": [
    "i = 0\n",
    "for file_name in readdir(path_pb)\n",
    "    if file_name[end-3:end] == \".SIF\" && !(file_name in [\"BLEND.SIF\"; \"DFL001.SIF\";  #QPSReader not working\n",
    "                                                        \"FORPLAN.SIF\"; \"GFRD-PNC.SIF\"; \n",
    "                                                        \"SIERRA.SIF\"]) &&\n",
    "                                        !(file_name in [\"25FV47.SIF\" ; \"80BAU3B.SIF\"; \"BNL1.SIF\"]) #singular exception\n",
    "        \n",
    "        i += 1\n",
    "        println(file_name)\n",
    "        pb_i = string(path_pb, \"\\\\\", file_name)\n",
    "        qpdata_i = readqps(pb_i) \n",
    "        SM_i = SlackModel(createQuadraticModel(qpdata_i))\n",
    "        res_mpc_i =  MehrotraPCQuadBounds(SM_i, 20)\n",
    "    end\n",
    "    if i == 3\n",
    "        break\n",
    "        break\n",
    "    end\n",
    "end"
   ]
  },
  {
   "cell_type": "code",
   "execution_count": null,
   "metadata": {},
   "outputs": [],
   "source": []
  },
  {
   "cell_type": "code",
   "execution_count": 36,
   "metadata": {},
   "outputs": [
    {
     "name": "stdout",
     "output_type": "stream",
     "text": [
      "type of the fieldname nvar is Int64\n",
      "type of the fieldname x0 is Array{T,1} where T\n",
      "type of the fieldname lvar is Array{T,1} where T\n",
      "type of the fieldname uvar is Array{T,1} where T\n",
      "type of the fieldname ifix is Array{Int64,1}\n",
      "type of the fieldname ilow is Array{Int64,1}\n",
      "type of the fieldname iupp is Array{Int64,1}\n",
      "type of the fieldname irng is Array{Int64,1}\n",
      "type of the fieldname ifree is Array{Int64,1}\n",
      "type of the fieldname iinf is Array{Int64,1}\n",
      "type of the fieldname nbv is Int64\n",
      "type of the fieldname niv is Int64\n",
      "type of the fieldname nlvb is Int64\n",
      "type of the fieldname nlvo is Int64\n",
      "type of the fieldname nlvc is Int64\n",
      "type of the fieldname nlvbi is Int64\n",
      "type of the fieldname nlvci is Int64\n",
      "type of the fieldname nlvoi is Int64\n",
      "type of the fieldname nwv is Int64\n",
      "type of the fieldname ncon is Int64\n",
      "type of the fieldname y0 is Array{T,1} where T\n",
      "type of the fieldname lcon is Array{T,1} where T\n",
      "type of the fieldname ucon is Array{T,1} where T\n",
      "type of the fieldname jfix is Array{Int64,1}\n",
      "type of the fieldname jlow is Array{Int64,1}\n",
      "type of the fieldname jupp is Array{Int64,1}\n",
      "type of the fieldname jrng is Array{Int64,1}\n",
      "type of the fieldname jfree is Array{Int64,1}\n",
      "type of the fieldname jinf is Array{Int64,1}\n",
      "type of the fieldname nnzo is Int64\n",
      "type of the fieldname nnzj is Int64\n",
      "type of the fieldname nnzh is Int64\n",
      "type of the fieldname nlin is Int64\n",
      "type of the fieldname nnln is Int64\n",
      "type of the fieldname nnnet is Int64\n",
      "type of the fieldname nlnet is Int64\n",
      "type of the fieldname lin is Array{Int64,1}\n",
      "type of the fieldname nln is Array{Int64,1}\n",
      "type of the fieldname nnet is Array{Int64,1}\n",
      "type of the fieldname lnet is Array{Int64,1}\n",
      "type of the fieldname minimize is Bool\n",
      "type of the fieldname nlo is Int64\n",
      "type of the fieldname islp is Bool\n",
      "type of the fieldname name is String\n"
     ]
    }
   ],
   "source": [
    "T = typeof(SM3.meta)\n",
    "for (name, typ) in zip(fieldnames(T), T.types)\n",
    "    println(\"type of the fieldname $name is $typ\")\n",
    "end"
   ]
  },
  {
   "cell_type": "code",
   "execution_count": 37,
   "metadata": {},
   "outputs": [
    {
     "data": {
      "text/plain": [
       "true"
      ]
     },
     "execution_count": 37,
     "metadata": {},
     "output_type": "execute_result"
    }
   ],
   "source": [
    "typeof(SM3.model) == QuadraticModel"
   ]
  },
  {
   "cell_type": "code",
   "execution_count": null,
   "metadata": {},
   "outputs": [],
   "source": []
  },
  {
   "cell_type": "code",
   "execution_count": 19,
   "metadata": {},
   "outputs": [
    {
     "name": "stderr",
     "output_type": "stream",
     "text": [
      "┌ Info: Using '25FV47' as NAME (l. 5)\n",
      "└ @ QPSReader C:\\Users\\Geoffroy Leconte\\.julia\\packages\\QPSReader\\usDQr\\src\\readqps.jl:751\n",
      "┌ Info: Using 'R0000' as objective (l. 21)\n",
      "└ @ QPSReader C:\\Users\\Geoffroy Leconte\\.julia\\packages\\QPSReader\\usDQr\\src\\readqps.jl:350\n",
      "┌ Info: Using '.00001' as RHS (l. 6793)\n",
      "└ @ QPSReader C:\\Users\\Geoffroy Leconte\\.julia\\packages\\QPSReader\\usDQr\\src\\readqps.jl:470\n"
     ]
    }
   ],
   "source": [
    "# obj  9.8723216072E+05\n",
    "qpdata5 = readqps(string(path_pb, \"\\\\25FV47.SIF\"))\n",
    "QM5 = createQuadraticModel(qpdata5)\n",
    "SM5 = SlackModel(QM5);"
   ]
  },
  {
   "cell_type": "code",
   "execution_count": 20,
   "metadata": {},
   "outputs": [
    {
     "name": "stdout",
     "output_type": "stream",
     "text": [
      "SM5 = SlackModel - Model with slack variables\n",
      "  Problem name: Generic-slack\n",
      "  Total variables………1876    Total constraints…821   \n",
      "    free………………………………0         linear…………………………821   \n",
      "    lower……………………………1571      nonlinear…………………0     \n",
      "    upper……………………………305       equality……………………821   \n",
      "    low/upp………………………0         lower……………………………0     \n",
      "    fixed……………………………0         upper……………………………0     \n",
      "    nnzh………………………………0         low/upp………………………0     \n",
      "                              nnzj………………………………10705 \n",
      "  Counters:\n",
      "    obj……………0         grad…………0         cons…………0         jcon…………0         jgrad………0     \n",
      "    jac……………0         jprod………0         jtprod……0         hess…………0         hprod………0     \n",
      "    jhprod……0     \n"
     ]
    },
    {
     "data": {
      "text/plain": [
       "SlackModel - Model with slack variables\n",
       "  Problem name: Generic-slack\n",
       "  Total variables………1876    Total constraints…821   \n",
       "    free………………………………0         linear…………………………821   \n",
       "    lower……………………………1571      nonlinear…………………0     \n",
       "    upper……………………………305       equality……………………821   \n",
       "    low/upp………………………0         lower……………………………0     \n",
       "    fixed……………………………0         upper……………………………0     \n",
       "    nnzh………………………………0         low/upp………………………0     \n",
       "                              nnzj………………………………10705 \n",
       "  Counters:\n",
       "    obj……………0         grad…………0         cons…………0         jcon…………0         jgrad………0     \n",
       "    jac……………0         jprod………0         jtprod……0         hess…………0         hprod………0     \n",
       "    jhprod……0     "
      ]
     },
     "execution_count": 20,
     "metadata": {},
     "output_type": "execute_result"
    }
   ],
   "source": [
    "@show SM5"
   ]
  },
  {
   "cell_type": "code",
   "execution_count": 23,
   "metadata": {},
   "outputs": [
    {
     "name": "stdout",
     "output_type": "stream",
     "text": [
      "Iter | primal_objective | primal-dual difference | rb condition | rc condition |   step x   |     mu\n",
      "--------------------------------------------------------------------------------------------------------\n",
      "   0 |     6.0144e+04   |         3.29e-01       |    5.78e+01  |    5.98e-01  |  0.00e+00  |  1.16e+02\n"
     ]
    },
    {
     "ename": "SingularException",
     "evalue": "SingularException(0)",
     "output_type": "error",
     "traceback": [
      "SingularException(0)",
      "",
      "Stacktrace:",
      " [1] lu(::SparseMatrixCSC{Float64,Int64}; check::Bool) at D:\\buildbot\\worker\\package_win64\\build\\usr\\share\\julia\\stdlib\\v1.4\\SuiteSparse\\src\\umfpack.jl:162",
      " [2] lu at D:\\buildbot\\worker\\package_win64\\build\\usr\\share\\julia\\stdlib\\v1.4\\SuiteSparse\\src\\umfpack.jl:155 [inlined]",
      " [3] \\(::SparseMatrixCSC{Float64,Int64}, ::Array{Float64,1}) at D:\\buildbot\\worker\\package_win64\\build\\usr\\share\\julia\\stdlib\\v1.4\\SparseArrays\\src\\linalg.jl:1455",
      " [4] MehrotraPCQuadBounds(::SlackModel, ::Int64; eps::Float64, tol_step_x::Float64, eps_mu::Float64, display::Bool) at .\\In[4]:86",
      " [5] MehrotraPCQuadBounds(::SlackModel, ::Int64) at .\\In[4]:3",
      " [6] top-level scope at In[23]:1"
     ]
    }
   ],
   "source": [
    "res_mpc_5 =  MehrotraPCQuadBounds(SM5, 20)"
   ]
  },
  {
   "cell_type": "code",
   "execution_count": null,
   "metadata": {},
   "outputs": [],
   "source": []
  }
 ],
 "metadata": {
  "kernelspec": {
   "display_name": "Julia 1.5.0",
   "language": "julia",
   "name": "julia-1.5"
  },
  "language_info": {
   "file_extension": ".jl",
   "mimetype": "application/julia",
   "name": "julia",
   "version": "1.5.0"
  }
 },
 "nbformat": 4,
 "nbformat_minor": 4
}
