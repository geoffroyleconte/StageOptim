{
 "cells": [
  {
   "cell_type": "markdown",
   "metadata": {},
   "source": [
    "# Problèmes\n",
    "\n",
    "### 1)\n",
    "Primal: $\\underset{x \\in \\mathbb{R}^3}{\\min} x_1 ~~ s.t. ~ x_1 + x_2 + x_3 = 1 ~, ~~ x \\ge 0$\n",
    "\n",
    "Dual: $\\underset{\\lambda \\in \\mathbb{R}, s \\in \\mathbb{R^3}}{\\max} \\lambda ~~ s.t. ~ [1~1~1]' \\lambda + s = [1~0~0]'~, ~~s\\ge0$\n",
    "\n",
    "### 2)"
   ]
  },
  {
   "cell_type": "markdown",
   "metadata": {},
   "source": [
    "## 1) Short-Step Path-Following "
   ]
  },
  {
   "cell_type": "code",
   "execution_count": 1,
   "metadata": {},
   "outputs": [],
   "source": [
    "using LinearAlgebra\n",
    "using LaTeXStrings\n",
    "using DataFrames\n",
    "using DataStructures\n",
    "using QuadraticModels\n",
    "using Printf\n",
    "using SparseArrays"
   ]
  },
  {
   "cell_type": "code",
   "execution_count": 2,
   "metadata": {},
   "outputs": [
    {
     "data": {
      "text/plain": [
       "primal_dual_diff (generic function with 1 method)"
      ]
     },
     "execution_count": 2,
     "metadata": {},
     "output_type": "execute_result"
    }
   ],
   "source": [
    "function primal_dual_diff(c, b, x, lambda)\n",
    "    return abs(c'*x - b'*lambda) / (1 + abs(c'*x))\n",
    "end"
   ]
  },
  {
   "cell_type": "code",
   "execution_count": 37,
   "metadata": {},
   "outputs": [
    {
     "data": {
      "text/plain": [
       "display_results (generic function with 1 method)"
      ]
     },
     "execution_count": 37,
     "metadata": {},
     "output_type": "execute_result"
    }
   ],
   "source": [
    "\"\"\"\n",
    "           STPF1(c, A, b, init_vect, max_iter, tol_step_x, eps, theta)\n",
    "        Compute the optimisation of the linear problem min `c`'x, s.t. `A`x = `b` (Primal), \n",
    "        with the Short-Step Path Following method.\n",
    "        \n",
    "        We have the Dual problem: max `b`'λ, s.t. `A`'λ + s = c.\n",
    "\n",
    "        `init_vect` shall be the initial vector ``(x_0,λ_0, s_0)``.\n",
    "        \n",
    "        `max_iter` is the maximum number of iterations.\n",
    "\n",
    "        `tol_step_x` is the minimum tolerance of the difference between two successive iterates of x.\n",
    "\n",
    "        `eps` is the measure of smallness.\n",
    "\n",
    "        `theta` is the parameter such that ``||XSe- μe||_2 ≤ theta*μ ``, \n",
    "\n",
    "            where μ = s'x/length(x), X = Diagonal(x), S = Diagonal(s), and e = ones(1, length(x)).\n",
    "       \"\"\"\n",
    "function STPF1(QM, s0, max_iter, tol_step_x= 1e-4, eps_pdd=1e-4, eps_mu=1e-4, theta=0.4)\n",
    "    \n",
    "    # get variables from QuadraticModel\n",
    "    A = sparse(QM.data.Arows, QM.data.Acols, QM.data.Avals)\n",
    "    H = sparse(QM.data.Hrows, QM.data.Hcols, QM.data.Hvals)\n",
    "    c = QM.data.c\n",
    "    c0 = QM.data.c0\n",
    "    x_k, lambda_k, s_k = QM.meta.x0, QM.meta.y0, s0\n",
    "    @assert QM.meta.lcon == QM.meta.ucon # equality constraint (Ax=b)\n",
    "    b = QM.meta.lcon\n",
    "    \n",
    "    # necessary conditions to apply the algorithm (strictly feasible starting point)\n",
    "    @assert all(x_k.>0) && all(s_k.>0)\n",
    "    @assert all(A*x_k - b .< 1e-16)\n",
    "    \n",
    "    n_rows, n_cols = size(A) \n",
    "    sigma = 1 - theta / sqrt(n_cols)\n",
    "    k = 0 # iter\n",
    "    e = ones(n_cols, 1)\n",
    "    \n",
    "    # control variables\n",
    "    step_x = 1.0+tol_step_x\n",
    "    pdd = primal_dual_diff(c, b, x_k, lambda_k)\n",
    "    mu_k = s_k' * x_k / n_cols\n",
    "    \n",
    "    # display\n",
    "    println(\"Iter | primal_objective | primal-dual difference |     step x     |     mu\")\n",
    "    println(\"-------------------------------------------------------------------------------------\")\n",
    "    @printf(\"% 4d |     % 7.2e    |        % 7.2e       |   % 7.2e    | % 7.2e\\n\", k, c'*x_k, pdd, step_x, mu_k)\n",
    "    \n",
    "    while k <= max_iter && step_x > tol_step_x && pdd > eps_pdd && mu_k > eps_mu \n",
    "        Xk = Diagonal(x_k)\n",
    "        Sk = Diagonal(s_k)\n",
    "        # Newton's method:\n",
    "        Jacob_Fk = [zeros(n_cols, n_cols) A' I\n",
    "                    A zeros(n_rows, n_rows) zeros(n_rows, n_cols)\n",
    "                    Sk zeros(n_cols, n_rows) Xk]\n",
    "        Fk = [zeros(n_rows+n_cols, 1)\n",
    "              -x_k.*s_k .+ sigma*mu_k]\n",
    "        dir_k = Jacob_Fk\\Fk # error if Jacob_Fk is singular\n",
    "        \n",
    "        #update:\n",
    "        x_k_prec = copy(x_k)\n",
    "        x_k += dir_k[1:n_cols]\n",
    "        lambda_k += dir_k[n_cols+1: n_cols+n_rows]\n",
    "        s_k += dir_k[n_cols+n_rows+1:end]\n",
    "        \n",
    "\n",
    "        mu_k = s_k' * x_k / n_cols\n",
    "        step_x = norm(x_k - x_k_prec)\n",
    "        \n",
    "        pdd = primal_dual_diff(c, b, x_k, lambda_k)\n",
    "        k += 1\n",
    "        \n",
    "        # affichage\n",
    "        @printf(\"% 4d |     % 7.2e    |        % 7.2e       |   % 7.2e    | % 7.2e\\n\", k, c0+c'*x_k, pdd, step_x, mu_k)\n",
    "    end\n",
    "    \n",
    "    criteria = [k > max_iter, pdd <= eps_pdd,  step_x <= tol_step_x, mu_k <= eps_mu]\n",
    "    criteria_names = [\"reached max_iter\", \"pdd <= eps_pdd\", \"step_x <= tol_step_x\",\" mu_k <= eps_mu\"]\n",
    "    println(\"\\n stopping criterion = \",criteria_names[findall(criteria)])\n",
    "    return OrderedDict(\"x_opt\" => x_k, \"lambda_opt\" => lambda_k, \"s_opt\" => s_k, \n",
    "        \"n_iter\" => k, \"pdd\" => pdd, \"step_x\" => step_x, \"mu\" => mu_k)\n",
    "end\n",
    "\n",
    "\n",
    "\n",
    "function display_results(result)\n",
    "    println(\"\\n-----------------------------------------------------------------------\")\n",
    "    println(\"------------------------------- RESULTS -------------------------------\")\n",
    "    result\n",
    "end\n",
    "\n",
    "    "
   ]
  },
  {
   "cell_type": "code",
   "execution_count": 38,
   "metadata": {},
   "outputs": [],
   "source": [
    "### problem 1\n",
    "c = [1; 0; 0]\n",
    "c01 = 0.\n",
    "A = [1 1 1]\n",
    "b = [1]\n",
    "lvar = [0;0;0]\n",
    "uvar = [Inf; Inf; Inf];\n",
    "lcon = b;\n",
    "ucon = b;\n",
    "\n",
    "# initialisation 1 \n",
    "x01 = [1/3, 1/3, 1/3]\n",
    "lambda01 = [-1]\n",
    "s01 = [2, 1, 1]\n",
    "init_vect1 = (x01, lambda01, s01);"
   ]
  },
  {
   "cell_type": "markdown",
   "metadata": {},
   "source": [
    "### bibliothèque QuadraticModels\n",
    "\n",
    "optimize $c_0 + c'x + \\frac{1}{2} x'Hx ~~~~$ s.t. $~~L \\le Ax \\le U$ and $l \\le x \\le u$ \n",
    "\n",
    "Ici L = lcon, U = ucon, l = lvar, u = uvar"
   ]
  },
  {
   "cell_type": "code",
   "execution_count": 39,
   "metadata": {},
   "outputs": [
    {
     "data": {
      "text/plain": [
       "1-element Array{Float64,1}:\n",
       " 0.0"
      ]
     },
     "execution_count": 39,
     "metadata": {},
     "output_type": "execute_result"
    }
   ],
   "source": [
    "# creation QuadraticModel object\n",
    "QM = QuadraticModel(c, zeros(3,3), A=A, lcon=lcon, ucon=ucon, lvar=lvar, uvar=uvar, x0=x01, c0=c01, name=\"QM1\")\n",
    "Acols = QM.data.Acols\n",
    "Arows = QM.data.Arows\n",
    "Avals = QM.data.Avals\n",
    "newA = sparse(Arows, Acols, Avals)\n",
    "#newA = similar(undef, (Arows, Avals))\n",
    "QM.meta.y0 #lambda0 "
   ]
  },
  {
   "cell_type": "code",
   "execution_count": 40,
   "metadata": {},
   "outputs": [
    {
     "name": "stdout",
     "output_type": "stream",
     "text": [
      "Iter | primal_objective | primal-dual difference |     step x     |     mu\n",
      "-------------------------------------------------------------------------------------\n",
      "   0 |      3.33e-01    |         2.50e-01       |    1.00e+00    |  4.44e-01\n",
      "   1 |      2.00e-01    |         2.12e-02       |    1.63e-01    |  3.42e-01\n",
      "   2 |      1.66e-01    |         1.81e-01       |    4.13e-02    |  2.63e-01\n",
      "   3 |      1.41e-01    |         3.45e-01       |    3.14e-02    |  2.02e-01\n",
      "   4 |      1.17e-01    |         4.78e-01       |    2.86e-02    |  1.55e-01\n",
      "   5 |      9.62e-02    |         5.85e-01       |    2.59e-02    |  1.20e-01\n",
      "   6 |      7.77e-02    |         6.72e-01       |    2.26e-02    |  9.20e-02\n",
      "   7 |      6.21e-02    |         7.42e-01       |    1.91e-02    |  7.07e-02\n",
      "   8 |      4.92e-02    |         7.98e-01       |    1.58e-02    |  5.44e-02\n",
      "   9 |      3.88e-02    |         8.42e-01       |    1.28e-02    |  4.18e-02\n",
      "  10 |      3.03e-02    |         8.77e-01       |    1.03e-02    |  3.22e-02\n",
      "  11 |      2.36e-02    |         9.04e-01       |    8.19e-03    |  2.47e-02\n",
      "  12 |      1.84e-02    |         9.26e-01       |    6.45e-03    |  1.90e-02\n",
      "  13 |      1.42e-02    |         9.43e-01       |    5.06e-03    |  1.46e-02\n",
      "  14 |      1.10e-02    |         9.56e-01       |    3.95e-03    |  1.13e-02\n",
      "  15 |      8.52e-03    |         9.66e-01       |    3.07e-03    |  8.65e-03\n",
      "  16 |      6.58e-03    |         9.74e-01       |    2.38e-03    |  6.66e-03\n",
      "  17 |      5.07e-03    |         9.80e-01       |    1.84e-03    |  5.12e-03\n",
      "  18 |      3.91e-03    |         9.84e-01       |    1.42e-03    |  3.94e-03\n",
      "  19 |      3.01e-03    |         9.88e-01       |    1.10e-03    |  3.03e-03\n",
      "  20 |      2.32e-03    |         9.91e-01       |    8.48e-04    |  2.33e-03\n",
      "  21 |      1.78e-03    |         9.93e-01       |    6.54e-04    |  1.79e-03\n",
      "  22 |      1.37e-03    |         9.95e-01       |    5.04e-04    |  1.38e-03\n",
      "  23 |      1.06e-03    |         9.96e-01       |    3.88e-04    |  1.06e-03\n",
      "  24 |      8.13e-04    |         9.97e-01       |    2.99e-04    |  8.14e-04\n",
      "  25 |      6.26e-04    |         9.97e-01       |    2.30e-04    |  6.26e-04\n",
      "  26 |      4.81e-04    |         9.98e-01       |    1.77e-04    |  4.82e-04\n",
      "  27 |      3.70e-04    |         9.99e-01       |    1.36e-04    |  3.70e-04\n",
      "  28 |      2.85e-04    |         9.99e-01       |    1.05e-04    |  2.85e-04\n",
      "  29 |      2.19e-04    |         9.99e-01       |    8.05e-05    |  2.19e-04\n",
      "\n",
      " stopping criterion = [\"step_x <= tol_step_x\"]\n",
      "\n",
      "-----------------------------------------------------------------------\n",
      "------------------------------- RESULTS -------------------------------\n"
     ]
    },
    {
     "data": {
      "text/plain": [
       "OrderedDict{String,Any} with 7 entries:\n",
       "  \"x_opt\"      => [0.000219023, 0.49989, 0.49989]\n",
       "  \"lambda_opt\" => [0.999562]\n",
       "  \"s_opt\"      => [1.00044, 0.000438307, 0.000438307]\n",
       "  \"n_iter\"     => 29\n",
       "  \"pdd\"        => 0.999124\n",
       "  \"step_x\"     => 8.05098e-5\n",
       "  \"mu\"         => 0.00021911"
      ]
     },
     "execution_count": 40,
     "metadata": {},
     "output_type": "execute_result"
    }
   ],
   "source": [
    "res_opt1 = STPF1(QM, s01, 100);\n",
    "display_results(res_opt1)"
   ]
  },
  {
   "cell_type": "markdown",
   "metadata": {},
   "source": [
    "## 2) Predictor Corrector"
   ]
  },
  {
   "cell_type": "code",
   "execution_count": 265,
   "metadata": {},
   "outputs": [
    {
     "data": {
      "text/plain": [
       "Alpha_PredictorStep (generic function with 1 method)"
      ]
     },
     "execution_count": 265,
     "metadata": {},
     "output_type": "execute_result"
    }
   ],
   "source": [
    "function Point_in_Neighborhood2(theta, x, s, mu, e)\n",
    "    return norm(x.*s .- mu*e) <= theta*mu  # faut-il tester x>0, s>0 ?\n",
    "end\n",
    "\n",
    "\n",
    "\n",
    "function Next_Point_in_Neighborhood2(alpha_step, theta, x, s, dir_k, mu, e, n, m)\n",
    "    x_next = x + alpha_step*dir_k[1:n]\n",
    "    s_next = s + alpha_step*dir_k[n+m+1: end]\n",
    "    mu_next = s_next' * x_next / n\n",
    "    return Point_in_Neighborhood2(theta, x_next, s_next, mu_next, e)\n",
    "end\n",
    "\n",
    "\n",
    "\n",
    "function Alpha_PredictorStep(theta, x, lambda, s, dir_k, mu, e, alpha_step)\n",
    "    alpha = 0\n",
    "    x_k, lambda_k, s_k = x, lambda, s\n",
    "    n = length(x)\n",
    "    m = length(lambda)\n",
    "    mu_k = s_k' * x_k / n\n",
    "    while Next_Point_in_Neighborhood2(alpha_step, theta, x_k, s_k, dir_k, mu_k, e, n, m) == true && \n",
    "                alpha+alpha_step <= 1\n",
    "        alpha += alpha_step\n",
    "        x_k += alpha_step * dir_k[1:n]\n",
    "        lambda_k += alpha_step * dir_k[n+1: n+m]\n",
    "        s_k += alpha_step * dir_k[n+m+1: end]\n",
    "        mu_k = s_k' * x_k / n\n",
    "    end\n",
    "    return x_k, lambda_k, s_k        \n",
    "end"
   ]
  },
  {
   "cell_type": "code",
   "execution_count": 312,
   "metadata": {},
   "outputs": [
    {
     "data": {
      "text/plain": [
       "PredictorCorrector1"
      ]
     },
     "execution_count": 312,
     "metadata": {},
     "output_type": "execute_result"
    }
   ],
   "source": [
    "\"\"\"\n",
    "           PredictorCorrector1(c, A, b, init_vect, max_iter, eps, theta)\n",
    "       Compute the optimisation of the linear problem min `c`'x, s.t. `A`x = `b` (Primal), \n",
    "        with the Predictor- Corrector method.\n",
    "        \n",
    "        We have the Dual problem: max `b`'λ, s.t. `A`'λ + s = c.\n",
    "\n",
    "        `init_vect` shall be the initial vector ``(x_0,λ_0, s_0)``.\n",
    "        \n",
    "        `max_iter` is the maximum number of iterations.\n",
    "\n",
    "        `eps` is the measure of smallness.\n",
    "\n",
    "        `theta1` is the parameter for the Predictor Step such that ``||XSe- μe||_2 ≤ theta*μ ``, \n",
    "\n",
    "            where μ = s'x/length(x), X = Diagonal(x), S = Diagonal(s), and e = ones(1, length(x)) for the inner neighborhood.\n",
    "\n",
    "       \"\"\"\n",
    "function PredictorCorrector1(c, A, b, init_vect, max_iter, eps_pdd = 1e-4, eps_mu=1e-4,\n",
    "        theta=0.5, alpha_step=1e-3)\n",
    "    \n",
    "    x_k, lambda_k, s_k = init_vect\n",
    "    n_rows, n_cols = size(A) \n",
    "    mu_k = s_k' * x_k / n_cols\n",
    "    k = 0\n",
    "    pdd = 1.0\n",
    "    e = ones(n_cols, 1)\n",
    "    \n",
    "    # affichage\n",
    "    println(\"Iter | primal_objective | primal-dual difference |     mu\")\n",
    "    println(\"-------------------------------------------------------------------------------\")\n",
    "    @printf(\"% 4d |     % 7.2e    |        % 7.2e       |   % 7.2e\\n\", k, c'*x_k, pdd, mu_k)\n",
    "    \n",
    "    while k <= max_iter && pdd > eps_pdd && mu_k > eps_mu\n",
    "        Xk = Diagonal(x_k)\n",
    "        Sk = Diagonal(s_k)\n",
    "        \n",
    "        Jacob_Fk = [zeros(n_cols, n_cols) A' I\n",
    "                    A zeros(n_rows, n_rows) zeros(n_rows, n_cols)\n",
    "                    Sk zeros(n_cols, n_rows) Xk]\n",
    "        Fk = [zeros(n_rows+n_cols, 1)\n",
    "                -x_k.*s_k]\n",
    "        if k%2 == 0           # predictor step, sigma=0\n",
    "\n",
    "            dir_k = Jacob_Fk\\Fk\n",
    "            x_k, lambda_k, s_k = Alpha_PredictorStep(theta, x_k, lambda_k, s_k, dir_k, mu_k, e, alpha_step)\n",
    "        else\n",
    "            Fk += [zeros(n_rows+n_cols, 1)\n",
    "                   mu_k*e ]\n",
    "            dir_k = Jacob_Fk\\Fk\n",
    "\n",
    "            x_k += dir_k[1:n_cols]\n",
    "            lambda_k += dir_k[n_cols+1: n_cols+n_rows]\n",
    "            s_k += dir_k[n_cols+n_rows+1:end]\n",
    "        end\n",
    "        \n",
    "        mu_k = s_k' * x_k / n_cols\n",
    "        pdd = primal_dual_diff(c, b, x_k, lambda_k)\n",
    "        k += 1\n",
    "        \n",
    "        # affichage\n",
    "        @printf(\"% 4d |     % 7.2e    |        % 7.2e       |   % 7.2e\\n\", k, c'*x_k, pdd, mu_k)\n",
    "        \n",
    "    end\n",
    "    \n",
    "    criteria = [k > max_iter, pdd <= eps_pdd, mu_k <= eps_mu]\n",
    "    criteria_names = [\"reached max_iter\", \"pdd <= eps_pdd\", \"mu_k <= eps_mu\"]\n",
    "    println(\"\\n stopping criterion = \",criteria_names[findall(criteria)])\n",
    "    return OrderedDict(\"x_opt\" => x_k, \"lambda_opt\" => lambda_k, \"s_opt\" => s_k, \n",
    "        \"n_iter\" => k, \"pdd\" => pdd, \"mu\" => mu_k)\n",
    "end"
   ]
  },
  {
   "cell_type": "code",
   "execution_count": 313,
   "metadata": {},
   "outputs": [],
   "source": [
    "### probleme 1\n",
    "c = [1, 0 ,0]\n",
    "A = Matrix([1, 1, 1]')\n",
    "b = [1];"
   ]
  },
  {
   "cell_type": "code",
   "execution_count": 314,
   "metadata": {},
   "outputs": [
    {
     "name": "stdout",
     "output_type": "stream",
     "text": [
      "Iter | primal_objective | primal-dual difference |     mu\n",
      "-------------------------------------------------------------------------------\n",
      "   0 |      3.33e-01    |         1.00e+00       |    4.44e-01\n",
      "   1 |      3.33e-01    |         1.00e+00       |    4.44e-01\n",
      "   2 |      2.00e-01    |         1.11e+00       |    4.44e-01\n",
      "   3 |      1.40e-01    |         3.20e-01       |    1.22e-01\n",
      "   4 |      9.42e-02    |         3.34e-01       |    1.22e-01\n",
      "   5 |      3.89e-02    |         8.37e-02       |    2.90e-02\n",
      "   6 |      2.72e-02    |         8.46e-02       |    2.90e-02\n",
      "   7 |      4.29e-03    |         9.18e-03       |    3.07e-03\n",
      "   8 |      3.05e-03    |         9.19e-03       |    3.07e-03\n",
      "   9 |      6.43e-05    |         1.38e-04       |    4.61e-05\n",
      "\n",
      " stopping criterion = [\"mu_k <= eps_mu\"]\n",
      "\n",
      "-----------------------------------------------------------------------\n",
      "------------------------------- RESULTS -------------------------------\n"
     ]
    },
    {
     "data": {
      "text/plain": [
       "OrderedDict{String,Any} with 6 entries:\n",
       "  \"x_opt\"      => [6.42521e-5, 0.499968, 0.499968]\n",
       "  \"lambda_opt\" => [-7.39973e-5]\n",
       "  \"s_opt\"      => [1.00007, 7.39973e-5, 7.39973e-5]\n",
       "  \"n_iter\"     => 9\n",
       "  \"pdd\"        => 0.000138241\n",
       "  \"mu\"         => 4.60831e-5"
      ]
     },
     "execution_count": 314,
     "metadata": {},
     "output_type": "execute_result"
    }
   ],
   "source": [
    "# initialisation 1 \n",
    "x01 = [1/3, 1/3, 1/3]\n",
    "lambda01 = [-1]\n",
    "s01 = [2, 1, 1]\n",
    "init_vect1 = (x01, lambda01, s01);\n",
    "res_pc1 = PredictorCorrector1(c, A, b, init_vect1, 100);\n",
    "display_results(res_pc1)"
   ]
  },
  {
   "cell_type": "code",
   "execution_count": null,
   "metadata": {},
   "outputs": [],
   "source": []
  },
  {
   "cell_type": "code",
   "execution_count": null,
   "metadata": {},
   "outputs": [],
   "source": []
  }
 ],
 "metadata": {
  "kernelspec": {
   "display_name": "Julia 1.4.0",
   "language": "julia",
   "name": "julia-1.4"
  },
  "language_info": {
   "file_extension": ".jl",
   "mimetype": "application/julia",
   "name": "julia",
   "version": "1.4.0"
  }
 },
 "nbformat": 4,
 "nbformat_minor": 4
}
