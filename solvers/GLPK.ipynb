{
 "cells": [
  {
   "cell_type": "code",
   "execution_count": 87,
   "metadata": {},
   "outputs": [],
   "source": [
    "using GLPK\n",
    "using QPSReader\n",
    "using NLPModels\n",
    "using QuadraticModels\n",
    "using SparseArrays"
   ]
  },
  {
   "cell_type": "code",
   "execution_count": 142,
   "metadata": {},
   "outputs": [
    {
     "data": {
      "text/plain": [
       "OptimizeGLPK (generic function with 1 method)"
      ]
     },
     "execution_count": 142,
     "metadata": {},
     "output_type": "execute_result"
    }
   ],
   "source": [
    "function createQuadraticModel(qpdata, name_pb)\n",
    "    # probleme du point initial\n",
    "    #x0 = init_x0(qpdata.lvar, qpdata.uvar)\n",
    "    return QuadraticModel(qpdata.c, qpdata.qrows, qpdata.qcols, qpdata.qvals,\n",
    "            Arows=qpdata.arows, Acols=qpdata.acols, Avals=qpdata.avals, \n",
    "            lcon=qpdata.lcon, ucon=qpdata.ucon, lvar=qpdata.lvar, uvar=qpdata.uvar,\n",
    "            c0=qpdata.c0,  name=name_pb)\n",
    "\n",
    "end\n",
    "\n",
    "\n",
    "function init_x0(lvar, uvar)\n",
    "    # choice of an init point x0\n",
    "    x0 = zeros(length(lvar))\n",
    "    for i=1:length(x0)\n",
    "        if lvar[i] == -Inf && uvar[i] == Inf\n",
    "            x0[i] = 0.\n",
    "        elseif lvar[i] == -Inf && uvar[i] != Inf\n",
    "            x0[i] = uvar[i] - 1.\n",
    "        elseif lvar[i] != -Inf && uvar[i] == Inf\n",
    "            x0[i] = lvar[i] + 1.\n",
    "        else\n",
    "            x0[i] = (lvar[i] + uvar[i]) / 2 \n",
    "        end\n",
    "    end  \n",
    "    return x0\n",
    "end\n",
    "\n",
    "\n",
    "function OptimizeGLPK(qpdata)\n",
    "    QM = createQuadraticModel(qpdata, \"QM\")\n",
    "    SM = SlackModel(QM)\n",
    "    f = grad(SM, zeros(length(SM.meta.x0)))\n",
    "    Aeq = jac(SM, SM.meta.x0) \n",
    "    beq = SM.meta.lcon\n",
    "    lb = SM.meta.lvar\n",
    "    ub = SM.meta.uvar\n",
    "    m,n = size(Aeq)\n",
    "    x0 = init_x0(lb, ub)\n",
    "    \n",
    "    prev_term_out = GLPK.term_out(GLPK.OFF)\n",
    "    \n",
    "    lp = GLPK.Prob()\n",
    "    GLPK.set_prob_name(lp, \"sample\")\n",
    "    GLPK.set_obj_name(lp, \"OBJECTIVE\")\n",
    "    GLPK.set_obj_dir(lp, GLPK.MIN)\n",
    "\n",
    "    GLPK.add_rows(lp, m)\n",
    "    for i=1:m\n",
    "        GLPK.set_row_name(lp, i, string(\"A\", i, \"x\"))\n",
    "        GLPK.set_row_bnds(lp, i, GLPK.FX, beq[i], beq[i]) # fixed bounds\n",
    "    end\n",
    "    GLPK.add_cols(lp, n)\n",
    "    for i=1:n\n",
    "        GLPK.set_col_name(lp, i, string(\"x\", i))\n",
    "        GLPK.set_col_bnds(lp, i, GLPK.DB, lb[i], ub[i]) # double bounded\n",
    "        GLPK.set_obj_coef(lp, i, f[i])\n",
    "    end\n",
    "    ia = zeros(Int, n*m)\n",
    "    ja = zeros(Int, n*m)\n",
    "    ar = zeros(n*m)\n",
    "    for i=1:m\n",
    "        for j=1:n\n",
    "            ia[n*(i-1) + j] = i\n",
    "            ja[n*(i-1) + j] = j \n",
    "            ar[n*(i-1) + j] = Aeq[i,j]\n",
    "        end\n",
    "    end\n",
    "    sm = sparse(ia, ja, ar)\n",
    "    GLPK.load_matrix(lp, sm)\n",
    "\n",
    "    \n",
    "    #param = GLPK.SimplexParam()\n",
    "    #param.presolve = GLPK.ON\n",
    "    #GLPK.init_smcp(param)\n",
    "    #param[\"msg_lev\"] = GLPK.MSG_ERR\n",
    "    #param[\"presolve\"] = GLPK.ON\n",
    "    #param.msg_lev = GLPK.MSG_ERR\n",
    "    param = GLPK.InteriorParam()\n",
    "    \n",
    "    param.msg_lev = GLPK.MSG_ERR\n",
    "    #flag = GLPK.simplex(lp, param)\n",
    "    flag = GLPK.interior(lp, param)\n",
    "    GLPK.term_out(prev_term_out)\n",
    "    println(GLPK.get_obj_val(lp))\n",
    "    return flag   \n",
    "end\n"
   ]
  },
  {
   "cell_type": "code",
   "execution_count": 143,
   "metadata": {},
   "outputs": [
    {
     "name": "stderr",
     "output_type": "stream",
     "text": [
      "┌ Info: Using 'AFIRO' as NAME (l. 5)\n",
      "└ @ QPSReader C:\\Users\\Geoffroy Leconte\\.julia\\packages\\QPSReader\\usDQr\\src\\readqps.jl:751\n",
      "┌ Info: Using 'COST' as objective (l. 47)\n",
      "└ @ QPSReader C:\\Users\\Geoffroy Leconte\\.julia\\packages\\QPSReader\\usDQr\\src\\readqps.jl:350\n",
      "┌ Info: Using 'B' as RHS (l. 96)\n",
      "└ @ QPSReader C:\\Users\\Geoffroy Leconte\\.julia\\packages\\QPSReader\\usDQr\\src\\readqps.jl:470\n"
     ]
    }
   ],
   "source": [
    "path_pb = \"C:\\\\Users\\\\Geoffroy Leconte\\\\Documents\\\\cours\\\\TFE\\\\code\\\\problemes_netlib\"\n",
    "afiro = string(path_pb, \"\\\\AFIRO.SIF\")\n",
    "qpdata2 = readqps(afiro);\n"
   ]
  },
  {
   "cell_type": "code",
   "execution_count": 144,
   "metadata": {},
   "outputs": [
    {
     "name": "stdout",
     "output_type": "stream",
     "text": [
      "Assertion failed: x[j] > 0.0 && z[j] > 0.0\n",
      "Error detected in file draft/glpipm.c at line 508\n"
     ]
    },
    {
     "ename": "GLPKFatalError",
     "evalue": "GLPKFatalError(\"GLPK call failed. All GLPK objects you defined so far are now invalidated.\")",
     "output_type": "error",
     "traceback": [
      "GLPKFatalError(\"GLPK call failed. All GLPK objects you defined so far are now invalidated.\")",
      "",
      "Stacktrace:",
      " [1] _err_hook(::Ptr{Nothing}) at C:\\Users\\Geoffroy Leconte\\.julia\\packages\\GLPK\\oTTtu\\src\\GLPK.jl:223",
      " [2] interior(::Prob, ::InteriorParam) at C:\\Users\\Geoffroy Leconte\\.julia\\packages\\GLPK\\oTTtu\\src\\GLPK.jl:229",
      " [3] OptimizeGLPK(::QPSData) at .\\In[142]:83",
      " [4] top-level scope at In[144]:1"
     ]
    }
   ],
   "source": [
    "flag1 = OptimizeGLPK(qpdata2)"
   ]
  },
  {
   "cell_type": "code",
   "execution_count": 145,
   "metadata": {},
   "outputs": [
    {
     "data": {
      "text/plain": [
       "10"
      ]
     },
     "execution_count": 145,
     "metadata": {},
     "output_type": "execute_result"
    }
   ],
   "source": [
    "flag1"
   ]
  },
  {
   "cell_type": "code",
   "execution_count": null,
   "metadata": {},
   "outputs": [],
   "source": []
  }
 ],
 "metadata": {
  "kernelspec": {
   "display_name": "Julia 1.4.0",
   "language": "julia",
   "name": "julia-1.4"
  },
  "language_info": {
   "file_extension": ".jl",
   "mimetype": "application/julia",
   "name": "julia",
   "version": "1.4.0"
  }
 },
 "nbformat": 4,
 "nbformat_minor": 4
}
