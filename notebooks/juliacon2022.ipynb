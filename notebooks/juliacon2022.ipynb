{
 "cells": [
  {
   "cell_type": "code",
   "execution_count": 1,
   "id": "712aed09",
   "metadata": {},
   "outputs": [
    {
     "name": "stderr",
     "output_type": "stream",
     "text": [
      "\u001b[32m\u001b[1m  Activating\u001b[22m\u001b[39m new project at `C:\\Users\\Geoffroy Leconte\\Documents\\doctorat\\code\\docGL\\notebooks\\ripqp`\n"
     ]
    }
   ],
   "source": [
    "using Pkg\n",
    "Pkg.activate(\"ripqp\")"
   ]
  },
  {
   "cell_type": "code",
   "execution_count": 5,
   "id": "1f91cc5f",
   "metadata": {},
   "outputs": [
    {
     "data": {
      "text/plain": [
       "QuadraticModel{Float64, Vector{Float64}, Matrix{Float64}, Matrix{Float64}}\n",
       "  Problem name: QM\n",
       "   All variables: ████████████████████ 3      All constraints: ████████████████████ 2     \n",
       "            free: ⋅⋅⋅⋅⋅⋅⋅⋅⋅⋅⋅⋅⋅⋅⋅⋅⋅⋅⋅⋅ 0                 free: ⋅⋅⋅⋅⋅⋅⋅⋅⋅⋅⋅⋅⋅⋅⋅⋅⋅⋅⋅⋅ 0     \n",
       "           lower: ████████████████████ 3                lower: ⋅⋅⋅⋅⋅⋅⋅⋅⋅⋅⋅⋅⋅⋅⋅⋅⋅⋅⋅⋅ 0     \n",
       "           upper: ⋅⋅⋅⋅⋅⋅⋅⋅⋅⋅⋅⋅⋅⋅⋅⋅⋅⋅⋅⋅ 0                upper: ⋅⋅⋅⋅⋅⋅⋅⋅⋅⋅⋅⋅⋅⋅⋅⋅⋅⋅⋅⋅ 0     \n",
       "         low/upp: ⋅⋅⋅⋅⋅⋅⋅⋅⋅⋅⋅⋅⋅⋅⋅⋅⋅⋅⋅⋅ 0              low/upp: ⋅⋅⋅⋅⋅⋅⋅⋅⋅⋅⋅⋅⋅⋅⋅⋅⋅⋅⋅⋅ 0     \n",
       "           fixed: ⋅⋅⋅⋅⋅⋅⋅⋅⋅⋅⋅⋅⋅⋅⋅⋅⋅⋅⋅⋅ 0                fixed: ████████████████████ 2     \n",
       "          infeas: ⋅⋅⋅⋅⋅⋅⋅⋅⋅⋅⋅⋅⋅⋅⋅⋅⋅⋅⋅⋅ 0               infeas: ⋅⋅⋅⋅⋅⋅⋅⋅⋅⋅⋅⋅⋅⋅⋅⋅⋅⋅⋅⋅ 0     \n",
       "            nnzh: (  0.00% sparsity)   6               linear: ████████████████████ 2     \n",
       "                                                    nonlinear: ⋅⋅⋅⋅⋅⋅⋅⋅⋅⋅⋅⋅⋅⋅⋅⋅⋅⋅⋅⋅ 0     \n",
       "                                                         nnzj: (  0.00% sparsity)   6     \n",
       "\n",
       "  Counters:\n",
       "             obj: ⋅⋅⋅⋅⋅⋅⋅⋅⋅⋅⋅⋅⋅⋅⋅⋅⋅⋅⋅⋅ 0                 grad: ⋅⋅⋅⋅⋅⋅⋅⋅⋅⋅⋅⋅⋅⋅⋅⋅⋅⋅⋅⋅ 0                 cons: ⋅⋅⋅⋅⋅⋅⋅⋅⋅⋅⋅⋅⋅⋅⋅⋅⋅⋅⋅⋅ 0     \n",
       "        cons_lin: ⋅⋅⋅⋅⋅⋅⋅⋅⋅⋅⋅⋅⋅⋅⋅⋅⋅⋅⋅⋅ 0             cons_nln: ⋅⋅⋅⋅⋅⋅⋅⋅⋅⋅⋅⋅⋅⋅⋅⋅⋅⋅⋅⋅ 0                 jcon: ⋅⋅⋅⋅⋅⋅⋅⋅⋅⋅⋅⋅⋅⋅⋅⋅⋅⋅⋅⋅ 0     \n",
       "           jgrad: ⋅⋅⋅⋅⋅⋅⋅⋅⋅⋅⋅⋅⋅⋅⋅⋅⋅⋅⋅⋅ 0                  jac: ⋅⋅⋅⋅⋅⋅⋅⋅⋅⋅⋅⋅⋅⋅⋅⋅⋅⋅⋅⋅ 0              jac_lin: ⋅⋅⋅⋅⋅⋅⋅⋅⋅⋅⋅⋅⋅⋅⋅⋅⋅⋅⋅⋅ 0     \n",
       "         jac_nln: ⋅⋅⋅⋅⋅⋅⋅⋅⋅⋅⋅⋅⋅⋅⋅⋅⋅⋅⋅⋅ 0                jprod: ⋅⋅⋅⋅⋅⋅⋅⋅⋅⋅⋅⋅⋅⋅⋅⋅⋅⋅⋅⋅ 0            jprod_lin: ⋅⋅⋅⋅⋅⋅⋅⋅⋅⋅⋅⋅⋅⋅⋅⋅⋅⋅⋅⋅ 0     \n",
       "       jprod_nln: ⋅⋅⋅⋅⋅⋅⋅⋅⋅⋅⋅⋅⋅⋅⋅⋅⋅⋅⋅⋅ 0               jtprod: ⋅⋅⋅⋅⋅⋅⋅⋅⋅⋅⋅⋅⋅⋅⋅⋅⋅⋅⋅⋅ 0           jtprod_lin: ⋅⋅⋅⋅⋅⋅⋅⋅⋅⋅⋅⋅⋅⋅⋅⋅⋅⋅⋅⋅ 0     \n",
       "      jtprod_nln: ⋅⋅⋅⋅⋅⋅⋅⋅⋅⋅⋅⋅⋅⋅⋅⋅⋅⋅⋅⋅ 0                 hess: ⋅⋅⋅⋅⋅⋅⋅⋅⋅⋅⋅⋅⋅⋅⋅⋅⋅⋅⋅⋅ 0                hprod: ⋅⋅⋅⋅⋅⋅⋅⋅⋅⋅⋅⋅⋅⋅⋅⋅⋅⋅⋅⋅ 0     \n",
       "           jhess: ⋅⋅⋅⋅⋅⋅⋅⋅⋅⋅⋅⋅⋅⋅⋅⋅⋅⋅⋅⋅ 0               jhprod: ⋅⋅⋅⋅⋅⋅⋅⋅⋅⋅⋅⋅⋅⋅⋅⋅⋅⋅⋅⋅ 0     \n"
      ]
     },
     "execution_count": 5,
     "metadata": {},
     "output_type": "execute_result"
    }
   ],
   "source": [
    "using QuadraticModels, LinearAlgebra\n",
    "Q = [6. 2. 1.\n",
    "     2. 5. 2.\n",
    "     1. 2. 4.]\n",
    "c = [-8.; -3; -3]\n",
    "A = [1. 0. 1.\n",
    "     0. 2. 1.]\n",
    "b = [0.; 3]\n",
    "l = [0.;0;0]\n",
    "u = [Inf; Inf; Inf]\n",
    "QM = QuadraticModel(\n",
    "  c,\n",
    "  Q,\n",
    "  A=A,\n",
    "  lcon=b,\n",
    "  ucon=b,\n",
    "  lvar=l,\n",
    "  uvar=u,\n",
    "  c0=0.,\n",
    "  name=\"QM\"\n",
    ")"
   ]
  },
  {
   "cell_type": "code",
   "execution_count": 6,
   "id": "704d72c7",
   "metadata": {},
   "outputs": [
    {
     "name": "stderr",
     "output_type": "stream",
     "text": [
      "┌ Info: Solving in Float64 using K2LDL\n",
      "└ @ RipQP C:\\Users\\Geoffroy Leconte\\.julia\\packages\\RipQP\\Iqaaf\\src\\utils.jl:192\n",
      "┌ Info:   iter       obj      rgap      ‖rb‖      ‖rc‖     α_pri      α_du         μ         ρ         δ  \n",
      "└ @ RipQP C:\\Users\\Geoffroy Leconte\\.julia\\packages\\RipQP\\Iqaaf\\src\\utils.jl:110\n",
      "┌ Info:      0   2.9e+01   2.1e+00   6.3e+00   8.4e-01   0.0e+00   0.0e+00   1.4e+01   1.5e-03   1.5e-03\n",
      "└ @ RipQP C:\\Users\\Geoffroy Leconte\\.julia\\packages\\RipQP\\Iqaaf\\src\\utils.jl:171\n",
      "┌ Info:      1   1.5e+00   6.1e+00   7.9e-01   3.6e+00   8.8e-01   1.0e+00   1.0e+00   1.5e-03   1.5e-03\n",
      "└ @ RipQP C:\\Users\\Geoffroy Leconte\\.julia\\packages\\RipQP\\Iqaaf\\src\\utils.jl:171\n",
      "┌ Info:      2   1.1e+00   1.6e+00   1.1e-03   1.2e+00   1.0e+00   1.0e+00   1.6e-02   1.5e-04   1.5e-04\n",
      "└ @ RipQP C:\\Users\\Geoffroy Leconte\\.julia\\packages\\RipQP\\Iqaaf\\src\\utils.jl:171\n",
      "┌ Info:      3   1.1e+00   3.2e-03   5.2e-05   2.5e-03   9.4e-01   1.0e+00   6.9e-05   1.5e-05   1.5e-05\n",
      "└ @ RipQP C:\\Users\\Geoffroy Leconte\\.julia\\packages\\RipQP\\Iqaaf\\src\\utils.jl:171\n",
      "┌ Info:      4   1.1e+00   8.5e-07   5.2e-08   2.8e-06   1.0e+00   1.0e+00   6.9e-08   1.5e-06   1.5e-06\n",
      "└ @ RipQP C:\\Users\\Geoffroy Leconte\\.julia\\packages\\RipQP\\Iqaaf\\src\\utils.jl:171\n",
      "┌ Info:      5   1.1e+00   7.2e-09   5.2e-11   4.6e-09   1.0e+00   1.0e+00   6.9e-11   1.5e-07   1.5e-07\n",
      "└ @ RipQP C:\\Users\\Geoffroy Leconte\\.julia\\packages\\RipQP\\Iqaaf\\src\\utils.jl:171\n"
     ]
    },
    {
     "data": {
      "text/plain": [
       "\"Execution stats: first-order stationary\""
      ]
     },
     "execution_count": 6,
     "metadata": {},
     "output_type": "execute_result"
    }
   ],
   "source": [
    "using RipQP\n",
    "stats = ripqp(QM)"
   ]
  },
  {
   "cell_type": "code",
   "execution_count": 7,
   "id": "f8042699",
   "metadata": {},
   "outputs": [
    {
     "name": "stdout",
     "output_type": "stream",
     "text": [
      "Generic Execution stats\n",
      "  status: first-order stationary\n",
      "  objective value: 1.124999999986846\n",
      "  primal feasibility: 2.5895495359780116e-11\n",
      "  dual feasibility: 1.0204145183250036e-8\n",
      "  solution: [4.023609161032405e-13  1.4999999999975242  2.5493134443676875e-11]\n",
      "  multipliers: [-8.495100013589019  2.2500000051066587]\n",
      "  multipliers_L: [3.4951000091893496  3.023857717983109e-11  6.245100008493798]\n",
      "  multipliers_U: [0.0  0.0  0.0]\n",
      "  iterations: 20\n",
      "  elapsed time: 11.037000179290771\n",
      "  solver specific:\n",
      "    nvar_slack: 3\n",
      "    pdd: 7.187770065461154e-9\n",
      "    absolute_iter_cnt: 5\n"
     ]
    }
   ],
   "source": [
    "println(stats)"
   ]
  },
  {
   "cell_type": "code",
   "execution_count": null,
   "id": "cd1c12ef",
   "metadata": {},
   "outputs": [],
   "source": []
  }
 ],
 "metadata": {
  "kernelspec": {
   "display_name": "Julia 1.7.2",
   "language": "julia",
   "name": "julia-1.7"
  },
  "language_info": {
   "file_extension": ".jl",
   "mimetype": "application/julia",
   "name": "julia",
   "version": "1.7.2"
  }
 },
 "nbformat": 4,
 "nbformat_minor": 5
}
