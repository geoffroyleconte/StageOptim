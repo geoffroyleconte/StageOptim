{
 "cells": [
  {
   "cell_type": "code",
   "execution_count": 11,
   "id": "functioning-pickup",
   "metadata": {},
   "outputs": [
    {
     "data": {
      "text/plain": [
       "open_file (generic function with 1 method)"
      ]
     },
     "execution_count": 11,
     "metadata": {},
     "output_type": "execute_result"
    }
   ],
   "source": [
    "res_path = \"C:\\\\Users\\\\Geoffroy Leconte\\\\Documents\\\\doctorat\\\\code\\\\docGL\\\\amdahl_benchmarks\\\\results\"\n",
    "using DataFrames, SolverBenchmark, SolverTools, JLD2, Plots\n",
    "\n",
    "function open_file(path)\n",
    "    file = jldopen(path, \"r\")\n",
    "    df_out = file[\"stats\"]\n",
    "    close(file)\n",
    "    return df_out\n",
    "end"
   ]
  },
  {
   "cell_type": "code",
   "execution_count": 12,
   "id": "threaded-defeat",
   "metadata": {},
   "outputs": [],
   "source": [
    "fgur3 = jldopen(string(res_path, \"\\\\gurobi_scaling_lp3.jld2\"), \"r\")  # no display\n",
    "gurobi = fgur3[\"stats\"];\n",
    "close(fgur3)\n",
    "fcplex3 = jldopen(string(res_path, \"\\\\cplex_scaling_lp3.jld2\"), \"r\") # maj cplex.jl, single thread \n",
    "cplex = fcplex3[\"stats\"];\n",
    "close(fcplex3)\n",
    "fxpress2 = jldopen(string(res_path, \"\\\\xpress_scaling_lp2.jld2\"), \"r\")  #tol pdd 1e-8, feas 1e-6\n",
    "xpress = fxpress2[\"stats\"];\n",
    "close(fxpress2)"
   ]
  },
  {
   "cell_type": "code",
   "execution_count": 26,
   "id": "sixth-generic",
   "metadata": {},
   "outputs": [],
   "source": [
    "rip_mono = open_file(string(res_path, \"\\\\G-2021-03_lp_mono.jld2\"));\n",
    "\n",
    "rip_mono12 = open_file(string(res_path, \"\\\\ripqp_mono_1_lp.jld2\"));\n",
    "rip_mono2 = open_file(string(res_path, \"\\\\ripqp_mono_2_lp.jld2\")); \n",
    "rip_mono1 = open_file(string(res_path, \"\\\\ripqp_mono_PC_lp.jld2\"));\n",
    "rip_mono_nrtol1 = open_file(string(res_path, \"\\\\ripqp_mono_nrtol_1_lp.jld2\"));\n",
    "rip_mono_d1 = open_file(string(res_path, \"\\\\ripqp_dynamic_1_lp.jld2\"));\n",
    "rip_mono_c1 = open_file(string(res_path, \"\\\\ripqp_ccorr_1_lp.jld2\"));\n",
    "rip_mono_c2 = open_file(string(res_path, \"\\\\ripqp_ccorr_2_lp.jld2\")); # ccorr time\n",
    "rip_mono_c3 = open_file(string(res_path, \"\\\\ripqp_ccorr_3_lp.jld2\")); # ccorr time, increase delta\n",
    "rip_multi1 = open_file(string(res_path, \"\\\\ripqp_multi_1_lp.jld2\"));\n",
    "rip_multi_d1 = open_file(string(res_path, \"\\\\ripqp_multi_dynamic_1_lp.jld2\"));\n",
    "\n",
    "# K2_5\n",
    "rip_monoK251 = open_file(string(res_path, \"\\\\ripqp_mono_K25_1_lp.jld2\"));\n",
    "rip_mono_dK251 = open_file(string(res_path, \"\\\\ripqp_dynamic_K25_1_lp.jld2\"));\n",
    "rip_multiK251 = open_file(string(res_path, \"\\\\ripqp_multi_K25_1_lp.jld2\"));\n",
    "rip_multi_dK251 = open_file(string(res_path, \"\\\\ripqp_multi_dynamic_K25_1_lp.jld2\"));\n",
    "\n",
    "# K2_5 one step\n",
    "rip_monoosK251 = open_file(string(res_path, \"\\\\ripqp_mono_osK25_1_lp.jld2\")); # r, γ =  T(0.999), T(0.05)\n",
    "rip_monoosK252 = open_file(string(res_path, \"\\\\ripqp_mono_osK25_2_lp.jld2\")); # r, γ =  T(0.95), T(0.1)\n",
    "rip_monoIPFK21 = open_file(string(res_path, \"\\\\ripqp_mono_IPFK2_1_lp.jld2\")); # r, γ =  T(0.999), T(0.05)\n",
    "rip_monoIPFK22 = open_file(string(res_path, \"\\\\ripqp_mono_IPFK2_2_lp.jld2\")); # r, γ =  T(0.95), T(0.1)\n",
    "\n",
    "# comparisons zoom1 & refinement\n",
    "rip_monoK2 = open_file(string(res_path, \"\\\\ripqp_mono_K2_lp.jld2\"));\n",
    "rip_monoK22 = open_file(string(res_path, \"\\\\ripqp_mono_K22_lp.jld2\"));\n",
    "rip_multiK2 = open_file(string(res_path, \"\\\\ripqp_multi_K2_lp.jld2\"));\n",
    "rip_mono_z = open_file(string(res_path, \"\\\\ripqp_mono_z_lp.jld2\")); # ϵ_rbz = 1e-3\n",
    "rip_mono_z2 = open_file(string(res_path, \"\\\\ripqp_mono_z2_lp.jld2\")); # ϵ_rbz = 1e-7\n",
    "rip_multi_z = open_file(string(res_path, \"\\\\ripqp_multi_z_lp.jld2\")); # ϵ_pdd32 = 1e-4\n",
    "rip_multi_z2 = open_file(string(res_path, \"\\\\ripqp_multi_z2_lp.jld2\")); # ϵ_pdd32 = 1.0 \n",
    "rip_mono_r = open_file(string(res_path, \"\\\\ripqp_mono_r_lp.jld2\")); # ϵ_rbz = 1e-5\n",
    "rip_mono_r2 = open_file(string(res_path, \"\\\\ripqp_mono_r2_lp.jld2\")); # ref pd\n",
    "rip_multi_r = open_file(string(res_path, \"\\\\ripqp_multi_r_lp.jld2\")); \n",
    "rip_multi_r2 = open_file(string(res_path, \"\\\\ripqp_multi_r2_lp.jld2\")); # ϵ_pdd32 = 1.0 \n",
    "rip_multi_r3 = open_file(string(res_path, \"\\\\ripqp_multi_r3_lp.jld2\")); # ϵ_pdd32 = 1.0  ref pd\n",
    "rip_multi_r4 = open_file(string(res_path, \"\\\\ripqp_multi_r4_lp.jld2\")); # ϵ_pdd32 = 1.0  ref pd\n"
   ]
  },
  {
   "cell_type": "code",
   "execution_count": 27,
   "id": "judicial-seminar",
   "metadata": {},
   "outputs": [
    {
     "data": {
      "text/plain": [
       "Dict{Symbol,DataFrame} with 3 entries:\n",
       "  :ripqp_mono1  => 87×31 DataFrame. Omitted printing of 24 columns…\n",
       "  :ripqp_mono2  => 87×32 DataFrame. Omitted printing of 25 columns…\n",
       "  :ripqp_mono12 => 87×31 DataFrame. Omitted printing of 24 columns…"
      ]
     },
     "execution_count": 27,
     "metadata": {},
     "output_type": "execute_result"
    }
   ],
   "source": [
    "stats_lp = Dict(\n",
    "#                 :cplex => cplex,\n",
    "#                 :gurobi => gurobi,\n",
    "#               :ripqp_mono        => rip_mono,\n",
    "#               :ripqp_mono1       => rip_mono1,\n",
    "#                 :ripqp_mono12       => rip_mono12,\n",
    "                :ripqp_mono2       => rip_mono2,\n",
    "                # :ripqp_mono_nrtol1 => rip_mono_nrtol1,\n",
    "#               :ripqp_mono_d1   => rip_mono_d1,\n",
    "#                 :ripqp_mono_c1   => rip_mono_c1,\n",
    "#                 :ripqp_mono_c2   => rip_mono_c2,\n",
    "#                 :ripqp_mono_c3   => rip_mono_c3,\n",
    "#               :rip_monoK251    => rip_monoK251,\n",
    "#               :rip_mono_dK251  => rip_mono_dK251,\n",
    "#                 :rip_monoK2      => rip_monoK2,\n",
    "#                 :rip_monoK22      => rip_monoK22,\n",
    "#                 :rip_mono_z      => rip_mono_z,\n",
    "#                 :rip_mono_z2      => rip_mono_z2,\n",
    "#                 :rip_mono_r      => rip_mono_r,\n",
    "#                 :rip_mono_r2      => rip_mono_r2,\n",
    "               )"
   ]
  },
  {
   "cell_type": "code",
   "execution_count": 28,
   "id": "certain-monitor",
   "metadata": {},
   "outputs": [
    {
     "data": {
      "image/svg+xml": [
       "<?xml version=\"1.0\" encoding=\"utf-8\"?>\n",
       "<svg xmlns=\"http://www.w3.org/2000/svg\" xmlns:xlink=\"http://www.w3.org/1999/xlink\" width=\"600\" height=\"400\" viewBox=\"0 0 2400 1600\">\n",
       "<defs>\n",
       "  <clipPath id=\"clip4700\">\n",
       "    <rect x=\"0\" y=\"0\" width=\"2400\" height=\"1600\"/>\n",
       "  </clipPath>\n",
       "</defs>\n",
       "<path clip-path=\"url(#clip4700)\" d=\"\n",
       "M0 1600 L2400 1600 L2400 0 L0 0  Z\n",
       "  \" fill=\"#ffffff\" fill-rule=\"evenodd\" fill-opacity=\"1\"/>\n",
       "<defs>\n",
       "  <clipPath id=\"clip4701\">\n",
       "    <rect x=\"480\" y=\"0\" width=\"1681\" height=\"1600\"/>\n",
       "  </clipPath>\n",
       "</defs>\n",
       "<path clip-path=\"url(#clip4700)\" d=\"\n",
       "M242.516 1425.62 L2352.76 1425.62 L2352.76 121.675 L242.516 121.675  Z\n",
       "  \" fill=\"#ffffff\" fill-rule=\"evenodd\" fill-opacity=\"1\"/>\n",
       "<defs>\n",
       "  <clipPath id=\"clip4702\">\n",
       "    <rect x=\"242\" y=\"121\" width=\"2111\" height=\"1305\"/>\n",
       "  </clipPath>\n",
       "</defs>\n",
       "<polyline clip-path=\"url(#clip4702)\" style=\"stroke:#000000; stroke-width:2; stroke-opacity:0.1; fill:none\" points=\"\n",
       "  242.516,1425.62 242.516,121.675 \n",
       "  \"/>\n",
       "<polyline clip-path=\"url(#clip4702)\" style=\"stroke:#000000; stroke-width:2; stroke-opacity:0.1; fill:none\" points=\"\n",
       "  635.394,1425.62 635.394,121.675 \n",
       "  \"/>\n",
       "<polyline clip-path=\"url(#clip4702)\" style=\"stroke:#000000; stroke-width:2; stroke-opacity:0.1; fill:none\" points=\"\n",
       "  1028.27,1425.62 1028.27,121.675 \n",
       "  \"/>\n",
       "<polyline clip-path=\"url(#clip4702)\" style=\"stroke:#000000; stroke-width:2; stroke-opacity:0.1; fill:none\" points=\"\n",
       "  1421.15,1425.62 1421.15,121.675 \n",
       "  \"/>\n",
       "<polyline clip-path=\"url(#clip4702)\" style=\"stroke:#000000; stroke-width:2; stroke-opacity:0.1; fill:none\" points=\"\n",
       "  1814.02,1425.62 1814.02,121.675 \n",
       "  \"/>\n",
       "<polyline clip-path=\"url(#clip4702)\" style=\"stroke:#000000; stroke-width:2; stroke-opacity:0.1; fill:none\" points=\"\n",
       "  2206.9,1425.62 2206.9,121.675 \n",
       "  \"/>\n",
       "<polyline clip-path=\"url(#clip4702)\" style=\"stroke:#000000; stroke-width:2; stroke-opacity:0.1; fill:none\" points=\"\n",
       "  242.516,1425.62 2352.76,1425.62 \n",
       "  \"/>\n",
       "<polyline clip-path=\"url(#clip4702)\" style=\"stroke:#000000; stroke-width:2; stroke-opacity:0.1; fill:none\" points=\"\n",
       "  242.516,1129.27 2352.76,1129.27 \n",
       "  \"/>\n",
       "<polyline clip-path=\"url(#clip4702)\" style=\"stroke:#000000; stroke-width:2; stroke-opacity:0.1; fill:none\" points=\"\n",
       "  242.516,832.917 2352.76,832.917 \n",
       "  \"/>\n",
       "<polyline clip-path=\"url(#clip4702)\" style=\"stroke:#000000; stroke-width:2; stroke-opacity:0.1; fill:none\" points=\"\n",
       "  242.516,536.566 2352.76,536.566 \n",
       "  \"/>\n",
       "<polyline clip-path=\"url(#clip4702)\" style=\"stroke:#000000; stroke-width:2; stroke-opacity:0.1; fill:none\" points=\"\n",
       "  242.516,240.215 2352.76,240.215 \n",
       "  \"/>\n",
       "<polyline clip-path=\"url(#clip4700)\" style=\"stroke:#000000; stroke-width:4; stroke-opacity:1; fill:none\" points=\"\n",
       "  242.516,1425.62 2352.76,1425.62 \n",
       "  \"/>\n",
       "<polyline clip-path=\"url(#clip4700)\" style=\"stroke:#000000; stroke-width:4; stroke-opacity:1; fill:none\" points=\"\n",
       "  242.516,1425.62 242.516,121.675 \n",
       "  \"/>\n",
       "<polyline clip-path=\"url(#clip4700)\" style=\"stroke:#000000; stroke-width:4; stroke-opacity:1; fill:none\" points=\"\n",
       "  242.516,1425.62 242.516,1409.97 \n",
       "  \"/>\n",
       "<polyline clip-path=\"url(#clip4700)\" style=\"stroke:#000000; stroke-width:4; stroke-opacity:1; fill:none\" points=\"\n",
       "  635.394,1425.62 635.394,1409.97 \n",
       "  \"/>\n",
       "<polyline clip-path=\"url(#clip4700)\" style=\"stroke:#000000; stroke-width:4; stroke-opacity:1; fill:none\" points=\"\n",
       "  1028.27,1425.62 1028.27,1409.97 \n",
       "  \"/>\n",
       "<polyline clip-path=\"url(#clip4700)\" style=\"stroke:#000000; stroke-width:4; stroke-opacity:1; fill:none\" points=\"\n",
       "  1421.15,1425.62 1421.15,1409.97 \n",
       "  \"/>\n",
       "<polyline clip-path=\"url(#clip4700)\" style=\"stroke:#000000; stroke-width:4; stroke-opacity:1; fill:none\" points=\"\n",
       "  1814.02,1425.62 1814.02,1409.97 \n",
       "  \"/>\n",
       "<polyline clip-path=\"url(#clip4700)\" style=\"stroke:#000000; stroke-width:4; stroke-opacity:1; fill:none\" points=\"\n",
       "  2206.9,1425.62 2206.9,1409.97 \n",
       "  \"/>\n",
       "<polyline clip-path=\"url(#clip4700)\" style=\"stroke:#000000; stroke-width:4; stroke-opacity:1; fill:none\" points=\"\n",
       "  242.516,1425.62 267.839,1425.62 \n",
       "  \"/>\n",
       "<polyline clip-path=\"url(#clip4700)\" style=\"stroke:#000000; stroke-width:4; stroke-opacity:1; fill:none\" points=\"\n",
       "  242.516,1129.27 267.839,1129.27 \n",
       "  \"/>\n",
       "<polyline clip-path=\"url(#clip4700)\" style=\"stroke:#000000; stroke-width:4; stroke-opacity:1; fill:none\" points=\"\n",
       "  242.516,832.917 267.839,832.917 \n",
       "  \"/>\n",
       "<polyline clip-path=\"url(#clip4700)\" style=\"stroke:#000000; stroke-width:4; stroke-opacity:1; fill:none\" points=\"\n",
       "  242.516,536.566 267.839,536.566 \n",
       "  \"/>\n",
       "<polyline clip-path=\"url(#clip4700)\" style=\"stroke:#000000; stroke-width:4; stroke-opacity:1; fill:none\" points=\"\n",
       "  242.516,240.215 267.839,240.215 \n",
       "  \"/>\n",
       "<g clip-path=\"url(#clip4700)\">\n",
       "<text style=\"fill:#000000; fill-opacity:1; font-family:Arial,Helvetica Neue,Helvetica,sans-serif; font-size:48px; text-anchor:middle;\" transform=\"rotate(0, 242.516, 1479.62)\" x=\"242.516\" y=\"1479.62\">0.0</text>\n",
       "</g>\n",
       "<g clip-path=\"url(#clip4700)\">\n",
       "<text style=\"fill:#000000; fill-opacity:1; font-family:Arial,Helvetica Neue,Helvetica,sans-serif; font-size:48px; text-anchor:middle;\" transform=\"rotate(0, 635.394, 1479.62)\" x=\"635.394\" y=\"1479.62\">0.5</text>\n",
       "</g>\n",
       "<g clip-path=\"url(#clip4700)\">\n",
       "<text style=\"fill:#000000; fill-opacity:1; font-family:Arial,Helvetica Neue,Helvetica,sans-serif; font-size:48px; text-anchor:middle;\" transform=\"rotate(0, 1028.27, 1479.62)\" x=\"1028.27\" y=\"1479.62\">1.0</text>\n",
       "</g>\n",
       "<g clip-path=\"url(#clip4700)\">\n",
       "<text style=\"fill:#000000; fill-opacity:1; font-family:Arial,Helvetica Neue,Helvetica,sans-serif; font-size:48px; text-anchor:middle;\" transform=\"rotate(0, 1421.15, 1479.62)\" x=\"1421.15\" y=\"1479.62\">1.5</text>\n",
       "</g>\n",
       "<g clip-path=\"url(#clip4700)\">\n",
       "<text style=\"fill:#000000; fill-opacity:1; font-family:Arial,Helvetica Neue,Helvetica,sans-serif; font-size:48px; text-anchor:middle;\" transform=\"rotate(0, 1814.02, 1479.62)\" x=\"1814.02\" y=\"1479.62\">2.0</text>\n",
       "</g>\n",
       "<g clip-path=\"url(#clip4700)\">\n",
       "<text style=\"fill:#000000; fill-opacity:1; font-family:Arial,Helvetica Neue,Helvetica,sans-serif; font-size:48px; text-anchor:middle;\" transform=\"rotate(0, 2206.9, 1479.62)\" x=\"2206.9\" y=\"1479.62\">2.5</text>\n",
       "</g>\n",
       "<g clip-path=\"url(#clip4700)\">\n",
       "<text style=\"fill:#000000; fill-opacity:1; font-family:Arial,Helvetica Neue,Helvetica,sans-serif; font-size:48px; text-anchor:end;\" transform=\"rotate(0, 218.516, 1443.12)\" x=\"218.516\" y=\"1443.12\">0.00</text>\n",
       "</g>\n",
       "<g clip-path=\"url(#clip4700)\">\n",
       "<text style=\"fill:#000000; fill-opacity:1; font-family:Arial,Helvetica Neue,Helvetica,sans-serif; font-size:48px; text-anchor:end;\" transform=\"rotate(0, 218.516, 1146.77)\" x=\"218.516\" y=\"1146.77\">0.25</text>\n",
       "</g>\n",
       "<g clip-path=\"url(#clip4700)\">\n",
       "<text style=\"fill:#000000; fill-opacity:1; font-family:Arial,Helvetica Neue,Helvetica,sans-serif; font-size:48px; text-anchor:end;\" transform=\"rotate(0, 218.516, 850.417)\" x=\"218.516\" y=\"850.417\">0.50</text>\n",
       "</g>\n",
       "<g clip-path=\"url(#clip4700)\">\n",
       "<text style=\"fill:#000000; fill-opacity:1; font-family:Arial,Helvetica Neue,Helvetica,sans-serif; font-size:48px; text-anchor:end;\" transform=\"rotate(0, 218.516, 554.066)\" x=\"218.516\" y=\"554.066\">0.75</text>\n",
       "</g>\n",
       "<g clip-path=\"url(#clip4700)\">\n",
       "<text style=\"fill:#000000; fill-opacity:1; font-family:Arial,Helvetica Neue,Helvetica,sans-serif; font-size:48px; text-anchor:end;\" transform=\"rotate(0, 218.516, 257.715)\" x=\"218.516\" y=\"257.715\">1.00</text>\n",
       "</g>\n",
       "<g clip-path=\"url(#clip4700)\">\n",
       "<text style=\"fill:#000000; fill-opacity:1; font-family:Arial,Helvetica Neue,Helvetica,sans-serif; font-size:84px; text-anchor:middle;\" transform=\"rotate(0, 1297.64, 73.2)\" x=\"1297.64\" y=\"73.2\">Performance profile (Netlib problems)</text>\n",
       "</g>\n",
       "<g clip-path=\"url(#clip4700)\">\n",
       "<text style=\"fill:#000000; fill-opacity:1; font-family:Arial,Helvetica Neue,Helvetica,sans-serif; font-size:66px; text-anchor:middle;\" transform=\"rotate(0, 1297.64, 1559.48)\" x=\"1297.64\" y=\"1559.48\">Within this factor of the best (log scale)</text>\n",
       "</g>\n",
       "<g clip-path=\"url(#clip4700)\">\n",
       "<text style=\"fill:#000000; fill-opacity:1; font-family:Arial,Helvetica Neue,Helvetica,sans-serif; font-size:66px; text-anchor:middle;\" transform=\"rotate(-90, 89.2861, 773.647)\" x=\"89.2861\" y=\"773.647\">Proportion of problems</text>\n",
       "</g>\n",
       "<polyline clip-path=\"url(#clip4702)\" style=\"stroke:#009af9; stroke-width:4; stroke-opacity:1; fill:none\" points=\"\n",
       "  242.516,1044.11 242.718,1044.11 242.718,1030.48 244.071,1030.48 244.071,1016.86 245.015,1016.86 245.015,1003.23 245.083,1003.23 245.083,989.608 245.276,989.608 \n",
       "  245.276,975.983 245.681,975.983 245.681,962.358 245.76,962.358 245.76,948.732 245.931,948.732 245.931,935.107 246.612,935.107 246.612,921.482 246.967,921.482 \n",
       "  246.967,907.856 247.203,907.856 247.203,894.231 247.376,894.231 247.376,880.606 247.392,880.606 247.392,866.98 248.257,866.98 248.257,853.355 249.094,853.355 \n",
       "  249.094,839.73 249.561,839.73 249.561,826.104 249.581,826.104 249.581,812.479 249.949,812.479 249.949,798.854 250.142,798.854 250.142,785.228 250.598,785.228 \n",
       "  250.598,771.603 251.103,771.603 251.103,757.978 251.526,757.978 251.526,744.352 251.691,744.352 251.691,730.727 251.81,730.727 251.81,717.102 252.2,717.102 \n",
       "  252.2,703.476 252.357,703.476 252.357,689.851 252.52,689.851 252.52,676.226 252.562,676.226 252.562,662.6 253.257,662.6 253.257,648.975 253.523,648.975 \n",
       "  253.523,635.35 254.264,635.35 254.264,621.725 254.95,621.725 254.95,608.099 255.304,608.099 255.304,594.474 255.603,594.474 255.603,580.849 255.978,580.849 \n",
       "  255.978,567.223 258.036,567.223 258.036,553.598 258.471,553.598 258.471,539.973 258.676,539.973 258.676,526.347 258.684,526.347 258.684,512.722 258.996,512.722 \n",
       "  258.996,499.097 259.589,499.097 259.589,485.471 262.17,485.471 262.17,471.846 265.03,471.846 265.03,458.221 265.651,458.221 265.651,444.595 267.723,444.595 \n",
       "  267.723,430.97 268.312,430.97 268.312,417.345 269.9,417.345 269.9,403.719 270.663,403.719 270.663,390.094 271.156,390.094 271.156,376.469 278.606,376.469 \n",
       "  278.606,362.843 283.601,362.843 283.601,349.218 295.394,349.218 295.394,335.593 304.359,335.593 304.359,321.967 308.706,321.967 308.706,308.342 317.475,308.342 \n",
       "  317.475,294.717 318.485,294.717 318.485,281.091 387.247,281.091 387.247,267.466 465.508,267.466 465.508,253.841 781.192,253.841 781.192,240.215 4079.32,240.215 \n",
       "  4079.32,226.59 \n",
       "  \"/>\n",
       "<polyline clip-path=\"url(#clip4702)\" style=\"stroke:#e26f46; stroke-width:4; stroke-opacity:1; fill:none\" points=\"\n",
       "  242.516,839.73 242.555,839.73 242.555,826.104 242.869,826.104 242.869,812.479 243.194,812.479 243.194,798.854 244.088,798.854 244.088,785.228 244.417,785.228 \n",
       "  244.417,771.603 244.532,771.603 244.532,757.978 246.206,757.978 246.206,744.352 246.607,744.352 246.607,730.727 246.759,730.727 246.759,717.102 246.984,717.102 \n",
       "  246.984,703.476 247.512,703.476 247.512,689.851 247.607,689.851 247.607,676.226 247.636,676.226 247.636,662.6 248.242,662.6 248.242,648.975 248.257,648.975 \n",
       "  248.257,635.35 248.562,635.35 248.562,621.725 249.222,621.725 249.222,608.099 249.698,608.099 249.698,594.474 249.994,594.474 249.994,580.849 250.716,580.849 \n",
       "  250.716,567.223 250.883,567.223 250.883,553.598 251.191,553.598 251.191,539.973 251.253,539.973 251.253,526.347 252.749,526.347 252.749,512.722 253.5,512.722 \n",
       "  253.5,499.097 253.562,499.097 253.562,485.471 257.846,485.471 257.846,471.846 258.401,471.846 258.401,458.221 259.119,458.221 259.119,444.595 259.414,444.595 \n",
       "  259.414,430.97 259.786,430.97 259.786,417.345 259.93,417.345 259.93,403.719 260.75,403.719 260.75,390.094 261.009,390.094 261.009,376.469 263.192,376.469 \n",
       "  263.192,362.843 265.884,362.843 265.884,349.218 266.414,349.218 266.414,335.593 266.946,335.593 266.946,321.967 268.603,321.967 268.603,308.342 274.645,308.342 \n",
       "  274.645,294.717 281.701,294.717 281.701,281.091 287.663,281.091 287.663,267.466 325.896,267.466 325.896,253.841 1535.52,253.841 1535.52,240.215 4079.32,240.215 \n",
       "  4079.32,226.59 \n",
       "  \"/>\n",
       "<polyline clip-path=\"url(#clip4702)\" style=\"stroke:#3da44d; stroke-width:4; stroke-opacity:1; fill:none\" points=\"\n",
       "  242.516,1207.61 243.137,1207.61 243.137,1193.99 245.632,1193.99 245.632,1180.36 246.345,1180.36 246.345,1166.74 247.062,1166.74 247.062,1153.11 247.104,1153.11 \n",
       "  247.104,1139.49 249.183,1139.49 249.183,1125.86 250.832,1125.86 250.832,1112.24 252.137,1112.24 252.137,1098.61 252.772,1098.61 252.772,1084.99 253.107,1084.99 \n",
       "  253.107,1071.36 254.919,1071.36 254.919,1057.73 255.64,1057.73 255.64,1044.11 256.519,1044.11 256.519,1030.48 256.979,1030.48 256.979,1016.86 259.401,1016.86 \n",
       "  259.401,1003.23 259.598,1003.23 259.598,989.608 259.84,989.608 259.84,975.983 261.635,975.983 261.635,962.358 261.79,962.358 261.79,948.732 261.848,948.732 \n",
       "  261.848,935.107 262.276,935.107 262.276,921.482 265.108,921.482 265.108,907.856 268.241,907.856 268.241,894.231 269.284,894.231 269.284,880.606 269.903,880.606 \n",
       "  269.903,866.98 272.329,866.98 272.329,853.355 273.882,853.355 273.882,839.73 276.778,839.73 276.778,826.104 277.846,826.104 277.846,812.479 278.634,812.479 \n",
       "  278.634,798.854 279.838,798.854 279.838,785.228 281.184,785.228 281.184,771.603 283.92,771.603 283.92,757.978 288.882,757.978 288.882,744.352 289.541,744.352 \n",
       "  289.541,730.727 290.74,730.727 290.74,717.102 290.882,717.102 290.882,703.476 292.663,703.476 292.663,689.851 297.685,689.851 297.685,676.226 298.364,676.226 \n",
       "  298.364,662.6 303.14,662.6 303.14,648.975 303.509,648.975 303.509,635.35 311.473,635.35 311.473,621.725 312.334,621.725 312.334,608.099 312.467,608.099 \n",
       "  312.467,594.474 314.684,594.474 314.684,580.849 315.374,580.849 315.374,567.223 317.992,567.223 317.992,553.598 318.678,553.598 318.678,539.973 320.777,539.973 \n",
       "  320.777,526.347 321.906,526.347 321.906,512.722 322.29,512.722 322.29,499.097 324.042,499.097 324.042,485.471 325.437,485.471 325.437,471.846 328.82,471.846 \n",
       "  328.82,458.221 332.087,458.221 332.087,444.595 335.299,444.595 335.299,430.97 339.978,430.97 339.978,417.345 342.292,417.345 342.292,403.719 345.817,403.719 \n",
       "  345.817,390.094 346.134,390.094 346.134,376.469 348.454,376.469 348.454,362.843 348.722,362.843 348.722,349.218 350.979,349.218 350.979,335.593 372.809,335.593 \n",
       "  372.809,321.967 374.075,321.967 374.075,308.342 385.435,308.342 385.435,294.717 409.591,294.717 409.591,281.091 414.238,281.091 414.238,267.466 430.998,267.466 \n",
       "  430.998,253.841 2160.92,253.841 2160.92,240.215 4079.32,240.215 4079.32,226.59 \n",
       "  \"/>\n",
       "<path clip-path=\"url(#clip4700)\" d=\"\n",
       "M1733.09 1281.62 L2280.76 1281.62 L2280.76 1039.7 L1733.09 1039.7  Z\n",
       "  \" fill=\"#ffffff\" fill-rule=\"evenodd\" fill-opacity=\"1\"/>\n",
       "<polyline clip-path=\"url(#clip4700)\" style=\"stroke:#000000; stroke-width:4; stroke-opacity:1; fill:none\" points=\"\n",
       "  1733.09,1281.62 2280.76,1281.62 2280.76,1039.7 1733.09,1039.7 1733.09,1281.62 \n",
       "  \"/>\n",
       "<polyline clip-path=\"url(#clip4700)\" style=\"stroke:#009af9; stroke-width:4; stroke-opacity:1; fill:none\" points=\"\n",
       "  1757.09,1100.18 1901.09,1100.18 \n",
       "  \"/>\n",
       "<g clip-path=\"url(#clip4700)\">\n",
       "<text style=\"fill:#000000; fill-opacity:1; font-family:Arial,Helvetica Neue,Helvetica,sans-serif; font-size:48px; text-anchor:start;\" transform=\"rotate(0, 1925.09, 1117.68)\" x=\"1925.09\" y=\"1117.68\">ripqp_mono1</text>\n",
       "</g>\n",
       "<polyline clip-path=\"url(#clip4700)\" style=\"stroke:#e26f46; stroke-width:4; stroke-opacity:1; fill:none\" points=\"\n",
       "  1757.09,1160.66 1901.09,1160.66 \n",
       "  \"/>\n",
       "<g clip-path=\"url(#clip4700)\">\n",
       "<text style=\"fill:#000000; fill-opacity:1; font-family:Arial,Helvetica Neue,Helvetica,sans-serif; font-size:48px; text-anchor:start;\" transform=\"rotate(0, 1925.09, 1178.16)\" x=\"1925.09\" y=\"1178.16\">ripqp_mono2</text>\n",
       "</g>\n",
       "<polyline clip-path=\"url(#clip4700)\" style=\"stroke:#3da44d; stroke-width:4; stroke-opacity:1; fill:none\" points=\"\n",
       "  1757.09,1221.14 1901.09,1221.14 \n",
       "  \"/>\n",
       "<g clip-path=\"url(#clip4700)\">\n",
       "<text style=\"fill:#000000; fill-opacity:1; font-family:Arial,Helvetica Neue,Helvetica,sans-serif; font-size:48px; text-anchor:start;\" transform=\"rotate(0, 1925.09, 1238.64)\" x=\"1925.09\" y=\"1238.64\">ripqp_mono12</text>\n",
       "</g>\n",
       "</svg>\n"
      ]
     },
     "execution_count": 28,
     "metadata": {},
     "output_type": "execute_result"
    }
   ],
   "source": [
    "perf = performance_profile(stats_lp, df->df.elapsed_time)\n",
    "plot!(perf, legend=:bottomright)\n",
    "title!(\"Performance profile (Netlib problems)\")"
   ]
  },
  {
   "cell_type": "code",
   "execution_count": 6,
   "id": "durable-consultancy",
   "metadata": {},
   "outputs": [
    {
     "ename": "LoadError",
     "evalue": "UndefVarError: rip_mono1 not defined",
     "output_type": "error",
     "traceback": [
      "UndefVarError: rip_mono1 not defined",
      "",
      "Stacktrace:",
      " [1] top-level scope at In[6]:1",
      " [2] include_string(::Function, ::Module, ::String, ::String) at .\\loading.jl:1091"
     ]
    }
   ],
   "source": [
    "rip_mono1bis = copy(rip_mono1);\n",
    "rip_mono1bis.iter .*= 2;\n",
    "\n",
    "stats_it = Dict(\n",
    "                :rip_mono1   => rip_mono1bis,\n",
    "#                 :rip_monoosK251 => rip_monoosK251,\n",
    "#                 :rip_monoosK252 => rip_monoosK252,\n",
    "                :rip_monoIPFK21 => rip_monoIPFK21,\n",
    "                :rip_monoIPFK22 => rip_monoIPFK22\n",
    "                )"
   ]
  },
  {
   "cell_type": "code",
   "execution_count": 7,
   "id": "personalized-zambia",
   "metadata": {},
   "outputs": [
    {
     "ename": "LoadError",
     "evalue": "UndefVarError: performance_profile not defined",
     "output_type": "error",
     "traceback": [
      "UndefVarError: performance_profile not defined",
      "",
      "Stacktrace:",
      " [1] top-level scope at In[7]:1",
      " [2] include_string(::Function, ::Module, ::String, ::String) at .\\loading.jl:1091"
     ]
    }
   ],
   "source": [
    "perf2 = performance_profile(stats_it, df->df.iter)\n",
    "plot!(perf2, legend=:bottomright)\n",
    "title!(\"Performance profile (Netlib problems)\")"
   ]
  },
  {
   "cell_type": "code",
   "execution_count": 8,
   "id": "front-berkeley",
   "metadata": {},
   "outputs": [
    {
     "ename": "LoadError",
     "evalue": "UndefVarError: rip_multiK2 not defined",
     "output_type": "error",
     "traceback": [
      "UndefVarError: rip_multiK2 not defined",
      "",
      "Stacktrace:",
      " [1] top-level scope at In[8]:2",
      " [2] include_string(::Function, ::Module, ::String, ::String) at .\\loading.jl:1091"
     ]
    }
   ],
   "source": [
    "# stats multi\n",
    "stats_lp = Dict(\n",
    "                :rip_multiK2      => rip_multiK2,\n",
    "                :rip_multi_z      => rip_multi_z,\n",
    "#                 :rip_multi_z2      => rip_multi_z2,\n",
    "                :rip_multi_r      => rip_multi_r,\n",
    "#                 :rip_multi_r2      => rip_multi_r2,\n",
    "#                 :rip_multi_r3      => rip_multi_r3,\n",
    "#                 :rip_multi_r4      => rip_multi_r4,\n",
    "               )"
   ]
  },
  {
   "cell_type": "code",
   "execution_count": 9,
   "id": "rapid-imperial",
   "metadata": {},
   "outputs": [
    {
     "ename": "LoadError",
     "evalue": "UndefVarError: performance_profile not defined",
     "output_type": "error",
     "traceback": [
      "UndefVarError: performance_profile not defined",
      "",
      "Stacktrace:",
      " [1] top-level scope at In[9]:1",
      " [2] include_string(::Function, ::Module, ::String, ::String) at .\\loading.jl:1091"
     ]
    }
   ],
   "source": [
    "perf = performance_profile(stats_lp, df->df.iter)\n",
    "plot!(perf, legend=:bottomright)\n",
    "title!(\"Performance profile (Netlib problems)\")"
   ]
  },
  {
   "cell_type": "code",
   "execution_count": 10,
   "id": "alpha-growth",
   "metadata": {
    "scrolled": true
   },
   "outputs": [
    {
     "ename": "LoadError",
     "evalue": "UndefVarError: rip_mono2 not defined",
     "output_type": "error",
     "traceback": [
      "UndefVarError: rip_mono2 not defined",
      "",
      "Stacktrace:",
      " [1] #7 at .\\In[10]:2 [inlined]",
      " [2] withenv(::var\"#7#8\", ::Pair{String,Int64}, ::Vararg{Pair{String,Int64},N} where N) at .\\env.jl:161",
      " [3] top-level scope at In[10]:1",
      " [4] include_string(::Function, ::Module, ::String, ::String) at .\\loading.jl:1091"
     ]
    }
   ],
   "source": [
    "withenv(\"COLUMNS\" => 400, \"LINES\" => 200) do\n",
    "    display(rip_mono2)\n",
    "end"
   ]
  },
  {
   "cell_type": "code",
   "execution_count": null,
   "id": "latter-checkout",
   "metadata": {},
   "outputs": [],
   "source": []
  }
 ],
 "metadata": {
  "kernelspec": {
   "display_name": "Julia 1.5.3",
   "language": "julia",
   "name": "julia-1.5"
  },
  "language_info": {
   "file_extension": ".jl",
   "mimetype": "application/julia",
   "name": "julia",
   "version": "1.5.3"
  }
 },
 "nbformat": 4,
 "nbformat_minor": 5
}
