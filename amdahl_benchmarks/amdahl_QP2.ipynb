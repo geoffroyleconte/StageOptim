{
 "cells": [
  {
   "cell_type": "code",
   "execution_count": 1,
   "id": "challenging-observation",
   "metadata": {},
   "outputs": [
    {
     "data": {
      "text/plain": [
       "open_file (generic function with 1 method)"
      ]
     },
     "execution_count": 1,
     "metadata": {},
     "output_type": "execute_result"
    }
   ],
   "source": [
    "res_path = \"C:\\\\Users\\\\Geoffroy Leconte\\\\Documents\\\\doctorat\\\\code\\\\docGL\\\\amdahl_benchmarks\\\\results\"\n",
    "using DataFrames, SolverBenchmark, SolverTools, JLD2, Plots\n",
    "\n",
    "function open_file(path)\n",
    "    file = jldopen(path, \"r\")\n",
    "    df_out = file[\"stats\"]\n",
    "    close(file)\n",
    "    return df_out\n",
    "end"
   ]
  },
  {
   "cell_type": "code",
   "execution_count": null,
   "id": "violent-activity",
   "metadata": {},
   "outputs": [],
   "source": [
    "rip_mono = open_file(string(res_path, \"\\\\G-2021-03_qp_mono.jld2\"));\n",
    "rip_mono1 = open_file(string(res_path, \"\\\\ripqp_mono_1_qp.jld2\"));\n",
    "rip_mono_nrtol1 = open_file(string(res_path, \"\\\\ripqp_mono_nrtol_1_qp.jld2\"));\n",
    "rip_mono_d1 = open_file(string(res_path, \"\\\\ripqp_dynamic_1_qp.jld2\"));\n",
    "rip_mono_c1 = open_file(string(res_path, \"\\\\ripqp_ccorr_1_qp.jld2\"));\n",
    "rip_multi1 = open_file(string(res_path, \"\\\\ripqp_multi_1_qp.jld2\"));\n",
    "rip_multi_d1 = open_file(string(res_path, \"\\\\ripqp_multi_dynamic_1_qp.jld2\"));\n",
    "\n",
    "# K2_5\n",
    "rip_mono1 = open_file(string(res_path, \"\\\\ripqp_mono_K2_5_1_lp.jld2\"));\n",
    "rip_mono_d1 = open_file(string(res_path, \"\\\\ripqp_dynamic_K2_5_1_lp.jld2\"));\n",
    "rip_multi1 = open_file(string(res_path, \"\\\\ripqp_multi_K2_5_1_lp.jld2\"));\n",
    "rip_multi_d1 = open_file(string(res_path, \"\\\\ripqp_multi_dynamic_K2_5_1_lp.jld2\"));"
   ]
  },
  {
   "cell_type": "code",
   "execution_count": null,
   "id": "tender-utilization",
   "metadata": {},
   "outputs": [],
   "source": [
    "stats_qp = Dict(\n",
    "                # :ripqp_mono        => rip_mono,\n",
    "                :ripqp_mono1       => rip_mono1,\n",
    "                # :ripqp_mono_nrtol1 => rip_mono_nrtol1,\n",
    "                :ripqp_mono_d1   => rip_mono_d1,\n",
    "                # :ripqp_mono_c1   => rip_mono_c1,\n",
    "                )"
   ]
  },
  {
   "cell_type": "code",
   "execution_count": null,
   "id": "specific-difference",
   "metadata": {},
   "outputs": [],
   "source": [
    "perf = performance_profile(stats_qp, df->df.elapsed_time)\n",
    "plot!(perf, legend=:bottomright)\n",
    "title!(\"Performance profile (Maros and Meszaros problems)\")"
   ]
  }
 ],
 "metadata": {
  "kernelspec": {
   "display_name": "Julia 1.5.3",
   "language": "julia",
   "name": "julia-1.5"
  },
  "language_info": {
   "file_extension": ".jl",
   "mimetype": "application/julia",
   "name": "julia",
   "version": "1.5.3"
  }
 },
 "nbformat": 4,
 "nbformat_minor": 5
}
