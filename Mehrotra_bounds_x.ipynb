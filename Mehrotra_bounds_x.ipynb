{
 "cells": [
  {
   "cell_type": "markdown",
   "metadata": {},
   "source": [
    "# Problèmes\n",
    "\n",
    "### 1)\n",
    "Primal: $\\underset{x \\in \\mathbb{R}^3}{\\min} \\frac{1}{2} x' Q x + c' x ~~~~~~~~ s.t. ~ A x = b ~, ~~ x \\ge 0$\n",
    "\n",
    "with  $Q = \\begin{bmatrix} 6 & 2 & 1\\\\ 2 & 5 & 2\\\\ 1 & 2 & 4 \\end{bmatrix} $, $c = \\begin{bmatrix} -8 \\\\ -3 \\\\ -3 \\end{bmatrix}$, $A = \\begin{bmatrix} 1 & 0 &1 \\\\ 0 & 1 & 1 \\end{bmatrix}$ , and $b = \\begin{bmatrix} 3 \\\\ 0 \\end{bmatrix} $.\n",
    "\n",
    "\n",
    "### 2) \n",
    "AFIRO        28 rows    32 cols        88 nonzeros       794 bytes      -4.6475314286E+02 optimalvalue"
   ]
  },
  {
   "cell_type": "code",
   "execution_count": 1,
   "metadata": {},
   "outputs": [],
   "source": [
    "using LinearAlgebra\n",
    "using LaTeXStrings\n",
    "using DataFrames\n",
    "using DataStructures\n",
    "using QuadraticModels\n",
    "using Printf\n",
    "using SparseArrays\n",
    "using BenchmarkTools\n",
    "using NLPModels\n",
    "using LinearOperators\n",
    "using QPSReader\n",
    "using SolverTools\n",
    "using SolverBenchmark\n",
    "using LDLFactorizations\n",
    "using Statistics\n",
    "using Quadmath"
   ]
  },
  {
   "cell_type": "markdown",
   "metadata": {},
   "source": [
    "# Mehrotra formulation plus générale:\n",
    "\n",
    "min $c_0 + c'x + \\frac{1}{2} x'Hx ~~~~$ s.t. $ Ax = b $ and $l \\le x \\le u$ "
   ]
  },
  {
   "cell_type": "code",
   "execution_count": 2,
   "metadata": {},
   "outputs": [
    {
     "data": {
      "text/plain": [
       "starting_points (generic function with 1 method)"
      ]
     },
     "execution_count": 2,
     "metadata": {},
     "output_type": "execute_result"
    }
   ],
   "source": [
    "function starting_points(Qrows, Qcols, Qvals, Arows, Acols, Avals, b, c, \n",
    "                         lvar, uvar, ilow, iupp, irng, J_augm, n_rows, n_cols, Δ_xλ)\n",
    "\n",
    "    T = eltype(Avals)\n",
    "    J_P = ldl_analyze(Symmetric(J_augm, :U))\n",
    "    J_fact = ldl_factorize!(Symmetric(J_augm, :U), J_P)\n",
    "    #J_fact = ldlt(Symmetric(J_augm-Diagonal(tmp_diag), :U))\n",
    "#     J_fact = ldl(Symmetric(J_augm, :U))\n",
    "#     J_P = J_fact.P\n",
    "    Δ_xλ[n_cols+1: end] = b \n",
    "    Δ_xλ = ldiv!(J_fact, Δ_xλ)\n",
    "    #init_xλ2 = J_fact \\ [c ; zeros(n_rows)]\n",
    "    x0 = Δ_xλ[1:n_cols]\n",
    "    λ0 = Δ_xλ[n_cols+1:end]\n",
    "    s0_l, s0_u = zeros(n_cols), zeros(n_cols)\n",
    "    Qx, ATλ = zeros(n_cols), zeros(n_cols)\n",
    "    Qx = mul_Qx_COO!(Qx, Qrows, Qcols, Qvals, x0)\n",
    "    ATλ = mul_ATλ_COO!(ATλ, Arows, Acols, Avals, λ0)\n",
    "    dual_val = Qx - ATλ + c\n",
    "    s0_l[ilow] = @views dual_val[ilow]\n",
    "    s0_u[iupp] = @views -dual_val[iupp]\n",
    "\n",
    "    x0_m_lvar = @views x0[ilow] - lvar[ilow] \n",
    "    uvar_m_x0 = @views uvar[iupp] - x0[iupp]\n",
    "    if length(ilow) == 0\n",
    "        δx_l1, δs_l1 = zero(T), zero(T)\n",
    "    else\n",
    "        δx_l1 = max(-T(1.5)*minimum(x0_m_lvar), T(1.e0))\n",
    "        δs_l1 = @views max(-T(1.5)*minimum(s0_l[ilow]), T(1.e-4))\n",
    "    end\n",
    "    \n",
    "    if length(iupp) == 0\n",
    "        δx_u1, δs_u1 = zero(T), zero(T)\n",
    "    else\n",
    "        δx_u1 = max(-T(1.5)*minimum(uvar_m_x0), T(1.e0))\n",
    "        δs_u1 = @views max(-T(1.5)*minimum(s0_u[iupp]), T(1.e-4))\n",
    "    end\n",
    "    \n",
    "    x0_m_lvar .+= δx_l1\n",
    "    uvar_m_x0 .+= δx_u1\n",
    "    s0_l1 = @views s0_l[ilow] .+ δs_l1\n",
    "    s0_u1 = @views s0_u[iupp] .+ δs_u1\n",
    "    xs_l1, xs_u1 = s0_l1' * x0_m_lvar, s0_u1' * uvar_m_x0\n",
    "    if length(ilow) == 0\n",
    "        δx_l2, δs_l2 = zero(T), zero(T)\n",
    "    else\n",
    "        δx_l2 = δx_l1 + xs_l1 / sum(s0_l1) / 2\n",
    "        δs_l2 = @views δs_l1 + xs_l1 / sum(x0_m_lvar) / 2\n",
    "    end\n",
    "    if length(iupp) == 0\n",
    "        δx_u2, δs_u2 = zero(T), zero(T)\n",
    "    else\n",
    "        δx_u2 = δx_u1 + xs_u1 / sum(s0_u1) / 2\n",
    "        δs_u2 = @views δs_u1 + xs_u1 / sum(uvar_m_x0) / 2\n",
    "    end\n",
    "    δx = max(δx_l2, δx_u2)\n",
    "    δs = max(δs_l2, δs_u2)\n",
    "    x0[ilow] .+= δx\n",
    "    x0[iupp] .-= δx\n",
    "    s0_l[ilow] = @views s0_l[ilow] .+ δs\n",
    "    s0_u[iupp] = @views s0_u[iupp] .+ δs\n",
    "\n",
    "    @inbounds @simd for i in irng\n",
    "#         if lvar[i] < x0[i] == false\n",
    "#             x0[i] = lvar[i] + T(1e0)\n",
    "#         elseif x0[i] < uvar[i] == false\n",
    "#             x0[i] = uvar[i] - T(1e0)\n",
    "#         end\n",
    "        if (lvar[i] < x0[i] < uvar[i]) == false\n",
    "            x0[i] = (lvar[i] + uvar[i]) / 2\n",
    "        end\n",
    "    end\n",
    "\n",
    "    @assert all(x0 .> lvar) && all(x0 .< uvar)\n",
    "    @assert @views all(s0_l[ilow] .> zero(T)) && all(s0_u[iupp] .> zero(T))\n",
    "\n",
    "    return x0, λ0, s0_l, s0_u, J_P, Qx, ATλ, x0_m_lvar, uvar_m_x0, Δ_xλ\n",
    "end\n",
    "\n"
   ]
  },
  {
   "cell_type": "code",
   "execution_count": 3,
   "metadata": {},
   "outputs": [
    {
     "data": {
      "text/plain": [
       "is_in_Neighborhood_inf (generic function with 1 method)"
      ]
     },
     "execution_count": 3,
     "metadata": {},
     "output_type": "execute_result"
    }
   ],
   "source": [
    "function compute_α_dual(v, dir_v)\n",
    "    n = length(v)\n",
    "    T = eltype(v)\n",
    "    if n == 0\n",
    "        return one(T)\n",
    "    end\n",
    "    α = one(T)\n",
    "    @inbounds @simd for i=1:n\n",
    "        if dir_v[i] < zero(T)\n",
    "            α_new = -v[i] * T(0.999) / dir_v[i]\n",
    "            if α_new < α\n",
    "                α = α_new\n",
    "            end\n",
    "        end\n",
    "    end\n",
    "    return α\n",
    "end\n",
    "\n",
    "\n",
    "    \n",
    "function compute_α_primal(v, dir_v, lvar, uvar)\n",
    "    n = length(v)\n",
    "    T = eltype(v)\n",
    "    α_l, α_u = one(T), one(T)\n",
    "    @inbounds @simd for i=1:n\n",
    "        if dir_v[i] > zero(T)\n",
    "            α_u_new = (uvar[i] - v[i]) * T(0.999) / dir_v[i]\n",
    "            if α_u_new < α_u\n",
    "                α_u = α_u_new\n",
    "            end\n",
    "        elseif dir_v[i] < zero(T)\n",
    "            α_l_new = (lvar[i] - v[i]) * T(0.999) / dir_v[i]\n",
    "            if α_l_new < α_l\n",
    "                α_l = α_l_new\n",
    "            end\n",
    "        end\n",
    "    end\n",
    "    return min(α_l, α_u)\n",
    "end\n",
    "\n",
    "\n",
    "\n",
    "function compute_μ(x_m_lvar, uvar_m_x, s_l, s_u, nb_low, nb_upp)\n",
    "    return (s_l' * x_m_lvar + s_u' * uvar_m_x) / (nb_low + nb_upp)\n",
    "end\n",
    "\n",
    "\n",
    "function is_in_Neighborhood_inf(gamma, x_l, x_u, s_l, s_u, lvar, uvar)\n",
    "    # check if the current point is in N_inf(gamma)\n",
    "    # true : (xi_l - lvari) * si_l >= gamma mu   and   (uvari - xi_u) * si_u >= gamma mu \n",
    "    mu = Compute_mu(x_l, x_u, s_l, s_u, lvar, uvar)\n",
    "    for i=1:length(x_l)\n",
    "        if (x_l[i] - lvar[i]) * s_l[i] < gamma*mu\n",
    "            return false\n",
    "        end\n",
    "    end\n",
    "    for i=1:length(x_u)\n",
    "        if (uvar[i] - x_u[i]) * s_u[i] < gamma*mu\n",
    "            return false\n",
    "        end\n",
    "    end\n",
    "    return true\n",
    "end"
   ]
  },
  {
   "cell_type": "code",
   "execution_count": 4,
   "metadata": {},
   "outputs": [
    {
     "data": {
      "text/plain": [
       "solve_augmented_system_cc! (generic function with 1 method)"
      ]
     },
     "execution_count": 4,
     "metadata": {},
     "output_type": "execute_result"
    }
   ],
   "source": [
    "function solve_augmented_system_aff!(J_fact, Δ_aff, Δ_xλ, rc, rb, x_m_lvar, uvar_m_x, \n",
    "                                     s_l, s_u, ilow, iupp,  n_cols, n_rows, n_low)\n",
    "\n",
    "    Δ_xλ[1:n_cols] .= .-rc\n",
    "    Δ_xλ[n_cols+1:end] .= .-rb\n",
    "    Δ_xλ[ilow] += @views s_l[ilow]\n",
    "    Δ_xλ[iupp] -= @views s_u[iupp]\n",
    "    \n",
    "    Δ_xλ = ldiv!(J_fact, Δ_xλ)\n",
    "\n",
    "    Δ_aff[1:n_cols+n_rows] = Δ_xλ\n",
    "    Δ_aff[n_cols+n_rows+1:n_cols+n_rows+n_low] = @views -s_l[ilow] - s_l[ilow].*Δ_xλ[1:n_cols][ilow]./x_m_lvar\n",
    "    Δ_aff[n_cols+n_rows+n_low+1:end] = @views -s_u[iupp] + s_u[iupp].*Δ_xλ[1:n_cols][iupp]./uvar_m_x\n",
    "    return Δ_aff\n",
    "end\n",
    "\n",
    "function solve_augmented_system_cc!(J_fact, Δ_cc, Δ_xλ ,Δ_aff, σ, μ, x_m_lvar, uvar_m_x, \n",
    "                                    rxs_l, rxs_u, s_l, s_u, ilow, iupp, n_cols, n_rows, n_low)\n",
    "\n",
    "\n",
    "    rxs_l .= @views (-σ*μ .+ Δ_aff[1:n_cols][ilow].*Δ_aff[n_rows+n_cols+1: n_rows+n_cols+n_low])\n",
    "    rxs_u .= @views σ*μ .+ Δ_aff[1:n_cols][iupp].*Δ_aff[n_rows+n_cols+n_low+1: end]\n",
    "\n",
    "    Δ_xλ .= zero(eltype(Δ_xλ))\n",
    "    Δ_xλ[ilow] .+= rxs_l./x_m_lvar\n",
    "    Δ_xλ[iupp] .+= rxs_u./uvar_m_x\n",
    "\n",
    "    Δ_xλ = ldiv!(J_fact, Δ_xλ)\n",
    "\n",
    "    Δ_cc[1:n_cols+n_rows] = Δ_xλ\n",
    "    Δ_cc[n_cols+n_rows+1:n_cols+n_rows+n_low] .= @views .-(rxs_l.+s_l[ilow].*Δ_xλ[1:n_cols][ilow])./x_m_lvar\n",
    "    Δ_cc[n_cols+n_rows+n_low+1:end] .= @views (rxs_u.+s_u[iupp].*Δ_xλ[1:n_cols][iupp])./uvar_m_x \n",
    "    return Δ_cc\n",
    "end"
   ]
  },
  {
   "cell_type": "code",
   "execution_count": 5,
   "metadata": {},
   "outputs": [
    {
     "data": {
      "text/plain": [
       "check_frontier! (generic function with 1 method)"
      ]
     },
     "execution_count": 5,
     "metadata": {},
     "output_type": "execute_result"
    }
   ],
   "source": [
    "function check_frontier!(γf, x, x_m_lvar, uvar_m_x, s_l, s_u, Δ, α_pri, α_dual, \n",
    "                        x_m_lvar_sup, uvar_m_x_sup, s_l_sup, s_u_sup,\n",
    "                        lvar, uvar, ilow, iupp, ilow_pad, iupp_pad, \n",
    "                        n_low, n_upp, n_rows, n_cols)\n",
    "    T = eltype(x)\n",
    "    x_m_lvar_sup .= @views x_m_lvar .+ α_pri .* Δ[1:n_cols][ilow]\n",
    "    uvar_m_x_sup .= @views uvar_m_x .- α_pri .* Δ[1:n_cols][iupp]\n",
    "    s_l_sup .= @views s_l[ilow] .+ α_dual .* Δ[n_rows+n_cols+1: n_rows+n_cols+n_low]\n",
    "    s_u_sup .= @views s_u[iupp] .+ α_dual .* Δ[n_rows+n_cols+n_low+1: end]\n",
    "    μ_sup = compute_μ(x_m_lvar_sup, uvar_m_x_sup, s_l_sup, s_u_sup, n_low, n_upp)\n",
    "    f_pri, f_pri_tmp = zero(T), zero(T)\n",
    "    f_dual, f_dual_tmp = zero(T), zero(T)\n",
    "    i_l, i_u = 0, 0\n",
    "\n",
    "    @inbounds @simd for i=1:n_cols \n",
    "        if ilow_pad[i] != 0 && iupp_pad[i] != 0\n",
    "            i_l, i_u = ilow_pad[i], iupp_pad[i]\n",
    "            if (x_m_lvar_sup[i_l] == zero(T) || uvar_m_x_sup[i_u] == zero(T))\n",
    "                f_pri_tmp = (2*γf*μ_sup - \n",
    "                            x_m_lvar[i_l]*(s_l_sup[i_l]+α_dual*Δ[n_rows+n_cols+i_l]) -\n",
    "                            uvar_m_x[i_u]*(s_u_sup[i_u]+α_dual*Δ[n_rows+n_cols+n_low+i_u])) / \n",
    "                                (α_pri * Δ[i]*\n",
    "                                (s_l_sup[i_l]+α_dual*Δ[n_rows+n_cols+i_l]-s_u_sup[i_u]-α_dual*Δ[n_rows+n_cols+n_low+i_u]))      \n",
    "                if f_pri_tmp < f_pri\n",
    "                    f_pri = f_pri_tmp\n",
    "                end\n",
    "            end\n",
    "            if (s_l_sup[i_l] == zero(T) || uvar_m_x_sup[i_u] == zero(T))\n",
    "                f_dual_tmp = (2*γf*μ_sup - s_l[i_l]*x_m_lvar_sup[i_l] - s_u[i_u]*uvar_m_x_sup[i_u]) /\n",
    "                                (α_dual * (Δ[n_rows+n_cols+i_l]*x_m_lvar_sup[i_l] +\n",
    "                                     Δ[n_rows+n_cols+n_low+i_u]*uvar_m_x_sup[i_u]))\n",
    "                if f_dual_tmp < f_dual\n",
    "                    f_dual = f_dual_tmp\n",
    "                end  \n",
    "            end\n",
    "        elseif ilow_pad[i] != 0 && iupp_pad[i] == 0\n",
    "            i_l = ilow_pad[i]\n",
    "            if x_m_lvar_sup[i_l] == zero(T) \n",
    "                f_pri_tmp = (γf*μ_sup - x_m_lvar[i_l]*(s_l_sup[i_l]+α_dual*Δ[n_rows+n_cols+i_l])) / \n",
    "                                (α_pri * Δ[i]*(s_l_sup[i_l]+α_dual*Δ[n_rows+n_cols+i_l]))      \n",
    "                if f_pri_tmp < f_pri\n",
    "                    f_pri = f_pri_tmp\n",
    "                end\n",
    "            end\n",
    "            if s_l_sup[i_l] == zero(T)\n",
    "                f_dual_tmp = (γf*μ_sup - s_l[i_l]*x_m_lvar_sup[i_l] ) /\n",
    "                                (α_dual * Δ[n_rows+n_cols+i_l]*x_m_lvar_sup[i_l])\n",
    "                if f_dual_tmp < f_dual\n",
    "                    f_dual = f_dual_tmp\n",
    "                end\n",
    "            end \n",
    "        elseif ilow_pad[i] == 0 && iupp_pad[i] != 0\n",
    "            i_u = iupp_pad[i]\n",
    "            if uvar_m_x_sup[i_u] == zero(T)\n",
    "                f_pri_tmp = (γf*μ_sup - uvar_m_x[i_u]*(s_u_sup[i_u]+α_dual*Δ[n_rows+n_cols+n_low+i_u])) / \n",
    "                                (α_pri * Δ[i]*(-s_u_sup[i_u]-α_dual*Δ[n_rows+n_cols+n_low+i_u]))      \n",
    "                if f_pri_tmp < f_pri\n",
    "                    f_pri = f_pri_tmp\n",
    "                end\n",
    "            end\n",
    "            if s_u[i_u] == zero(T)\n",
    "                f_dual_tmp = (γf*μ_sup - s_u[i_u]*uvar_m_x_sup[i_u]) /\n",
    "                            (α_dual * Δ[n_rows+n_cols+n_low+i_u]*uvar_m_x_sup[i_u])\n",
    "                if f_dual_tmp < f_dual\n",
    "                    f_dual = f_dual_tmp\n",
    "                end  \n",
    "            end\n",
    "        end\n",
    "    end\n",
    "    \n",
    "    α_pri *= max(one(T)-γf, f_pri)\n",
    "    α_dual *= max(one(T)-γf, f_dual)\n",
    "    \n",
    "    return α_pri, α_dual\n",
    "end  \n"
   ]
  },
  {
   "cell_type": "code",
   "execution_count": 6,
   "metadata": {},
   "outputs": [
    {
     "data": {
      "text/plain": [
       "scaling_Ruiz! (generic function with 1 method)"
      ]
     },
     "execution_count": 6,
     "metadata": {},
     "output_type": "execute_result"
    }
   ],
   "source": [
    "function mul_Qx_COO!(Qx, Qrows, Qcols, Qvals, x)\n",
    "    # right mutiplication for sparse COO symetric matrix M: res=Mv\n",
    "    Qx .= zero(eltype(Qx))\n",
    "    @inbounds @simd for i=1:length(Qcols)\n",
    "        Qx[Qrows[i]] += Qvals[i] * x[Qcols[i]] \n",
    "        if Qrows[i] != Qcols[i]\n",
    "            Qx[Qcols[i]] += Qvals[i]*x[Qrows[i]]\n",
    "        end\n",
    "    end\n",
    "    return Qx\n",
    "end\n",
    "\n",
    "function mul_ATλ_COO!(ATλ, Arows, Acols, Avals, λ)\n",
    "    ATλ .= zero(eltype(ATλ))\n",
    "    @inbounds @simd for i=1:length(Acols)\n",
    "        ATλ[Acols[i]] += Avals[i] * λ[Arows[i]] \n",
    "    end\n",
    "    return ATλ\n",
    "end\n",
    "\n",
    "function mul_Ax_COO!(Ax, Arows, Acols, Avals, x)\n",
    "    Ax .= zero(eltype(Ax))\n",
    "    @inbounds @simd for i=1:length(Acols)\n",
    "        Ax[Arows[i]] += Avals[i] * x[Acols[i]] \n",
    "    end\n",
    "    return Ax\n",
    "end\n",
    "\n",
    "\n",
    "\n",
    "function get_norm_rc!(v, A_i, Avals, n_v, n)\n",
    "    T = eltype(v)\n",
    "    v .= zero(T)\n",
    "    @inbounds @simd for j=1:n\n",
    "        if abs(Avals[j]) > v[A_i[j]] \n",
    "            v[A_i[j]] = abs(Avals[j])\n",
    "        end\n",
    "#         v[A_i[j]] += Avals[j]^2  #2-norm\n",
    "    end\n",
    "    \n",
    "    v = sqrt.(v)\n",
    "    @inbounds @simd for i=1:n_v\n",
    "        if v[i] == zero(T)\n",
    "            v[i] = one(T)\n",
    "        end\n",
    "    end\n",
    "    return v\n",
    "end\n",
    "\n",
    "function mul_A_D1_D2!(Arows, Acols, Avals, d1, d2, r, c, n_rows, n_cols, n)\n",
    "    @inbounds @simd for i=1:n\n",
    "        Avals[i] /= r[Arows[i]] * c[Acols[i]]\n",
    "    end\n",
    "    d1 ./= r\n",
    "    d2 ./= c\n",
    "    return Arows, Acols, Avals, d1, d2\n",
    "end\n",
    "    \n",
    "function mul_Q_D!(Qrows, Qcols, Qvals, d, c, n_cols, n)\n",
    "    @inbounds @simd for i=1:n\n",
    "        Qvals[i] /= c[Qrows[i]] * c[Qcols[i]]\n",
    "    end\n",
    "    d ./= c\n",
    "    return Qrows, Qcols, Qvals, d\n",
    "end\n",
    "\n",
    "function scaling_Ruiz!(Arows, Acols, Avals, Qrows, Qcols, Qvals, c, b, lvar, uvar, \n",
    "                       n_rows, n_cols, ϵ; max_iter = 100)\n",
    "    n = length(Arows)\n",
    "    T = eltype(Avals)\n",
    "    d1, d2 = ones(T, n_rows), ones(T, n_cols)\n",
    "    r_k, c_k = zeros(T, n_rows), zeros(T, n_cols)\n",
    "    \n",
    "    r_k = get_norm_rc!(r_k, Arows, Avals, n_rows, n)\n",
    "    c_k = get_norm_rc!(c_k, Acols, Avals, n_cols, n)\n",
    "    convergence = maximum(abs.(one(T) .- r_k)) <= ϵ && maximum(abs.(one(T) .- c_k)) <= ϵ\n",
    "    Arows, Acols, Avals, d1, d2 = mul_A_D1_D2!(Arows, Acols, Avals, d1, d2, \n",
    "                                               r_k, c_k, n_rows, n_cols, n)\n",
    "    k = 1\n",
    "    while !convergence && k < max_iter\n",
    "        r_k = get_norm_rc!(r_k, Arows, Avals, n_rows, n)\n",
    "        c_k = get_norm_rc!(c_k, Acols, Avals, n_cols, n)\n",
    "        convergence = maximum(abs.(one(T) .- r_k)) <= ϵ && maximum(abs.(one(T) .- c_k)) <= ϵ\n",
    "        Arows, Acols, Avals, d1, d2 = mul_A_D1_D2!(Arows, Acols, Avals, d1, d2, \n",
    "                                                   r_k, c_k, n_rows, n_cols, n)\n",
    "        k += 1\n",
    "    end\n",
    "    \n",
    "    n_Q = length(Qrows)\n",
    "    @inbounds @simd for i=1:n_Q\n",
    "        Qvals[i] *= d2[Qrows[i]] * d2[Qcols[i]]\n",
    "    end\n",
    "    b .*= d1\n",
    "    c .*= d2\n",
    "    lvar ./= d2\n",
    "    uvar ./= d2\n",
    "    \n",
    "    # scaling Q (symmetric)\n",
    "    d3 = ones(T, n_cols)\n",
    "    c_k .= zero(T)\n",
    "    c_k = get_norm_rc!(c_k, Qcols, Qvals, n_cols, n_Q)\n",
    "    convergence = maximum(abs.(one(T) .- c_k)) <= ϵ\n",
    "    Qrows, Qcols, Qvals, d3 = mul_Q_D!(Qrows, Qcols, Qvals, d3, c_k, n_cols, n_Q)\n",
    "    k = 1\n",
    "    while !convergence && k < max_iter\n",
    "        c_k = get_norm_rc!(c_k, Qcols, Qvals, n_cols, n_Q)\n",
    "        convergence = maximum(abs.(one(T) .- c_k)) <= ϵ\n",
    "        Qrows, Qcols, Qvals, d3 = mul_Q_D!(Qrows, Qcols, Qvals, d3, c_k, n_cols, n_Q)\n",
    "        k += 1\n",
    "    end\n",
    "    \n",
    "    for i=1:n\n",
    "        Avals[i] *= d3[Acols[i]]\n",
    "    end\n",
    "    c .*= d3\n",
    "    lvar ./= d3\n",
    "    uvar ./= d3\n",
    "\n",
    "    return Arows, Acols, Avals, Qrows, Qcols, Qvals, c, b, lvar, uvar, d1, d2, d3\n",
    "end\n"
   ]
  },
  {
   "cell_type": "code",
   "execution_count": 7,
   "metadata": {},
   "outputs": [
    {
     "data": {
      "text/plain": [
       "scaling_Ruiz2! (generic function with 1 method)"
      ]
     },
     "execution_count": 7,
     "metadata": {},
     "output_type": "execute_result"
    }
   ],
   "source": [
    "function mul_A_D1!(Arows, Avals, d1, r, n_rows, n)\n",
    "    @inbounds @simd for i=1:n\n",
    "        Avals[i] /= r[Arows[i]]\n",
    "    end\n",
    "    d1 ./= r\n",
    "    return Arows, Avals, d1\n",
    "end\n",
    "\n",
    "\n",
    "function scaling_Ruiz2!(Arows, Acols, Avals, Qrows, Qcols, Qvals, c, b, lvar, uvar, \n",
    "                       n_rows, n_cols, ϵ; max_iter = 100)\n",
    "    n = length(Arows)\n",
    "    T = eltype(Avals)\n",
    "    d1, d2 = ones(T, n_rows), ones(T, n_cols)\n",
    "    r_k, c_k = zeros(T, n_rows), zeros(T, n_cols)\n",
    "\n",
    "    # scaling Q (symmetric)\n",
    "    n_Q = length(Qrows)\n",
    "    c_k = get_norm_rc!(c_k, Qcols, Qvals, n_cols, n_Q)\n",
    "    convergence = maximum(abs.(one(T) .- c_k)) <= ϵ\n",
    "    Qrows, Qcols, Qvals, d2 = mul_Q_D!(Qrows, Qcols, Qvals, d2, c_k, n_cols, n_Q)\n",
    "    k = 1\n",
    "    while !convergence && k < max_iter\n",
    "        c_k = get_norm_rc!(c_k, Qcols, Qvals, n_cols, n_Q)\n",
    "        convergence = maximum(abs.(one(T) .- c_k)) <= ϵ\n",
    "        Qrows, Qcols, Qvals, d2 = mul_Q_D!(Qrows, Qcols, Qvals, d2, c_k, n_cols, n_Q)\n",
    "        k += 1\n",
    "    end\n",
    "    \n",
    "    for i=1:n\n",
    "        Avals[i] *= d2[Acols[i]]\n",
    "    end\n",
    "    c .*= d2\n",
    "    lvar ./= d2\n",
    "    uvar ./= d2\n",
    "    \n",
    "    # scaling A\n",
    "    r_k = get_norm_rc!(r_k, Arows, Avals, n_rows, n)\n",
    "    convergence = maximum(abs.(one(T) .- r_k)) <= ϵ\n",
    "    Arows, Avals, d1 = mul_A_D1!(Arows, Avals, d1, r_k, n_rows, n)\n",
    "    k = 1\n",
    "    while !convergence && k < max_iter\n",
    "        r_k = get_norm_rc!(r_k, Arows, Avals, n_rows, n)\n",
    "        convergence = maximum(abs.(one(T) .- r_k)) <= ϵ\n",
    "        Arows, Avals, d1 = mul_A_D1!(Arows, Avals, d1, r_k, n_rows, n)\n",
    "        k += 1\n",
    "    end\n",
    "    \n",
    "    b .*= d1\n",
    "    \n",
    "    return Arows, Acols, Avals, Qrows, Qcols, Qvals, c, b, lvar, uvar, d1, d2\n",
    "end\n"
   ]
  },
  {
   "cell_type": "code",
   "execution_count": 99,
   "metadata": {},
   "outputs": [
    {
     "data": {
      "text/plain": [
       "rm_ifix! (generic function with 1 method)"
      ]
     },
     "execution_count": 99,
     "metadata": {},
     "output_type": "execute_result"
    }
   ],
   "source": [
    "# presolve\n",
    "\n",
    "function find_empty_rows(Arows, n_rows)\n",
    "    n = length(Arows)\n",
    "    rows = zeros(Int, n_rows)\n",
    "    for i=1:n\n",
    "        rows[Arows[i]] = one(Int)\n",
    "    end\n",
    "    empty_rows = zeros(Int, n_rows - sum(rows))\n",
    "    c = 1\n",
    "    for i=1:n_rows\n",
    "        if rows[i] == zero(Int)\n",
    "            empty_rows[c] = i\n",
    "            c += 1\n",
    "        end\n",
    "    end\n",
    "    return empty_rows\n",
    "end\n",
    "\n",
    "function rm_empty_rows!(empty_rows, Arows, Lcon, Ucon, n_rows)\n",
    "    # si empty_rows non vide\n",
    "    c = 1\n",
    "    n = length(Arows)\n",
    "    n_empty = length(empty_rows)\n",
    "    T = eltype(Lcon)\n",
    "    Lcon = deleteat!(Lcon, empty_rows)\n",
    "    Ucon = deleteat!(Ucon, empty_rows)\n",
    "    \n",
    "    for i=1:n\n",
    "        if Arows[i] > empty_rows[1]\n",
    "            c = findlast(empty_rows .<= Arows[i])\n",
    "            Arows[i] -= c    \n",
    "        end\n",
    "    end\n",
    "    n_rows -= length(empty_rows)\n",
    "    return Arows, Lcon, Ucon, n_rows\n",
    "end\n",
    "\n",
    "\n",
    "function find_singleton_rows(Arows, n_rows)\n",
    "    nb_coef_rows = zeros(Int, n_rows) # nb nonzeros per row\n",
    "    position_singleton = zeros(Int, n_rows) # row index of singleton rows\n",
    "    for i=1:length(Arows)\n",
    "        nb_coef_rows[Arows[i]] += 1\n",
    "        position_singleton[Arows[i]] = i\n",
    "    end\n",
    "    singleton_rows = findall(isequal(1), nb_coef_rows)\n",
    "    return singleton_rows, position_singleton[singleton_rows]\n",
    "end\n",
    "\n",
    "\n",
    "function rm_singleton_rows!(Arows, Acols, Avals, Lcon, Ucon, lvar, uvar, ifix, n_rows)\n",
    "    # to do before rm_emtpy_rows\n",
    "    T = eltype(Avals)\n",
    "    singleton_rows, position_singleton = find_singleton_rows(Arows, n_rows)\n",
    "    Arows_rm = zeros(T, length(singleton_rows))\n",
    "    Acols_rm = zeros(T, length(singleton_rows))\n",
    "    Avals_rm = zeros(T, length(singleton_rows))\n",
    "    \n",
    "    # x_i fixed\n",
    "    for i=1:length(singleton_rows)\n",
    "        if Avals[position_singleton[i]] > 0\n",
    "            lvar[Acols[position_singleton[i]]] = max(lvar[Acols[position_singleton[i]]],\n",
    "                                                    Lcon[Arows[position_singleton[i]]] / Avals[position_singleton[i]])\n",
    "            uvar[Acols[position_singleton[i]]] = min(uvar[Acols[position_singleton[i]]],\n",
    "                                                    Ucon[Acols[position_singleton[i]]] / Avals[position_singleton[i]]) \n",
    "        else\n",
    "            lvar[Acols[position_singleton[i]]] = max(lvar[Acols[position_singleton[i]]],\n",
    "                                                    Ucon[Arows[position_singleton[i]]] / Avals[position_singleton[i]])\n",
    "            uvar[Acols[position_singleton[i]]] = min(uvar[Acols[position_singleton[i]]],\n",
    "                                                    Lcon[Acols[position_singleton[i]]] / Avals[position_singleton[i]])\n",
    "        end\n",
    "        Arows_rm[i] = Arows[position_singleton[i]]\n",
    "        Acols_rm[i] = Acols[position_singleton[i]]\n",
    "        Avals_rm[i] = Avals[position_singleton[i]]\n",
    "        if lvar[Acols[position_singleton[i]]] == uvar[Acols[position_singleton[i]]]\n",
    "            push!(ifix, Acols[position_singleton[i]])\n",
    "        end\n",
    "    end\n",
    "    \n",
    "    ifix = unique!(ifix)\n",
    "    \n",
    "    #remove singleton rows\n",
    "    position_singleton = sort!(position_singleton)\n",
    "    Arows = deleteat!(Arows, position_singleton)\n",
    "    Acols = deleteat!(Acols, position_singleton)\n",
    "    Avals = deleteat!(Avals, position_singleton)\n",
    "    \n",
    "    return Arows, Acols, Avals, Lcon, Ucon, lvar, uvar, ifix, Arows_rm, Acols_rm, Avals_rm\n",
    "end\n",
    "    \n",
    "\n",
    "function rm_ifix!(ifix, Qrows, Qcols, Qvals, c, c0, Arows, Acols, Avals, \n",
    "                  Lcon, Ucon, lvar, uvar, n_rows, n_cols)\n",
    "    T = eltype(c)\n",
    "    # get Qii\n",
    "    diag_Q = zeros(T, n_cols)\n",
    "    for i=1:length(Qvals)\n",
    "        if Qrows[i] == Qcols[i]\n",
    "            diag_Q[Qrows[i]] = Qvals[i]\n",
    "        end\n",
    "    end\n",
    "    \n",
    "    ifix = sort!(ifix) \n",
    "\n",
    "    # update c0, c\n",
    "    Qji = zero(T)\n",
    "    for i=1:length(ifix)\n",
    "        c0 += c[ifix[i]] * lvar[ifix[i]] + diag_Q[ifix[i]] * lvar[ifix[i]]^2 / 2\n",
    "        for j=1:n_cols\n",
    "            Qji = zero(T)\n",
    "            for k=1:length(Qvals)\n",
    "                if (Qrows[k] == i && Qcols[k] == j) || (Qrows[k] == j && Qcols[k] == i)\n",
    "                    Qji += Qvals[k]\n",
    "                end\n",
    "            end\n",
    "            c[j] += lvar[ifix[i]] * Qji\n",
    "        end\n",
    "    end\n",
    "    \n",
    "    \n",
    "    # remove columns in ifix\n",
    "    ifix_cols_A = findall(x->x in ifix, Acols)\n",
    "    ifix_cols_A = sort!(ifix_cols_A)\n",
    "    for i=1:length(Acols)\n",
    "        if i in ifix_cols_A\n",
    "            Lcon[Arows[i]] -= Avals[i] * lvar[Acols[i]]\n",
    "            Ucon[Arows[i]] -= Avals[i] * lvar[Acols[i]]\n",
    "        end\n",
    "    end\n",
    "    Arows_rm_fix = Arows[ifix_cols_A]\n",
    "    Acols_rm_fix = Acols[ifix_cols_A]\n",
    "    Avals_rm_fix = Avals[ifix_cols_A]\n",
    "    Arows = deleteat!(Arows, ifix_cols_A)\n",
    "    Acols = deleteat!(Acols, ifix_cols_A)\n",
    "    Avals = deleteat!(Avals, ifix_cols_A)\n",
    "    \n",
    "    for i=1:length(Acols)\n",
    "        if Acols[i] > ifix[1]\n",
    "            Acols[i] -= findlast(ifix .<= Acols[i])\n",
    "        end\n",
    "    end\n",
    "\n",
    "    # remove rows and columns in ifix\n",
    "    ifix_cols_Q = findall(x-> x in ifix, Qcols)\n",
    "\n",
    "    \n",
    "    Q_rm_idx = [] #unique(hcat(ifix_rows_Q, ifix_cols_Q))\n",
    "    Qrows_rm_fix = Qrows[Q_rm_idx]\n",
    "    Qcols_rm_fix = Qcols[Q_rm_idx]\n",
    "    Qvals_rm_fix = Qvals[Q_rm_idx]\n",
    "    for i=1:length(ifix_cols_Q)\n",
    "        Qrows_rm_fix = push!(Qrows_rm_fix, splice!(Qrows, ifix_cols_Q[i]-i+1))\n",
    "        Qcols_rm_fix = push!(Qcols_rm_fix, splice!(Qcols, ifix_cols_Q[i]-i+1))\n",
    "        Qvals_rm_fix = push!(Qvals_rm_fix, splice!(Qvals, ifix_cols_Q[i]-i+1))\n",
    "    end\n",
    "    ifix_rows_Q = findall(x-> x in ifix, Qrows)\n",
    "    for i=1:length(ifix_rows_Q)\n",
    "        Qrows_rm_fix = push!(Qrows_rm_fix, splice!(Qrows, ifix_rows_Q[i]-i+1))\n",
    "        Qcols_rm_fix = push!(Qcols_rm_fix, splice!(Qcols, ifix_rows_Q[i]-i+1))\n",
    "        Qvals_rm_fix = push!(Qvals_rm_fix, splice!(Qvals, ifix_rows_Q[i]-i+1))\n",
    "    end\n",
    "    \n",
    "    for i=1:length(Qcols)\n",
    "        if  Qrows[i] > ifix[1]\n",
    "            Qrows[i] -= findlast(ifix .<= Qrows[i]) \n",
    "        end\n",
    "        if Qcols[i] > ifix[1]\n",
    "            Qcols[i] -= findlast(ifix .<= Qcols[i])  \n",
    "        end\n",
    "    end\n",
    "    \n",
    "    c_rm_fix = c[ifix]\n",
    "    x_rm_fix = lvar[ifix]\n",
    "    c = deleteat!(c, ifix)\n",
    "    lvar = deleteat!(lvar, ifix)\n",
    "    uvar = deleteat!(uvar, ifix)\n",
    "    n_cols -= length(ifix)\n",
    "    \n",
    "    return Qrows, Qcols, Qvals, c, c0, Arows, Acols, Avals, Lcon, Ucon, \n",
    "            lvar, uvar, n_cols, Arows_rm_fix, Acols_rm_fix, Avals_rm_fix,\n",
    "            Qrows_rm_fix, Qcols_rm_fix, Qvals_rm_fix, c_rm_fix, x_rm_fix\n",
    "end\n"
   ]
  },
  {
   "cell_type": "code",
   "execution_count": null,
   "metadata": {},
   "outputs": [],
   "source": [
    "#postsolve"
   ]
  },
  {
   "cell_type": "code",
   "execution_count": 100,
   "metadata": {},
   "outputs": [
    {
     "data": {
      "text/plain": [
       "presolve_QP! (generic function with 1 method)"
      ]
     },
     "execution_count": 100,
     "metadata": {},
     "output_type": "execute_result"
    }
   ],
   "source": [
    "function presolve_QP!(qpdata)\n",
    "    \n",
    "    ifix = []\n",
    "    for i=1:length(lvar)\n",
    "        if lvar[i] == uvar[i]\n",
    "            push!(ifix, i)\n",
    "        end\n",
    "    end\n",
    "    qpdata.arows, qpdata.acols,\n",
    "        qpdata.avals, qpdata.lcon, \n",
    "        qpdata.ucon, qpdata.lvar, \n",
    "        qpdata.uvar, ifix, \n",
    "        arows_rm, acols_rm, avals_rm = rm_singleton_rows!(qpdata.arows, qpdata.acols, \n",
    "                                                          qpdata.avals, qpdata.lcon, \n",
    "                                                          qpdata.ucon, qpdata.lvar, \n",
    "                                                          qpdata.uvar, ifix, \n",
    "                                                          qpdata.ncon)\n",
    "\n",
    "    e_r = find_empty_rows(qpdata.arows, qpdata.ncon)\n",
    "\n",
    "    if length(e_r) != 0\n",
    "        qpdata.arows, qpdata.lcon, \n",
    "            qpdata.ucon, qpdata.ncon = rm_empty_rows!(e_r, qpdata.arows, \n",
    "                                                      qpdata.lcon, qpdata.ucon, \n",
    "                                                      qpdata.ncon)\n",
    "\n",
    "    end\n",
    "    \n",
    "    if ifix != []\n",
    "        qpdata.qrows, qpdata.qcols, \n",
    "            qpdata.qvals, qpdata.c, qpdata.c0, \n",
    "            qpdata.arows, qpdata.acols,\n",
    "            qpdata.avals, qpdata.lcon, \n",
    "            qpdata.ucon, qpdata.lvar, \n",
    "            qpdata.uvar, qpdata.nvar = rm_ifix!(ifix, qpdata.qrows, \n",
    "                                                qpdata.qcols, qpdata.qvals, \n",
    "                                                qpdata.c, qpdata.c0, \n",
    "                                                qpdata.arows, qpdata.acols, \n",
    "                                                qpdata.avals, qpdata.lcon,\n",
    "                                                qpdata.ucon, qpdata.lvar, \n",
    "                                                qpdata.uvar, qpdata.ncon,\n",
    "                                                qpdata.nvar)\n",
    "    end\n",
    "\n",
    "    return qpdata\n",
    "end"
   ]
  },
  {
   "cell_type": "code",
   "execution_count": 101,
   "metadata": {},
   "outputs": [
    {
     "data": {
      "text/plain": [
       "3×2 Array{Float64,2}:\n",
       " 2.0  2.0\n",
       " 0.0  2.0\n",
       " 1.0  1.0"
      ]
     },
     "metadata": {},
     "output_type": "display_data"
    },
    {
     "data": {
      "text/plain": [
       "2×2 Array{Float64,2}:\n",
       " 1.0  0.0\n",
       " 0.0  4.0"
      ]
     },
     "metadata": {},
     "output_type": "display_data"
    },
    {
     "name": "stdout",
     "output_type": "stream",
     "text": [
      "[1.0 0.0 0.0; 2.0 3.0 0.0; 0.0 2.0 4.0]\n",
      "[-19.0, -18.0, -8.0][-15.0, -14.0, -7.0]32\n",
      "[-100.0, -Inf][Inf, 18.0][2]171.0\n"
     ]
    }
   ],
   "source": [
    "# tests pour le presolve\n",
    "A = sparse([0. 0. 0.;\n",
    "            0. 0. 0.;\n",
    "            2. 2. 2. ; \n",
    "            0. 0. 0.;\n",
    "            0. 0. 0.;\n",
    "            0. 4. 0.;\n",
    "            0. 2. 2.;\n",
    "            0. 0. 0.;\n",
    "            1. 1. 1.;\n",
    "            0. 0. 0.;\n",
    "            0. 0. 0.])\n",
    "Lcon= [0.; 0. ;1. ; 0.; 0.; 40.; 2.; 0.; 2.; 0.; 0.]\n",
    "Ucon= [0.; 0. ;5. ; 0.; 0.; 50.; 6.; 0.; 3.; 0.; 0.]\n",
    "\n",
    "Q = sparse([1. 0. 0.;\n",
    "            2. 3. 0.;\n",
    "            0. 2. 4.])\n",
    "c = [1. ;2.; 3.]\n",
    "c0 = 1.\n",
    "lvar = [-100; -2.; -Inf]\n",
    "uvar = [Inf; 2; 18.]\n",
    "ifix = [2]\n",
    "ilow = []\n",
    "iupp = [3]\n",
    "irng = [2]\n",
    "ifree = [1]\n",
    "dropzeros!(A)\n",
    "dropzeros!(Q)\n",
    "Arows, Acols, Avals = findnz(A)\n",
    "Qrows, Qcols, Qvals = findnz(Q)\n",
    "\n",
    "n_rows = size(A)[1]\n",
    "n_cols = size(A)[2]\n",
    "Arows, Acols, Avals, Lcon, Ucon, lvar, uvar, ifix = rm_singleton_rows!(Arows, Acols, Avals, Lcon, Ucon,\n",
    "                                                                       lvar, uvar, ifix, n_rows)\n",
    "e_r = find_empty_rows(Arows, n_rows)\n",
    "Arows, Lcon, Ucon, n_rows = rm_empty_rows!(e_r, Arows, Lcon, Ucon, n_rows)\n",
    "\n",
    "# @code_warntype rm_ifix!(ifix, ilow, iupp, irng, Qrows, Qcols, Qvals, c, c0, \n",
    "#                                                   Arows, Acols, Avals, b, lvar, uvar, n_rows, n_cols)\n",
    "\n",
    "\n",
    "Qrows, Qcols, Qvals, c, c0, Arows, Acols, \n",
    "    Avals, Lcon, Ucon, lvar, uvar, n_cols, \n",
    "    Arows_rm_fix, Acols_rm_fix, Avals_rm_fix,\n",
    "    Qrows_rm_fix, Qcols_rm_fix, Qvals_rm_fix, \n",
    "    c_rm_fix, x_rm_fix = rm_ifix!(ifix, Qrows, Qcols, Qvals, c, c0, \n",
    "                                        Arows, Acols, Avals, Lcon, Ucon,lvar, uvar, n_rows, n_cols)\n",
    "\n",
    "\n",
    "display(Matrix(sparse(Arows, Acols, Avals)))\n",
    "display(Matrix(Symmetric(sparse(Qrows, Qcols, Qvals),:L)))\n",
    "println(Lcon, Ucon, n_rows, n_cols)\n",
    "println(lvar, uvar, ifix, c0)"
   ]
  },
  {
   "cell_type": "code",
   "execution_count": 14,
   "metadata": {},
   "outputs": [
    {
     "data": {
      "text/plain": [
       "get_diag_sparseCOO (generic function with 1 method)"
      ]
     },
     "execution_count": 14,
     "metadata": {},
     "output_type": "execute_result"
    }
   ],
   "source": [
    "function get_diag_sparseCSC(M; tri=:U)\n",
    "    # get diagonal index of M.nzval\n",
    "    # we assume all columns of M are non empty, and M triangular (:L or :U)\n",
    "    @assert tri ==:U || tri == :L\n",
    "    T = eltype(M)\n",
    "    n = length(M.rowval)\n",
    "    diagind = zeros(Int, M.m) # square matrix\n",
    "    index = M.rowval[1] # 1\n",
    "    if tri == :U\n",
    "        for i=1:M.m\n",
    "            diagind[i] = M.colptr[i+1] - 1       \n",
    "        end\n",
    "    else\n",
    "        for i=1:M.m\n",
    "            diagind[i] = M.colptr[i]        \n",
    "        end\n",
    "    end\n",
    "    return diagind\n",
    "end\n",
    "\n",
    "function get_diag_sparseCOO(Qrows, Qcols, Qvals, n_cols)\n",
    "    # get diagonal index of M.nzval\n",
    "    # we assume all columns of M are non empty, and M triangular (:L or :U)\n",
    "    T = eltype(Qvals)\n",
    "    n = length(Qrows)\n",
    "    diagval = zeros(T, n_cols)\n",
    "    for i=1:n\n",
    "        if Qrows[i] == Qcols[i]\n",
    "            diagval[Qrows[i]] = Qvals[i]\n",
    "        end\n",
    "    end\n",
    "    \n",
    "    return diagval\n",
    "end"
   ]
  },
  {
   "cell_type": "code",
   "execution_count": 15,
   "metadata": {},
   "outputs": [
    {
     "data": {
      "text/plain": [
       "mehrotraPCQuadBounds (generic function with 1 method)"
      ]
     },
     "execution_count": 15,
     "metadata": {},
     "output_type": "execute_result"
    }
   ],
   "source": [
    "function mehrotraPCQuadBounds(QM0; max_iter=100, ϵ_pdd=1e-8, ϵ_rb=1e-6, ϵ_rc=1e-6,\n",
    "                              tol_Δx=1e-16, ϵ_μ=1e-9, max_time=60., scaling=true,\n",
    "                              display=true, check_frontier=false)\n",
    "    \n",
    "    start_time = time()\n",
    "    elapsed_time = 0.0\n",
    "    QM = SlackModel(QM0)\n",
    "    \n",
    "    \n",
    "    # get variables from QuadraticModel\n",
    "    lvar, uvar = QM.meta.lvar, QM.meta.uvar\n",
    "    n_cols = length(lvar)\n",
    "    Oc = zeros(n_cols)\n",
    "    ilow, iupp = [QM.meta.ilow; QM.meta.irng], [QM.meta.iupp; QM.meta.irng] # finite bounds index\n",
    "    irng = QM.meta.irng\n",
    "    ifix = QM.meta.ifix\n",
    "    c = grad(QM, Oc)\n",
    "    A = jac(QM, Oc)\n",
    "    A = dropzeros!(A)\n",
    "    T = eltype(A)\n",
    "    Arows, Acols, Avals = findnz(A)\n",
    "    n_rows, n_cols = size(A)\n",
    "    @assert QM.meta.lcon == QM.meta.ucon # equality constraint (Ax=b)\n",
    "    b = QM.meta.lcon\n",
    "    Q = hess(QM, Oc)  # lower triangular\n",
    "    Q = dropzeros!(Q)\n",
    "    Qrows, Qcols, Qvals = findnz(Q)    \n",
    "    c0 = obj(QM, Oc)\n",
    "    \n",
    "\n",
    "\n",
    "    if scaling\n",
    "        Arows, Acols, Avals, Qrows, Qcols, Qvals, \n",
    "        c, b, lvar, uvar, d1, d2, d3 = scaling_Ruiz!(Arows, Acols, Avals, Qrows, Qcols, Qvals, \n",
    "                                                     c, b, lvar, uvar, n_rows, n_cols, T(1e-3))    \n",
    "    end\n",
    "    \n",
    "    cNorm = norm(c)\n",
    "    bNorm = norm(b)\n",
    "    ANorm = norm(Avals)  # Frobenius norm after scaling; could be computed while scaling?\n",
    "    QNorm = norm(Qvals)\n",
    "    \n",
    "    n_low, n_upp = length(ilow), length(iupp) # number of finite constraints\n",
    "\n",
    "    # init regularization values\n",
    "    ρ, δ = T(1e5*sqrt(eps())), T(1e6*sqrt(eps())) # 1e6, 1e-1 ok\n",
    "#     ρ_min, δ_min = 1e0*T(sqrt(eps())), 100*T(sqrt(eps()))  \n",
    "    ρ_min, δ_min = 1e-5*T(sqrt(eps())), 1e-5*T(sqrt(eps()))\n",
    "    c_catch = zero(Int) # to avoid endless loop\n",
    "    c_pdd = zero(Int) # avoid too small δ_min\n",
    "\n",
    "    J_augmrows = vcat(Qcols, Acols, n_cols+1:n_cols+n_rows, 1:n_cols)\n",
    "    J_augmcols = vcat(Qrows, Arows.+n_cols, n_cols+1:n_cols+n_rows, 1:n_cols)\n",
    "    tmp_diag = -T(1.0e-7).*ones(T, n_cols)\n",
    "    J_augmvals = vcat(-Qvals, Avals, δ*ones(n_rows), tmp_diag)\n",
    "    J_augm = sparse(J_augmrows, J_augmcols, J_augmvals)\n",
    "    diagind_J = get_diag_sparseCSC(J_augm)\n",
    "    diag_Q = get_diag_sparseCOO(Qrows, Qcols, Qvals, n_cols)\n",
    "    \n",
    "    k = 0\n",
    "    Δ_aff = zeros(T, n_cols+n_rows+n_low+n_upp)\n",
    "    Δ_cc = zeros(T, n_cols+n_rows+n_low+n_upp)\n",
    "    Δ = zeros(T, n_cols+n_rows+n_low+n_upp)\n",
    "    Δ_xλ = zeros(T, n_cols+n_rows)\n",
    "\n",
    "    x, λ, s_l, s_u, J_P, Qx, ATλ,\n",
    "    x_m_lvar, uvar_m_x, Δ_xλ = @views starting_points(Qrows, Qcols, Qvals, Arows, Acols, Avals, \n",
    "                                                      b, c, lvar, uvar, ilow, iupp, QM.meta.irng, \n",
    "                                                      J_augm , n_rows, n_cols, Δ_xλ)\n",
    "\n",
    "    Qx = mul_Qx_COO!(Qx, Qrows, Qcols, Qvals, x)\n",
    "    ATλ = mul_ATλ_COO!(ATλ, Arows, Acols, Avals, λ)\n",
    "    Ax = zeros(n_rows)\n",
    "    Ax = mul_Ax_COO!(Ax, Arows, Acols, Avals, x)\n",
    "    rb = Ax - b\n",
    "    rc = -Qx + ATλ + s_l - s_u - c\n",
    "\n",
    "    x_m_lvar .= @views x[ilow] .- lvar[ilow]\n",
    "    uvar_m_x .= @views uvar[iupp] .- x[iupp]\n",
    "    μ = @views compute_μ(x_m_lvar, uvar_m_x, s_l[ilow], s_u[iupp], n_low, n_upp)\n",
    "\n",
    "    x_m_l_αΔ_aff = zeros(T, n_low) # x-lvar + αΔ_aff\n",
    "    u_m_x_αΔ_aff = zeros(T, n_upp) # uvar-x + αΔ_aff\n",
    "    s_l_αΔ_aff = zeros(T, n_low) # s_l + αΔ_aff\n",
    "    s_u_αΔ_aff = zeros(T, n_upp) # s_l + αΔ_aff\n",
    "    rxs_l, rxs_u = zeros(T, n_low), zeros(T, n_upp)\n",
    "    ilow_pad, iupp_pad = zeros(Int, n_cols), zeros(Int, n_cols)\n",
    "    ilow_pad[ilow] = 1:n_low\n",
    "    iupp_pad[iupp] = 1:n_upp\n",
    "    \n",
    "    if check_frontier\n",
    "        x_m_lvar_sup, uvar_m_x_sup = zeros(T, n_low), zeros(T, n_upp)\n",
    "        s_l_sup, s_u_sup = zeros(T, n_low), zeros(T, n_upp)\n",
    "    end\n",
    "    \n",
    "    # stopping criterion\n",
    "    xTQx_2 = x' * Qx / 2\n",
    "    cTx = c' * x\n",
    "    pri_obj = xTQx_2 + cTx + c0\n",
    "    dual_obj = b' * λ - xTQx_2 + view(s_l,ilow)'*view(lvar,ilow) -\n",
    "                    view(s_u,iupp)'*view(uvar,iupp) +c0\n",
    "    pdd = abs(pri_obj - dual_obj ) / (one(T) + abs(pri_obj) + abs(dual_obj))\n",
    "    rcNorm, rbNorm = norm(rc), norm(rb)\n",
    "    optimal = pdd < ϵ_pdd && rbNorm < ϵ_rb && rcNorm < ϵ_rc\n",
    "    l_pdd = [pdd]\n",
    "\n",
    "    n_Δx = zero(T)\n",
    "    small_Δx, small_μ = false, μ < ϵ_μ\n",
    "    Δt = time() - start_time\n",
    "    tired = Δt > max_time\n",
    "\n",
    "    # display\n",
    "    if display == true\n",
    "        @info log_header([:k, :pri_obj, :pdd, :rbNorm, :rcNorm, :n_Δx, :α_pri, :α_du, :μ],\n",
    "                         [Int, Float64, Float64, Float64, Float64, Float64, Float64, Float64, Float64, Float64],\n",
    "                         hdr_override=Dict(:k => \"iter\", :pri_obj => \"obj\", :pdd => \"rgap\",\n",
    "                                           :rbNorm => \"‖rb‖\", :rcNorm => \"‖rc‖\",\n",
    "                                           :n_Δx => \"‖Δx‖\"))\n",
    "        @info log_row(Any[k, pri_obj, pdd, rbNorm, rcNorm, n_Δx, zero(T), zero(T), μ])\n",
    "    end\n",
    "\n",
    "    while k<max_iter && !optimal && !tired # && !small_μ && !small_μ\n",
    "\n",
    "            # Affine scaling direction\n",
    "        tmp_diag .= -ρ\n",
    "        tmp_diag[ilow] .-= @views s_l[ilow] ./ x_m_lvar\n",
    "        tmp_diag[iupp] .-= @views s_u[iupp] ./ uvar_m_x\n",
    "        \n",
    "#         J_augmvals[end-n_cols+1:end] = tmp_diag\n",
    "#         J_augm = sparse(J_augmrows, J_augmcols, J_augmvals)\n",
    "        \n",
    "        J_augm.nzval[view(diagind_J,1:n_cols)] .= @views tmp_diag .- diag_Q\n",
    "        J_augm.nzval[view(diagind_J, n_cols+1:n_rows+n_cols)] .= δ\n",
    "         \n",
    "#         J_fact = ldl_factorize!(Symmetric(J_augm, :U), J_P)\n",
    "        \n",
    "        J_fact = try ldl_factorize!(Symmetric(J_augm, :U), J_P)\n",
    "        catch \n",
    "            println(\"error \", k)\n",
    "            if c_pdd == 0\n",
    "                δ *= 1e7\n",
    "                δ_min *= 1e7\n",
    "                ρ *= 1e5\n",
    "                ρ_min *= 1e5\n",
    "            else\n",
    "                δ *= 1e8\n",
    "                δ_min *= 1e8\n",
    "                ρ *= 1e5\n",
    "                ρ_min *= 1e5\n",
    "            end\n",
    "            c_catch += 1\n",
    "            tmp_diag .= -ρ\n",
    "            tmp_diag[ilow] .-= @views s_l[ilow] ./ x_m_lvar\n",
    "            tmp_diag[iupp] .-= @views s_u[iupp] ./ uvar_m_x\n",
    "            J_augm.nzval[view(diagind_J,1:n_cols)] .= @views tmp_diag .- diag_Q\n",
    "            J_augm.nzval[view(diagind_J, n_cols+1:n_rows+n_cols)] .= δ\n",
    "            J_fact = ldl_factorize!(Symmetric(J_augm, :U), J_P)\n",
    "        end\n",
    "            \n",
    "        if c_catch >= 3\n",
    "            break\n",
    "        end\n",
    "\n",
    "        Δ_aff = solve_augmented_system_aff!(J_fact, Δ_aff, Δ_xλ, rc, rb, x_m_lvar, uvar_m_x,\n",
    "                                            s_l, s_u, ilow, iupp,  n_cols, n_rows, n_low)\n",
    "\n",
    "        α_aff_pri = @views compute_α_primal(x, Δ_aff[1:n_cols], lvar, uvar)\n",
    "        α_aff_dual_l = @views compute_α_dual(s_l[ilow], Δ_aff[n_rows+n_cols+1: n_rows+n_cols+n_low])\n",
    "        α_aff_dual_u = @views compute_α_dual(s_u[iupp], Δ_aff[n_rows+n_cols+n_low+1:end])\n",
    "\n",
    "        # alpha_aff_dual_final is the min of the 2 alpha_aff_dual\n",
    "        α_aff_dual_final = min(α_aff_dual_l, α_aff_dual_u)\n",
    "        \n",
    "        x_m_l_αΔ_aff .= @views x_m_lvar .+ α_aff_pri .* Δ_aff[1:n_cols][ilow]\n",
    "        u_m_x_αΔ_aff .= @views uvar_m_x .- α_aff_pri .* Δ_aff[1:n_cols][iupp]\n",
    "        s_l_αΔ_aff .= @views s_l[ilow] .+ α_aff_dual_final .* Δ_aff[n_rows+n_cols+1: n_rows+n_cols+n_low]\n",
    "        s_u_αΔ_aff .= @views s_u[iupp] .+ α_aff_dual_final .*  Δ_aff[n_rows+n_cols+n_low+1: end] \n",
    "\n",
    "        μ_aff = compute_μ(x_m_l_αΔ_aff, u_m_x_αΔ_aff, s_l_αΔ_aff, s_u_αΔ_aff,\n",
    "                          n_low, n_upp)\n",
    "\n",
    "        σ = (μ_aff / μ)^3\n",
    "\n",
    "        # corrector and centering step\n",
    "\n",
    "        Δ_cc = solve_augmented_system_cc!(J_fact, Δ_cc, Δ_xλ , Δ_aff, σ, μ,x_m_lvar, uvar_m_x,\n",
    "                                          rxs_l, rxs_u, s_l, s_u, ilow, iupp, n_cols, n_rows, n_low)\n",
    "\n",
    "\n",
    "        Δ .= Δ_aff .+ Δ_cc # final direction\n",
    "\n",
    "        α_pri = @views compute_α_primal(x, Δ[1:n_cols], lvar, uvar)\n",
    "        α_dual_l = @views compute_α_dual(s_l[ilow], Δ[n_rows+n_cols+1: n_rows+n_cols+n_low])\n",
    "        α_dual_u = @views compute_α_dual(s_u[iupp], Δ[n_rows+n_cols+n_low+1: end])\n",
    "\n",
    "        α_dual_final = min(α_dual_l, α_dual_u)\n",
    "\n",
    "        if check_frontier\n",
    "            α_pri, α_dual_final = check_frontier!(T(1e-3), x, x_m_lvar, uvar_m_x, s_l, s_u,\n",
    "                                                  Δ, α_pri, α_dual_final, \n",
    "                                                  x_m_lvar_sup, uvar_m_x_sup, s_l_sup, s_u_sup,\n",
    "                                                  lvar, uvar, ilow, iupp,\n",
    "                                                  ilow_pad, iupp_pad, n_low, n_upp, n_rows, n_cols)\n",
    "        end\n",
    "        # new parameters\n",
    "        x .= @views x .+ α_pri .* Δ[1:n_cols]\n",
    "        λ .= @views λ .+ α_dual_final .* Δ[n_cols+1: n_rows+n_cols]\n",
    "        s_l[ilow] .= @views s_l[ilow] .+ α_dual_final .* Δ[n_rows+n_cols+1: n_rows+n_cols+n_low]\n",
    "        s_u[iupp] .= @views s_u[iupp] .+ α_dual_final .* Δ[n_rows+n_cols+n_low+1: end]\n",
    "        n_Δx = @views α_pri * norm(Δ[1:n_cols])\n",
    "        x_m_lvar .= @views x[ilow] .- lvar[ilow]\n",
    "        uvar_m_x .= @views uvar[iupp] .- x[iupp]\n",
    "        \n",
    "        if zero(T) in x_m_lvar\n",
    "            for i=1:n_low\n",
    "                if x_m_lvar[i] == zero(T)\n",
    "                    x_m_lvar[i] = eps()\n",
    "                end\n",
    "            end\n",
    "        end\n",
    "        if zero(T) in uvar_m_x\n",
    "            for i=1:n_upp\n",
    "                if uvar_m_x[i] == zero(T)\n",
    "                    uvar_m_x[i] = eps()\n",
    "                end\n",
    "            end\n",
    "        end\n",
    "        \n",
    "        μ = @views compute_μ(x_m_lvar, uvar_m_x, s_l[ilow], s_u[iupp],\n",
    "                             n_low, n_upp)\n",
    "        \n",
    "        \n",
    "        Qx = mul_Qx_COO!(Qx, Qrows, Qcols, Qvals, x)\n",
    "        xTQx_2 =  x' * Qx / 2\n",
    "        ATλ = mul_ATλ_COO!(ATλ, Arows, Acols, Avals, λ)\n",
    "        Ax = mul_Ax_COO!(Ax, Arows, Acols, Avals, x)\n",
    "        cTx = c' * x\n",
    "        pri_obj = xTQx_2 + cTx + c0\n",
    "        dual_obj = b' * λ - xTQx_2 + view(s_l,ilow)'*view(lvar,ilow) -\n",
    "                    view(s_u,iupp)'*view(uvar,iupp) +c0\n",
    "\n",
    "        rb .= Ax .- b\n",
    "        rc .= ATλ .-Qx .+ s_l .- s_u .- c\n",
    "\n",
    "        # update stopping criterion values:\n",
    "\n",
    "        pdd = abs(pri_obj - dual_obj ) / (one(T) + abs(pri_obj))\n",
    "        rcNorm, rbNorm = norm(rc), norm(rb)\n",
    "        xNorm = norm(x)\n",
    "        λNorm = norm(λ)\n",
    "        optimal = pdd < ϵ_pdd && rbNorm < ϵ_rb * max(1, bNorm + ANorm * xNorm) && \n",
    "                    rcNorm < ϵ_rc * max(1, cNorm + QNorm * xNorm + ANorm * λNorm)\n",
    "        small_Δx, small_μ = n_Δx < tol_Δx, μ < ϵ_μ\n",
    "        k += 1\n",
    "        \n",
    "        push!(l_pdd, pdd)\n",
    "        if μ < 1e-40 && c_pdd == 0\n",
    "            println(\"mu  \", k)\n",
    "#             δ_min /= 1e3\n",
    "#             δ /= 1e3\n",
    "#             c_pdd += 3\n",
    "        elseif k > 10  && std(l_pdd[end-5:end]./mean(l_pdd[end-5:end])) < 1e-2 && c_pdd < 3\n",
    "            println(\"pdd  \", k)\n",
    "            δ_min /= 1e1\n",
    "            δ /= 1e1\n",
    "            c_pdd += 1\n",
    "        elseif μ < 1e-50 && c_pdd == 3\n",
    "#             println(\"mu2  \", k)\n",
    "#             δ_min /= 1e2\n",
    "#             δ /= 1e2\n",
    "#             c_pdd += 1\n",
    "        end\n",
    "        \n",
    "        \n",
    "        if δ >= δ_min\n",
    "            δ /= 10\n",
    "            #J_augmvals[end-n_cols-n_rows+1:end-n_cols] .= δ\n",
    "        end\n",
    "        if ρ >= ρ_min\n",
    "            ρ /= 10\n",
    "        end\n",
    "\n",
    "        Δt = time() - start_time\n",
    "        tired = Δt > max_time\n",
    "\n",
    "        if display == true\n",
    "            @info log_row(Any[k, pri_obj, pdd, rbNorm, rcNorm, n_Δx, α_pri, α_dual_final, μ])\n",
    "        end\n",
    "\n",
    "#         if k==98\n",
    "#             println(\"iter\", k)\n",
    "#             println(\"min |x+αΔ_aff-lvar| = \", minimum(abs.(x_m_l_αΔ_aff)))\n",
    "#             println(\"min |x-lvar| = \", minimum(abs.(x_m_lvar)))\n",
    "#             println(\"α_pri = \", α_pri)\n",
    "#             idx_pb = findall(isequal(0.), abs.(x_m_lvar))\n",
    "#             for i in idx_pb\n",
    "#                 println(\"   i = \", i, \"  xi = \", x[i], \"   lvari = \" ,lvar[i])\n",
    "#             end\n",
    "#         end\n",
    "    end\n",
    "\n",
    "    if k>= max_iter\n",
    "        status = :max_iter\n",
    "    elseif tired\n",
    "        status = :max_time\n",
    "    elseif optimal\n",
    "        status = :acceptable\n",
    "    else\n",
    "        status = :unknown\n",
    "    end\n",
    "\n",
    "    if scaling\n",
    "        x .*= d2 .* d3\n",
    "        for i=1:length(Qrows)\n",
    "            Qvals[i] /= d2[Qrows[i]] * d2[Qcols[i]] * d3[Qrows[i]] * d3[Qcols[i]]\n",
    "        end\n",
    "        Qx = mul_Qx_COO!(Qx, Qrows, Qcols, Qvals, x)\n",
    "        xTQx_2 =  x' * Qx / 2\n",
    "        for i=1:length(Arows)\n",
    "            Avals[i] /= d1[Arows[i]] * d2[Acols[i]] * d3[Acols[i]]\n",
    "        end\n",
    "        λ .*= d1\n",
    "        ATλ = mul_ATλ_COO!(ATλ, Arows, Acols, Avals, λ)\n",
    "        Ax = mul_Ax_COO!(Ax, Arows, Acols, Avals, x)\n",
    "        b ./= d1\n",
    "        c ./= d2 .* d3\n",
    "        cTx = c' * x\n",
    "        pri_obj = xTQx_2 + cTx + c0\n",
    "        lvar .*= d2 .* d3\n",
    "        uvar .*= d2 .* d3\n",
    "        dual_obj = b' * λ - xTQx_2 + view(s_l,ilow)'*view(lvar,ilow) -\n",
    "                    view(s_u,iupp)'*view(uvar,iupp) +c0\n",
    "        \n",
    "        s_l ./= d2 .* d3\n",
    "        s_u ./= d2 .* d3\n",
    "        rb .= Ax .- b\n",
    "        rc .= ATλ .-Qx .+ s_l .- s_u .- c\n",
    "        rcNorm, rbNorm = norm(rc), norm(rb)\n",
    "    end\n",
    "    \n",
    "    elapsed_time = time() - start_time\n",
    "\n",
    "    stats = GenericExecutionStats(status, QM, solution = x,\n",
    "                                  objective = pri_obj ,\n",
    "                                  dual_feas = rcNorm,\n",
    "                                  primal_feas = rbNorm,\n",
    "                                  solver_specific = Dict(:multipliers => λ,\n",
    "                                                         :multipliers_L => s_l,\n",
    "                                                         :multipliers_U => s_u),\n",
    "                                  iter = k,\n",
    "                                  elapsed_time=elapsed_time)\n",
    "    return stats\n",
    "end\n",
    "\n"
   ]
  },
  {
   "cell_type": "markdown",
   "metadata": {},
   "source": [
    "### bibliothèque QuadraticModels\n",
    "\n",
    "optimize $c_0 + c'x + \\frac{1}{2} x'Hx ~~~~$ s.t. $~~L \\le Ax \\le U$ and $l \\le x \\le u$ \n",
    "\n",
    "Ici L = lcon, U = ucon, l = lvar, u = uvar"
   ]
  },
  {
   "cell_type": "code",
   "execution_count": 16,
   "metadata": {},
   "outputs": [],
   "source": [
    "# probleme1\n",
    "Q = [6. 2. 1.\n",
    "     2. 5. 2.\n",
    "     1. 2. 4.]\n",
    "c = [-8.; -3; -3]\n",
    "c0 = 0.\n",
    "A = [1. 0. 1.\n",
    "    0. 1. 1.]\n",
    "b = [0.; 3]\n",
    "lvar = [0.;0;0]\n",
    "uvar = [Inf; Inf; Inf]\n",
    "lcon = b\n",
    "ucon = b\n",
    "\n",
    "x01 = [1.; 2.; 3.];"
   ]
  },
  {
   "cell_type": "code",
   "execution_count": 17,
   "metadata": {},
   "outputs": [
    {
     "data": {
      "text/plain": [
       "QuadraticModel"
      ]
     },
     "execution_count": 17,
     "metadata": {},
     "output_type": "execute_result"
    }
   ],
   "source": [
    "QM = QuadraticModel(c, Q, A=A, lcon=lcon, ucon=ucon, lvar=lvar, uvar=uvar, x0=x01, c0=c0, name=\"QM1\")\n",
    "SM = SlackModel(QM)\n",
    "typeof(SM)"
   ]
  },
  {
   "cell_type": "code",
   "execution_count": 18,
   "metadata": {
    "scrolled": true
   },
   "outputs": [
    {
     "ename": "MethodError",
     "evalue": "MethodError: no method matching mehrotraPCQuadBounds(::QuadraticModel; scaling=true, presolve=false)\nClosest candidates are:\n  mehrotraPCQuadBounds(::Any; max_iter, ϵ_pdd, ϵ_rb, ϵ_rc, tol_Δx, ϵ_μ, max_time, scaling, display, check_frontier) at In[15]:5 got unsupported keyword argument \"presolve\"",
     "output_type": "error",
     "traceback": [
      "MethodError: no method matching mehrotraPCQuadBounds(::QuadraticModel; scaling=true, presolve=false)\nClosest candidates are:\n  mehrotraPCQuadBounds(::Any; max_iter, ϵ_pdd, ϵ_rb, ϵ_rc, tol_Δx, ϵ_μ, max_time, scaling, display, check_frontier) at In[15]:5 got unsupported keyword argument \"presolve\"",
      "",
      "Stacktrace:",
      " [1] kwerr(::NamedTuple{(:scaling, :presolve),Tuple{Bool,Bool}}, ::Function, ::QuadraticModel) at .\\error.jl:157",
      " [2] top-level scope at In[18]:1"
     ]
    }
   ],
   "source": [
    "stats_mpc1 =  mehrotraPCQuadBounds(SM, scaling=true, presolve=false)\n",
    "println(stats_mpc1)"
   ]
  },
  {
   "cell_type": "code",
   "execution_count": 19,
   "metadata": {},
   "outputs": [
    {
     "name": "stderr",
     "output_type": "stream",
     "text": [
      "┌ Info:   iter       obj      rgap      ‖rb‖      ‖rc‖      ‖Δx‖     α_pri      α_du         μ  \n",
      "└ @ Main In[15]:114\n",
      "┌ Info:      0   1.4e+02   1.0e+00   9.1e+00   9.1e+00   0.0e+00   0.0e+00   0.0e+00   3.9e+01\n",
      "└ @ Main In[15]:119\n",
      "┌ Info:      1   1.5e+01   1.1e+00   1.0e+00   1.8e+00   9.9e+00   9.0e-01   1.0e+00   4.7e+00\n",
      "└ @ Main In[15]:287\n",
      "┌ Info:      2   1.3e+01   5.0e-03   8.7e-03   2.4e-04   1.6e+00   1.0e+00   1.0e+00   3.7e-02\n",
      "└ @ Main In[15]:287\n",
      "┌ Info:      3   1.3e+01   7.6e-06   1.2e-05   3.2e-06   2.2e-02   1.0e+00   1.0e+00   3.9e-05\n",
      "└ @ Main In[15]:287\n"
     ]
    },
    {
     "name": "stdout",
     "output_type": "stream",
     "text": [
      "Generic Execution stats\n",
      "  status: solved to within acceptable tolerances\n",
      "  objective value: 13.499999826100257\n",
      "  primal feasibility: 1.3352583074087876e-8\n",
      "  dual feasibility: 7.145226623998341e-9\n",
      "  solution: [-3.668871827442906e-9  -2.9999999852654033  -3.417720798623904e-9]\n",
      "  iterations: 4\n",
      "  elapsed time: 4.82699990272522\n",
      "  solver specific:\n",
      "    multipliers_U: ["
     ]
    },
    {
     "name": "stderr",
     "output_type": "stream",
     "text": [
      "┌ Info:      4   1.3e+01   8.5e-09   1.3e-08   3.2e-09   3.3e-05   1.0e+00   1.0e+00   3.9e-08\n",
      "└ @ Main In[15]:287\n"
     ]
    },
    {
     "name": "stdout",
     "output_type": "stream",
     "text": [
      "15.673187269433072  1.0101865786121473e-8  8.673187334979994]\n",
      "    multipliers_L: [0.0  0.0  0.0]\n",
      "    multipliers: [-17.673187271890733  11.99999992354133]\n"
     ]
    }
   ],
   "source": [
    "#pb verif\n",
    "\n",
    "QM_verif = QuadraticModel(c*(-1), Q, A=A*(-1), lcon=lcon, ucon=ucon, lvar=-uvar, uvar=lvar, x0=x01, c0=c0, name=\"QM1\")\n",
    "SM_verif = SlackModel(QM_verif)\n",
    "stats_mpc_verif =  mehrotraPCQuadBounds(SM_verif);\n",
    "println(stats_mpc_verif)"
   ]
  },
  {
   "cell_type": "code",
   "execution_count": 20,
   "metadata": {},
   "outputs": [
    {
     "name": "stdout",
     "output_type": "stream",
     "text": [
      "Generic Execution stats\n",
      "  status: solved to within acceptable tolerances\n",
      "  objective value: 2.396822033142898e-10\n",
      "  primal feasibility: 1.6580592454573662e-10\n",
      "  dual feasibility: 2.2159359856144903e-11\n",
      "  solution: [2.396822033142898e-10  0.49999999979725596  0.49999999979725596]\n",
      "  iterations: 4\n",
      "  elapsed time: 0.0\n",
      "  solver specific:\n",
      "    multipliers_U: [0.0  0.0  0.0]\n",
      "    "
     ]
    },
    {
     "name": "stderr",
     "output_type": "stream",
     "text": [
      "┌ Info:   iter       obj      rgap      ‖rb‖      ‖rc‖      ‖Δx‖     α_pri      α_du         μ  \n",
      "└ @ Main In[15]:114\n",
      "┌ Info:      0   2.0e+00   6.7e-01   5.0e+00   2.9e-01   0.0e+00   0.0e+00   0.0e+00   1.0e+00\n",
      "└ @ Main In[15]:119\n",
      "┌ Info:      1   5.4e-02   1.5e-01   1.5e-03   4.3e-03   2.9e+00   1.0e+00   1.0e+00   5.1e-02\n",
      "└ @ Main In[15]:287\n",
      "┌ Info:      2   2.4e-04   3.4e-04   1.5e-04   1.9e-05   6.6e-02   1.0e+00   1.0e+00   1.1e-04\n",
      "└ @ Main In[15]:287\n",
      "┌ Info:      3   2.4e-07   3.4e-07   1.6e-07   2.2e-08   3.6e-04   1.0e+00   1.0e+00   1.1e-07\n",
      "└ @ Main In[15]:287\n",
      "┌ Info:      4   2.4e-10   3.4e-10   1.7e-10   2.2e-11   3.7e-07   1.0e+00   1.0e+00   1.1e-10\n",
      "└ @ Main In[15]:287\n"
     ]
    },
    {
     "name": "stdout",
     "output_type": "stream",
     "text": [
      "multipliers_L: [1.0000000000763423  9.7600665859545e-11  9.7600665859545e-11]\n",
      "    multipliers: [-9.846765661266674e-11]\n"
     ]
    }
   ],
   "source": [
    "### pb verif 2\n",
    "c2 = [1.; 0; 0]\n",
    "A2 = Matrix([1., 1, 1]')\n",
    "b2 = [1.];\n",
    "QM_verif2 = QuadraticModel(c2, zeros(3,3), A=A2, lcon=b2, ucon=b2, lvar=[0.;0;0], \n",
    "                uvar=[Inf; Inf; Inf], x0=x01, c0=c0, name=\"QMverfi2\")\n",
    "SM_verif2 = SlackModel(QM_verif2)\n",
    "stats_mpc_verif2 =  mehrotraPCQuadBounds(SM_verif2);\n",
    "println(stats_mpc_verif2)"
   ]
  },
  {
   "cell_type": "markdown",
   "metadata": {},
   "source": [
    "# Lecture des donnees .SIF"
   ]
  },
  {
   "cell_type": "code",
   "execution_count": 21,
   "metadata": {},
   "outputs": [
    {
     "data": {
      "text/plain": [
       "displayQuadraticModel (generic function with 1 method)"
      ]
     },
     "execution_count": 21,
     "metadata": {},
     "output_type": "execute_result"
    }
   ],
   "source": [
    "\n",
    "function createQuadraticModel(qpdata; name=\"qp_pb\")\n",
    "    return QuadraticModel(qpdata.c, qpdata.qrows, qpdata.qcols, qpdata.qvals,\n",
    "            Arows=qpdata.arows, Acols=qpdata.acols, Avals=qpdata.avals, \n",
    "            lcon=qpdata.lcon, ucon=qpdata.ucon, lvar=qpdata.lvar, uvar=qpdata.uvar,\n",
    "            c0=qpdata.c0, name=name)\n",
    "end\n",
    "\n",
    "function displayQuadraticModel(QM)\n",
    "    #println(\"A = \", Matrix(jac(QM, QM.meta.x0)))\n",
    "    #println(\"Q = \", Matrix(hess(QM, QM.meta.x0)))\n",
    "    println(\"lvar = \", QM.meta.lvar)\n",
    "    println(\"uvar = \", QM.meta.uvar)\n",
    "    println(\"x0 = \", QM.meta.x0)\n",
    "    #println(\"lcon = \", QM.meta.lcon)\n",
    "    #println(\"ucon = \", QM.meta.ucon)\n",
    "end"
   ]
  },
  {
   "cell_type": "markdown",
   "metadata": {},
   "source": [
    "# Benchmark"
   ]
  },
  {
   "cell_type": "code",
   "execution_count": 22,
   "metadata": {},
   "outputs": [
    {
     "data": {
      "text/plain": [
       "\"C:\\\\Users\\\\Geoffroy Leconte\\\\Documents\\\\cours\\\\TFE\\\\code\\\\problemes_netlib\\\\AFIRO.SIF\""
      ]
     },
     "execution_count": 22,
     "metadata": {},
     "output_type": "execute_result"
    }
   ],
   "source": [
    "path_pb = \"C:\\\\Users\\\\Geoffroy Leconte\\\\Documents\\\\cours\\\\TFE\\\\code\\\\problemes_netlib\"\n",
    "path_pb_QP = \"C:\\\\Users\\\\Geoffroy Leconte\\\\Documents\\\\cours\\\\TFE\\\\code\\\\problemes_marosmeszaros\"\n",
    "afiro = string(path_pb, \"\\\\AFIRO.SIF\")"
   ]
  },
  {
   "cell_type": "code",
   "execution_count": 23,
   "metadata": {},
   "outputs": [
    {
     "name": "stderr",
     "output_type": "stream",
     "text": [
      "┌ Info: Using 'AFIRO' as NAME (l. 5)\n",
      "└ @ QPSReader C:\\Users\\Geoffroy Leconte\\.julia\\packages\\QPSReader\\usDQr\\src\\readqps.jl:751\n",
      "┌ Info: Using 'COST' as objective (l. 47)\n",
      "└ @ QPSReader C:\\Users\\Geoffroy Leconte\\.julia\\packages\\QPSReader\\usDQr\\src\\readqps.jl:350\n",
      "┌ Info: Using 'B' as RHS (l. 96)\n",
      "└ @ QPSReader C:\\Users\\Geoffroy Leconte\\.julia\\packages\\QPSReader\\usDQr\\src\\readqps.jl:470\n"
     ]
    },
    {
     "data": {
      "text/plain": [
       "  Problem name: qp_pb-slack\n",
       "   All variables: ████████████████████ 51     All constraints: ████████████████████ 27    \n",
       "            free: ⋅⋅⋅⋅⋅⋅⋅⋅⋅⋅⋅⋅⋅⋅⋅⋅⋅⋅⋅⋅ 0                 free: ⋅⋅⋅⋅⋅⋅⋅⋅⋅⋅⋅⋅⋅⋅⋅⋅⋅⋅⋅⋅ 0     \n",
       "           lower: █████████████⋅⋅⋅⋅⋅⋅⋅ 32               lower: ⋅⋅⋅⋅⋅⋅⋅⋅⋅⋅⋅⋅⋅⋅⋅⋅⋅⋅⋅⋅ 0     \n",
       "           upper: ████████⋅⋅⋅⋅⋅⋅⋅⋅⋅⋅⋅⋅ 19               upper: ⋅⋅⋅⋅⋅⋅⋅⋅⋅⋅⋅⋅⋅⋅⋅⋅⋅⋅⋅⋅ 0     \n",
       "         low/upp: ⋅⋅⋅⋅⋅⋅⋅⋅⋅⋅⋅⋅⋅⋅⋅⋅⋅⋅⋅⋅ 0              low/upp: ⋅⋅⋅⋅⋅⋅⋅⋅⋅⋅⋅⋅⋅⋅⋅⋅⋅⋅⋅⋅ 0     \n",
       "           fixed: ⋅⋅⋅⋅⋅⋅⋅⋅⋅⋅⋅⋅⋅⋅⋅⋅⋅⋅⋅⋅ 0                fixed: ████████████████████ 27    \n",
       "          infeas: ⋅⋅⋅⋅⋅⋅⋅⋅⋅⋅⋅⋅⋅⋅⋅⋅⋅⋅⋅⋅ 0               infeas: ⋅⋅⋅⋅⋅⋅⋅⋅⋅⋅⋅⋅⋅⋅⋅⋅⋅⋅⋅⋅ 0     \n",
       "            nnzh: (100.00% sparsity)   0               linear: ████████████████████ 27    \n",
       "                                                    nonlinear: ⋅⋅⋅⋅⋅⋅⋅⋅⋅⋅⋅⋅⋅⋅⋅⋅⋅⋅⋅⋅ 0     \n",
       "                                                         nnzj: ( 92.59% sparsity)   102   \n",
       "\n"
      ]
     },
     "execution_count": 23,
     "metadata": {},
     "output_type": "execute_result"
    }
   ],
   "source": [
    "qpdata2 = readqps(afiro)  # obj   -4.6475314286E+02\n",
    "# presolve_QP!(qpdata2)\n",
    "QM2 = createQuadraticModel(qpdata2)\n",
    "SM2 = SlackModel(QM2);\n",
    "SM2.meta"
   ]
  },
  {
   "cell_type": "code",
   "execution_count": 24,
   "metadata": {
    "scrolled": true
   },
   "outputs": [
    {
     "name": "stdout",
     "output_type": "stream",
     "text": [
      "Generic Execution stats\n",
      "  status: solved to within acceptable tolerances\n",
      "  objective value: -464.7531428149319\n",
      "  primal feasibility: 4.612753923448528e-13\n",
      "  dual feasibility: 2.9172534023306517e-13\n",
      "  solution: [79.99999999649363  25.499999993863284  54.50000000263025  84.79999999628329 ⋯ 90.05025726564638]\n",
      "  iterations: 8"
     ]
    },
    {
     "name": "stderr",
     "output_type": "stream",
     "text": [
      "┌ Info:   iter       obj      rgap      ‖rb‖      ‖rc‖      ‖Δx‖     α_pri      α_du         μ  \n",
      "└ @ Main In[15]:114\n",
      "┌ Info:      0   6.0e+02   1.0e+00   6.9e+02   1.2e+01   0.0e+00   0.0e+00   0.0e+00   1.6e+02\n",
      "└ @ Main In[15]:119\n",
      "┌ Info:      1   7.1e-01   5.6e+02   5.7e+01   1.7e+00   4.0e+02   9.2e-01   8.3e-01   2.8e+01\n",
      "└ @ Main In[15]:287\n",
      "┌ Info:      2  -1.6e+02   1.6e+00   6.2e-03   5.7e-01   3.4e+02   1.0e+00   6.7e-01   8.5e+00\n",
      "└ @ Main In[15]:287\n",
      "┌ Info:      3  -4.0e+02   6.5e-01   3.6e-03   4.0e-02   5.1e+02   4.0e-01   9.5e-01   5.7e+00\n",
      "└ @ Main In[15]:287\n",
      "┌ Info:      4  -4.5e+02   1.1e-01   2.6e-04   9.4e-03   1.0e+02   9.3e-01   7.7e-01   1.2e+00\n",
      "└ @ Main In[15]:287\n",
      "┌ Info:      5  -4.6e+02   2.6e-02   9.1e-05   7.2e-06   3.2e+01   6.6e-01   1.0e+00   2.3e-01\n",
      "└ @ Main In[15]:287\n",
      "┌ Info:      6  -4.6e+02   1.5e-04   3.6e-07   1.5e-07   1.0e+01   1.0e+00   1.0e+00   1.3e-03\n",
      "└ @ Main In[15]:287\n",
      "┌ Info:      7  -4.6e+02   1.5e-07   3.6e-10   2.7e-10   7.8e-02   1.0e+00   1.0e+00   1.3e-06\n",
      "└ @ Main In[15]:287\n",
      "┌ Info:      8  -4.6e+02   1.5e-10   3.8e-13   2.8e-13   7.3e-05   1.0e+00   1.0e+00   1.3e-09\n",
      "└ @ Main In[15]:287\n"
     ]
    },
    {
     "name": "stdout",
     "output_type": "stream",
     "text": [
      "\n",
      "  elapsed time: 0.9200000762939453\n",
      "  solver specific:\n",
      "    multipliers_U: [0.0  0.0  0.0  0.0 ⋯ 5.330327381335236e-12]\n",
      "    multipliers_L: [1.3012198608341523e-11  5.562434970030833e-11  1.9816727060243273e-11  1.2275681343898081e-11 ⋯ 0.0]\n",
      "    multipliers: [-0.6285714286813776  1.0676608700534942e-10  -0.34477142859027077  -0.22857142862577257 ⋯ -5.3384826148500124e-12]\n"
     ]
    }
   ],
   "source": [
    "stats_mpc2 =  mehrotraPCQuadBounds(SM2, max_iter=20)\n",
    "println(stats_mpc2)"
   ]
  },
  {
   "cell_type": "code",
   "execution_count": 25,
   "metadata": {
    "scrolled": true
   },
   "outputs": [
    {
     "data": {
      "text/plain": [
       "BenchmarkTools.Trial: \n",
       "  memory estimate:  249.80 KiB\n",
       "  allocs estimate:  2715\n",
       "  --------------\n",
       "  minimum time:     496.701 μs (0.00% GC)\n",
       "  median time:      510.000 μs (0.00% GC)\n",
       "  mean time:        544.342 μs (2.80% GC)\n",
       "  maximum time:     4.107 ms (71.72% GC)\n",
       "  --------------\n",
       "  samples:          9132\n",
       "  evals/sample:     1"
      ]
     },
     "execution_count": 25,
     "metadata": {},
     "output_type": "execute_result"
    }
   ],
   "source": [
    "@benchmark mehrotraPCQuadBounds(SM2,  display=false)"
   ]
  },
  {
   "cell_type": "code",
   "execution_count": 35,
   "metadata": {
    "scrolled": true
   },
   "outputs": [
    {
     "name": "stderr",
     "output_type": "stream",
     "text": [
      "┌ Info: Using 'KB2' as NAME (l. 5)\n",
      "└ @ QPSReader C:\\Users\\Geoffroy Leconte\\.julia\\packages\\QPSReader\\usDQr\\src\\readqps.jl:751\n",
      "┌ Info: Using 'FAT7..J.' as objective (l. 20)\n",
      "└ @ QPSReader C:\\Users\\Geoffroy Leconte\\.julia\\packages\\QPSReader\\usDQr\\src\\readqps.jl:350\n",
      "┌ Info: Using '77BOUND' as BOUNDS (l. 227)\n",
      "└ @ QPSReader C:\\Users\\Geoffroy Leconte\\.julia\\packages\\QPSReader\\usDQr\\src\\readqps.jl:622\n"
     ]
    },
    {
     "data": {
      "text/plain": [
       "  Problem name: qp_pb-slack\n",
       "   All variables: ████████████████████ 68     All constraints: ████████████████████ 43    \n",
       "            free: ⋅⋅⋅⋅⋅⋅⋅⋅⋅⋅⋅⋅⋅⋅⋅⋅⋅⋅⋅⋅ 0                 free: ⋅⋅⋅⋅⋅⋅⋅⋅⋅⋅⋅⋅⋅⋅⋅⋅⋅⋅⋅⋅ 0     \n",
       "           lower: ██████████████⋅⋅⋅⋅⋅⋅ 47               lower: ⋅⋅⋅⋅⋅⋅⋅⋅⋅⋅⋅⋅⋅⋅⋅⋅⋅⋅⋅⋅ 0     \n",
       "           upper: ████⋅⋅⋅⋅⋅⋅⋅⋅⋅⋅⋅⋅⋅⋅⋅⋅ 12               upper: ⋅⋅⋅⋅⋅⋅⋅⋅⋅⋅⋅⋅⋅⋅⋅⋅⋅⋅⋅⋅ 0     \n",
       "         low/upp: ███⋅⋅⋅⋅⋅⋅⋅⋅⋅⋅⋅⋅⋅⋅⋅⋅⋅ 9              low/upp: ⋅⋅⋅⋅⋅⋅⋅⋅⋅⋅⋅⋅⋅⋅⋅⋅⋅⋅⋅⋅ 0     \n",
       "           fixed: ⋅⋅⋅⋅⋅⋅⋅⋅⋅⋅⋅⋅⋅⋅⋅⋅⋅⋅⋅⋅ 0                fixed: ████████████████████ 43    \n",
       "          infeas: ⋅⋅⋅⋅⋅⋅⋅⋅⋅⋅⋅⋅⋅⋅⋅⋅⋅⋅⋅⋅ 0               infeas: ⋅⋅⋅⋅⋅⋅⋅⋅⋅⋅⋅⋅⋅⋅⋅⋅⋅⋅⋅⋅ 0     \n",
       "            nnzh: (100.00% sparsity)   0               linear: ████████████████████ 43    \n",
       "                                                    nonlinear: ⋅⋅⋅⋅⋅⋅⋅⋅⋅⋅⋅⋅⋅⋅⋅⋅⋅⋅⋅⋅ 0     \n",
       "                                                         nnzj: ( 89.30% sparsity)   313   \n",
       "\n"
      ]
     },
     "execution_count": 35,
     "metadata": {},
     "output_type": "execute_result"
    }
   ],
   "source": [
    "# problem 3   kb2    obj  -1.7499001299E+03\n",
    "kb2 = string(path_pb, \"\\\\KB2.SIF\")\n",
    "qpdata3 = readqps(kb2)\n",
    "QM3 = createQuadraticModel(qpdata3)\n",
    "SM3 = SlackModel(QM3)\n",
    "SM3.meta"
   ]
  },
  {
   "cell_type": "code",
   "execution_count": 46,
   "metadata": {
    "scrolled": true
   },
   "outputs": [
    {
     "name": "stdout",
     "output_type": "stream",
     "text": [
      "Generic Execution stats\n",
      "  status: solved to within acceptable tolerances\n",
      "  objective value: -1749.9001298660821\n",
      "  primal feasibility: 3.258851877166786e-7\n",
      "  dual feasibility: 1.2773293074861207e-7\n",
      "  solution: [0.8118234752348552  9.237300764043926e-10  1.5940599836501506e-9  7.70490065758585e-9 ⋯ -783.4591270076422]\n",
      "  iterations: 16\n",
      "  elapsed time: 0.00800013542175293\n",
      "  solver specific:\n",
      "    multipliers_U: [0.0  1.047769616923197e-11  0.0  0.0 ⋯ 1.236851136307068e-13]\n",
      "    multipliers_L: [3.86992458678703e-11  0.06381155465707078  0.04896147780940663  0.10208310939823424 ⋯ 0.0]\n",
      "    multipliers: [17.269208277354323  17.214101642892764  16.942045548979742  16.659838411836063 ⋯ -1.2368492821884643e-13]\n"
     ]
    },
    {
     "name": "stderr",
     "output_type": "stream",
     "text": [
      "┌ Info:   iter       obj      rgap      ‖rb‖      ‖rc‖      ‖Δx‖     α_pri      α_du         μ  \n",
      "└ @ Main In[35]:155\n",
      "┌ Info:      0  -1.0e+03   9.1e-01   4.2e+02   2.9e+02   0.0e+00   0.0e+00   0.0e+00   7.0e+02\n",
      "└ @ Main In[35]:160\n",
      "┌ Info:      1  -4.1e+02   4.2e+01   1.3e+02   1.4e+02   1.0e+02   6.9e-01   5.0e-01   4.3e+02\n",
      "└ @ Main In[35]:327\n",
      "┌ Info:      2  -2.4e+02   2.4e+01   1.2e+01   4.2e+01   1.1e+02   9.1e-01   7.1e-01   1.4e+02\n",
      "└ @ Main In[35]:327\n",
      "┌ Info:      3  -3.3e+02   8.2e+00   3.1e-02   1.9e+01   8.0e+01   1.0e+00   5.4e-01   7.0e+01\n",
      "└ @ Main In[35]:327\n",
      "┌ Info:      4  -4.4e+02   4.9e-01   2.4e-03   3.8e+00   7.3e+01   1.0e+00   8.0e-01   1.2e+01\n",
      "└ @ Main In[35]:327\n",
      "┌ Info:      5  -1.1e+03   3.7e-01   1.9e-03   2.6e+00   4.8e+02   2.2e-01   3.1e-01   8.8e+00\n",
      "└ @ Main In[35]:327\n",
      "┌ Info:      6  -1.5e+03   1.9e-01   1.6e-03   2.1e+00   3.2e+02   1.4e-01   2.0e-01   1.1e+01\n",
      "└ @ Main In[35]:327\n",
      "┌ Info:      7  -1.6e+03   7.6e-03   8.1e-04   1.0e+00   1.4e+02   5.0e-01   5.1e-01   7.9e+00\n",
      "└ @ Main In[35]:327\n",
      "┌ Info:      8  -1.7e+03   3.4e-02   3.4e-04   1.9e-01   1.1e+02   5.8e-01   8.2e-01   2.3e+00\n",
      "└ @ Main In[35]:327\n",
      "┌ Info:      9  -1.7e+03   4.5e-02   2.1e-04   1.6e-04   5.6e+01   4.0e-01   1.0e+00   9.9e-01\n",
      "└ @ Main In[35]:327\n",
      "┌ Info:     10  -1.7e+03   8.2e-03   7.7e-06   7.2e-05   7.7e+01   9.6e-01   6.6e-01   1.9e-01\n",
      "└ @ Main In[35]:327\n",
      "┌ Info:     11  -1.7e+03   1.7e-03   1.0e-06   5.5e-05   4.4e+01   8.7e-01   8.9e-01   4.0e-02\n",
      "└ @ Main In[35]:327\n",
      "┌ Info:     12  -1.7e+03   2.6e-04   2.7e-07   2.6e-04   9.5e+01   7.4e-01   1.0e+00   6.9e-03\n",
      "└ @ Main In[35]:327\n",
      "┌ Info:     13  -1.7e+03   1.3e-04   1.7e-07   1.4e-04   2.8e+01   3.7e-01   1.0e+00   3.2e-03\n",
      "└ @ Main In[35]:327\n",
      "┌ Info:     14  -1.7e+03   7.3e-06   9.8e-09   2.3e-05   1.0e+01   9.4e-01   9.8e-01   2.1e-04\n",
      "└ @ Main In[35]:327\n",
      "┌ Info:     15  -1.7e+03   4.3e-07   4.2e-10   3.4e-06   2.1e+00   1.0e+00   1.0e+00   6.6e-07\n",
      "└ @ Main In[35]:327\n",
      "┌ Info:     16  -1.7e+03   1.1e-09   3.2e-08   1.3e-08   5.8e-03   1.0e+00   1.0e+00   6.6e-10\n",
      "└ @ Main In[35]:327\n"
     ]
    }
   ],
   "source": [
    "stats_mpc3 = mehrotraPCQuadBounds(SM3, scaling=true);\n",
    "println(stats_mpc3)"
   ]
  },
  {
   "cell_type": "code",
   "execution_count": 517,
   "metadata": {
    "scrolled": true
   },
   "outputs": [
    {
     "data": {
      "text/plain": [
       "BenchmarkTools.Trial: \n",
       "  memory estimate:  603.11 KiB\n",
       "  allocs estimate:  4598\n",
       "  --------------\n",
       "  minimum time:     912.099 μs (0.00% GC)\n",
       "  median time:      949.450 μs (0.00% GC)\n",
       "  mean time:        1.007 ms (2.98% GC)\n",
       "  maximum time:     6.311 ms (79.97% GC)\n",
       "  --------------\n",
       "  samples:          4962\n",
       "  evals/sample:     1"
      ]
     },
     "execution_count": 517,
     "metadata": {},
     "output_type": "execute_result"
    }
   ],
   "source": [
    "@benchmark mehrotraPCQuadBounds(SM3, display = false)"
   ]
  },
  {
   "cell_type": "code",
   "execution_count": 36,
   "metadata": {
    "scrolled": true
   },
   "outputs": [
    {
     "name": "stderr",
     "output_type": "stream",
     "text": [
      "┌ Info: Using 'QSEBA' as NAME (l. 1)\n",
      "└ @ QPSReader C:\\Users\\Geoffroy Leconte\\.julia\\packages\\QPSReader\\usDQr\\src\\readqps.jl:751\n",
      "┌ Info: Using '00000000' as objective (l. 17)\n",
      "└ @ QPSReader C:\\Users\\Geoffroy Leconte\\.julia\\packages\\QPSReader\\usDQr\\src\\readqps.jl:350\n",
      "┌ Info: Using 'RHS1' as RHS (l. 3173)\n",
      "└ @ QPSReader C:\\Users\\Geoffroy Leconte\\.julia\\packages\\QPSReader\\usDQr\\src\\readqps.jl:470\n",
      "┌ Info: Using 'RANGE1' as RANGES (l. 3179)\n",
      "└ @ QPSReader C:\\Users\\Geoffroy Leconte\\.julia\\packages\\QPSReader\\usDQr\\src\\readqps.jl:552\n",
      "┌ Info: Using 'BND1' as BOUNDS (l. 3184)\n",
      "└ @ QPSReader C:\\Users\\Geoffroy Leconte\\.julia\\packages\\QPSReader\\usDQr\\src\\readqps.jl:622\n"
     ]
    },
    {
     "name": "stdout",
     "output_type": "stream",
     "text": [
      "false\n"
     ]
    },
    {
     "data": {
      "text/plain": [
       "  Problem name: qp_pb-slack\n",
       "   All variables: ████████████████████ 1036   All constraints: ████████████████████ 515   \n",
       "            free: ⋅⋅⋅⋅⋅⋅⋅⋅⋅⋅⋅⋅⋅⋅⋅⋅⋅⋅⋅⋅ 0                 free: ⋅⋅⋅⋅⋅⋅⋅⋅⋅⋅⋅⋅⋅⋅⋅⋅⋅⋅⋅⋅ 0     \n",
       "           lower: ███████████⋅⋅⋅⋅⋅⋅⋅⋅⋅ 522              lower: ⋅⋅⋅⋅⋅⋅⋅⋅⋅⋅⋅⋅⋅⋅⋅⋅⋅⋅⋅⋅ 0     \n",
       "           upper: ⋅⋅⋅⋅⋅⋅⋅⋅⋅⋅⋅⋅⋅⋅⋅⋅⋅⋅⋅⋅ 0                upper: ⋅⋅⋅⋅⋅⋅⋅⋅⋅⋅⋅⋅⋅⋅⋅⋅⋅⋅⋅⋅ 0     \n",
       "         low/upp: ██████████⋅⋅⋅⋅⋅⋅⋅⋅⋅⋅ 514            low/upp: ⋅⋅⋅⋅⋅⋅⋅⋅⋅⋅⋅⋅⋅⋅⋅⋅⋅⋅⋅⋅ 0     \n",
       "           fixed: ⋅⋅⋅⋅⋅⋅⋅⋅⋅⋅⋅⋅⋅⋅⋅⋅⋅⋅⋅⋅ 0                fixed: ████████████████████ 515   \n",
       "          infeas: ⋅⋅⋅⋅⋅⋅⋅⋅⋅⋅⋅⋅⋅⋅⋅⋅⋅⋅⋅⋅ 0               infeas: ⋅⋅⋅⋅⋅⋅⋅⋅⋅⋅⋅⋅⋅⋅⋅⋅⋅⋅⋅⋅ 0     \n",
       "            nnzh: ( 99.88% sparsity)   646             linear: ████████████████████ 515   \n",
       "                                                    nonlinear: ⋅⋅⋅⋅⋅⋅⋅⋅⋅⋅⋅⋅⋅⋅⋅⋅⋅⋅⋅⋅ 0     \n",
       "                                                         nnzj: ( 99.18% sparsity)   4360  \n",
       "\n"
      ]
     },
     "execution_count": 36,
     "metadata": {},
     "output_type": "execute_result"
    }
   ],
   "source": [
    "# problems AGG2, BNL2, FFFFF800, CYCLE, D2Q06C, FIT1P, FIT2P, CRE-B, SHIP04S, SHIP08L, LOTFI, MODSZK1\n",
    "# CONT-050, CONT-100, CONT-101, CONT-201, CONT-300, BOYD2, LISWET1, POWELL20, QSEBA,QGROW22,QFFFFF80, QSHIP12L\n",
    "# QGFRDXPN, QPCBOEI2, CVXQP3_L\n",
    "pb4 = string(path_pb_QP, \"\\\\QSEBA.SIF\")\n",
    "qpdata4 = readqps(pb4, mpsformat = :fixed)\n",
    "QM4 = createQuadraticModel(qpdata4)\n",
    "SM4 = SlackModel(QM4)\n",
    "SM4.meta"
   ]
  },
  {
   "cell_type": "code",
   "execution_count": 235,
   "metadata": {
    "scrolled": true
   },
   "outputs": [
    {
     "name": "stderr",
     "output_type": "stream",
     "text": [
      "┌ Info:   iter       obj      rgap      ‖rb‖      ‖rc‖      ‖Δx‖     α_pri      α_du         μ  \n",
      "└ @ Main In[179]:155\n",
      "┌ Info:      0   3.9e+09   1.0e+00   1.5e+03   2.0e+07   0.0e+00   0.0e+00   0.0e+00   7.4e-04\n",
      "└ @ Main In[179]:160\n",
      "┌ Info:      1   3.9e+09   2.0e+00   1.5e+03   2.0e+07   8.4e+00   9.6e-03   2.3e-01   1.2e-03\n",
      "└ @ Main In[179]:328\n",
      "┌ Info:      2   3.9e+09   2.0e+00   1.5e+03   2.0e+07   7.2e-01   2.2e-04   7.5e-05   1.2e-03\n",
      "└ @ Main In[179]:328\n",
      "┌ Info:      3   3.9e+09   2.0e+00   1.5e+03   2.0e+07   4.1e-01   4.0e-05   8.1e-07   1.2e-03\n",
      "└ @ Main In[179]:328\n",
      "┌ Info:      4   3.9e+09   2.0e+00   1.5e+03   2.0e+07   3.6e-01   2.4e-05   3.0e-05   1.3e-03\n",
      "└ @ Main In[179]:328\n",
      "┌ Info:      5   3.9e+09   2.0e+00   1.5e+03   2.0e+07   1.0e+00   2.6e-06   4.9e-07   2.7e-03\n",
      "└ @ Main In[179]:328\n",
      "┌ Info:      6   3.9e+09   2.0e+00   1.5e+03   2.0e+07   6.4e-01   2.5e-06   1.4e-07   2.9e-03\n",
      "└ @ Main In[179]:328\n",
      "┌ Info:      7   3.9e+09   2.0e+00   1.5e+03   2.0e+07   3.0e-01   6.9e-04   1.0e-01   2.9e-01\n",
      "└ @ Main In[179]:328\n",
      "┌ Info:      8   3.9e+09   2.0e+00   1.5e+03   2.0e+07   1.7e-02   6.0e-08   1.6e-06   3.1e-01\n",
      "└ @ Main In[179]:328\n",
      "┌ Info:      9   3.9e+09   2.0e+00   1.5e+03   2.0e+07   4.5e-01   5.3e-05   1.4e-04   5.5e-01\n",
      "└ @ Main In[179]:328\n"
     ]
    },
    {
     "name": "stdout",
     "output_type": "stream",
     "text": [
      "pdd  11\n"
     ]
    },
    {
     "name": "stderr",
     "output_type": "stream",
     "text": [
      "┌ Info:     10   3.9e+09   2.0e+00   1.5e+03   2.0e+07   4.5e-01   2.4e-05   2.6e-05   7.8e-01\n",
      "└ @ Main In[179]:328\n",
      "┌ Info:     11   3.9e+09   2.0e+00   1.5e+03   2.0e+07   9.2e-01   5.4e-06   3.2e-06   9.0e-01\n",
      "└ @ Main In[179]:328\n"
     ]
    },
    {
     "name": "stdout",
     "output_type": "stream",
     "text": [
      "pdd  12\n"
     ]
    },
    {
     "name": "stderr",
     "output_type": "stream",
     "text": [
      "┌ Info:     12   3.9e+09   2.0e+00   1.5e+03   2.0e+07   1.2e+00   3.9e-05   2.8e-05   1.5e+00\n",
      "└ @ Main In[179]:328\n"
     ]
    },
    {
     "name": "stdout",
     "output_type": "stream",
     "text": [
      "pdd  13\n"
     ]
    },
    {
     "name": "stderr",
     "output_type": "stream",
     "text": [
      "┌ Info:     13   3.9e+09   2.0e+00   1.5e+03   2.0e+07   9.9e-01   3.2e-05   9.9e-05   4.3e+00\n",
      "└ @ Main In[179]:328\n",
      "┌ Info:     14   3.9e+09   2.0e+00   1.5e+03   2.0e+07   1.6e+00   3.2e-05   6.2e-06   4.6e+00\n",
      "└ @ Main In[179]:328\n",
      "┌ Info:     15   3.9e+09   2.0e+00   1.5e+03   2.0e+07   8.1e-01   2.8e-05   9.7e-05   1.4e+01\n",
      "└ @ Main In[179]:328\n",
      "┌ Info:     16   3.9e+09   2.0e+00   1.5e+03   2.0e+07   5.3e-01   9.0e-06   5.0e-05   3.3e+01\n",
      "└ @ Main In[179]:328\n",
      "┌ Info:     17   3.9e+09   2.1e+00   1.5e+03   2.0e+07   1.8e-01   1.8e-06   4.3e-05   7.6e+01\n",
      "└ @ Main In[179]:328\n",
      "┌ Info:     18   3.9e+09   2.1e+00   1.5e+03   2.0e+07   5.7e-01   3.3e-06   1.4e-05   1.1e+02\n",
      "└ @ Main In[179]:328\n",
      "┌ Info:     19   3.9e+09   2.1e+00   1.5e+03   2.0e+07   1.3e+00   1.2e-06   1.1e-06   1.1e+02\n",
      "└ @ Main In[179]:328\n",
      "┌ Info:     20   3.9e+09   2.1e+00   1.5e+03   2.0e+07   1.3e+00   1.5e-07   9.0e-09   1.1e+02\n",
      "└ @ Main In[179]:328\n",
      "┌ Info:     21   3.9e+09   2.1e+00   1.5e+03   2.0e+07   4.4e-01   9.2e-08   1.3e-07   1.1e+02\n",
      "└ @ Main In[179]:328\n",
      "┌ Info:     22   3.9e+09   2.1e+00   1.5e+03   2.0e+07   1.9e+00   2.8e-06   3.3e-08   1.1e+02\n",
      "└ @ Main In[179]:328\n",
      "┌ Info:     23   3.9e+09   2.1e+00   1.5e+03   2.0e+07   6.1e-01   5.3e-06   1.2e-05   1.6e+02\n",
      "└ @ Main In[179]:328\n",
      "┌ Info:     24   3.9e+09   2.3e+00   1.5e+03   2.0e+07   3.7e-01   8.1e-06   2.7e-05   3.1e+02\n",
      "└ @ Main In[179]:328\n",
      "┌ Info:     25   3.9e+09   3.7e+00   1.5e+03   2.0e+07   4.4e-01   1.1e-05   1.3e-04   1.7e+03\n",
      "└ @ Main In[179]:328\n",
      "┌ Info:     26   3.9e+09   3.7e+00   1.5e+03   2.0e+07   8.4e-01   3.0e-06   2.4e-07   1.7e+03\n",
      "└ @ Main In[179]:328\n",
      "┌ Info:     27   3.9e+09   6.3e+00   1.5e+03   2.0e+07   7.2e-02   9.6e-07   4.1e-05   4.4e+03\n",
      "└ @ Main In[179]:328\n",
      "┌ Info:     28   3.9e+09   8.2e+00   1.5e+03   2.0e+07   5.3e-01   5.0e-06   1.2e-05   6.2e+03\n",
      "└ @ Main In[179]:328\n",
      "┌ Info:     29   3.9e+09   8.2e+00   1.5e+03   2.0e+07   5.5e-01   1.8e-08   1.5e-08   6.2e+03\n",
      "└ @ Main In[179]:328\n",
      "┌ Info:     30   3.9e+09   8.2e+00   1.5e+03   2.0e+07   1.2e+00   1.0e-05   1.1e-07   6.3e+03\n",
      "└ @ Main In[179]:328\n",
      "┌ Info:     31   3.9e+09   1.4e+01   1.5e+03   2.0e+07   4.0e-01   2.6e-06   2.5e-05   1.2e+04\n",
      "└ @ Main In[179]:328\n",
      "┌ Info:     32   3.9e+09   2.4e+01   1.5e+03   2.0e+07   5.6e-01   6.2e-06   2.3e-05   2.2e+04\n",
      "└ @ Main In[179]:328\n",
      "┌ Info:     33   3.9e+09   5.0e+01   1.5e+03   2.0e+07   1.3e+00   8.7e-06   3.3e-05   4.9e+04\n",
      "└ @ Main In[179]:328\n",
      "┌ Info:     34   3.9e+09   9.9e+01   1.5e+03   2.0e+07   8.3e-01   3.7e-06   2.8e-05   9.8e+04\n",
      "└ @ Main In[179]:328\n",
      "┌ Info:     35   3.9e+09   1.9e+02   1.5e+03   2.0e+07   2.0e+00   2.9e-05   2.7e-05   1.9e+05\n",
      "└ @ Main In[179]:328\n",
      "┌ Info:     36   3.9e+09   6.8e+02   1.5e+03   2.0e+07   2.9e+00   4.5e-05   7.1e-05   6.9e+05\n",
      "└ @ Main In[179]:328\n",
      "┌ Info:     37   3.9e+09   2.1e+03   1.5e+03   2.0e+07   3.9e-01   2.9e-06   6.2e-05   2.2e+06\n",
      "└ @ Main In[179]:328\n",
      "┌ Info:     38   3.9e+09   7.8e+03   1.5e+03   2.0e+07   2.8e+00   4.7e-05   7.7e-05   8.2e+06\n",
      "└ @ Main In[179]:328\n",
      "┌ Info:     39   3.9e+09   8.2e+03   1.5e+03   2.0e+07   2.4e+00   7.4e-06   1.7e-06   8.7e+06\n",
      "└ @ Main In[179]:328\n",
      "┌ Info:     40   3.9e+09   1.5e+04   1.5e+03   2.0e+07   2.4e+00   6.9e-06   2.9e-05   1.6e+07\n",
      "└ @ Main In[179]:328\n",
      "┌ Info:     41   3.9e+09   1.5e+04   1.5e+03   2.0e+07   3.4e+00   8.6e-08   9.3e-08   1.6e+07\n",
      "└ @ Main In[179]:328\n",
      "┌ Info:     42   3.9e+09   1.5e+04   1.5e+03   2.0e+07   9.8e+00   3.7e-09   2.4e-09   1.6e+07\n",
      "└ @ Main In[179]:328\n",
      "┌ Info:     43   3.9e+09   1.5e+04   1.5e+03   2.0e+07   1.5e+01   2.1e-08   3.2e-09   1.6e+07\n",
      "└ @ Main In[179]:328\n",
      "┌ Info:     44   3.9e+09   1.5e+04   1.5e+03   2.0e+07   5.7e-01   3.2e-09   1.2e-08   1.6e+07\n",
      "└ @ Main In[179]:328\n",
      "┌ Info:     45   3.9e+09   1.6e+04   1.5e+03   2.0e+07   1.4e+01   1.9e-07   2.7e-07   1.7e+07\n",
      "└ @ Main In[179]:328\n",
      "┌ Info:     46   3.9e+09   1.9e+04   1.5e+03   2.0e+07   1.1e+01   5.8e-06   7.1e-06   2.0e+07\n",
      "└ @ Main In[179]:328\n",
      "┌ Info:     47   3.9e+09   1.9e+04   1.5e+03   2.0e+07   5.8e+00   4.1e-08   9.7e-09   2.0e+07\n",
      "└ @ Main In[179]:328\n",
      "┌ Info:     48   3.9e+09   1.9e+04   1.5e+03   2.0e+07   5.9e-01   1.9e-07   9.5e-07   2.1e+07\n",
      "└ @ Main In[179]:328\n"
     ]
    },
    {
     "name": "stdout",
     "output_type": "stream",
     "text": [
      "Generic Execution stats\n",
      "  status: maximum iteration\n",
      "  objective value: 3.8614437990522833e9\n",
      "  primal feasibility: 1483.8651429280517\n",
      "  dual feasibility: 1.99015738261209e7\n",
      "  solution: [4.6571203123079625  0.4093403162806168  4.970366647413824  1.0439777930004575 ⋯ 4.996639023884199]\n",
      "  iterations: 50\n",
      "  elapsed time: 199.6529998779297\n",
      "  solver specific:\n",
      "    multipliers_U: [418.2400160818596  235.06811746662848  448.3856254792934  252.67307616208504 ⋯ 451.38365548702416]\n",
      "    multipliers_L: [501.5303402532374  7718.243148744089  464.9962392196071  2345.8226843925045 ⋯ 461.20754173298644]\n",
      "    multipliers: [-2175.4313299772375  -4705.493974759656  -33.114958285834675  13220.419154493646 ⋯ -6.616398569981912e11]\n"
     ]
    },
    {
     "name": "stderr",
     "output_type": "stream",
     "text": [
      "┌ Info:     49   3.9e+09   3.0e+04   1.5e+03   2.0e+07   2.0e+00   8.4e-06   2.0e-05   3.2e+07\n",
      "└ @ Main In[179]:328\n",
      "┌ Info:     50   3.9e+09   3.0e+04   1.5e+03   2.0e+07   1.2e+00   1.4e-07   4.3e-07   3.3e+07\n",
      "└ @ Main In[179]:328\n"
     ]
    }
   ],
   "source": [
    "stats_mpc4 = mehrotraPCQuadBounds(SM4, max_iter=50, max_time=600, scaling=false, \n",
    "                                  check_frontier=true)\n",
    "println(stats_mpc4)"
   ]
  },
  {
   "cell_type": "markdown",
   "metadata": {
    "scrolled": true
   },
   "source": [
    "\n"
   ]
  },
  {
   "cell_type": "markdown",
   "metadata": {},
   "source": [
    "# Tests sur tous les problèmes"
   ]
  },
  {
   "cell_type": "code",
   "execution_count": 49,
   "metadata": {},
   "outputs": [],
   "source": [
    "# T = typeof(SM2.meta)\n",
    "# for (name, typ) in zip(fieldnames(T), T.types)\n",
    "#     println(\"type of the fieldname $name is $typ\")\n",
    "# end"
   ]
  },
  {
   "cell_type": "code",
   "execution_count": 183,
   "metadata": {},
   "outputs": [
    {
     "name": "stdout",
     "output_type": "stream",
     "text": [
      "25FV47.SIF\n",
      "ADLITTLE.SIF\n",
      "AFIRO.SIF\n",
      "AGG.SIF\n"
     ]
    },
    {
     "name": "stderr",
     "output_type": "stream",
     "text": [
      "┌ Info: Using '25FV47' as NAME (l. 5)\n",
      "└ @ QPSReader C:\\Users\\Geoffroy Leconte\\.julia\\packages\\QPSReader\\usDQr\\src\\readqps.jl:751\n",
      "┌ Info: Using 'R0000' as objective (l. 21)\n",
      "└ @ QPSReader C:\\Users\\Geoffroy Leconte\\.julia\\packages\\QPSReader\\usDQr\\src\\readqps.jl:350\n",
      "┌ Info: Using '.00001' as RHS (l. 6793)\n",
      "└ @ QPSReader C:\\Users\\Geoffroy Leconte\\.julia\\packages\\QPSReader\\usDQr\\src\\readqps.jl:470\n",
      "┌ Info: Using 'ADLITTLE' as NAME (l. 5)\n",
      "└ @ QPSReader C:\\Users\\Geoffroy Leconte\\.julia\\packages\\QPSReader\\usDQr\\src\\readqps.jl:751\n",
      "┌ Info: Using '.Z....' as objective (l. 20)\n",
      "└ @ QPSReader C:\\Users\\Geoffroy Leconte\\.julia\\packages\\QPSReader\\usDQr\\src\\readqps.jl:350\n",
      "┌ Info: Using 'ZZZZ0001' as RHS (l. 333)\n",
      "└ @ QPSReader C:\\Users\\Geoffroy Leconte\\.julia\\packages\\QPSReader\\usDQr\\src\\readqps.jl:470\n",
      "┌ Info: Using 'AFIRO' as NAME (l. 5)\n",
      "└ @ QPSReader C:\\Users\\Geoffroy Leconte\\.julia\\packages\\QPSReader\\usDQr\\src\\readqps.jl:751\n",
      "┌ Info: Using 'COST' as objective (l. 47)\n",
      "└ @ QPSReader C:\\Users\\Geoffroy Leconte\\.julia\\packages\\QPSReader\\usDQr\\src\\readqps.jl:350\n",
      "┌ Info: Using 'B' as RHS (l. 96)\n",
      "└ @ QPSReader C:\\Users\\Geoffroy Leconte\\.julia\\packages\\QPSReader\\usDQr\\src\\readqps.jl:470\n",
      "┌ Info: Using 'AGG' as NAME (l. 5)\n",
      "└ @ QPSReader C:\\Users\\Geoffroy Leconte\\.julia\\packages\\QPSReader\\usDQr\\src\\readqps.jl:751\n"
     ]
    },
    {
     "name": "stdout",
     "output_type": "stream",
     "text": [
      "AGG2.SIF\n",
      "AGG3.SIF\n",
      "BANDM.SIF\n",
      "BEACONFD.SIF\n",
      "BLEND.SIF\n"
     ]
    },
    {
     "name": "stderr",
     "output_type": "stream",
     "text": [
      "┌ Info: Using 'OBJECTIV' as objective (l. 509)\n",
      "└ @ QPSReader C:\\Users\\Geoffroy Leconte\\.julia\\packages\\QPSReader\\usDQr\\src\\readqps.jl:350\n",
      "┌ Info: Using 'AGG' as RHS (l. 1852)\n",
      "└ @ QPSReader C:\\Users\\Geoffroy Leconte\\.julia\\packages\\QPSReader\\usDQr\\src\\readqps.jl:470\n",
      "┌ Info: Using 'AGG2' as NAME (l. 5)\n",
      "└ @ QPSReader C:\\Users\\Geoffroy Leconte\\.julia\\packages\\QPSReader\\usDQr\\src\\readqps.jl:751\n",
      "┌ Info: Using 'OBJECTIV' as objective (l. 536)\n",
      "└ @ QPSReader C:\\Users\\Geoffroy Leconte\\.julia\\packages\\QPSReader\\usDQr\\src\\readqps.jl:350\n",
      "┌ Info: Using 'RHS' as RHS (l. 2878)\n",
      "└ @ QPSReader C:\\Users\\Geoffroy Leconte\\.julia\\packages\\QPSReader\\usDQr\\src\\readqps.jl:470\n",
      "┌ Info: Using 'AGG3' as NAME (l. 5)\n",
      "└ @ QPSReader C:\\Users\\Geoffroy Leconte\\.julia\\packages\\QPSReader\\usDQr\\src\\readqps.jl:751\n",
      "┌ Info: Using 'OBJECTIV' as objective (l. 536)\n",
      "└ @ QPSReader C:\\Users\\Geoffroy Leconte\\.julia\\packages\\QPSReader\\usDQr\\src\\readqps.jl:350\n",
      "┌ Info: Using 'RHS' as RHS (l. 2884)\n",
      "└ @ QPSReader C:\\Users\\Geoffroy Leconte\\.julia\\packages\\QPSReader\\usDQr\\src\\readqps.jl:470\n",
      "┌ Info: Using 'BANDM' as NAME (l. 5)\n",
      "└ @ QPSReader C:\\Users\\Geoffroy Leconte\\.julia\\packages\\QPSReader\\usDQr\\src\\readqps.jl:751\n",
      "┌ Info: Using '....1' as objective (l. 20)\n",
      "└ @ QPSReader C:\\Users\\Geoffroy Leconte\\.julia\\packages\\QPSReader\\usDQr\\src\\readqps.jl:350\n",
      "┌ Info: Using 'ZZZZ0001' as RHS (l. 1815)\n",
      "└ @ QPSReader C:\\Users\\Geoffroy Leconte\\.julia\\packages\\QPSReader\\usDQr\\src\\readqps.jl:470\n",
      "┌ Info: Using 'BEACONFD' as NAME (l. 5)\n",
      "└ @ QPSReader C:\\Users\\Geoffroy Leconte\\.julia\\packages\\QPSReader\\usDQr\\src\\readqps.jl:751\n",
      "┌ Info: Using '11CSTR' as objective (l. 20)\n",
      "└ @ QPSReader C:\\Users\\Geoffroy Leconte\\.julia\\packages\\QPSReader\\usDQr\\src\\readqps.jl:350\n",
      "┌ Info: Using 'BEACON2' as RHS (l. 1996)\n",
      "└ @ QPSReader C:\\Users\\Geoffroy Leconte\\.julia\\packages\\QPSReader\\usDQr\\src\\readqps.jl:470\n",
      "┌ Info: Using 'BLEND' as NAME (l. 5)\n",
      "└ @ QPSReader C:\\Users\\Geoffroy Leconte\\.julia\\packages\\QPSReader\\usDQr\\src\\readqps.jl:751\n"
     ]
    },
    {
     "name": "stdout",
     "output_type": "stream",
     "text": [
      "BNL1.SIF\n",
      "BNL2.SIF\n"
     ]
    },
    {
     "name": "stderr",
     "output_type": "stream",
     "text": [
      "┌ Info: Using 'C' as objective (l. 98)\n",
      "└ @ QPSReader C:\\Users\\Geoffroy Leconte\\.julia\\packages\\QPSReader\\usDQr\\src\\readqps.jl:350\n",
      "┌ Info: Using '' as RHS (l. 376)\n",
      "└ @ QPSReader C:\\Users\\Geoffroy Leconte\\.julia\\packages\\QPSReader\\usDQr\\src\\readqps.jl:470\n",
      "┌ Info: Using 'BNL1' as NAME (l. 5)\n",
      "└ @ QPSReader C:\\Users\\Geoffroy Leconte\\.julia\\packages\\QPSReader\\usDQr\\src\\readqps.jl:751\n",
      "┌ Info: Using 'OBJ' as objective (l. 20)\n",
      "└ @ QPSReader C:\\Users\\Geoffroy Leconte\\.julia\\packages\\QPSReader\\usDQr\\src\\readqps.jl:350\n",
      "┌ Info: Using 'RHS' as RHS (l. 3994)\n",
      "└ @ QPSReader C:\\Users\\Geoffroy Leconte\\.julia\\packages\\QPSReader\\usDQr\\src\\readqps.jl:470\n",
      "┌ Info: Using 'BNL2' as NAME (l. 5)\n",
      "└ @ QPSReader C:\\Users\\Geoffroy Leconte\\.julia\\packages\\QPSReader\\usDQr\\src\\readqps.jl:751\n",
      "┌ Info: Using 'OBJ' as objective (l. 20)\n",
      "└ @ QPSReader C:\\Users\\Geoffroy Leconte\\.julia\\packages\\QPSReader\\usDQr\\src\\readqps.jl:350\n",
      "┌ Info: Using 'RHS' as RHS (l. 11294)\n",
      "└ @ QPSReader C:\\Users\\Geoffroy Leconte\\.julia\\packages\\QPSReader\\usDQr\\src\\readqps.jl:470\n"
     ]
    }
   ],
   "source": [
    "problems = []\n",
    "i_max = 11\n",
    "i = 1\n",
    "for file_name in readdir(path_pb)\n",
    "    if file_name[end-3:end] == \".SIF\" && !(file_name in [\"80BAU3B.SIF\" ; \"BORE3D.SIF\"; \n",
    "                                                        \"CAPRI.SIF\"; \"CZPROB.SIF\"; \n",
    "                                                        \"ETAMACRO.SIF\"; \"FINNIS.SIF\";\n",
    "                                                        \"FORPLAN.SIF\"; \"GREENBEA.SIF\";\n",
    "                                                        \"GREENBEB.SIF\"; \"MAROS.SIF\";\n",
    "                                                        \"NESM.SIF\"; \"PEROLD.SIF\";\n",
    "                                                         \"PILOT-JA.SIF\"; \"PILOT-WE.SIF\";\n",
    "                                                         \"PILOT.SIF\"; \"PILOT4.SIF\";\n",
    "                                                         \"PILOT87.SIF\"; \"PILOTNOV.SIF\";\n",
    "                                                          \"RECIPELP.SIF\"; \"SHELL.SIF\";\n",
    "                                                         \"SIERRA.SIF\"; \"STAIR.SIF\";\n",
    "                                                         \"STANDATA.SIF\"; \"STANDGUB.SIF\";\n",
    "                                                        \"STANDMPS.SIF\"; \"TUFF.SIF\";\n",
    "                                                        \"VTP-BASE.SIF\"; \"DTOC3.SIF\";\n",
    "                                                         \"HS35MOD.SIF\";\"QBORE3D.SIF\";\n",
    "                                                        \"QCAPRI.SIF\"; \"QETAMACR.SIF\";\n",
    "                                                          \"QFORPLAN.SIF\"; \"QPCSTAIR.SIF\";\n",
    "                                                        \"QPCSTAIR.SIF\"; \"QPILOTNO.SIF\";\n",
    "                                                        \"QRECIPE.SIF\"; \"QSHELL.SIF\";\n",
    "                                                        \"QSIERRA.SIF\"; \"QSTAIR.SIF\";\n",
    "                                                        \"QSTANDAT.SIF\"; \"UBH1.SIF\"; \n",
    "                                                        \"YAO.SIF\"]) # problems with fixed variables\n",
    "        \n",
    "\n",
    "        println(file_name)\n",
    "        pb_i = string(path_pb, \"\\\\\", file_name)\n",
    "        if file_name in [\"BLEND.SIF\"; \"DFL001.SIF\"; \"FORPLAN.SIF\"; \"GFRD-PNC.SIF\"; \"SIERRA.SIF\";\n",
    "                        \"EXDATA.SIF\"; \"QFORPLAN.SIF\"; \"QGFRDXPN.SIF\"; \"VALUES.SIF\"]\n",
    "            qpdata_i = readqps(pb_i, mpsformat=:fixed) \n",
    "        else\n",
    "            qpdata_i = readqps(pb_i) \n",
    "        end\n",
    "        push!(problems, createQuadraticModel(qpdata_i, name=file_name[1:end-4]))\n",
    "        \n",
    "        if i==i_max\n",
    "            break\n",
    "        end\n",
    "        i += 1\n",
    "    end\n",
    "end\n"
   ]
  },
  {
   "cell_type": "code",
   "execution_count": 184,
   "metadata": {},
   "outputs": [
    {
     "name": "stdout",
     "output_type": "stream",
     "text": [
      "error 11\n"
     ]
    },
    {
     "name": "stderr",
     "output_type": "stream",
     "text": [
      "┌ Info:            Name           status      Time      f(x)      Dual    Primal  \n",
      "└ @ SolverTools C:\\Users\\Geoffroy Leconte\\.julia\\packages\\SolverTools\\whyGk\\src\\bmark\\run_solver.jl:67\n",
      "┌ Info:          25FV47       acceptable   8.0e-02   5.5e+03   2.4e-10   2.4e-11\n",
      "└ @ SolverTools C:\\Users\\Geoffroy Leconte\\.julia\\packages\\SolverTools\\whyGk\\src\\bmark\\run_solver.jl:83\n",
      "┌ Info:        ADLITTLE       acceptable   0.0e+00   2.3e+05   5.1e-09   8.3e-13\n",
      "└ @ SolverTools C:\\Users\\Geoffroy Leconte\\.julia\\packages\\SolverTools\\whyGk\\src\\bmark\\run_solver.jl:83\n",
      "┌ Info:           AFIRO       acceptable   0.0e+00  -4.6e+02   2.9e-13   4.6e-13\n",
      "└ @ SolverTools C:\\Users\\Geoffroy Leconte\\.julia\\packages\\SolverTools\\whyGk\\src\\bmark\\run_solver.jl:83\n",
      "┌ Info:             AGG       acceptable   8.0e-03  -3.6e+07   4.7e-08   2.5e-07\n",
      "└ @ SolverTools C:\\Users\\Geoffroy Leconte\\.julia\\packages\\SolverTools\\whyGk\\src\\bmark\\run_solver.jl:83\n"
     ]
    },
    {
     "name": "stdout",
     "output_type": "stream",
     "text": [
      "error 17\n",
      "error 12\n",
      "error 9\n",
      "error 11\n"
     ]
    },
    {
     "name": "stderr",
     "output_type": "stream",
     "text": [
      "┌ Info:            AGG2       acceptable   2.4e-02  -2.0e+07   3.2e-06   9.3e-09\n",
      "└ @ SolverTools C:\\Users\\Geoffroy Leconte\\.julia\\packages\\SolverTools\\whyGk\\src\\bmark\\run_solver.jl:83\n",
      "┌ Info:            AGG3       acceptable   3.2e-02   1.0e+07   2.2e-08   1.9e-09\n",
      "└ @ SolverTools C:\\Users\\Geoffroy Leconte\\.julia\\packages\\SolverTools\\whyGk\\src\\bmark\\run_solver.jl:83\n",
      "┌ Info:           BANDM       acceptable   8.0e-03  -1.6e+02   3.7e-10   6.3e-10\n",
      "└ @ SolverTools C:\\Users\\Geoffroy Leconte\\.julia\\packages\\SolverTools\\whyGk\\src\\bmark\\run_solver.jl:83\n",
      "┌ Info:        BEACONFD       acceptable   1.6e-02   3.4e+04   3.0e-09   2.9e-09\n",
      "└ @ SolverTools C:\\Users\\Geoffroy Leconte\\.julia\\packages\\SolverTools\\whyGk\\src\\bmark\\run_solver.jl:83\n",
      "┌ Info:           BLEND       acceptable   0.0e+00  -3.1e+01   1.5e-08   4.1e-11\n",
      "└ @ SolverTools C:\\Users\\Geoffroy Leconte\\.julia\\packages\\SolverTools\\whyGk\\src\\bmark\\run_solver.jl:83\n",
      "┌ Info:            BNL1       acceptable   4.8e-02   2.0e+03   7.8e-12   3.7e-09\n",
      "└ @ SolverTools C:\\Users\\Geoffroy Leconte\\.julia\\packages\\SolverTools\\whyGk\\src\\bmark\\run_solver.jl:83\n"
     ]
    },
    {
     "name": "stdout",
     "output_type": "stream",
     "text": [
      "error 7\n"
     ]
    },
    {
     "name": "stderr",
     "output_type": "stream",
     "text": [
      "┌ Info:            BNL2       acceptable   3.0e-01   1.8e+03   7.9e-11   2.1e-10\n",
      "└ @ SolverTools C:\\Users\\Geoffroy Leconte\\.julia\\packages\\SolverTools\\whyGk\\src\\bmark\\run_solver.jl:83\n"
     ]
    },
    {
     "data": {
      "text/html": [
       "<table class=\"data-frame\"><thead><tr><th></th><th>id</th><th>name</th><th>nvar</th><th>ncon</th><th>nequ</th><th>status</th><th>objective</th><th>elapsed_time</th><th>iter</th></tr><tr><th></th><th>Int64</th><th>String</th><th>Int64</th><th>Int64</th><th>Int64</th><th>Symbol</th><th>Float64</th><th>Float64</th><th>Int64</th></tr></thead><tbody><p>11 rows × 33 columns (omitted printing of 24 columns)</p><tr><th>1</th><td>1</td><td>25FV47</td><td>1571</td><td>821</td><td>0</td><td>acceptable</td><td>5501.85</td><td>0.0800002</td><td>25</td></tr><tr><th>2</th><td>2</td><td>ADLITTLE</td><td>97</td><td>56</td><td>0</td><td>acceptable</td><td>225495.0</td><td>0.0</td><td>13</td></tr><tr><th>3</th><td>3</td><td>AFIRO</td><td>32</td><td>27</td><td>0</td><td>acceptable</td><td>-464.753</td><td>0.0</td><td>8</td></tr><tr><th>4</th><td>4</td><td>AGG</td><td>163</td><td>488</td><td>0</td><td>acceptable</td><td>-3.59918e7</td><td>0.0079999</td><td>21</td></tr><tr><th>5</th><td>5</td><td>AGG2</td><td>302</td><td>516</td><td>0</td><td>acceptable</td><td>-2.02393e7</td><td>0.0239999</td><td>18</td></tr><tr><th>6</th><td>6</td><td>AGG3</td><td>302</td><td>516</td><td>0</td><td>acceptable</td><td>1.03121e7</td><td>0.0319998</td><td>18</td></tr><tr><th>7</th><td>7</td><td>BANDM</td><td>472</td><td>305</td><td>0</td><td>acceptable</td><td>-158.628</td><td>0.00800014</td><td>17</td></tr><tr><th>8</th><td>8</td><td>BEACONFD</td><td>262</td><td>173</td><td>0</td><td>acceptable</td><td>33592.5</td><td>0.016</td><td>13</td></tr><tr><th>9</th><td>9</td><td>BLEND</td><td>83</td><td>74</td><td>0</td><td>acceptable</td><td>-30.8121</td><td>0.0</td><td>10</td></tr><tr><th>10</th><td>10</td><td>BNL1</td><td>1175</td><td>643</td><td>0</td><td>acceptable</td><td>1977.63</td><td>0.0480001</td><td>47</td></tr><tr><th>11</th><td>11</td><td>BNL2</td><td>3489</td><td>2324</td><td>0</td><td>acceptable</td><td>1811.24</td><td>0.296</td><td>33</td></tr></tbody></table>"
      ],
      "text/latex": [
       "\\begin{tabular}{r|cccccccccc}\n",
       "\t& id & name & nvar & ncon & nequ & status & objective & elapsed\\_time & iter & \\\\\n",
       "\t\\hline\n",
       "\t& Int64 & String & Int64 & Int64 & Int64 & Symbol & Float64 & Float64 & Int64 & \\\\\n",
       "\t\\hline\n",
       "\t1 & 1 & 25FV47 & 1571 & 821 & 0 & acceptable & 5501.85 & 0.0800002 & 25 & $\\dots$ \\\\\n",
       "\t2 & 2 & ADLITTLE & 97 & 56 & 0 & acceptable & 225495.0 & 0.0 & 13 & $\\dots$ \\\\\n",
       "\t3 & 3 & AFIRO & 32 & 27 & 0 & acceptable & -464.753 & 0.0 & 8 & $\\dots$ \\\\\n",
       "\t4 & 4 & AGG & 163 & 488 & 0 & acceptable & -3.59918e7 & 0.0079999 & 21 & $\\dots$ \\\\\n",
       "\t5 & 5 & AGG2 & 302 & 516 & 0 & acceptable & -2.02393e7 & 0.0239999 & 18 & $\\dots$ \\\\\n",
       "\t6 & 6 & AGG3 & 302 & 516 & 0 & acceptable & 1.03121e7 & 0.0319998 & 18 & $\\dots$ \\\\\n",
       "\t7 & 7 & BANDM & 472 & 305 & 0 & acceptable & -158.628 & 0.00800014 & 17 & $\\dots$ \\\\\n",
       "\t8 & 8 & BEACONFD & 262 & 173 & 0 & acceptable & 33592.5 & 0.016 & 13 & $\\dots$ \\\\\n",
       "\t9 & 9 & BLEND & 83 & 74 & 0 & acceptable & -30.8121 & 0.0 & 10 & $\\dots$ \\\\\n",
       "\t10 & 10 & BNL1 & 1175 & 643 & 0 & acceptable & 1977.63 & 0.0480001 & 47 & $\\dots$ \\\\\n",
       "\t11 & 11 & BNL2 & 3489 & 2324 & 0 & acceptable & 1811.24 & 0.296 & 33 & $\\dots$ \\\\\n",
       "\\end{tabular}\n"
      ],
      "text/plain": [
       "11×33 DataFrame. Omitted printing of 26 columns\n",
       "│ Row │ id    │ name     │ nvar  │ ncon  │ nequ  │ status     │ objective  │\n",
       "│     │ \u001b[90mInt64\u001b[39m │ \u001b[90mString\u001b[39m   │ \u001b[90mInt64\u001b[39m │ \u001b[90mInt64\u001b[39m │ \u001b[90mInt64\u001b[39m │ \u001b[90mSymbol\u001b[39m     │ \u001b[90mFloat64\u001b[39m    │\n",
       "├─────┼───────┼──────────┼───────┼───────┼───────┼────────────┼────────────┤\n",
       "│ 1   │ 1     │ 25FV47   │ 1571  │ 821   │ 0     │ acceptable │ 5501.85    │\n",
       "│ 2   │ 2     │ ADLITTLE │ 97    │ 56    │ 0     │ acceptable │ 225495.0   │\n",
       "│ 3   │ 3     │ AFIRO    │ 32    │ 27    │ 0     │ acceptable │ -464.753   │\n",
       "│ 4   │ 4     │ AGG      │ 163   │ 488   │ 0     │ acceptable │ -3.59918e7 │\n",
       "│ 5   │ 5     │ AGG2     │ 302   │ 516   │ 0     │ acceptable │ -2.02393e7 │\n",
       "│ 6   │ 6     │ AGG3     │ 302   │ 516   │ 0     │ acceptable │ 1.03121e7  │\n",
       "│ 7   │ 7     │ BANDM    │ 472   │ 305   │ 0     │ acceptable │ -158.628   │\n",
       "│ 8   │ 8     │ BEACONFD │ 262   │ 173   │ 0     │ acceptable │ 33592.5    │\n",
       "│ 9   │ 9     │ BLEND    │ 83    │ 74    │ 0     │ acceptable │ -30.8121   │\n",
       "│ 10  │ 10    │ BNL1     │ 1175  │ 643   │ 0     │ acceptable │ 1977.63    │\n",
       "│ 11  │ 11    │ BNL2     │ 3489  │ 2324  │ 0     │ acceptable │ 1811.24    │"
      ]
     },
     "execution_count": 184,
     "metadata": {},
     "output_type": "execute_result"
    }
   ],
   "source": [
    "problems_stats = solve_problems(mehrotraPCQuadBounds, problems, \n",
    "                                colstats=[:name, :status, :elapsed_time, :objective, :dual_feas, :primal_feas])"
   ]
  },
  {
   "cell_type": "code",
   "execution_count": null,
   "metadata": {},
   "outputs": [],
   "source": [
    "markdown_table(stdout, problems_stats)"
   ]
  },
  {
   "cell_type": "markdown",
   "metadata": {},
   "source": [
    "# Résultats sur tous les problèmes netlib"
   ]
  },
  {
   "cell_type": "code",
   "execution_count": 207,
   "metadata": {},
   "outputs": [],
   "source": [
    "using JLD2"
   ]
  },
  {
   "cell_type": "code",
   "execution_count": 208,
   "metadata": {},
   "outputs": [],
   "source": [
    "file = jldopen(\"mehrotra.jld2\", \"w\") \n",
    "file[\"test\"] = problems_stats\n",
    "close(file)\n"
   ]
  },
  {
   "cell_type": "code",
   "execution_count": null,
   "metadata": {},
   "outputs": [],
   "source": [
    "using ProfileSVG"
   ]
  },
  {
   "cell_type": "code",
   "execution_count": null,
   "metadata": {},
   "outputs": [],
   "source": [
    "pb5 = string(path_pb, \"\\\\CRE-B.SIF\")\n",
    "qpdata5 = readqps(pb5)\n",
    "#qpdata5 = readqps(pb5, mpsformat=:fixed)\n",
    "QM5 = createQuadraticModel(qpdata5)\n",
    "SM5 = SlackModel(QM5)\n",
    "SM5.meta"
   ]
  },
  {
   "cell_type": "code",
   "execution_count": null,
   "metadata": {},
   "outputs": [],
   "source": [
    "stats_mpc5 = mehrotraPCQuadBounds(SM5, max_iter=100, max_time=120., presolve=false)\n",
    "println(stats_mpc5)"
   ]
  },
  {
   "cell_type": "code",
   "execution_count": null,
   "metadata": {},
   "outputs": [],
   "source": [
    "@profview mehrotraPCQuadBounds(SM5, display=false, max_iter=50, presolve=false)"
   ]
  },
  {
   "cell_type": "code",
   "execution_count": null,
   "metadata": {},
   "outputs": [],
   "source": [
    "ProfileSVG.save(\"C://Users//Geoffroy Leconte//Documents//cours//TFE//code//results//prof_geoffroy2.svg\")"
   ]
  },
  {
   "cell_type": "code",
   "execution_count": null,
   "metadata": {},
   "outputs": [],
   "source": []
  }
 ],
 "metadata": {
  "kernelspec": {
   "display_name": "Julia 1.4.0",
   "language": "julia",
   "name": "julia-1.4"
  },
  "language_info": {
   "file_extension": ".jl",
   "mimetype": "application/julia",
   "name": "julia",
   "version": "1.4.0"
  }
 },
 "nbformat": 4,
 "nbformat_minor": 4
}
