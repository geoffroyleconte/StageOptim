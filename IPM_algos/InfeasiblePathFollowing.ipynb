{
 "cells": [
  {
   "cell_type": "markdown",
   "metadata": {},
   "source": [
    "# Problèmes\n",
    "\n",
    "### 1)\n",
    "Primal: $\\underset{x \\in \\mathbb{R}^3}{\\min} x_1 ~~ s.t. ~ x_1 + x_2 + x_3 = 1 ~, ~~ x \\ge 0$\n",
    "\n",
    "Dual: $\\underset{\\lambda \\in \\mathbb{R}, s \\in \\mathbb{R^3}}{\\max} \\lambda ~~ s.t. ~ [1~1~1]' \\lambda + s = [1~0~0]'~, ~~s\\ge0$\n",
    "\n",
    "### 2)\n",
    "Primal : $\\underset{x \\in \\mathbb{R}^3}{\\min} -2 x_1 - 3 x_2 ~~ s.t. ~ \\begin{bmatrix}\n",
    "1 & 1 & 1 & 0\\\\\n",
    "2 & 1 & 0 & 1\n",
    "\\end{bmatrix} \n",
    "\\begin{bmatrix}\n",
    "x_1 \\\\ x_2 \\\\ x_3 \\\\ x_4 \\end{bmatrix} = \\begin{bmatrix} 50 \\\\ 30 \\end{bmatrix} ~, ~~ x \\ge 0$"
   ]
  },
  {
   "cell_type": "code",
   "execution_count": 120,
   "metadata": {},
   "outputs": [],
   "source": [
    "using LinearAlgebra\n",
    "using LaTeXStrings\n",
    "using DataStructures\n",
    "using BenchmarkTools"
   ]
  },
  {
   "cell_type": "code",
   "execution_count": 121,
   "metadata": {},
   "outputs": [
    {
     "data": {
      "text/plain": [
       "display_results (generic function with 1 method)"
      ]
     },
     "execution_count": 121,
     "metadata": {},
     "output_type": "execute_result"
    }
   ],
   "source": [
    "function display_results(result)\n",
    "    # fonction pour l'affichage\n",
    "    println(\"\\n-----------------------------------------------------------------------\")\n",
    "    println(\"------------------------------- RESULTS -------------------------------\")\n",
    "    result\n",
    "end\n"
   ]
  },
  {
   "cell_type": "code",
   "execution_count": 122,
   "metadata": {},
   "outputs": [
    {
     "data": {
      "text/plain": [
       "UpdateAlphaOpt (generic function with 2 methods)"
      ]
     },
     "execution_count": 122,
     "metadata": {},
     "output_type": "execute_result"
    }
   ],
   "source": [
    "\n",
    "function Point_in_Neighborhood_infty(gamma, beta, A, b, c, x, lambda, s, mu, x_0, lambda_0, s_0, mu_0)\n",
    "    \n",
    "    rb = A*x - b\n",
    "    rb0 = A*x_0 - b\n",
    "    rc = A'*lambda + s - c\n",
    "    rc0 = A'*lambda_0 + s_0 - c\n",
    "    xs_pv = x .* s\n",
    "    \n",
    "    # tester conditions sur norm([rb, rc]) ou sur norm(rb) et norm(rc indépendemment) ?\n",
    "     return sum(x.<=0)==false && sum(s.<=0)==false && sum(xs_pv.<=gamma*mu)==false &&\n",
    "          norm(rb) <= norm(rb0)*beta*mu/mu_0 && norm(rc) <= norm(rc0)*beta*mu/mu_0\n",
    "    #return sum(x.<=0)==false && sum(s.<=0)==false && sum(xs_pv.<=gamma*mu)==false &&\n",
    "    #      norm(vcat(rb, rc)) <= norm(vcat(rb0, rc0))*beta*mu/mu_0 \n",
    "end\n",
    "\n",
    "function Next_Point_in_Neighborhood_infty(alpha_step, gamma, beta, A, b, c, x, lambda, \n",
    "                                        s, dir_k, mu, x_0, lambda_0, s_0, mu_0, n, m)\n",
    "    x_next = x + alpha_step*dir_k[1:n]\n",
    "    lambda_next = lambda + alpha_step*dir_k[n+1: n+m]\n",
    "    s_next = s + alpha_step*dir_k[n+m+1: end]\n",
    "    mu_next = s_next' * x_next / n\n",
    "    return Point_in_Neighborhood_infty(gamma, beta, A, b, c, x_next, lambda_next, s_next, mu_next, x_0, lambda_0, s_0, mu_0)\n",
    "end\n",
    "\n",
    "function Next_Point_ArmijoCond(alpha, alpha_step, x, s, dir_k, mu, n, m)\n",
    "    x_next = x + alpha_step*dir_k[1:n]\n",
    "    s_next = s + alpha_step*dir_k[n+m+1: end]\n",
    "    mu_next = s_next' * x_next / n\n",
    "    return mu_next <= (1 - 0.001 * (alpha+alpha_step)) * mu\n",
    "end\n",
    "\n",
    "function UpdateAlphaOpt(gamma, beta, A, b, c, x, lambda, s, dir_k, mu, x_0, lambda_0, s_0, mu_0, alpha_step)\n",
    "    alpha = 0\n",
    "    x_k, lambda_k, s_k = x, lambda, s\n",
    "    n = length(x)\n",
    "    m = length(lambda)\n",
    "    while Next_Point_in_Neighborhood_infty(alpha_step, gamma, beta,  A, b, c, x_k,lambda_k, \n",
    "            s_k, dir_k, mu, x_0, lambda_0, s_0, mu_0, n, m) == true && alpha+alpha_step <= 1 &&\n",
    "            Next_Point_ArmijoCond(alpha, alpha_step, x_k, s_k, dir_k, mu, n, m) == true\n",
    "    \n",
    "        alpha += alpha_step\n",
    "        x_k = x_k + alpha_step*dir_k[1:n]\n",
    "        lambda_k = lambda_k + alpha_step*dir_k[n+1: n+m]\n",
    "        s_k = s_k + alpha_step*dir_k[n+m+1: end]\n",
    "    end\n",
    "        \n",
    "    return x_k, lambda_k, s_k        \n",
    "end"
   ]
  },
  {
   "cell_type": "code",
   "execution_count": 123,
   "metadata": {},
   "outputs": [
    {
     "data": {
      "text/plain": [
       "InfeasiblePathFollowing1 (generic function with 4 methods)"
      ]
     },
     "execution_count": 123,
     "metadata": {},
     "output_type": "execute_result"
    }
   ],
   "source": [
    "\n",
    "function InfeasiblePathFollowing1(c, A, b, init_vect, gamma, beta, sigma_min, sigma_max, \n",
    "    max_iter, eps = 1e-8, alpha_step=1e-2, display=true)\n",
    "\n",
    "    x_0, lambda_0, s_0 = init_vect\n",
    "    x_k, lambda_k, s_k = copy(x_0), copy(lambda_0), copy(s_0)\n",
    "    n_rows, n_cols = size(A) \n",
    "\n",
    "    rb_0 = A * x_0 - b\n",
    "    rc_0 = A' * lambda_0 + s_0 - c\n",
    "    mu_0 = s_0' * x_0 / n_cols\n",
    "    Xk = Diagonal(x_k)\n",
    "    Sk = Diagonal(s_k)\n",
    "    mu_k = s_k' * x_k / n_cols\n",
    "    rb_k = copy(rb_0)\n",
    "    rc_k = copy(rc_0)\n",
    "    \n",
    "    k = 0\n",
    "    pdd, cond_rb, cond_rc = 1, 1, 1\n",
    "    e = ones(n_cols, 1)\n",
    "    n_c = norm(c)\n",
    "    n_b = norm(b)\n",
    "    \n",
    "    while k <= max_iter && pdd > eps && cond_rb > eps && cond_rc > eps  # 3 epsilon différents en pratique???\n",
    "\n",
    "        sigma_k = sigma_min  # comment choisir sigma en pratique? ici je prends toujours sigma_min\n",
    "        \n",
    "        Jacob_Fk = [zeros(n_cols, n_cols) A' I(n_cols)\n",
    "                    A zeros(n_rows, n_rows) zeros(n_rows, n_cols)\n",
    "                    Sk zeros(n_cols, n_rows) Xk]\n",
    "        Fk = [-rc_k\n",
    "                -rb_k\n",
    "                -Xk*Sk*e + sigma_k*mu_k*e]\n",
    "\n",
    "        dir_k = Jacob_Fk\\Fk\n",
    "\n",
    "        x_k, lambda_k, s_k = UpdateAlphaOpt(gamma, beta, A, b, c, x_k, lambda_k, s_k, dir_k,\n",
    "                                            mu_k, x_0, lambda_0, s_0, mu_0, alpha_step)\n",
    "        \n",
    "        Xk = Diagonal(x_k)\n",
    "        Sk = Diagonal(s_k)\n",
    "        mu_k = s_k' * x_k / n_cols\n",
    "        rb_k = A * x_k - b\n",
    "        rc_k = A' * lambda_k + s_k - c\n",
    "        \n",
    "        # valeurs pour les conditions d'arret:\n",
    "        pdd = abs(c' * x_k - b' * lambda_k) / (1 + abs(c' * x_k))\n",
    "        cond_rb = norm(rb_k) / (1 + n_b)\n",
    "        cond_rc = norm(rc_k) / (1 + n_c)\n",
    "        \n",
    "        k += 1\n",
    "        \n",
    "        # affichage\n",
    "        if display == true\n",
    "            println(\"---------------------------------------------------------------\")\n",
    "            println(\"Iter \", k, \":   pdd = \", pdd, \" |  cond_rb = \", cond_rb, \" |  cond_rc = \", cond_rc)\n",
    "        end\n",
    "    end\n",
    "    \n",
    "    if display == true\n",
    "        criteria = [k > max_iter,  pdd <= eps, cond_rb <= eps, cond_rc <= eps]\n",
    "        criteria_names = [\"reached max_iter\",  \"pdd <= eps\", \"cond_rb <= eps\", \"cond_rc <= eps\"]\n",
    "        println(\"\\n stopping criterion = \",criteria_names[findall(criteria)])\n",
    "    end\n",
    "    return OrderedDict(\"x_opt\" => x_k, \"lambda_opt\" => lambda_k, \"s_opt\" => s_k, \n",
    "        \"n_iter\" => k, \"pdd\" => pdd, \"cond_rb\" => cond_rb, \"cond_rc\" => cond_rc)\n",
    "end"
   ]
  },
  {
   "cell_type": "code",
   "execution_count": 124,
   "metadata": {},
   "outputs": [],
   "source": [
    "### probleme 1\n",
    "c = [1, 0 ,0]\n",
    "A = Matrix([1, 1, 1]')\n",
    "b = [1];"
   ]
  },
  {
   "cell_type": "code",
   "execution_count": 125,
   "metadata": {},
   "outputs": [
    {
     "name": "stdout",
     "output_type": "stream",
     "text": [
      "---------------------------------------------------------------\n",
      "Iter 1:   pdd = 2.1798114585407875 |  cond_rb = 1.2350000000000179 |  cond_rc = 0.12999999999999923\n",
      "---------------------------------------------------------------\n",
      "Iter 2:   pdd = 2.283136859110721 |  cond_rb = 0.012350000000001193 |  cond_rc = 0.0013000000000134015\n",
      "---------------------------------------------------------------\n",
      "Iter 3:   pdd = 0.5405400488468726 |  cond_rb = 0.00012349999999727856 |  cond_rc = 1.2999999996987643e-5\n",
      "---------------------------------------------------------------\n",
      "Iter 4:   pdd = 0.12211384100798554 |  cond_rb = 1.2350000015981522e-6 |  cond_rc = 1.2999999904686477e-7\n",
      "---------------------------------------------------------------\n",
      "Iter 5:   pdd = 0.027046971846905153 |  cond_rb = 1.2349998579352928e-8 |  cond_rc = 1.299999874244071e-9\n",
      "\n",
      " stopping criterion = [\"cond_rc <= eps\"]\n",
      "\n",
      "-----------------------------------------------------------------------\n",
      "------------------------------- RESULTS -------------------------------\n"
     ]
    },
    {
     "data": {
      "text/plain": [
       "OrderedDict{String,Any} with 7 entries:\n",
       "  \"x_opt\"      => [0.0118487, 0.565947, 0.422204]\n",
       "  \"lambda_opt\" => [-0.0155188]\n",
       "  \"s_opt\"      => [1.01552, 0.0155188, 0.0155188]\n",
       "  \"n_iter\"     => 5\n",
       "  \"pdd\"        => 0.027047\n",
       "  \"cond_rb\"    => 1.235e-8\n",
       "  \"cond_rc\"    => 1.3e-9"
      ]
     },
     "execution_count": 125,
     "metadata": {},
     "output_type": "execute_result"
    }
   ],
   "source": [
    "# initialisation 1 \n",
    "x01 = [10, 4, 6]\n",
    "lambda01 = [-2]\n",
    "s01 = [3, 4, 2]\n",
    "init_vect1 = (x01, lambda01, s01);\n",
    "gamma, beta = 0.3, 2  # pour ce problème, ne marche pas lorque gamma est trop grand.\n",
    "res_ipf1 =  InfeasiblePathFollowing1(c, A, b, init_vect1, gamma, beta, 0.2, 0.3, 1000);\n",
    "display_results(res_ipf1) "
   ]
  },
  {
   "cell_type": "code",
   "execution_count": 126,
   "metadata": {},
   "outputs": [],
   "source": [
    "# cond_rb et cond_rc trouvées dans le livre mais elles semblent arrêter très rapidement l'algorithme..."
   ]
  },
  {
   "cell_type": "code",
   "execution_count": 127,
   "metadata": {},
   "outputs": [],
   "source": [
    "### probleme 2\n",
    "c2 = [-2; -3; 0; 0]\n",
    "A2 = [1 1 1 0\n",
    "      2 1 0 1]\n",
    "b2 = [50; 30];"
   ]
  },
  {
   "cell_type": "code",
   "execution_count": 128,
   "metadata": {},
   "outputs": [
    {
     "name": "stdout",
     "output_type": "stream",
     "text": [
      "---------------------------------------------------------------\n",
      "Iter 1:   pdd = 4.268415615872338 |  cond_rb = 0.7150606724766477 |  cond_rc = 2.6874815593190524\n",
      "---------------------------------------------------------------\n",
      "Iter 2:   pdd = 4.0507764473276975 |  cond_rb = 0.6578558186785161 |  cond_rc = 2.472483034573528\n",
      "---------------------------------------------------------------\n",
      "Iter 3:   pdd = 3.764118954431787 |  cond_rb = 0.6249630277445903 |  cond_rc = 2.3488588828448513\n",
      "---------------------------------------------------------------\n",
      "Iter 4:   pdd = 3.3201093165953326 |  cond_rb = 0.5749659855250231 |  cond_rc = 2.1609501722172633\n",
      "---------------------------------------------------------------\n",
      "Iter 5:   pdd = 2.515061591198974 |  cond_rb = 0.4772217679857691 |  cond_rc = 1.7935886429403276\n",
      "---------------------------------------------------------------\n",
      "Iter 6:   pdd = 1.851515345253503 |  cond_rb = 0.3960940674281884 |  cond_rc = 1.4886785736404717\n",
      "---------------------------------------------------------------\n",
      "Iter 7:   pdd = 1.6752286982700868 |  cond_rb = 0.38025030473106086 |  cond_rc = 1.429131430694853\n",
      "---------------------------------------------------------------\n",
      "Iter 8:   pdd = 1.6291552500993478 |  cond_rb = 0.3764478016837502 |  cond_rc = 1.4148401163879045\n",
      "---------------------------------------------------------------\n",
      "Iter 9:   pdd = 1.58432272094165 |  cond_rb = 0.3726833236669127 |  cond_rc = 1.4006917152240255\n",
      "---------------------------------------------------------------\n",
      "Iter 10:   pdd = 1.5409780777327287 |  cond_rb = 0.3689564904302436 |  cond_rc = 1.3866847980717851\n",
      "---------------------------------------------------------------\n",
      "Iter 11:   pdd = 1.499317558286037 |  cond_rb = 0.36526692552594114 |  cond_rc = 1.3728179500910676\n",
      "---------------------------------------------------------------\n",
      "Iter 12:   pdd = 1.459473871290507 |  cond_rb = 0.3616142562706817 |  cond_rc = 1.3590897705901566\n",
      "---------------------------------------------------------------\n",
      "Iter 13:   pdd = 1.421513837644336 |  cond_rb = 0.35799811370797496 |  cond_rc = 1.3454988728842552\n",
      "---------------------------------------------------------------\n",
      "Iter 14:   pdd = 1.3512972701940063 |  cond_rb = 0.3508381514338154 |  cond_rc = 1.31858889542657\n",
      "---------------------------------------------------------------\n",
      "Iter 15:   pdd = 1.287953186094981 |  cond_rb = 0.34382138840513915 |  cond_rc = 1.2922171175180386\n",
      "---------------------------------------------------------------\n",
      "Iter 16:   pdd = 1.204144999066643 |  cond_rb = 0.333506746752985 |  cond_rc = 1.2534506039924973\n",
      "---------------------------------------------------------------\n",
      "Iter 17:   pdd = 1.0466676333851317 |  cond_rb = 0.3101612744802761 |  cond_rc = 1.1657090617130226\n",
      "---------------------------------------------------------------\n",
      "Iter 18:   pdd = 0.6640796103160136 |  cond_rb = 0.22331611762579837 |  cond_rc = 0.8393105244333761\n",
      "---------------------------------------------------------------\n",
      "Iter 19:   pdd = 0.382393616209421 |  cond_rb = 0.1406891541042531 |  cond_rc = 0.5287656303930266\n",
      "---------------------------------------------------------------\n",
      "Iter 20:   pdd = 0.07902167236515197 |  cond_rb = 0.0323585054439773 |  cond_rc = 0.12161609499040187\n",
      "---------------------------------------------------------------\n",
      "Iter 21:   pdd = 0.0003797542086815747 |  cond_rb = 0.0003235850544400653 |  cond_rc = 0.0012161609499141302\n",
      "---------------------------------------------------------------\n",
      "Iter 22:   pdd = 0.00024418755039578807 |  cond_rb = 3.235850539591151e-6 |  cond_rc = 1.2161609498948144e-5\n",
      "---------------------------------------------------------------\n",
      "Iter 23:   pdd = 5.244245831615533e-5 |  cond_rb = 3.235850744919616e-8 |  cond_rc = 1.2161608694258326e-7\n",
      "---------------------------------------------------------------\n",
      "Iter 24:   pdd = 1.09243790687668e-5 |  cond_rb = 3.2358992731771116e-10 |  cond_rc = 1.2161759165530015e-9\n",
      "\n",
      " stopping criterion = [\"cond_rb <= eps\", \"cond_rc <= eps\"]\n",
      "\n",
      "-----------------------------------------------------------------------\n",
      "------------------------------- RESULTS -------------------------------\n"
     ]
    },
    {
     "data": {
      "text/plain": [
       "OrderedDict{String,Any} with 7 entries:\n",
       "  \"x_opt\"      => [6.21382e-5, 29.9998, 20.0001, 8.28467e-5]\n",
       "  \"lambda_opt\" => [-1.24289e-5, -3.0]\n",
       "  \"s_opt\"      => [4.0, 8.28395e-6, 1.24289e-5, 3.0]\n",
       "  \"n_iter\"     => 24\n",
       "  \"pdd\"        => 1.09244e-5\n",
       "  \"cond_rb\"    => 3.2359e-10\n",
       "  \"cond_rc\"    => 1.21618e-9"
      ]
     },
     "execution_count": 128,
     "metadata": {},
     "output_type": "execute_result"
    }
   ],
   "source": [
    "# initialisation \n",
    "x02 = [4; 1; 3; 2]\n",
    "lambda02 = [-2; 3]\n",
    "s02 = [3; 4; 2; 3]\n",
    "init_vect2 = (x02, lambda02, s02);\n",
    "gamma, beta = 0.3, 2\n",
    "res_ipf2 =  InfeasiblePathFollowing1(c2, A2, b2, init_vect2,  gamma, beta, 0.2, 0.3, 1000);\n",
    "display_results(res_ipf2)"
   ]
  },
  {
   "cell_type": "code",
   "execution_count": null,
   "metadata": {},
   "outputs": [],
   "source": []
  },
  {
   "cell_type": "code",
   "execution_count": 129,
   "metadata": {},
   "outputs": [
    {
     "data": {
      "text/plain": [
       "BenchmarkTools.Trial: \n",
       "  memory estimate:  3.05 MiB\n",
       "  allocs estimate:  31818\n",
       "  --------------\n",
       "  minimum time:     1.361 ms (0.00% GC)\n",
       "  median time:      1.385 ms (0.00% GC)\n",
       "  mean time:        1.626 ms (11.81% GC)\n",
       "  maximum time:     6.362 ms (62.68% GC)\n",
       "  --------------\n",
       "  samples:          3068\n",
       "  evals/sample:     1"
      ]
     },
     "execution_count": 129,
     "metadata": {},
     "output_type": "execute_result"
    }
   ],
   "source": [
    "@benchmark res_ipf2 =  InfeasiblePathFollowing1(c2, A2, b2, init_vect2,  gamma, beta, 0.2, 0.3, 100, 1e-10, 1e-2, false )"
   ]
  },
  {
   "cell_type": "code",
   "execution_count": null,
   "metadata": {},
   "outputs": [],
   "source": []
  }
 ],
 "metadata": {
  "kernelspec": {
   "display_name": "Julia 1.4.0",
   "language": "julia",
   "name": "julia-1.4"
  },
  "language_info": {
   "file_extension": ".jl",
   "mimetype": "application/julia",
   "name": "julia",
   "version": "1.4.0"
  }
 },
 "nbformat": 4,
 "nbformat_minor": 4
}
