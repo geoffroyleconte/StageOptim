{
 "cells": [
  {
   "cell_type": "markdown",
   "metadata": {},
   "source": [
    "# Problèmes\n",
    "\n",
    "### 1)\n",
    "Primal: $\\underset{x \\in \\mathbb{R}^3}{\\min} x_1 ~~ s.t. ~ x_1 + x_2 + x_3 = 1 ~, ~~ x \\ge 0$\n",
    "\n",
    "Dual: $\\underset{\\lambda \\in \\mathbb{R}, s \\in \\mathbb{R^3}}{\\max} \\lambda ~~ s.t. ~ [1~1~1]' \\lambda + s = [1~0~0]'~, ~~s\\ge0$\n",
    "\n",
    "### 2)\n",
    "Primal : $\\underset{x \\in \\mathbb{R}^4}{\\min} -2 x_1 - 3 x_2 ~~ s.t. ~ \\begin{bmatrix}\n",
    "1 & 1 & 1 & 0\\\\\n",
    "2 & 1 & 0 & 1\n",
    "\\end{bmatrix} \n",
    "\\begin{bmatrix}\n",
    "x_1 \\\\ x_2 \\\\ x_3 \\\\ x_4 \\end{bmatrix} = \\begin{bmatrix} 50 \\\\ 30 \\end{bmatrix} ~, ~~ x \\ge 0$"
   ]
  },
  {
   "cell_type": "code",
   "execution_count": 125,
   "metadata": {},
   "outputs": [],
   "source": [
    "using LinearAlgebra\n",
    "using LaTeXStrings\n",
    "using DataStructures\n",
    "using BenchmarkTools"
   ]
  },
  {
   "cell_type": "code",
   "execution_count": 126,
   "metadata": {},
   "outputs": [
    {
     "data": {
      "text/plain": [
       "display_results (generic function with 1 method)"
      ]
     },
     "execution_count": 126,
     "metadata": {},
     "output_type": "execute_result"
    }
   ],
   "source": [
    "function display_results(result)\n",
    "    # fonction pour l'affichage\n",
    "    println(\"\\n-----------------------------------------------------------------------\")\n",
    "    println(\"------------------------------- RESULTS -------------------------------\")\n",
    "    result\n",
    "end\n"
   ]
  },
  {
   "cell_type": "code",
   "execution_count": 127,
   "metadata": {},
   "outputs": [
    {
     "data": {
      "text/plain": [
       "Compute_AlphaMax (generic function with 1 method)"
      ]
     },
     "execution_count": 127,
     "metadata": {},
     "output_type": "execute_result"
    }
   ],
   "source": [
    "function Compute_AlphaAff(alpha_step, v_k, dir_v_k)\n",
    "    alpha = 0\n",
    "    n = length(v_k)\n",
    "    while alpha+alpha_step <= 1 && all(v_k + (alpha+alpha_step) * dir_v_k .>= 0) \n",
    "        alpha += alpha_step\n",
    "    end\n",
    "    return alpha\n",
    "end\n",
    "\n",
    "function Compute_AlphaMax(alpha_step, v_k, dir_v_k)\n",
    "    alpha = 0\n",
    "    n = length(v_k)\n",
    "    while alpha+alpha_step <= 100/99 && all(v_k + (alpha+alpha_step) * dir_v_k .>= 0) \n",
    "        alpha += alpha_step\n",
    "    end\n",
    "    return alpha\n",
    "end\n",
    "\n",
    "\n"
   ]
  },
  {
   "cell_type": "code",
   "execution_count": 128,
   "metadata": {},
   "outputs": [
    {
     "data": {
      "text/plain": [
       "MehrotraPC1 (generic function with 4 methods)"
      ]
     },
     "execution_count": 128,
     "metadata": {},
     "output_type": "execute_result"
    }
   ],
   "source": [
    "\n",
    "function MehrotraPC1(c, A, b, init_vect, max_iter, eps = 1e-10, alpha_step=1e-2, display=true)\n",
    "\n",
    "    x_0, lambda_0, s_0 = init_vect\n",
    "    x_k, lambda_k, s_k = copy(x_0), copy(lambda_0), copy(s_0)\n",
    "    n_rows, n_cols = size(A) \n",
    "    \n",
    "    rb_0 = A * x_0 - b\n",
    "    rc_0 = A' * lambda_0 + s_0 - c\n",
    "    mu_0 = s_0' * x_0 / n_cols\n",
    "    Xk = Diagonal(x_k)\n",
    "    Sk = Diagonal(s_k)\n",
    "    mu_k = s_k' * x_k / n_cols\n",
    "    rb_k = copy(rb_0)\n",
    "    rc_k = copy(rc_0)\n",
    "    \n",
    "    k = 0\n",
    "    pdd, cond_rb, cond_rc = 1, 1, 1\n",
    "    e = ones(n_cols, 1)\n",
    "    n_c = norm(c)\n",
    "    n_b = norm(b)\n",
    "    \n",
    "    while k <= max_iter && pdd > eps && cond_rb > eps && cond_rc > eps  # 3 epsilon différents en pratique???\n",
    "\n",
    "        Jacob_Fk = [zeros(n_cols, n_cols) A' I(n_cols)\n",
    "                    A zeros(n_rows, n_rows) zeros(n_rows, n_cols)\n",
    "                    Sk zeros(n_cols, n_rows) Xk]\n",
    "        Fk_aff = [-rc_k\n",
    "                  -rb_k\n",
    "                  -Xk*Sk*e]\n",
    "        \n",
    "\n",
    "        dir_aff_k = Jacob_Fk\\Fk_aff\n",
    "        \n",
    "\n",
    "        alpha_aff_pri = Compute_AlphaAff(alpha_step, x_k, dir_aff_k[1:n_cols])\n",
    "        alpha_aff_dual = Compute_AlphaAff(alpha_step, s_k, dir_aff_k[n_rows+n_cols+1: end])\n",
    "        mu_aff = (x_k + alpha_aff_pri * dir_aff_k[1:n_cols])' * \n",
    "                    (s_k + alpha_aff_dual * dir_aff_k[n_rows+n_cols+1: end]) / n_cols\n",
    "        sigma = (mu_aff / mu_k)^3\n",
    "     \n",
    "        Fk_cc = [zeros(n_rows+n_cols, 1)\n",
    "                 sigma*mu_k*e - Diagonal(dir_aff_k[1:n_cols])*Diagonal(dir_aff_k[n_rows+n_cols+1: end])*e] \n",
    "        dir_cc_k = Jacob_Fk\\Fk_cc\n",
    "         \n",
    "        dir_k = dir_aff_k .+ dir_cc_k\n",
    "         \n",
    "        alpha_max_pri = Compute_AlphaMax(alpha_step, x_k, dir_k[1:n_cols])\n",
    "        alpha_max_dual = Compute_AlphaMax(alpha_step, s_k, dir_k[n_rows+n_cols+1: end])\n",
    "     \n",
    "\n",
    "        alpha_k_pri = min(0.99*alpha_max_pri, 1)\n",
    "        alpha_k_dual = min(0.99*alpha_max_dual, 1)\n",
    "        x_k += alpha_k_pri * dir_k[1:n_cols]\n",
    "        lambda_k += alpha_k_dual * dir_k[n_cols+1: n_rows+n_cols]\n",
    "        s_k += alpha_k_dual * dir_k[n_rows+n_cols+1: end]\n",
    "        \n",
    "        Xk = Diagonal(x_k)\n",
    "        Sk = Diagonal(s_k)\n",
    "        mu_k = s_k' * x_k / n_cols\n",
    "        rb_k = A * x_k - b\n",
    "        rc_k = A' * lambda_k + s_k - c\n",
    "        \n",
    "        # valeurs pour les conditions d'arret:\n",
    "        pdd = abs(c' * x_k - b' * lambda_k) / (1 + abs(c' * x_k))\n",
    "        cond_rb = norm(rb_k) / (1 + n_b)\n",
    "        cond_rc = norm(rc_k) / (1 + n_c)\n",
    "        \n",
    "        k += 1\n",
    "        \n",
    "        # affichage\n",
    "        if display == true\n",
    "            println(\"---------------------------------------------------------------\")\n",
    "            println(\"Iter \", k, \":   pdd = \", pdd, \" |  cond_rb = \", cond_rb, \" |  cond_rc = \", cond_rc)\n",
    "        end\n",
    "    end\n",
    "    \n",
    "    if display == true\n",
    "        criteria = [k > max_iter,  pdd <= eps, cond_rb <= eps, cond_rc <= eps]\n",
    "        criteria_names = [\"reached max_iter\",  \"pdd <= eps\", \"cond_rb <= eps\", \"cond_rc <= eps\"]\n",
    "        println(\"\\n stopping criterion = \",criteria_names[findall(criteria)])\n",
    "    end\n",
    "    \n",
    "    return OrderedDict(\"x_opt\" => x_k, \"lambda_opt\" => lambda_k, \"s_opt\" => s_k, \n",
    "        \"n_iter\" => k, \"pdd\" => pdd, \"cond_rb\" => cond_rb, \"cond_rc\" => cond_rc)\n",
    "end"
   ]
  },
  {
   "cell_type": "code",
   "execution_count": 129,
   "metadata": {},
   "outputs": [],
   "source": [
    "### probleme 1\n",
    "c = [1; 0; 0]\n",
    "A = Matrix([1, 1, 1]')\n",
    "b = [1];"
   ]
  },
  {
   "cell_type": "code",
   "execution_count": 130,
   "metadata": {},
   "outputs": [
    {
     "name": "stdout",
     "output_type": "stream",
     "text": [
      "---------------------------------------------------------------\n",
      "Iter 1:   pdd = 1.4765522896158283 |  cond_rb = 0.00034999999999763 |  cond_rc = 9.999999999943388e-5\n",
      "---------------------------------------------------------------\n",
      "Iter 2:   pdd = 0.1401237627258906 |  cond_rb = 3.500000000933312e-8 |  cond_rc = 8.919999999967843e-6\n",
      "---------------------------------------------------------------\n",
      "Iter 3:   pdd = 0.0027960307319132233 |  cond_rb = 6.964999688108264e-10 |  cond_rc = 8.919999999051909e-10\n",
      "---------------------------------------------------------------\n",
      "Iter 4:   pdd = 5.159304917933026e-5 |  cond_rb = 1.3860357306327842e-11 |  cond_rc = 8.919999992546696e-12\n",
      "\n",
      " stopping criterion = [\"cond_rb <= eps\", \"cond_rc <= eps\"]\n",
      "\n",
      "-----------------------------------------------------------------------\n",
      "------------------------------- RESULTS -------------------------------\n"
     ]
    },
    {
     "data": {
      "text/plain": [
       "OrderedDict{String,Any} with 7 entries:\n",
       "  \"x_opt\"      => [4.73687e-5, 0.499572, 0.500381]\n",
       "  \"lambda_opt\" => [-4.22679e-6]\n",
       "  \"s_opt\"      => [1.0, 4.22681e-6, 4.22679e-6]\n",
       "  \"n_iter\"     => 4\n",
       "  \"pdd\"        => 5.1593e-5\n",
       "  \"cond_rb\"    => 1.38604e-11\n",
       "  \"cond_rc\"    => 8.92e-12"
      ]
     },
     "execution_count": 130,
     "metadata": {},
     "output_type": "execute_result"
    }
   ],
   "source": [
    "# initialisation 1 \n",
    "x01 = [4; 1; 3]\n",
    "lambda01 = [-2]\n",
    "s01 = [3; 4; 2]\n",
    "init_vect1 = (x01, lambda01, s01);\n",
    "res_mpc1 =  MehrotraPC1(c, A, b, init_vect1, 20);\n",
    "display_results(res_mpc1) "
   ]
  },
  {
   "cell_type": "code",
   "execution_count": 131,
   "metadata": {},
   "outputs": [],
   "source": [
    "### probleme 2\n",
    "c2 = [-2; -3; 0; 0]\n",
    "A2 = [1 1 1 0\n",
    "      2 1 0 1]\n",
    "b2 = [50; 30];"
   ]
  },
  {
   "cell_type": "code",
   "execution_count": 132,
   "metadata": {},
   "outputs": [
    {
     "name": "stdout",
     "output_type": "stream",
     "text": [
      "---------------------------------------------------------------\n",
      "Iter 1:   pdd = 61.936386587337 |  cond_rb = 0.6156516942051659 |  cond_rc = 2.8054970538804542\n",
      "---------------------------------------------------------------\n",
      "Iter 2:   pdd = 94.02413184134643 |  cond_rb = 0.42670818925360043 |  cond_rc = 0.00028054970538697073\n",
      "---------------------------------------------------------------\n",
      "Iter 3:   pdd = 56.555626430437016 |  cond_rb = 4.267081892498488e-5 |  cond_rc = 0.00018889411663561726\n",
      "---------------------------------------------------------------\n",
      "Iter 4:   pdd = 3.2491986213025372 |  cond_rb = 1.2677500302507517e-5 |  cond_rc = 1.123919994130675e-5\n",
      "---------------------------------------------------------------\n",
      "Iter 5:   pdd = 1.66994285264901 |  cond_rb = 9.163297218717112e-6 |  cond_rc = 1.123920193132556e-9\n",
      "---------------------------------------------------------------\n",
      "Iter 6:   pdd = 0.08416513885193809 |  cond_rb = 9.163296386400896e-10 |  cond_rc = 1.1138049853607421e-10\n",
      "---------------------------------------------------------------\n",
      "Iter 7:   pdd = 0.0012248340969712806 |  cond_rb = 1.8234892724578087e-11 |  cond_rc = 1.1138540118893533e-12\n",
      "\n",
      " stopping criterion = [\"cond_rb <= eps\", \"cond_rc <= eps\"]\n",
      "\n",
      "-----------------------------------------------------------------------\n",
      "------------------------------- RESULTS -------------------------------\n"
     ]
    },
    {
     "data": {
      "text/plain": [
       "OrderedDict{String,Any} with 7 entries:\n",
       "  \"x_opt\"      => [0.00232153, 29.9759, 20.0217, 0.0194085]\n",
       "  \"lambda_opt\" => [-0.00161342, -2.99877]\n",
       "  \"s_opt\"      => [3.99916, 0.000386573, 0.00161342, 2.99877]\n",
       "  \"n_iter\"     => 7\n",
       "  \"pdd\"        => 0.00122483\n",
       "  \"cond_rb\"    => 1.82349e-11\n",
       "  \"cond_rc\"    => 1.11385e-12"
      ]
     },
     "execution_count": 132,
     "metadata": {},
     "output_type": "execute_result"
    }
   ],
   "source": [
    "# initialisation \n",
    "x02 = [4; 1; 3; 2]\n",
    "lambda02 = [-2; 3]\n",
    "s02 = [3; 4; 2; 3]\n",
    "init_vect2 = (x02, lambda02, s02);\n",
    "res_mpc2 =  MehrotraPC1(c2, A2, b2, init_vect2, 20);\n",
    "display_results(res_mpc2)"
   ]
  },
  {
   "cell_type": "code",
   "execution_count": null,
   "metadata": {},
   "outputs": [],
   "source": []
  },
  {
   "cell_type": "code",
   "execution_count": 133,
   "metadata": {},
   "outputs": [
    {
     "data": {
      "text/plain": [
       "BenchmarkTools.Trial: \n",
       "  memory estimate:  718.78 KiB\n",
       "  allocs estimate:  8212\n",
       "  --------------\n",
       "  minimum time:     318.099 μs (0.00% GC)\n",
       "  median time:      328.700 μs (0.00% GC)\n",
       "  mean time:        415.704 μs (12.36% GC)\n",
       "  maximum time:     7.248 ms (90.18% GC)\n",
       "  --------------\n",
       "  samples:          10000\n",
       "  evals/sample:     1"
      ]
     },
     "execution_count": 133,
     "metadata": {},
     "output_type": "execute_result"
    }
   ],
   "source": [
    "@benchmark MehrotraPC1(c2, A2, b2, init_vect2, 20, 1e-10, 1e-2, false)"
   ]
  },
  {
   "cell_type": "code",
   "execution_count": null,
   "metadata": {},
   "outputs": [],
   "source": []
  }
 ],
 "metadata": {
  "kernelspec": {
   "display_name": "Julia 1.4.0",
   "language": "julia",
   "name": "julia-1.4"
  },
  "language_info": {
   "file_extension": ".jl",
   "mimetype": "application/julia",
   "name": "julia",
   "version": "1.4.0"
  }
 },
 "nbformat": 4,
 "nbformat_minor": 4
}
